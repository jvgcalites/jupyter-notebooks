{
 "cells": [
  {
   "cell_type": "markdown",
   "id": "b05019ea-e731-4dac-8f9f-d8743b7c49b7",
   "metadata": {},
   "source": [
    "##### 1. Write a function to check whether a string is a palindrome. A palindrome is a string that reads the same forwards and backwards."
   ]
  },
  {
   "cell_type": "code",
   "execution_count": 7,
   "id": "6727acef-db3a-448c-b33f-f7970e40de2e",
   "metadata": {},
   "outputs": [],
   "source": [
    "def is_palindrome(string):\n",
    "    string_reversed = string[::-1]\n",
    "    return string == string_reversed"
   ]
  },
  {
   "cell_type": "code",
   "execution_count": 8,
   "id": "c10dd32e-df3d-4e28-b726-2f6526fe3431",
   "metadata": {},
   "outputs": [
    {
     "name": "stdout",
     "output_type": "stream",
     "text": [
      "aaAaa is palindrome\n",
      "hannah is palindrome\n",
      "Hannah is not palindrome\n",
      "Baker is not palindrome\n"
     ]
    }
   ],
   "source": [
    "strings = ['aaAaa', 'hannah', 'Hannah', 'Baker']\n",
    "\n",
    "for string in strings:\n",
    "    if is_palindrome(string):\n",
    "        print(f'{string} is palindrome')\n",
    "    else:\n",
    "        print(f'{string} is not palindrome')"
   ]
  },
  {
   "cell_type": "markdown",
   "id": "dab96e4b-e9bb-42d8-b44b-b76a5323fbb3",
   "metadata": {},
   "source": [
    "##### 2. Write a function that checks whether a number is prime or not"
   ]
  },
  {
   "cell_type": "code",
   "execution_count": 9,
   "id": "6c4be3f0-6389-4563-a758-594e52cacbe6",
   "metadata": {},
   "outputs": [],
   "source": [
    "def is_prime(n):\n",
    "    is_prime = True\n",
    "    max_factor = n\n",
    "    curr_factor = 2\n",
    "    while curr_factor < max_factor:\n",
    "        second_factor = n / curr_factor\n",
    "        is_whole_num = second_factor % 1 == 0\n",
    "        if is_whole_num:\n",
    "            is_prime = False\n",
    "            break\n",
    "        curr_factor += 1\n",
    "        max_factor = second_factor\n",
    "    return is_prime"
   ]
  },
  {
   "cell_type": "markdown",
   "id": "cc738449-4039-43cb-8f8d-9904e8baac72",
   "metadata": {},
   "source": [
    "##### 3. Create a function that takes in 3 parameters (integer n, integer a, integer b), and generates an nxn numpy matrix with random values from the range a to b inclusive."
   ]
  },
  {
   "cell_type": "code",
   "execution_count": 10,
   "id": "e362aa1c-d245-4a05-9848-ca18e5373823",
   "metadata": {},
   "outputs": [],
   "source": [
    "import numpy as np\n",
    "import random\n",
    "\n",
    "def generate_numpy_matrix(n, a, b):\n",
    "    nxn_list = []\n",
    "    for x in range(n):\n",
    "        list_rand_values = [random.randint(a,b) for x in range(n)]\n",
    "        nxn_list.append(list_rand_values)\n",
    "    return np.matrix(nxn_list)"
   ]
  },
  {
   "cell_type": "code",
   "execution_count": 11,
   "id": "7ccd36ac-50f2-4a31-b9b6-b8432b431636",
   "metadata": {},
   "outputs": [
    {
     "name": "stdout",
     "output_type": "stream",
     "text": [
      "[[25 68 60 20 90]\n",
      " [22 49 39 65 18]\n",
      " [22 28 97 44 95]\n",
      " [60 61 59 33 88]\n",
      " [85 42  6 11 28]]\n",
      "[[1 1 1 1 0]\n",
      " [1 1 1 1 0]\n",
      " [1 1 1 1 1]\n",
      " [1 1 1 0 0]\n",
      " [1 0 1 1 1]]\n"
     ]
    }
   ],
   "source": [
    "print(generate_numpy_matrix(5,5,99))\n",
    "print(generate_numpy_matrix(5,0,1))"
   ]
  },
  {
   "cell_type": "markdown",
   "id": "abd3323b-0801-4a34-a1f1-b55f11e38177",
   "metadata": {},
   "source": [
    "##### 4. Create a 5x5 identity matrix"
   ]
  },
  {
   "cell_type": "code",
   "execution_count": 12,
   "id": "796ae50e-4f40-49cb-a6ea-af7c04698f92",
   "metadata": {},
   "outputs": [
    {
     "name": "stdout",
     "output_type": "stream",
     "text": [
      "[[1. 0. 0. 0. 0.]\n",
      " [0. 1. 0. 0. 0.]\n",
      " [0. 0. 1. 0. 0.]\n",
      " [0. 0. 0. 1. 0.]\n",
      " [0. 0. 0. 0. 1.]]\n"
     ]
    }
   ],
   "source": [
    "import numpy as np\n",
    "\n",
    "identity_matrix_5x5 = np.identity(5)\n",
    "\n",
    "print(identity_matrix_5x5)"
   ]
  },
  {
   "cell_type": "markdown",
   "id": "2a9072c5-e22a-40ce-8e16-bb6967168cd4",
   "metadata": {},
   "source": [
    "##### 5. Create a function that lists the first n prime numbers"
   ]
  },
  {
   "cell_type": "code",
   "execution_count": 13,
   "id": "38919c21-9ca9-4fd6-aa7d-99d3eaa52f32",
   "metadata": {},
   "outputs": [],
   "source": [
    "def get_first_n_prime_numbers(n):\n",
    "    prime_numbers = []\n",
    "    curr_number = 2\n",
    "    while len(prime_numbers) != n:\n",
    "        if is_prime(curr_number):\n",
    "            prime_numbers.append(curr_number)\n",
    "        curr_number += 1\n",
    "    return prime_numbers"
   ]
  },
  {
   "cell_type": "code",
   "execution_count": 14,
   "id": "3d20ed86-c1a8-4052-8a3e-59dcb2f7dc48",
   "metadata": {},
   "outputs": [
    {
     "name": "stdout",
     "output_type": "stream",
     "text": [
      "[2]\n"
     ]
    }
   ],
   "source": [
    "print(get_first_n_prime_numbers(1))"
   ]
  },
  {
   "cell_type": "markdown",
   "id": "00be1c6f-997b-44ac-af47-e8c0885e7d30",
   "metadata": {},
   "source": [
    "6. Load kpop_music_videos.csv as a dataframe and answer the following questions\n",
    "    - based on the MV dataset, which Kpop group is the most prolific in terms of music video releases?\n",
    "    - which year had the most releases?\n",
    "    - in descending order, find the top 5 months that music videos are typically released HINT: get the monthly average and compute from there"
   ]
  },
  {
   "cell_type": "code",
   "execution_count": 212,
   "id": "db80c3f8-44f6-4b46-b1c7-e57766c073ea",
   "metadata": {},
   "outputs": [],
   "source": [
    "import pandas as pd\n",
    "\n",
    "kpop_vids_df = pd.read_csv('kpop_datasets/kpop_music_videos.csv')\n",
    "# kpop_vids_df.info()"
   ]
  },
  {
   "cell_type": "code",
   "execution_count": 213,
   "id": "74272960-f8ba-41da-aacd-5706b8715da1",
   "metadata": {},
   "outputs": [],
   "source": [
    "duplicate_rows = kpop_vids_df[kpop_vids_df.duplicated(keep=False)]\n",
    "# duplicate_rows"
   ]
  },
  {
   "cell_type": "code",
   "execution_count": 214,
   "id": "abbf7995-39c1-4de5-986a-ab13875f0fde",
   "metadata": {},
   "outputs": [],
   "source": [
    "kpop_vids_df = kpop_vids_df.drop_duplicates()\n",
    "# kpop_vids_df.shape"
   ]
  },
  {
   "cell_type": "code",
   "execution_count": 215,
   "id": "9204cdb4-0ef1-4ee6-835b-c8707753258d",
   "metadata": {},
   "outputs": [],
   "source": [
    "kpop_group_types = kpop_vids_df['Type'].unique()\n",
    "# kpop_group_types"
   ]
  },
  {
   "cell_type": "code",
   "execution_count": 216,
   "id": "a66eb930-5614-4289-8b1f-a6a555f832b1",
   "metadata": {},
   "outputs": [],
   "source": [
    "not_boy_solo = kpop_vids_df['Type'] != 'Boy Solo'\n",
    "not_girl_solo = kpop_vids_df['Type'] != 'Girl Solo'\n",
    "kpop_grps_df = kpop_vids_df[not_boy_solo & not_girl_solo]\n",
    "# kpop_grps_df"
   ]
  },
  {
   "cell_type": "code",
   "execution_count": 217,
   "id": "de03ecf2-85df-4d90-af82-32e01e02c2c6",
   "metadata": {},
   "outputs": [],
   "source": [
    "music_vid_count = kpop_grps_df['Artist'].value_counts()\n",
    "# music_vid_count"
   ]
  },
  {
   "cell_type": "code",
   "execution_count": 218,
   "id": "7bdc57de-3fc3-48e5-a73f-a72dcb05a1ee",
   "metadata": {},
   "outputs": [
    {
     "data": {
      "text/plain": [
       "'FTISLAND'"
      ]
     },
     "execution_count": 218,
     "metadata": {},
     "output_type": "execute_result"
    }
   ],
   "source": [
    "most_prolific_grp = music_vid_count.idxmax()\n",
    "most_prolific_grp"
   ]
  },
  {
   "cell_type": "code",
   "execution_count": 409,
   "id": "e7d16d68-2c02-4ce4-b99c-55abbb01b054",
   "metadata": {},
   "outputs": [],
   "source": [
    "kpop_vids_df['Date'] = kpop_vids_df['Date'].apply(pd.to_datetime)\n",
    "# kpop_vids_df.info()"
   ]
  },
  {
   "cell_type": "code",
   "execution_count": 408,
   "id": "3808a930-7055-4191-bd91-dc6b25b23da6",
   "metadata": {},
   "outputs": [],
   "source": [
    "release_per_year = kpop_vids_df.groupby(kpop_vids_df['Date'].dt.year)['Release'].count()\n",
    "# release_per_year.sort_values(ascending=False).head()"
   ]
  },
  {
   "cell_type": "code",
   "execution_count": 221,
   "id": "017141da-66cf-4cdf-87f2-bd076cb47961",
   "metadata": {},
   "outputs": [
    {
     "data": {
      "text/plain": [
       "2019"
      ]
     },
     "execution_count": 221,
     "metadata": {},
     "output_type": "execute_result"
    }
   ],
   "source": [
    "most_release_year = release_per_year.idxmax()\n",
    "most_release_year"
   ]
  },
  {
   "cell_type": "code",
   "execution_count": 400,
   "id": "495e62f8-0de6-4718-8ae9-90b1cd823a25",
   "metadata": {},
   "outputs": [],
   "source": [
    "kpop_vids_by_month_df = kpop_vids_df.copy(deep=True)\n",
    "kpop_vids_by_month_df['Year'] = kpop_vids_df['Date'].dt.year\n",
    "kpop_vids_by_month_df['Month'] = kpop_vids_df['Date'].dt.month\n",
    "kpop_vids_by_month_df = kpop_vids_by_month_df.groupby(['Month', 'Year']).count().unstack(fill_value=0).stack()\n",
    "# kpop_vids_by_month_df"
   ]
  },
  {
   "cell_type": "code",
   "execution_count": 227,
   "id": "09e67ce9-8d6a-4a62-8a50-65bd351dfc67",
   "metadata": {},
   "outputs": [
    {
     "data": {
      "text/plain": [
       "Month\n",
       "7     12.241379\n",
       "4     12.103448\n",
       "11    11.965517\n",
       "1     11.931034\n",
       "5     11.620690\n",
       "Name: Release, dtype: float64"
      ]
     },
     "execution_count": 227,
     "metadata": {},
     "output_type": "execute_result"
    }
   ],
   "source": [
    "top5_most_released_months = kpop_vids_by_month_df.groupby(level=0).mean().sort_values(by='Release', ascending=False).head(5)\n",
    "top5_most_released_months['Release']"
   ]
  },
  {
   "cell_type": "code",
   "execution_count": 228,
   "id": "c8f3baf8-b794-42f5-9fac-0343afcdcd1d",
   "metadata": {},
   "outputs": [],
   "source": [
    "df_v2 = kpop_vids_df.set_index('Date')\n",
    "df_v2.index = pd.to_datetime(df_v2.index)\n",
    "monthly = df_v2.resample('M').count()\n",
    "monthly['Month'] = monthly.index.month\n",
    "by_month_df = monthly.pivot_table(index=['Month', 'Date'])\n",
    "# by_month_df"
   ]
  },
  {
   "cell_type": "code",
   "execution_count": 229,
   "id": "041e78a9-4080-4e63-bffc-4568d1047ee2",
   "metadata": {},
   "outputs": [
    {
     "data": {
      "text/plain": [
       "Month\n",
       "7     12.678571\n",
       "11    12.392857\n",
       "1     12.357143\n",
       "4     12.103448\n",
       "10    11.964286\n",
       "Name: Release, dtype: float64"
      ]
     },
     "execution_count": 229,
     "metadata": {},
     "output_type": "execute_result"
    }
   ],
   "source": [
    "most_release_by_month = by_month_df.groupby(level=0).mean().sort_values(by='Release', ascending=False)\n",
    "most_release_by_month['Release'].head(5)"
   ]
  },
  {
   "cell_type": "markdown",
   "id": "50dd49c3-9c8e-457e-a172-f41657d92d8e",
   "metadata": {},
   "source": [
    "9. Load kpop_idols.csv as a dataframe and answer the following questions:\n",
    "    - within the dataset, who is the oldest kpop idol?\n",
    "    - which group, using the mean of the members' ages combined, is the oldest?\n",
    "    - which group, using the mean of the members' ages combined, is the youngest?"
   ]
  },
  {
   "cell_type": "code",
   "execution_count": 382,
   "id": "8278f78c-1ead-441d-a243-2588bb48828f",
   "metadata": {},
   "outputs": [],
   "source": [
    "import pandas as pd\n",
    "\n",
    "idols_df = pd.read_csv('kpop_datasets/kpop_idols.csv')\n",
    "# idols_df.info()"
   ]
  },
  {
   "cell_type": "code",
   "execution_count": 383,
   "id": "42d59d27-0d12-4b1c-a2a3-117a1f3b3fc4",
   "metadata": {},
   "outputs": [
    {
     "data": {
      "text/html": [
       "<div>\n",
       "<style scoped>\n",
       "    .dataframe tbody tr th:only-of-type {\n",
       "        vertical-align: middle;\n",
       "    }\n",
       "\n",
       "    .dataframe tbody tr th {\n",
       "        vertical-align: top;\n",
       "    }\n",
       "\n",
       "    .dataframe thead th {\n",
       "        text-align: right;\n",
       "    }\n",
       "</style>\n",
       "<table border=\"1\" class=\"dataframe\">\n",
       "  <thead>\n",
       "    <tr style=\"text-align: right;\">\n",
       "      <th></th>\n",
       "      <th>Stage Name</th>\n",
       "      <th>Full Name</th>\n",
       "      <th>Korean Name</th>\n",
       "      <th>K. Stage Name</th>\n",
       "      <th>Date of Birth</th>\n",
       "      <th>Group</th>\n",
       "      <th>Country</th>\n",
       "      <th>Birthplace</th>\n",
       "      <th>Other Group</th>\n",
       "      <th>Gender</th>\n",
       "    </tr>\n",
       "  </thead>\n",
       "  <tbody>\n",
       "    <tr>\n",
       "      <th>844</th>\n",
       "      <td>PSY</td>\n",
       "      <td>Park Jaesang</td>\n",
       "      <td>박재상</td>\n",
       "      <td>싸이</td>\n",
       "      <td>1977-12-31</td>\n",
       "      <td>NaN</td>\n",
       "      <td>South Korea</td>\n",
       "      <td>Seoul</td>\n",
       "      <td>NaN</td>\n",
       "      <td>M</td>\n",
       "    </tr>\n",
       "  </tbody>\n",
       "</table>\n",
       "</div>"
      ],
      "text/plain": [
       "    Stage Name     Full Name Korean Name K. Stage Name Date of Birth Group  \\\n",
       "844        PSY  Park Jaesang         박재상            싸이    1977-12-31   NaN   \n",
       "\n",
       "         Country Birthplace Other Group Gender  \n",
       "844  South Korea      Seoul         NaN      M  "
      ]
     },
     "execution_count": 383,
     "metadata": {},
     "output_type": "execute_result"
    }
   ],
   "source": [
    "sort_by_age_df = idols_df.sort_values(by='Date of Birth', ascending=True)\n",
    "sort_by_age_df.head(1)"
   ]
  },
  {
   "cell_type": "code",
   "execution_count": 384,
   "id": "3d1dddb3-ec46-4e68-a114-fb7063e0c5e5",
   "metadata": {},
   "outputs": [],
   "source": [
    "now = pd.Timestamp('now')\n",
    "idols_df['Date of Birth'] = idols_df['Date of Birth'].apply(pd.to_datetime)\n",
    "idols_df['Age'] = (now - idols_df['Date of Birth']).astype('<m8[Y]')\n",
    "# idols_df"
   ]
  },
  {
   "cell_type": "code",
   "execution_count": 385,
   "id": "376f211c-0d05-4dd5-8d3a-128e2750ad48",
   "metadata": {},
   "outputs": [],
   "source": [
    "group_mean_age_df = idols_df.groupby('Group', as_index=False)['Age'].mean()\n",
    "group_mean_age_sorted_df = group_mean_age_df.sort_values(by='Age', ascending=False)\n",
    "oldest_group_row = group_mean_age_df.iloc[group_mean_age_df['Age'].idxmax()]"
   ]
  },
  {
   "cell_type": "code",
   "execution_count": 386,
   "id": "01d79fdb-6921-4257-822d-11810c988442",
   "metadata": {},
   "outputs": [
    {
     "data": {
      "text/plain": [
       "Group    Brown Eyed Girls\n",
       "Age                  38.5\n",
       "Name: 45, dtype: object"
      ]
     },
     "execution_count": 386,
     "metadata": {},
     "output_type": "execute_result"
    }
   ],
   "source": [
    "oldest_group_row"
   ]
  },
  {
   "cell_type": "code",
   "execution_count": 387,
   "id": "cd69ee29-c32b-49b4-9d0b-b74df8af7a8f",
   "metadata": {},
   "outputs": [
    {
     "data": {
      "text/plain": [
       "Group    TEEN TEEN\n",
       "Age      17.666667\n",
       "Name: 171, dtype: object"
      ]
     },
     "execution_count": 387,
     "metadata": {},
     "output_type": "execute_result"
    }
   ],
   "source": [
    "youngest_group_row = group_mean_age_df.iloc[group_mean_age_df['Age'].idxmin()]\n",
    "youngest_group_row"
   ]
  },
  {
   "cell_type": "markdown",
   "id": "491591eb-77d6-4207-9bf8-ef8f671ef298",
   "metadata": {},
   "source": [
    "8. Using the kpop_idols.csv and kpop_music_videos.csv datasets, answer the following:\n",
    "    - identify your favorite kpop group\n",
    "    - what is the average age of the members, and show who the eldest and youngest members are\n",
    "    - using Pandas, show a histogram/barplot of the number of music video releases they have per year"
   ]
  },
  {
   "cell_type": "code",
   "execution_count": 388,
   "id": "9bd24683-0a58-4bef-a579-49d44cf8a34c",
   "metadata": {},
   "outputs": [],
   "source": [
    "favorite_kpop_group = 'Mamamoo'"
   ]
  },
  {
   "cell_type": "code",
   "execution_count": 389,
   "id": "287a9ec9-624f-411e-9233-cfda30b360aa",
   "metadata": {},
   "outputs": [
    {
     "data": {
      "text/html": [
       "<div>\n",
       "<style scoped>\n",
       "    .dataframe tbody tr th:only-of-type {\n",
       "        vertical-align: middle;\n",
       "    }\n",
       "\n",
       "    .dataframe tbody tr th {\n",
       "        vertical-align: top;\n",
       "    }\n",
       "\n",
       "    .dataframe thead th {\n",
       "        text-align: right;\n",
       "    }\n",
       "</style>\n",
       "<table border=\"1\" class=\"dataframe\">\n",
       "  <thead>\n",
       "    <tr style=\"text-align: right;\">\n",
       "      <th></th>\n",
       "      <th>Stage Name</th>\n",
       "      <th>Full Name</th>\n",
       "      <th>Korean Name</th>\n",
       "      <th>K. Stage Name</th>\n",
       "      <th>Date of Birth</th>\n",
       "      <th>Group</th>\n",
       "      <th>Country</th>\n",
       "      <th>Birthplace</th>\n",
       "      <th>Other Group</th>\n",
       "      <th>Gender</th>\n",
       "      <th>Age</th>\n",
       "    </tr>\n",
       "  </thead>\n",
       "  <tbody>\n",
       "    <tr>\n",
       "      <th>364</th>\n",
       "      <td>Hwasa</td>\n",
       "      <td>Ahn Hyejin</td>\n",
       "      <td>안혜진</td>\n",
       "      <td>화사</td>\n",
       "      <td>1995-07-23</td>\n",
       "      <td>Mamamoo</td>\n",
       "      <td>South Korea</td>\n",
       "      <td>Jeonju</td>\n",
       "      <td>NaN</td>\n",
       "      <td>F</td>\n",
       "      <td>26.0</td>\n",
       "    </tr>\n",
       "    <tr>\n",
       "      <th>802</th>\n",
       "      <td>Moonbyul</td>\n",
       "      <td>Moon Byulyi</td>\n",
       "      <td>문별이</td>\n",
       "      <td>문별</td>\n",
       "      <td>1992-12-22</td>\n",
       "      <td>Mamamoo</td>\n",
       "      <td>South Korea</td>\n",
       "      <td>Bucheon</td>\n",
       "      <td>NaN</td>\n",
       "      <td>F</td>\n",
       "      <td>29.0</td>\n",
       "    </tr>\n",
       "    <tr>\n",
       "      <th>991</th>\n",
       "      <td>Solar</td>\n",
       "      <td>Kim Yongsun</td>\n",
       "      <td>김용선</td>\n",
       "      <td>솔라</td>\n",
       "      <td>1991-02-21</td>\n",
       "      <td>Mamamoo</td>\n",
       "      <td>South Korea</td>\n",
       "      <td>Seoul</td>\n",
       "      <td>NaN</td>\n",
       "      <td>F</td>\n",
       "      <td>31.0</td>\n",
       "    </tr>\n",
       "    <tr>\n",
       "      <th>1122</th>\n",
       "      <td>Wheein</td>\n",
       "      <td>Jung Wheein</td>\n",
       "      <td>정휘인</td>\n",
       "      <td>휘인</td>\n",
       "      <td>1995-04-17</td>\n",
       "      <td>Mamamoo</td>\n",
       "      <td>South Korea</td>\n",
       "      <td>Jeonju</td>\n",
       "      <td>NaN</td>\n",
       "      <td>F</td>\n",
       "      <td>26.0</td>\n",
       "    </tr>\n",
       "  </tbody>\n",
       "</table>\n",
       "</div>"
      ],
      "text/plain": [
       "     Stage Name    Full Name Korean Name K. Stage Name Date of Birth    Group  \\\n",
       "364       Hwasa   Ahn Hyejin         안혜진            화사    1995-07-23  Mamamoo   \n",
       "802    Moonbyul  Moon Byulyi         문별이            문별    1992-12-22  Mamamoo   \n",
       "991       Solar  Kim Yongsun         김용선            솔라    1991-02-21  Mamamoo   \n",
       "1122     Wheein  Jung Wheein         정휘인            휘인    1995-04-17  Mamamoo   \n",
       "\n",
       "          Country Birthplace Other Group Gender   Age  \n",
       "364   South Korea     Jeonju         NaN      F  26.0  \n",
       "802   South Korea    Bucheon         NaN      F  29.0  \n",
       "991   South Korea      Seoul         NaN      F  31.0  \n",
       "1122  South Korea     Jeonju         NaN      F  26.0  "
      ]
     },
     "execution_count": 389,
     "metadata": {},
     "output_type": "execute_result"
    }
   ],
   "source": [
    "kpop_grp_members = idols_df[idols_df['Group'] == favorite_kpop_group]\n",
    "kpop_grp_members"
   ]
  },
  {
   "cell_type": "code",
   "execution_count": 390,
   "id": "50cb3385-aec2-4a25-a94c-3c9e81ebc1b8",
   "metadata": {},
   "outputs": [
    {
     "data": {
      "text/plain": [
       "28.0"
      ]
     },
     "execution_count": 390,
     "metadata": {},
     "output_type": "execute_result"
    }
   ],
   "source": [
    "kpop_grp_ave_age = kpop_grp_members['Age'].mean()\n",
    "kpop_grp_ave_age "
   ]
  },
  {
   "cell_type": "code",
   "execution_count": 391,
   "id": "1e905b41-9e1e-442e-a55c-5242dc109a44",
   "metadata": {},
   "outputs": [
    {
     "data": {
      "text/html": [
       "<div>\n",
       "<style scoped>\n",
       "    .dataframe tbody tr th:only-of-type {\n",
       "        vertical-align: middle;\n",
       "    }\n",
       "\n",
       "    .dataframe tbody tr th {\n",
       "        vertical-align: top;\n",
       "    }\n",
       "\n",
       "    .dataframe thead th {\n",
       "        text-align: right;\n",
       "    }\n",
       "</style>\n",
       "<table border=\"1\" class=\"dataframe\">\n",
       "  <thead>\n",
       "    <tr style=\"text-align: right;\">\n",
       "      <th></th>\n",
       "      <th>Stage Name</th>\n",
       "      <th>Full Name</th>\n",
       "      <th>Korean Name</th>\n",
       "      <th>K. Stage Name</th>\n",
       "      <th>Date of Birth</th>\n",
       "      <th>Group</th>\n",
       "      <th>Country</th>\n",
       "      <th>Birthplace</th>\n",
       "      <th>Other Group</th>\n",
       "      <th>Gender</th>\n",
       "      <th>Age</th>\n",
       "    </tr>\n",
       "  </thead>\n",
       "  <tbody>\n",
       "    <tr>\n",
       "      <th>364</th>\n",
       "      <td>Hwasa</td>\n",
       "      <td>Ahn Hyejin</td>\n",
       "      <td>안혜진</td>\n",
       "      <td>화사</td>\n",
       "      <td>1995-07-23</td>\n",
       "      <td>Mamamoo</td>\n",
       "      <td>South Korea</td>\n",
       "      <td>Jeonju</td>\n",
       "      <td>NaN</td>\n",
       "      <td>F</td>\n",
       "      <td>26.0</td>\n",
       "    </tr>\n",
       "    <tr>\n",
       "      <th>1122</th>\n",
       "      <td>Wheein</td>\n",
       "      <td>Jung Wheein</td>\n",
       "      <td>정휘인</td>\n",
       "      <td>휘인</td>\n",
       "      <td>1995-04-17</td>\n",
       "      <td>Mamamoo</td>\n",
       "      <td>South Korea</td>\n",
       "      <td>Jeonju</td>\n",
       "      <td>NaN</td>\n",
       "      <td>F</td>\n",
       "      <td>26.0</td>\n",
       "    </tr>\n",
       "    <tr>\n",
       "      <th>802</th>\n",
       "      <td>Moonbyul</td>\n",
       "      <td>Moon Byulyi</td>\n",
       "      <td>문별이</td>\n",
       "      <td>문별</td>\n",
       "      <td>1992-12-22</td>\n",
       "      <td>Mamamoo</td>\n",
       "      <td>South Korea</td>\n",
       "      <td>Bucheon</td>\n",
       "      <td>NaN</td>\n",
       "      <td>F</td>\n",
       "      <td>29.0</td>\n",
       "    </tr>\n",
       "    <tr>\n",
       "      <th>991</th>\n",
       "      <td>Solar</td>\n",
       "      <td>Kim Yongsun</td>\n",
       "      <td>김용선</td>\n",
       "      <td>솔라</td>\n",
       "      <td>1991-02-21</td>\n",
       "      <td>Mamamoo</td>\n",
       "      <td>South Korea</td>\n",
       "      <td>Seoul</td>\n",
       "      <td>NaN</td>\n",
       "      <td>F</td>\n",
       "      <td>31.0</td>\n",
       "    </tr>\n",
       "  </tbody>\n",
       "</table>\n",
       "</div>"
      ],
      "text/plain": [
       "     Stage Name    Full Name Korean Name K. Stage Name Date of Birth    Group  \\\n",
       "364       Hwasa   Ahn Hyejin         안혜진            화사    1995-07-23  Mamamoo   \n",
       "1122     Wheein  Jung Wheein         정휘인            휘인    1995-04-17  Mamamoo   \n",
       "802    Moonbyul  Moon Byulyi         문별이            문별    1992-12-22  Mamamoo   \n",
       "991       Solar  Kim Yongsun         김용선            솔라    1991-02-21  Mamamoo   \n",
       "\n",
       "          Country Birthplace Other Group Gender   Age  \n",
       "364   South Korea     Jeonju         NaN      F  26.0  \n",
       "1122  South Korea     Jeonju         NaN      F  26.0  \n",
       "802   South Korea    Bucheon         NaN      F  29.0  \n",
       "991   South Korea      Seoul         NaN      F  31.0  "
      ]
     },
     "execution_count": 391,
     "metadata": {},
     "output_type": "execute_result"
    }
   ],
   "source": [
    "grp_members_by_age = kpop_grp_members.sort_values(by='Date of Birth', ascending=False)\n",
    "grp_members_by_age"
   ]
  },
  {
   "cell_type": "code",
   "execution_count": 392,
   "id": "ae2e0b0a-0a46-42ee-a498-7ade4df93b19",
   "metadata": {},
   "outputs": [
    {
     "data": {
      "text/html": [
       "<div>\n",
       "<style scoped>\n",
       "    .dataframe tbody tr th:only-of-type {\n",
       "        vertical-align: middle;\n",
       "    }\n",
       "\n",
       "    .dataframe tbody tr th {\n",
       "        vertical-align: top;\n",
       "    }\n",
       "\n",
       "    .dataframe thead th {\n",
       "        text-align: right;\n",
       "    }\n",
       "</style>\n",
       "<table border=\"1\" class=\"dataframe\">\n",
       "  <thead>\n",
       "    <tr style=\"text-align: right;\">\n",
       "      <th></th>\n",
       "      <th>Stage Name</th>\n",
       "      <th>Full Name</th>\n",
       "      <th>Korean Name</th>\n",
       "      <th>K. Stage Name</th>\n",
       "      <th>Date of Birth</th>\n",
       "      <th>Group</th>\n",
       "      <th>Country</th>\n",
       "      <th>Birthplace</th>\n",
       "      <th>Other Group</th>\n",
       "      <th>Gender</th>\n",
       "      <th>Age</th>\n",
       "    </tr>\n",
       "  </thead>\n",
       "  <tbody>\n",
       "    <tr>\n",
       "      <th>364</th>\n",
       "      <td>Hwasa</td>\n",
       "      <td>Ahn Hyejin</td>\n",
       "      <td>안혜진</td>\n",
       "      <td>화사</td>\n",
       "      <td>1995-07-23</td>\n",
       "      <td>Mamamoo</td>\n",
       "      <td>South Korea</td>\n",
       "      <td>Jeonju</td>\n",
       "      <td>NaN</td>\n",
       "      <td>F</td>\n",
       "      <td>26.0</td>\n",
       "    </tr>\n",
       "  </tbody>\n",
       "</table>\n",
       "</div>"
      ],
      "text/plain": [
       "    Stage Name   Full Name Korean Name K. Stage Name Date of Birth    Group  \\\n",
       "364      Hwasa  Ahn Hyejin         안혜진            화사    1995-07-23  Mamamoo   \n",
       "\n",
       "         Country Birthplace Other Group Gender   Age  \n",
       "364  South Korea     Jeonju         NaN      F  26.0  "
      ]
     },
     "execution_count": 392,
     "metadata": {},
     "output_type": "execute_result"
    }
   ],
   "source": [
    "youngest_member = grp_members_by_age.head(1)\n",
    "youngest_member"
   ]
  },
  {
   "cell_type": "code",
   "execution_count": 393,
   "id": "4e68b958-5c24-454d-b227-ef77d37dfcc2",
   "metadata": {},
   "outputs": [
    {
     "data": {
      "text/html": [
       "<div>\n",
       "<style scoped>\n",
       "    .dataframe tbody tr th:only-of-type {\n",
       "        vertical-align: middle;\n",
       "    }\n",
       "\n",
       "    .dataframe tbody tr th {\n",
       "        vertical-align: top;\n",
       "    }\n",
       "\n",
       "    .dataframe thead th {\n",
       "        text-align: right;\n",
       "    }\n",
       "</style>\n",
       "<table border=\"1\" class=\"dataframe\">\n",
       "  <thead>\n",
       "    <tr style=\"text-align: right;\">\n",
       "      <th></th>\n",
       "      <th>Stage Name</th>\n",
       "      <th>Full Name</th>\n",
       "      <th>Korean Name</th>\n",
       "      <th>K. Stage Name</th>\n",
       "      <th>Date of Birth</th>\n",
       "      <th>Group</th>\n",
       "      <th>Country</th>\n",
       "      <th>Birthplace</th>\n",
       "      <th>Other Group</th>\n",
       "      <th>Gender</th>\n",
       "      <th>Age</th>\n",
       "    </tr>\n",
       "  </thead>\n",
       "  <tbody>\n",
       "    <tr>\n",
       "      <th>991</th>\n",
       "      <td>Solar</td>\n",
       "      <td>Kim Yongsun</td>\n",
       "      <td>김용선</td>\n",
       "      <td>솔라</td>\n",
       "      <td>1991-02-21</td>\n",
       "      <td>Mamamoo</td>\n",
       "      <td>South Korea</td>\n",
       "      <td>Seoul</td>\n",
       "      <td>NaN</td>\n",
       "      <td>F</td>\n",
       "      <td>31.0</td>\n",
       "    </tr>\n",
       "  </tbody>\n",
       "</table>\n",
       "</div>"
      ],
      "text/plain": [
       "    Stage Name    Full Name Korean Name K. Stage Name Date of Birth    Group  \\\n",
       "991      Solar  Kim Yongsun         김용선            솔라    1991-02-21  Mamamoo   \n",
       "\n",
       "         Country Birthplace Other Group Gender   Age  \n",
       "991  South Korea      Seoul         NaN      F  31.0  "
      ]
     },
     "execution_count": 393,
     "metadata": {},
     "output_type": "execute_result"
    }
   ],
   "source": [
    "eldest_member = grp_members_by_age.tail(1)\n",
    "eldest_member"
   ]
  },
  {
   "cell_type": "code",
   "execution_count": 394,
   "id": "db2269d4-c6f3-4a39-aa1a-309a96b20e06",
   "metadata": {},
   "outputs": [],
   "source": [
    "fav_kpop_vids = kpop_vids_df[kpop_vids_df['Artist'] == favorite_kpop_group].copy(deep=True)\n",
    "# fav_kpop_vids"
   ]
  },
  {
   "cell_type": "code",
   "execution_count": 395,
   "id": "c5724413-5d30-4d52-8b58-8d49d4fcb9ed",
   "metadata": {},
   "outputs": [],
   "source": [
    "fav_kpop_vids['Year'] = fav_kpop_vids['Date'].dt.year\n",
    "# fav_kpop_vids"
   ]
  },
  {
   "cell_type": "code",
   "execution_count": 396,
   "id": "cbed67a6-4cd7-4516-a37d-18c29497b005",
   "metadata": {},
   "outputs": [
    {
     "data": {
      "text/html": [
       "<div>\n",
       "<style scoped>\n",
       "    .dataframe tbody tr th:only-of-type {\n",
       "        vertical-align: middle;\n",
       "    }\n",
       "\n",
       "    .dataframe tbody tr th {\n",
       "        vertical-align: top;\n",
       "    }\n",
       "\n",
       "    .dataframe thead th {\n",
       "        text-align: right;\n",
       "    }\n",
       "</style>\n",
       "<table border=\"1\" class=\"dataframe\">\n",
       "  <thead>\n",
       "    <tr style=\"text-align: right;\">\n",
       "      <th></th>\n",
       "      <th>Year</th>\n",
       "      <th>Date</th>\n",
       "      <th>Artist</th>\n",
       "      <th>Song Name</th>\n",
       "      <th>Korean Name</th>\n",
       "      <th>Director</th>\n",
       "      <th>Video</th>\n",
       "      <th>Type</th>\n",
       "      <th>Release</th>\n",
       "    </tr>\n",
       "  </thead>\n",
       "  <tbody>\n",
       "    <tr>\n",
       "      <th>0</th>\n",
       "      <td>2014</td>\n",
       "      <td>2</td>\n",
       "      <td>2</td>\n",
       "      <td>2</td>\n",
       "      <td>2</td>\n",
       "      <td>2</td>\n",
       "      <td>2</td>\n",
       "      <td>2</td>\n",
       "      <td>2</td>\n",
       "    </tr>\n",
       "    <tr>\n",
       "      <th>1</th>\n",
       "      <td>2015</td>\n",
       "      <td>4</td>\n",
       "      <td>4</td>\n",
       "      <td>4</td>\n",
       "      <td>4</td>\n",
       "      <td>1</td>\n",
       "      <td>4</td>\n",
       "      <td>4</td>\n",
       "      <td>4</td>\n",
       "    </tr>\n",
       "    <tr>\n",
       "      <th>2</th>\n",
       "      <td>2016</td>\n",
       "      <td>10</td>\n",
       "      <td>10</td>\n",
       "      <td>10</td>\n",
       "      <td>8</td>\n",
       "      <td>2</td>\n",
       "      <td>10</td>\n",
       "      <td>10</td>\n",
       "      <td>10</td>\n",
       "    </tr>\n",
       "    <tr>\n",
       "      <th>3</th>\n",
       "      <td>2017</td>\n",
       "      <td>3</td>\n",
       "      <td>3</td>\n",
       "      <td>3</td>\n",
       "      <td>3</td>\n",
       "      <td>2</td>\n",
       "      <td>3</td>\n",
       "      <td>3</td>\n",
       "      <td>3</td>\n",
       "    </tr>\n",
       "    <tr>\n",
       "      <th>4</th>\n",
       "      <td>2018</td>\n",
       "      <td>7</td>\n",
       "      <td>7</td>\n",
       "      <td>7</td>\n",
       "      <td>6</td>\n",
       "      <td>0</td>\n",
       "      <td>7</td>\n",
       "      <td>7</td>\n",
       "      <td>7</td>\n",
       "    </tr>\n",
       "    <tr>\n",
       "      <th>5</th>\n",
       "      <td>2019</td>\n",
       "      <td>4</td>\n",
       "      <td>4</td>\n",
       "      <td>4</td>\n",
       "      <td>2</td>\n",
       "      <td>0</td>\n",
       "      <td>4</td>\n",
       "      <td>4</td>\n",
       "      <td>4</td>\n",
       "    </tr>\n",
       "    <tr>\n",
       "      <th>6</th>\n",
       "      <td>2020</td>\n",
       "      <td>1</td>\n",
       "      <td>1</td>\n",
       "      <td>1</td>\n",
       "      <td>0</td>\n",
       "      <td>0</td>\n",
       "      <td>1</td>\n",
       "      <td>1</td>\n",
       "      <td>1</td>\n",
       "    </tr>\n",
       "  </tbody>\n",
       "</table>\n",
       "</div>"
      ],
      "text/plain": [
       "   Year  Date  Artist  Song Name  Korean Name  Director  Video  Type  Release\n",
       "0  2014     2       2          2            2         2      2     2        2\n",
       "1  2015     4       4          4            4         1      4     4        4\n",
       "2  2016    10      10         10            8         2     10    10       10\n",
       "3  2017     3       3          3            3         2      3     3        3\n",
       "4  2018     7       7          7            6         0      7     7        7\n",
       "5  2019     4       4          4            2         0      4     4        4\n",
       "6  2020     1       1          1            0         0      1     1        1"
      ]
     },
     "execution_count": 396,
     "metadata": {},
     "output_type": "execute_result"
    }
   ],
   "source": [
    "music_vid_per_year = fav_kpop_vids.groupby('Year', as_index=False).count()\n",
    "music_vid_per_year"
   ]
  },
  {
   "cell_type": "code",
   "execution_count": 397,
   "id": "f840b4c4-258e-4f1a-b995-4ee2b7c09582",
   "metadata": {},
   "outputs": [
    {
     "data": {
      "text/plain": [
       "<AxesSubplot:xlabel='Year'>"
      ]
     },
     "execution_count": 397,
     "metadata": {},
     "output_type": "execute_result"
    },
    {
     "data": {
      "image/png": "[encoded data removed]",
      "text/plain": [
       "<Figure size 432x288 with 1 Axes>"
      ]
     },
     "metadata": {
      "needs_background": "light"
     },
     "output_type": "display_data"
    }
   ],
   "source": [
    "music_vid_per_year_bar_plt = music_vid_per_year.plot.bar(x='Year', y='Release', rot=0)\n",
    "music_vid_per_year_bar_plt"
   ]
  },
  {
   "cell_type": "code",
   "execution_count": 398,
   "id": "eb6a9b20-b995-463f-b111-19998fe867f8",
   "metadata": {},
   "outputs": [
    {
     "data": {
      "text/plain": [
       "array([[<AxesSubplot:title={'center':'Year'}>]], dtype=object)"
      ]
     },
     "execution_count": 398,
     "metadata": {},
     "output_type": "execute_result"
    },
    {
     "data": {
      "image/png": "[encoded data removed]",
      "text/plain": [
       "<Figure size 432x288 with 1 Axes>"
      ]
     },
     "metadata": {
      "needs_background": "light"
     },
     "output_type": "display_data"
    }
   ],
   "source": [
    "music_vid_per_year_hist_plt = fav_kpop_vids.hist(column='Year', bins=7)\n",
    "music_vid_per_year_hist_plt"
   ]
  },
  {
   "cell_type": "code",
   "execution_count": null,
   "id": "e7f4e306-a92c-4643-8758-9fd6a027bd36",
   "metadata": {},
   "outputs": [],
   "source": []
  }
 ],
 "metadata": {
  "kernelspec": {
   "display_name": "Python 3 (ipykernel)",
   "language": "python",
   "name": "python3"
  },
  "language_info": {
   "codemirror_mode": {
    "name": "ipython",
    "version": 3
   },
   "file_extension": ".py",
   "mimetype": "text/x-python",
   "name": "python",
   "nbconvert_exporter": "python",
   "pygments_lexer": "ipython3",
   "version": "3.9.7"
  }
 },
 "nbformat": 4,
 "nbformat_minor": 5
}
