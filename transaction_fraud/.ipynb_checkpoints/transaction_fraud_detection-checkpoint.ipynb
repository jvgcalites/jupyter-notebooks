{
 "cells": [
  {
   "cell_type": "code",
   "execution_count": 1,
   "id": "d543f24b-6f9d-4646-8d6d-609483cc4ccb",
   "metadata": {},
   "outputs": [],
   "source": [
    "import pandas as pd\n",
    "import numpy as np\n",
    "import matplotlib.pylab as plt\n",
    "import seaborn as sns\n",
    "%matplotlib inline\n",
    "\n",
    "from sklearn.linear_model import LogisticRegression\n",
    "from sklearn.naive_bayes import GaussianNB\n",
    "from sklearn.svm import SVC\n",
    "from sklearn.svm import LinearSVC\n",
    "from sklearn.neighbors import KNeighborsClassifier\n",
    "from sklearn.linear_model import Perceptron\n",
    "from sklearn.tree import DecisionTreeClassifier\n",
    "\n",
    "\n",
    "\n",
    "from sklearn import metrics\n",
    "from sklearn.model_selection import train_test_split\n",
    "from sklearn.model_selection import cross_val_score\n",
    "from sklearn.metrics import classification_report, confusion_matrix\n",
    "from sklearn.preprocessing import MinMaxScaler, StandardScaler"
   ]
  },
  {
   "cell_type": "code",
   "execution_count": 2,
   "id": "dc606519-daad-40d7-b0ef-5df099ab6d48",
   "metadata": {},
   "outputs": [],
   "source": [
    " df = pd.read_csv('PS_20174392719_1491204439457_log.csv', nrows=50_000)"
   ]
  },
  {
   "cell_type": "markdown",
   "id": "40089ba4-e3ff-4ebc-9a55-5397173e7816",
   "metadata": {},
   "source": [
    "### **I. Exploratory Data Analysis**"
   ]
  },
  {
   "cell_type": "markdown",
   "id": "32a91816-10bb-46f8-b667-997456c06154",
   "metadata": {},
   "source": [
    "#### **Column Information**"
   ]
  },
  {
   "cell_type": "code",
   "execution_count": 3,
   "id": "cc2514e6-069f-4c72-8c48-05ad2d286026",
   "metadata": {},
   "outputs": [
    {
     "name": "stdout",
     "output_type": "stream",
     "text": [
      "<class 'pandas.core.frame.DataFrame'>\n",
      "RangeIndex: 50000 entries, 0 to 49999\n",
      "Data columns (total 11 columns):\n",
      " #   Column          Non-Null Count  Dtype  \n",
      "---  ------          --------------  -----  \n",
      " 0   step            50000 non-null  int64  \n",
      " 1   type            50000 non-null  object \n",
      " 2   amount          50000 non-null  float64\n",
      " 3   nameOrig        50000 non-null  object \n",
      " 4   oldbalanceOrg   50000 non-null  float64\n",
      " 5   newbalanceOrig  50000 non-null  float64\n",
      " 6   nameDest        50000 non-null  object \n",
      " 7   oldbalanceDest  50000 non-null  float64\n",
      " 8   newbalanceDest  50000 non-null  float64\n",
      " 9   isFraud         50000 non-null  int64  \n",
      " 10  isFlaggedFraud  50000 non-null  int64  \n",
      "dtypes: float64(5), int64(3), object(3)\n",
      "memory usage: 4.2+ MB\n"
     ]
    }
   ],
   "source": [
    "df.info()"
   ]
  },
  {
   "cell_type": "markdown",
   "id": "bc0443d0-a03f-4d94-9969-a8d2d2fe2ae4",
   "metadata": {},
   "source": [
    "Based from this info, we could separate the column into:\n",
    "\n",
    "- **Numerical**: amount, oldlbalanceOrig, newbalanceOrig, oldbalanceDest, newbalanceDest\n",
    "\n",
    "- **Categorical**: type, nameOrig, nameDest"
   ]
  },
  {
   "cell_type": "markdown",
   "id": "2028853a-263a-4ca4-a98c-e253eb270e9a",
   "metadata": {},
   "source": [
    "#### **Checking for rows with missing values**"
   ]
  },
  {
   "cell_type": "code",
   "execution_count": 4,
   "id": "172ff162-515c-426d-bd03-db9b9dede93f",
   "metadata": {},
   "outputs": [
    {
     "data": {
      "text/plain": [
       "step              0\n",
       "type              0\n",
       "amount            0\n",
       "nameOrig          0\n",
       "oldbalanceOrg     0\n",
       "newbalanceOrig    0\n",
       "nameDest          0\n",
       "oldbalanceDest    0\n",
       "newbalanceDest    0\n",
       "isFraud           0\n",
       "isFlaggedFraud    0\n",
       "dtype: int64"
      ]
     },
     "execution_count": 4,
     "metadata": {},
     "output_type": "execute_result"
    }
   ],
   "source": [
    "df.isnull().sum()"
   ]
  },
  {
   "cell_type": "markdown",
   "id": "36e19fa5-dff0-433d-918d-55860dbdd206",
   "metadata": {},
   "source": [
    "#### **f1: Type**"
   ]
  },
  {
   "cell_type": "code",
   "execution_count": 5,
   "id": "ed1398e8-919c-4215-affa-f17b9528e521",
   "metadata": {},
   "outputs": [
    {
     "data": {
      "text/plain": [
       "[Text(0.5, 1.0, 'Payment Type Distribution')]"
      ]
     },
     "execution_count": 5,
     "metadata": {},
     "output_type": "execute_result"
    },
    {
     "data": {
      "image/png": "[encoded data removed]",
      "text/plain": [
       "<Figure size 720x360 with 1 Axes>"
      ]
     },
     "metadata": {
      "needs_background": "light"
     },
     "output_type": "display_data"
    }
   ],
   "source": [
    "plt.figure(figsize=(10,5))\n",
    "sns.countplot(\n",
    "    x = 'type', \n",
    "    data = df, \n",
    "    palette = 'viridis',\n",
    "    order = df['type'].value_counts().index\n",
    ").set(title='Payment Type Distribution')"
   ]
  },
  {
   "cell_type": "code",
   "execution_count": 6,
   "id": "61b594a5-a45f-40cd-9b2e-9ccf82119482",
   "metadata": {},
   "outputs": [
    {
     "data": {
      "text/plain": [
       "[Text(0.5, 1.0, 'Fraud Payments per Payment Type Distribution')]"
      ]
     },
     "execution_count": 6,
     "metadata": {},
     "output_type": "execute_result"
    },
    {
     "data": {
      "image/png": "[encoded data removed]",
      "text/plain": [
       "<Figure size 720x360 with 1 Axes>"
      ]
     },
     "metadata": {
      "needs_background": "light"
     },
     "output_type": "display_data"
    }
   ],
   "source": [
    "isFraud_df = df[df.isFraud == True]\n",
    "notFraud_df = df[df.isFraud == False]\n",
    "\n",
    "plt.figure(figsize=(10,5))\n",
    "sns.countplot(\n",
    "    x = 'type', \n",
    "    data = isFraud_df, \n",
    "    palette = 'viridis',\n",
    "    order = df['type'].value_counts().index\n",
    ").set(title='Fraud Payments per Payment Type Distribution')"
   ]
  },
  {
   "cell_type": "markdown",
   "id": "3ec1333f-44d2-4d9d-a051-60ad42e83c79",
   "metadata": {},
   "source": [
    "It shows that fraud transactions usually occurs on **cash out** and **transfer** transactions."
   ]
  },
  {
   "cell_type": "markdown",
   "id": "a64aae4a-979b-4a83-b00c-20bd8df9f478",
   "metadata": {},
   "source": [
    "#### **f2: Amount**"
   ]
  },
  {
   "cell_type": "code",
   "execution_count": 7,
   "id": "25ae7845-4b1e-4601-81d6-640326fe3dfc",
   "metadata": {},
   "outputs": [
    {
     "data": {
      "text/plain": [
       "<AxesSubplot:xlabel='amount', ylabel='Count'>"
      ]
     },
     "execution_count": 7,
     "metadata": {},
     "output_type": "execute_result"
    },
    {
     "data": {
      "image/png": "[encoded data removed]",
      "text/plain": [
       "<Figure size 1080x360 with 1 Axes>"
      ]
     },
     "metadata": {
      "needs_background": "light"
     },
     "output_type": "display_data"
    }
   ],
   "source": [
    "plt.figure(figsize=(15,5))\n",
    "sns.histplot(x='amount', data=df, kde=True)"
   ]
  },
  {
   "cell_type": "code",
   "execution_count": 8,
   "id": "6a93dfb7-6a3e-44c8-ac3f-1b0ec6e16ad5",
   "metadata": {},
   "outputs": [
    {
     "data": {
      "text/plain": [
       "<AxesSubplot:xlabel='amount', ylabel='Count'>"
      ]
     },
     "execution_count": 8,
     "metadata": {},
     "output_type": "execute_result"
    },
    {
     "data": {
      "image/png": "[encoded data removed]",
      "text/plain": [
       "<Figure size 1080x360 with 1 Axes>"
      ]
     },
     "metadata": {
      "needs_background": "light"
     },
     "output_type": "display_data"
    }
   ],
   "source": [
    "plt.figure(figsize=(15,5))\n",
    "sns.histplot(x='amount', data=isFraud_df, kde=True)"
   ]
  },
  {
   "cell_type": "code",
   "execution_count": 9,
   "id": "fa448171-124f-4bf4-99f9-2cf517189e11",
   "metadata": {},
   "outputs": [
    {
     "data": {
      "text/html": [
       "<div>\n",
       "<style scoped>\n",
       "    .dataframe tbody tr th:only-of-type {\n",
       "        vertical-align: middle;\n",
       "    }\n",
       "\n",
       "    .dataframe tbody tr th {\n",
       "        vertical-align: top;\n",
       "    }\n",
       "\n",
       "    .dataframe thead th {\n",
       "        text-align: right;\n",
       "    }\n",
       "</style>\n",
       "<table border=\"1\" class=\"dataframe\">\n",
       "  <thead>\n",
       "    <tr style=\"text-align: right;\">\n",
       "      <th></th>\n",
       "      <th>All</th>\n",
       "      <th>Fraud</th>\n",
       "      <th>Not Fraud</th>\n",
       "    </tr>\n",
       "  </thead>\n",
       "  <tbody>\n",
       "    <tr>\n",
       "      <th>count</th>\n",
       "      <td>50000.000000</td>\n",
       "      <td>100.000000</td>\n",
       "      <td>49900.000000</td>\n",
       "    </tr>\n",
       "    <tr>\n",
       "      <th>mean</th>\n",
       "      <td>156264.510751</td>\n",
       "      <td>573937.718400</td>\n",
       "      <td>155427.490295</td>\n",
       "    </tr>\n",
       "    <tr>\n",
       "      <th>std</th>\n",
       "      <td>324394.888608</td>\n",
       "      <td>1644364.722457</td>\n",
       "      <td>315797.398144</td>\n",
       "    </tr>\n",
       "    <tr>\n",
       "      <th>min</th>\n",
       "      <td>0.630000</td>\n",
       "      <td>164.000000</td>\n",
       "      <td>0.630000</td>\n",
       "    </tr>\n",
       "    <tr>\n",
       "      <th>25%</th>\n",
       "      <td>7734.572500</td>\n",
       "      <td>14949.840000</td>\n",
       "      <td>7716.005000</td>\n",
       "    </tr>\n",
       "    <tr>\n",
       "      <th>50%</th>\n",
       "      <td>33414.820000</td>\n",
       "      <td>31926.940000</td>\n",
       "      <td>33420.845000</td>\n",
       "    </tr>\n",
       "    <tr>\n",
       "      <th>75%</th>\n",
       "      <td>187838.997500</td>\n",
       "      <td>262434.540000</td>\n",
       "      <td>187730.405000</td>\n",
       "    </tr>\n",
       "    <tr>\n",
       "      <th>max</th>\n",
       "      <td>10000000.000000</td>\n",
       "      <td>10000000.000000</td>\n",
       "      <td>5677662.290000</td>\n",
       "    </tr>\n",
       "  </tbody>\n",
       "</table>\n",
       "</div>"
      ],
      "text/plain": [
       "                   All            Fraud       Not Fraud\n",
       "count     50000.000000       100.000000    49900.000000\n",
       "mean     156264.510751    573937.718400   155427.490295\n",
       "std      324394.888608   1644364.722457   315797.398144\n",
       "min           0.630000       164.000000        0.630000\n",
       "25%        7734.572500     14949.840000     7716.005000\n",
       "50%       33414.820000     31926.940000    33420.845000\n",
       "75%      187838.997500    262434.540000   187730.405000\n",
       "max    10000000.000000  10000000.000000  5677662.290000"
      ]
     },
     "execution_count": 9,
     "metadata": {},
     "output_type": "execute_result"
    }
   ],
   "source": [
    "pd.concat([\n",
    "    df.amount.describe().apply(lambda x: format(x, 'f')),\n",
    "    isFraud_df.amount.describe().apply(lambda x: format(x, 'f')),\n",
    "    notFraud_df.amount.describe().apply(lambda x: format(x, 'f'))\n",
    "], keys=['All', 'Fraud', 'Not Fraud'], axis = 1)"
   ]
  },
  {
   "cell_type": "markdown",
   "id": "212b2bb6-6fb8-451f-a359-9b04970e2d2f",
   "metadata": {},
   "source": [
    "Key Takeaways:\n",
    "- There is a huge margin on the amount being paid in every transaction. This can be transform and normalize later on. \n",
    "- The max transaction amount made reached 10,000,000.\n",
    "- The minimum fraud transaction amount is 181. This invalidates the assumption that fraud transactions are usually high in amount."
   ]
  },
  {
   "cell_type": "code",
   "execution_count": 10,
   "id": "6e69a7f8-608d-46bc-99c3-239fae19053d",
   "metadata": {},
   "outputs": [
    {
     "data": {
      "text/html": [
       "<div>\n",
       "<style scoped>\n",
       "    .dataframe tbody tr th:only-of-type {\n",
       "        vertical-align: middle;\n",
       "    }\n",
       "\n",
       "    .dataframe tbody tr th {\n",
       "        vertical-align: top;\n",
       "    }\n",
       "\n",
       "    .dataframe thead th {\n",
       "        text-align: right;\n",
       "    }\n",
       "</style>\n",
       "<table border=\"1\" class=\"dataframe\">\n",
       "  <thead>\n",
       "    <tr style=\"text-align: right;\">\n",
       "      <th></th>\n",
       "      <th>step</th>\n",
       "      <th>type</th>\n",
       "      <th>amount</th>\n",
       "      <th>nameOrig</th>\n",
       "      <th>oldbalanceOrg</th>\n",
       "      <th>newbalanceOrig</th>\n",
       "      <th>nameDest</th>\n",
       "      <th>oldbalanceDest</th>\n",
       "      <th>newbalanceDest</th>\n",
       "      <th>isFraud</th>\n",
       "      <th>isFlaggedFraud</th>\n",
       "    </tr>\n",
       "  </thead>\n",
       "  <tbody>\n",
       "    <tr>\n",
       "      <th>2</th>\n",
       "      <td>1</td>\n",
       "      <td>TRANSFER</td>\n",
       "      <td>181.00</td>\n",
       "      <td>C1305486145</td>\n",
       "      <td>181.00</td>\n",
       "      <td>0.0</td>\n",
       "      <td>C553264065</td>\n",
       "      <td>0.00</td>\n",
       "      <td>0.00</td>\n",
       "      <td>1</td>\n",
       "      <td>0</td>\n",
       "    </tr>\n",
       "    <tr>\n",
       "      <th>3</th>\n",
       "      <td>1</td>\n",
       "      <td>CASH_OUT</td>\n",
       "      <td>181.00</td>\n",
       "      <td>C840083671</td>\n",
       "      <td>181.00</td>\n",
       "      <td>0.0</td>\n",
       "      <td>C38997010</td>\n",
       "      <td>21182.00</td>\n",
       "      <td>0.00</td>\n",
       "      <td>1</td>\n",
       "      <td>0</td>\n",
       "    </tr>\n",
       "    <tr>\n",
       "      <th>251</th>\n",
       "      <td>1</td>\n",
       "      <td>TRANSFER</td>\n",
       "      <td>2806.00</td>\n",
       "      <td>C1420196421</td>\n",
       "      <td>2806.00</td>\n",
       "      <td>0.0</td>\n",
       "      <td>C972765878</td>\n",
       "      <td>0.00</td>\n",
       "      <td>0.00</td>\n",
       "      <td>1</td>\n",
       "      <td>0</td>\n",
       "    </tr>\n",
       "    <tr>\n",
       "      <th>252</th>\n",
       "      <td>1</td>\n",
       "      <td>CASH_OUT</td>\n",
       "      <td>2806.00</td>\n",
       "      <td>C2101527076</td>\n",
       "      <td>2806.00</td>\n",
       "      <td>0.0</td>\n",
       "      <td>C1007251739</td>\n",
       "      <td>26202.00</td>\n",
       "      <td>0.00</td>\n",
       "      <td>1</td>\n",
       "      <td>0</td>\n",
       "    </tr>\n",
       "    <tr>\n",
       "      <th>680</th>\n",
       "      <td>1</td>\n",
       "      <td>TRANSFER</td>\n",
       "      <td>20128.00</td>\n",
       "      <td>C137533655</td>\n",
       "      <td>20128.00</td>\n",
       "      <td>0.0</td>\n",
       "      <td>C1848415041</td>\n",
       "      <td>0.00</td>\n",
       "      <td>0.00</td>\n",
       "      <td>1</td>\n",
       "      <td>0</td>\n",
       "    </tr>\n",
       "    <tr>\n",
       "      <th>...</th>\n",
       "      <td>...</td>\n",
       "      <td>...</td>\n",
       "      <td>...</td>\n",
       "      <td>...</td>\n",
       "      <td>...</td>\n",
       "      <td>...</td>\n",
       "      <td>...</td>\n",
       "      <td>...</td>\n",
       "      <td>...</td>\n",
       "      <td>...</td>\n",
       "      <td>...</td>\n",
       "    </tr>\n",
       "    <tr>\n",
       "      <th>47145</th>\n",
       "      <td>9</td>\n",
       "      <td>CASH_OUT</td>\n",
       "      <td>350705.74</td>\n",
       "      <td>C58527359</td>\n",
       "      <td>350705.74</td>\n",
       "      <td>0.0</td>\n",
       "      <td>C582901057</td>\n",
       "      <td>894760.68</td>\n",
       "      <td>1794033.65</td>\n",
       "      <td>1</td>\n",
       "      <td>0</td>\n",
       "    </tr>\n",
       "    <tr>\n",
       "      <th>49825</th>\n",
       "      <td>9</td>\n",
       "      <td>TRANSFER</td>\n",
       "      <td>2539898.07</td>\n",
       "      <td>C394488466</td>\n",
       "      <td>2539898.07</td>\n",
       "      <td>0.0</td>\n",
       "      <td>C575638324</td>\n",
       "      <td>0.00</td>\n",
       "      <td>261290.69</td>\n",
       "      <td>1</td>\n",
       "      <td>0</td>\n",
       "    </tr>\n",
       "    <tr>\n",
       "      <th>49826</th>\n",
       "      <td>9</td>\n",
       "      <td>CASH_OUT</td>\n",
       "      <td>2539898.07</td>\n",
       "      <td>C728718059</td>\n",
       "      <td>2539898.07</td>\n",
       "      <td>0.0</td>\n",
       "      <td>C1013511446</td>\n",
       "      <td>968.00</td>\n",
       "      <td>1842864.22</td>\n",
       "      <td>1</td>\n",
       "      <td>0</td>\n",
       "    </tr>\n",
       "    <tr>\n",
       "      <th>49885</th>\n",
       "      <td>9</td>\n",
       "      <td>TRANSFER</td>\n",
       "      <td>361559.69</td>\n",
       "      <td>C1287719145</td>\n",
       "      <td>361559.69</td>\n",
       "      <td>0.0</td>\n",
       "      <td>C352239275</td>\n",
       "      <td>0.00</td>\n",
       "      <td>141302.12</td>\n",
       "      <td>1</td>\n",
       "      <td>0</td>\n",
       "    </tr>\n",
       "    <tr>\n",
       "      <th>49886</th>\n",
       "      <td>9</td>\n",
       "      <td>CASH_OUT</td>\n",
       "      <td>361559.69</td>\n",
       "      <td>C684758020</td>\n",
       "      <td>361559.69</td>\n",
       "      <td>0.0</td>\n",
       "      <td>C1769042905</td>\n",
       "      <td>504667.31</td>\n",
       "      <td>189441.24</td>\n",
       "      <td>1</td>\n",
       "      <td>0</td>\n",
       "    </tr>\n",
       "  </tbody>\n",
       "</table>\n",
       "<p>100 rows × 11 columns</p>\n",
       "</div>"
      ],
      "text/plain": [
       "       step      type      amount     nameOrig  oldbalanceOrg  newbalanceOrig  \\\n",
       "2         1  TRANSFER      181.00  C1305486145         181.00             0.0   \n",
       "3         1  CASH_OUT      181.00   C840083671         181.00             0.0   \n",
       "251       1  TRANSFER     2806.00  C1420196421        2806.00             0.0   \n",
       "252       1  CASH_OUT     2806.00  C2101527076        2806.00             0.0   \n",
       "680       1  TRANSFER    20128.00   C137533655       20128.00             0.0   \n",
       "...     ...       ...         ...          ...            ...             ...   \n",
       "47145     9  CASH_OUT   350705.74    C58527359      350705.74             0.0   \n",
       "49825     9  TRANSFER  2539898.07   C394488466     2539898.07             0.0   \n",
       "49826     9  CASH_OUT  2539898.07   C728718059     2539898.07             0.0   \n",
       "49885     9  TRANSFER   361559.69  C1287719145      361559.69             0.0   \n",
       "49886     9  CASH_OUT   361559.69   C684758020      361559.69             0.0   \n",
       "\n",
       "          nameDest  oldbalanceDest  newbalanceDest  isFraud  isFlaggedFraud  \n",
       "2       C553264065            0.00            0.00        1               0  \n",
       "3        C38997010        21182.00            0.00        1               0  \n",
       "251     C972765878            0.00            0.00        1               0  \n",
       "252    C1007251739        26202.00            0.00        1               0  \n",
       "680    C1848415041            0.00            0.00        1               0  \n",
       "...            ...             ...             ...      ...             ...  \n",
       "47145   C582901057       894760.68      1794033.65        1               0  \n",
       "49825   C575638324            0.00       261290.69        1               0  \n",
       "49826  C1013511446          968.00      1842864.22        1               0  \n",
       "49885   C352239275            0.00       141302.12        1               0  \n",
       "49886  C1769042905       504667.31       189441.24        1               0  \n",
       "\n",
       "[100 rows x 11 columns]"
      ]
     },
     "execution_count": 10,
     "metadata": {},
     "output_type": "execute_result"
    }
   ],
   "source": [
    "df[df.isFraud == True]"
   ]
  },
  {
   "cell_type": "markdown",
   "id": "43df4406-c21d-46d2-897f-cfe787a17269",
   "metadata": {
    "tags": []
   },
   "source": [
    "#### **Target: isFraud**"
   ]
  },
  {
   "cell_type": "code",
   "execution_count": 11,
   "id": "d637973d-d861-4d8a-94aa-6007f1d22e66",
   "metadata": {},
   "outputs": [
    {
     "data": {
      "text/html": [
       "<div>\n",
       "<style scoped>\n",
       "    .dataframe tbody tr th:only-of-type {\n",
       "        vertical-align: middle;\n",
       "    }\n",
       "\n",
       "    .dataframe tbody tr th {\n",
       "        vertical-align: top;\n",
       "    }\n",
       "\n",
       "    .dataframe thead th {\n",
       "        text-align: right;\n",
       "    }\n",
       "</style>\n",
       "<table border=\"1\" class=\"dataframe\">\n",
       "  <thead>\n",
       "    <tr style=\"text-align: right;\">\n",
       "      <th></th>\n",
       "      <th>counts</th>\n",
       "      <th>freq</th>\n",
       "      <th>percentage</th>\n",
       "    </tr>\n",
       "  </thead>\n",
       "  <tbody>\n",
       "    <tr>\n",
       "      <th>0</th>\n",
       "      <td>49900</td>\n",
       "      <td>0.998</td>\n",
       "      <td>99.8%</td>\n",
       "    </tr>\n",
       "    <tr>\n",
       "      <th>1</th>\n",
       "      <td>100</td>\n",
       "      <td>0.002</td>\n",
       "      <td>0.2%</td>\n",
       "    </tr>\n",
       "  </tbody>\n",
       "</table>\n",
       "</div>"
      ],
      "text/plain": [
       "   counts   freq percentage\n",
       "0   49900  0.998      99.8%\n",
       "1     100  0.002       0.2%"
      ]
     },
     "execution_count": 11,
     "metadata": {},
     "output_type": "execute_result"
    }
   ],
   "source": [
    "col = df['isFraud']\n",
    "unique_counts = col.value_counts()\n",
    "relative_freq = col.value_counts(normalize=True)\n",
    "percentage = relative_freq.mul(100).round(1).astype(str) + '%'\n",
    "pd.DataFrame({'counts': unique_counts, 'freq': relative_freq, 'percentage': percentage})"
   ]
  },
  {
   "cell_type": "code",
   "execution_count": 12,
   "id": "28f8411f-dac3-4ac4-ab67-c772260e565c",
   "metadata": {},
   "outputs": [
    {
     "data": {
      "text/plain": [
       "<AxesSubplot:>"
      ]
     },
     "execution_count": 12,
     "metadata": {},
     "output_type": "execute_result"
    },
    {
     "data": {
      "image/png": "[encoded data removed]",
      "text/plain": [
       "<Figure size 792x792 with 2 Axes>"
      ]
     },
     "metadata": {
      "needs_background": "light"
     },
     "output_type": "display_data"
    }
   ],
   "source": [
    "corr_mat = df.corr()\n",
    "mask = np.triu(corr_mat, 1)\n",
    "plt.figure(figsize=(11,11))\n",
    "sns.heatmap(corr_mat, cmap='PiYG', annot=True, square=True, mask=mask)"
   ]
  },
  {
   "cell_type": "code",
   "execution_count": 13,
   "id": "5a3b9d7f-128f-4fd5-873d-a34b12d47b70",
   "metadata": {
    "tags": []
   },
   "outputs": [
    {
     "name": "stdout",
     "output_type": "stream",
     "text": [
      "<class 'pandas.core.frame.DataFrame'>\n",
      "RangeIndex: 50000 entries, 0 to 49999\n",
      "Data columns (total 11 columns):\n",
      " #   Column          Non-Null Count  Dtype  \n",
      "---  ------          --------------  -----  \n",
      " 0   step            50000 non-null  int64  \n",
      " 1   type            50000 non-null  object \n",
      " 2   amount          50000 non-null  float64\n",
      " 3   nameOrig        50000 non-null  object \n",
      " 4   oldbalanceOrg   50000 non-null  float64\n",
      " 5   newbalanceOrig  50000 non-null  float64\n",
      " 6   nameDest        50000 non-null  object \n",
      " 7   oldbalanceDest  50000 non-null  float64\n",
      " 8   newbalanceDest  50000 non-null  float64\n",
      " 9   isFraud         50000 non-null  int64  \n",
      " 10  isFlaggedFraud  50000 non-null  int64  \n",
      "dtypes: float64(5), int64(3), object(3)\n",
      "memory usage: 4.2+ MB\n"
     ]
    }
   ],
   "source": [
    "df.info()"
   ]
  },
  {
   "cell_type": "markdown",
   "id": "0ed6bf2e-16cb-4193-9337-6158f485d23f",
   "metadata": {},
   "source": [
    "#### **One Hot Encoding**"
   ]
  },
  {
   "cell_type": "code",
   "execution_count": 14,
   "id": "ad81852c-e06f-4876-a6f7-16d798d88231",
   "metadata": {},
   "outputs": [
    {
     "data": {
      "text/html": [
       "<div>\n",
       "<style scoped>\n",
       "    .dataframe tbody tr th:only-of-type {\n",
       "        vertical-align: middle;\n",
       "    }\n",
       "\n",
       "    .dataframe tbody tr th {\n",
       "        vertical-align: top;\n",
       "    }\n",
       "\n",
       "    .dataframe thead th {\n",
       "        text-align: right;\n",
       "    }\n",
       "</style>\n",
       "<table border=\"1\" class=\"dataframe\">\n",
       "  <thead>\n",
       "    <tr style=\"text-align: right;\">\n",
       "      <th></th>\n",
       "      <th>step</th>\n",
       "      <th>type</th>\n",
       "      <th>amount</th>\n",
       "      <th>nameOrig</th>\n",
       "      <th>oldbalanceOrg</th>\n",
       "      <th>newbalanceOrig</th>\n",
       "      <th>nameDest</th>\n",
       "      <th>oldbalanceDest</th>\n",
       "      <th>newbalanceDest</th>\n",
       "      <th>isFraud</th>\n",
       "      <th>isFlaggedFraud</th>\n",
       "    </tr>\n",
       "  </thead>\n",
       "  <tbody>\n",
       "    <tr>\n",
       "      <th>0</th>\n",
       "      <td>1</td>\n",
       "      <td>PAYMENT</td>\n",
       "      <td>9839.64</td>\n",
       "      <td>C1231006815</td>\n",
       "      <td>170136.00</td>\n",
       "      <td>160296.36</td>\n",
       "      <td>M1979787155</td>\n",
       "      <td>0.0</td>\n",
       "      <td>0.0</td>\n",
       "      <td>0</td>\n",
       "      <td>0</td>\n",
       "    </tr>\n",
       "    <tr>\n",
       "      <th>1</th>\n",
       "      <td>1</td>\n",
       "      <td>PAYMENT</td>\n",
       "      <td>1864.28</td>\n",
       "      <td>C1666544295</td>\n",
       "      <td>21249.00</td>\n",
       "      <td>19384.72</td>\n",
       "      <td>M2044282225</td>\n",
       "      <td>0.0</td>\n",
       "      <td>0.0</td>\n",
       "      <td>0</td>\n",
       "      <td>0</td>\n",
       "    </tr>\n",
       "    <tr>\n",
       "      <th>2</th>\n",
       "      <td>1</td>\n",
       "      <td>TRANSFER</td>\n",
       "      <td>181.00</td>\n",
       "      <td>C1305486145</td>\n",
       "      <td>181.00</td>\n",
       "      <td>0.00</td>\n",
       "      <td>C553264065</td>\n",
       "      <td>0.0</td>\n",
       "      <td>0.0</td>\n",
       "      <td>1</td>\n",
       "      <td>0</td>\n",
       "    </tr>\n",
       "    <tr>\n",
       "      <th>3</th>\n",
       "      <td>1</td>\n",
       "      <td>CASH_OUT</td>\n",
       "      <td>181.00</td>\n",
       "      <td>C840083671</td>\n",
       "      <td>181.00</td>\n",
       "      <td>0.00</td>\n",
       "      <td>C38997010</td>\n",
       "      <td>21182.0</td>\n",
       "      <td>0.0</td>\n",
       "      <td>1</td>\n",
       "      <td>0</td>\n",
       "    </tr>\n",
       "    <tr>\n",
       "      <th>4</th>\n",
       "      <td>1</td>\n",
       "      <td>PAYMENT</td>\n",
       "      <td>11668.14</td>\n",
       "      <td>C2048537720</td>\n",
       "      <td>41554.00</td>\n",
       "      <td>29885.86</td>\n",
       "      <td>M1230701703</td>\n",
       "      <td>0.0</td>\n",
       "      <td>0.0</td>\n",
       "      <td>0</td>\n",
       "      <td>0</td>\n",
       "    </tr>\n",
       "    <tr>\n",
       "      <th>...</th>\n",
       "      <td>...</td>\n",
       "      <td>...</td>\n",
       "      <td>...</td>\n",
       "      <td>...</td>\n",
       "      <td>...</td>\n",
       "      <td>...</td>\n",
       "      <td>...</td>\n",
       "      <td>...</td>\n",
       "      <td>...</td>\n",
       "      <td>...</td>\n",
       "      <td>...</td>\n",
       "    </tr>\n",
       "    <tr>\n",
       "      <th>49995</th>\n",
       "      <td>9</td>\n",
       "      <td>PAYMENT</td>\n",
       "      <td>1322.91</td>\n",
       "      <td>C1402545110</td>\n",
       "      <td>1208457.61</td>\n",
       "      <td>1207134.71</td>\n",
       "      <td>M578074960</td>\n",
       "      <td>0.0</td>\n",
       "      <td>0.0</td>\n",
       "      <td>0</td>\n",
       "      <td>0</td>\n",
       "    </tr>\n",
       "    <tr>\n",
       "      <th>49996</th>\n",
       "      <td>9</td>\n",
       "      <td>PAYMENT</td>\n",
       "      <td>6900.48</td>\n",
       "      <td>C517372485</td>\n",
       "      <td>1207134.71</td>\n",
       "      <td>1200234.22</td>\n",
       "      <td>M1854114037</td>\n",
       "      <td>0.0</td>\n",
       "      <td>0.0</td>\n",
       "      <td>0</td>\n",
       "      <td>0</td>\n",
       "    </tr>\n",
       "    <tr>\n",
       "      <th>49997</th>\n",
       "      <td>9</td>\n",
       "      <td>PAYMENT</td>\n",
       "      <td>17399.12</td>\n",
       "      <td>C1948160352</td>\n",
       "      <td>1200234.22</td>\n",
       "      <td>1182835.10</td>\n",
       "      <td>M1940330634</td>\n",
       "      <td>0.0</td>\n",
       "      <td>0.0</td>\n",
       "      <td>0</td>\n",
       "      <td>0</td>\n",
       "    </tr>\n",
       "    <tr>\n",
       "      <th>49998</th>\n",
       "      <td>9</td>\n",
       "      <td>PAYMENT</td>\n",
       "      <td>5485.20</td>\n",
       "      <td>C1586381033</td>\n",
       "      <td>1182835.10</td>\n",
       "      <td>1177349.90</td>\n",
       "      <td>M741912557</td>\n",
       "      <td>0.0</td>\n",
       "      <td>0.0</td>\n",
       "      <td>0</td>\n",
       "      <td>0</td>\n",
       "    </tr>\n",
       "    <tr>\n",
       "      <th>49999</th>\n",
       "      <td>9</td>\n",
       "      <td>PAYMENT</td>\n",
       "      <td>629.44</td>\n",
       "      <td>C741191323</td>\n",
       "      <td>1177349.90</td>\n",
       "      <td>1176720.46</td>\n",
       "      <td>M1728418012</td>\n",
       "      <td>0.0</td>\n",
       "      <td>0.0</td>\n",
       "      <td>0</td>\n",
       "      <td>0</td>\n",
       "    </tr>\n",
       "  </tbody>\n",
       "</table>\n",
       "<p>50000 rows × 11 columns</p>\n",
       "</div>"
      ],
      "text/plain": [
       "       step      type    amount     nameOrig  oldbalanceOrg  newbalanceOrig  \\\n",
       "0         1   PAYMENT   9839.64  C1231006815      170136.00       160296.36   \n",
       "1         1   PAYMENT   1864.28  C1666544295       21249.00        19384.72   \n",
       "2         1  TRANSFER    181.00  C1305486145         181.00            0.00   \n",
       "3         1  CASH_OUT    181.00   C840083671         181.00            0.00   \n",
       "4         1   PAYMENT  11668.14  C2048537720       41554.00        29885.86   \n",
       "...     ...       ...       ...          ...            ...             ...   \n",
       "49995     9   PAYMENT   1322.91  C1402545110     1208457.61      1207134.71   \n",
       "49996     9   PAYMENT   6900.48   C517372485     1207134.71      1200234.22   \n",
       "49997     9   PAYMENT  17399.12  C1948160352     1200234.22      1182835.10   \n",
       "49998     9   PAYMENT   5485.20  C1586381033     1182835.10      1177349.90   \n",
       "49999     9   PAYMENT    629.44   C741191323     1177349.90      1176720.46   \n",
       "\n",
       "          nameDest  oldbalanceDest  newbalanceDest  isFraud  isFlaggedFraud  \n",
       "0      M1979787155             0.0             0.0        0               0  \n",
       "1      M2044282225             0.0             0.0        0               0  \n",
       "2       C553264065             0.0             0.0        1               0  \n",
       "3        C38997010         21182.0             0.0        1               0  \n",
       "4      M1230701703             0.0             0.0        0               0  \n",
       "...            ...             ...             ...      ...             ...  \n",
       "49995   M578074960             0.0             0.0        0               0  \n",
       "49996  M1854114037             0.0             0.0        0               0  \n",
       "49997  M1940330634             0.0             0.0        0               0  \n",
       "49998   M741912557             0.0             0.0        0               0  \n",
       "49999  M1728418012             0.0             0.0        0               0  \n",
       "\n",
       "[50000 rows x 11 columns]"
      ]
     },
     "execution_count": 14,
     "metadata": {},
     "output_type": "execute_result"
    }
   ],
   "source": [
    "type_df = pd.get_dummies(df.type, prefix='type')\n",
    "# type_df['target'] = df['not.fully.paid']\n",
    "# df = pd.concat([df, type_df], axis=1)\n",
    "df"
   ]
  },
  {
   "cell_type": "markdown",
   "id": "54ea9585-0e26-491b-9e65-bdf94629dec8",
   "metadata": {},
   "source": [
    "#### **Train Test Split**"
   ]
  },
  {
   "cell_type": "code",
   "execution_count": 15,
   "id": "1255df85-4429-4472-9d6e-55b465b06891",
   "metadata": {},
   "outputs": [],
   "source": [
    "X = df.drop(['step', 'type', 'nameOrig', 'nameDest', 'isFlaggedFraud', 'isFraud'], axis=1)\n",
    "y = df.isFraud\n",
    "\n",
    "X_train, X_test, y_train, y_test = train_test_split(\n",
    "    X, y, test_size=0.30, random_state=42\n",
    ")"
   ]
  },
  {
   "cell_type": "markdown",
   "id": "970850ff-b54e-4665-9e5d-5d0117c843fc",
   "metadata": {},
   "source": [
    "#### **Model Building (After EDA and Feature Selection)**"
   ]
  },
  {
   "cell_type": "code",
   "execution_count": 33,
   "id": "53ac9ca6-4222-4163-b6f4-f25fbcbe0a3c",
   "metadata": {},
   "outputs": [],
   "source": [
    "from sklearn import preprocessing\n",
    "\n",
    "# ML Classifier Objects\n",
    "log_reg_clf = LogisticRegression(solver='liblinear', max_iter=1000)\n",
    "nb_clf = GaussianNB()\n",
    "knn_clf = KNeighborsClassifier()\n",
    "prcptrn_clf = Perceptron()\n",
    "dt_clf=DecisionTreeClassifier()\n",
    "\n",
    "# ML Classifier Dictionary\n",
    "clf_dict = {\n",
    "    'Logistic Regression': log_reg_clf, \n",
    "    'Naive Bayes': nb_clf,\n",
    "    'KNN': knn_clf,\n",
    "    'Perceptron': prcptrn_clf,\n",
    "    'Decision Tree': dt_clf\n",
    "}\n",
    "\n",
    "\n",
    "def get_model_performances(X_train, y_train):\n",
    "    log_reg_clf = LogisticRegression(solver='liblinear', max_iter=1000)\n",
    "    nb_clf = GaussianNB()\n",
    "    knn_clf = KNeighborsClassifier()\n",
    "    prcptrn_clf = Perceptron()\n",
    "    dt_clf=DecisionTreeClassifier()\n",
    "\n",
    "    clf_dict = {\n",
    "        'Logistic Regression': log_reg_clf, \n",
    "        'Naive Bayes': nb_clf,\n",
    "        'KNN': knn_clf,\n",
    "        'Perceptron': prcptrn_clf,\n",
    "        'Decision Tree': dt_clf\n",
    "    }\n",
    "\n",
    "    model_acc = []\n",
    "    for model in clf_dict.keys():\n",
    "        y_pred = clf_dict[model].fit(X_train, y_train).predict(X_test)\n",
    "        test_accuracy = metrics.accuracy_score(y_test, y_pred) * 100\n",
    "        test_precision = metrics.precision_score(y_test, y_pred) * 100\n",
    "        test_recall = metrics.recall_score(y_test, y_pred) * 100\n",
    "\n",
    "        model_acc.append({\n",
    "            'model': model, \n",
    "            'test_accuracy': test_accuracy, \n",
    "            'test_precision': test_precision,\n",
    "            'test_recall': test_recall,\n",
    "        })\n",
    "        print(model)\n",
    "        print(confusion_matrix(y_test, y_pred))\n",
    "\n",
    "    return pd.DataFrame(model_acc).sort_values(by='test_accuracy', ascending=False)"
   ]
  },
  {
   "cell_type": "code",
   "execution_count": 34,
   "id": "622dddde-9b13-4eb7-ad51-ff881747205a",
   "metadata": {},
   "outputs": [
    {
     "name": "stdout",
     "output_type": "stream",
     "text": [
      "Logistic Regression\n",
      "[[14926    43]\n",
      " [    4    27]]\n",
      "Naive Bayes\n",
      "[[14730   239]\n",
      " [   31     0]]\n",
      "KNN\n",
      "[[14967     2]\n",
      " [   31     0]]\n",
      "Perceptron\n",
      "[[14593   376]\n",
      " [   14    17]]\n",
      "Decision Tree\n",
      "[[14959    10]\n",
      " [   17    14]]\n"
     ]
    },
    {
     "data": {
      "text/html": [
       "<div>\n",
       "<style scoped>\n",
       "    .dataframe tbody tr th:only-of-type {\n",
       "        vertical-align: middle;\n",
       "    }\n",
       "\n",
       "    .dataframe tbody tr th {\n",
       "        vertical-align: top;\n",
       "    }\n",
       "\n",
       "    .dataframe thead th {\n",
       "        text-align: right;\n",
       "    }\n",
       "</style>\n",
       "<table border=\"1\" class=\"dataframe\">\n",
       "  <thead>\n",
       "    <tr style=\"text-align: right;\">\n",
       "      <th></th>\n",
       "      <th>model</th>\n",
       "      <th>test_accuracy</th>\n",
       "      <th>test_precision</th>\n",
       "      <th>test_recall</th>\n",
       "    </tr>\n",
       "  </thead>\n",
       "  <tbody>\n",
       "    <tr>\n",
       "      <th>4</th>\n",
       "      <td>Decision Tree</td>\n",
       "      <td>99.820000</td>\n",
       "      <td>58.333333</td>\n",
       "      <td>45.161290</td>\n",
       "    </tr>\n",
       "    <tr>\n",
       "      <th>2</th>\n",
       "      <td>KNN</td>\n",
       "      <td>99.780000</td>\n",
       "      <td>0.000000</td>\n",
       "      <td>0.000000</td>\n",
       "    </tr>\n",
       "    <tr>\n",
       "      <th>0</th>\n",
       "      <td>Logistic Regression</td>\n",
       "      <td>99.686667</td>\n",
       "      <td>38.571429</td>\n",
       "      <td>87.096774</td>\n",
       "    </tr>\n",
       "    <tr>\n",
       "      <th>1</th>\n",
       "      <td>Naive Bayes</td>\n",
       "      <td>98.200000</td>\n",
       "      <td>0.000000</td>\n",
       "      <td>0.000000</td>\n",
       "    </tr>\n",
       "    <tr>\n",
       "      <th>3</th>\n",
       "      <td>Perceptron</td>\n",
       "      <td>97.400000</td>\n",
       "      <td>4.325700</td>\n",
       "      <td>54.838710</td>\n",
       "    </tr>\n",
       "  </tbody>\n",
       "</table>\n",
       "</div>"
      ],
      "text/plain": [
       "                 model  test_accuracy  test_precision  test_recall\n",
       "4        Decision Tree      99.820000       58.333333    45.161290\n",
       "2                  KNN      99.780000        0.000000     0.000000\n",
       "0  Logistic Regression      99.686667       38.571429    87.096774\n",
       "1          Naive Bayes      98.200000        0.000000     0.000000\n",
       "3           Perceptron      97.400000        4.325700    54.838710"
      ]
     },
     "execution_count": 34,
     "metadata": {},
     "output_type": "execute_result"
    }
   ],
   "source": [
    "get_model_performances(X_train, y_train)"
   ]
  },
  {
   "cell_type": "markdown",
   "id": "d16fed93-7e8c-403d-b755-c370158f82cb",
   "metadata": {},
   "source": [
    "#### **Balancing Data**"
   ]
  },
  {
   "cell_type": "markdown",
   "id": "03005aba-50a5-43c3-bd63-7772d592666f",
   "metadata": {},
   "source": [
    "https://developers.google.com/machine-learning/data-prep/construct/sampling-splitting/imbalanced-data"
   ]
  },
  {
   "cell_type": "code",
   "execution_count": 35,
   "id": "0ce9bcc5-a727-4dcc-b439-8af58dbbb3cb",
   "metadata": {},
   "outputs": [
    {
     "data": {
      "text/plain": [
       "0    34931\n",
       "1       69\n",
       "Name: isFraud, dtype: int64"
      ]
     },
     "execution_count": 35,
     "metadata": {},
     "output_type": "execute_result"
    }
   ],
   "source": [
    "Xy_train = pd.concat([X_train, y_train], axis=1)\n",
    "Xy_train['isFraud'].value_counts()"
   ]
  },
  {
   "cell_type": "code",
   "execution_count": 36,
   "id": "e8d170ab-d232-46e2-93a4-9f7c23f5616f",
   "metadata": {},
   "outputs": [
    {
     "data": {
      "text/plain": [
       "0    34931\n",
       "1    34931\n",
       "Name: isFraud, dtype: int64"
      ]
     },
     "execution_count": 36,
     "metadata": {},
     "output_type": "execute_result"
    }
   ],
   "source": [
    "from sklearn.utils import resample\n",
    "\n",
    "majority = Xy_train[Xy_train['isFraud'] == 0]\n",
    "minority = Xy_train[Xy_train['isFraud'] == 1]\n",
    "\n",
    "minority_upsampled = resample(\n",
    "    minority,\n",
    "    replace = True,\n",
    "    n_samples = len(majority),\n",
    "    random_state = 42\n",
    ")\n",
    "Xy_train_balanced = pd.concat([majority, minority_upsampled], ignore_index=True)\n",
    "Xy_train_balanced['isFraud'].value_counts()"
   ]
  },
  {
   "cell_type": "code",
   "execution_count": 37,
   "id": "ca4cb4d1-078e-41be-af93-83110dc2cc71",
   "metadata": {},
   "outputs": [],
   "source": [
    "X_train_balanced = Xy_train_balanced.drop('isFraud', axis=1)\n",
    "y_train_balanced = Xy_train_balanced['isFraud']"
   ]
  },
  {
   "cell_type": "code",
   "execution_count": 38,
   "id": "5270f75f-9be4-4424-b7c7-4c5f38c9d83a",
   "metadata": {},
   "outputs": [
    {
     "name": "stdout",
     "output_type": "stream",
     "text": [
      "Logistic Regression\n",
      "[[13580  1389]\n",
      " [    3    28]]\n",
      "Naive Bayes\n",
      "[[ 3375 11594]\n",
      " [    1    30]]\n",
      "KNN\n",
      "[[14897    72]\n",
      " [   18    13]]\n",
      "Perceptron\n",
      "[[14113   856]\n",
      " [    5    26]]\n",
      "Decision Tree\n",
      "[[14957    12]\n",
      " [   16    15]]\n"
     ]
    },
    {
     "data": {
      "text/html": [
       "<div>\n",
       "<style scoped>\n",
       "    .dataframe tbody tr th:only-of-type {\n",
       "        vertical-align: middle;\n",
       "    }\n",
       "\n",
       "    .dataframe tbody tr th {\n",
       "        vertical-align: top;\n",
       "    }\n",
       "\n",
       "    .dataframe thead th {\n",
       "        text-align: right;\n",
       "    }\n",
       "</style>\n",
       "<table border=\"1\" class=\"dataframe\">\n",
       "  <thead>\n",
       "    <tr style=\"text-align: right;\">\n",
       "      <th></th>\n",
       "      <th>model</th>\n",
       "      <th>test_accuracy</th>\n",
       "      <th>test_precision</th>\n",
       "      <th>test_recall</th>\n",
       "    </tr>\n",
       "  </thead>\n",
       "  <tbody>\n",
       "    <tr>\n",
       "      <th>4</th>\n",
       "      <td>Decision Tree</td>\n",
       "      <td>99.813333</td>\n",
       "      <td>55.555556</td>\n",
       "      <td>48.387097</td>\n",
       "    </tr>\n",
       "    <tr>\n",
       "      <th>2</th>\n",
       "      <td>KNN</td>\n",
       "      <td>99.400000</td>\n",
       "      <td>15.294118</td>\n",
       "      <td>41.935484</td>\n",
       "    </tr>\n",
       "    <tr>\n",
       "      <th>3</th>\n",
       "      <td>Perceptron</td>\n",
       "      <td>94.260000</td>\n",
       "      <td>2.947846</td>\n",
       "      <td>83.870968</td>\n",
       "    </tr>\n",
       "    <tr>\n",
       "      <th>0</th>\n",
       "      <td>Logistic Regression</td>\n",
       "      <td>90.720000</td>\n",
       "      <td>1.976006</td>\n",
       "      <td>90.322581</td>\n",
       "    </tr>\n",
       "    <tr>\n",
       "      <th>1</th>\n",
       "      <td>Naive Bayes</td>\n",
       "      <td>22.700000</td>\n",
       "      <td>0.258087</td>\n",
       "      <td>96.774194</td>\n",
       "    </tr>\n",
       "  </tbody>\n",
       "</table>\n",
       "</div>"
      ],
      "text/plain": [
       "                 model  test_accuracy  test_precision  test_recall\n",
       "4        Decision Tree      99.813333       55.555556    48.387097\n",
       "2                  KNN      99.400000       15.294118    41.935484\n",
       "3           Perceptron      94.260000        2.947846    83.870968\n",
       "0  Logistic Regression      90.720000        1.976006    90.322581\n",
       "1          Naive Bayes      22.700000        0.258087    96.774194"
      ]
     },
     "execution_count": 38,
     "metadata": {},
     "output_type": "execute_result"
    }
   ],
   "source": [
    "get_model_performances(X_train_balanced, y_train_balanced)"
   ]
  },
  {
   "cell_type": "code",
   "execution_count": null,
   "id": "b1b3db35-92b0-477c-b419-fb1c74cc23f2",
   "metadata": {},
   "outputs": [],
   "source": [
    "from sklearn import preprocessing\n",
    "\n",
    "log_reg_clf = LogisticRegression(solver='liblinear', max_iter=1000)\n",
    "nb_clf = GaussianNB()\n",
    "knn_clf = KNeighborsClassifier()\n",
    "prcptrn_clf = Perceptron()\n",
    "dt_clf=DecisionTreeClassifier()\n",
    "\n",
    "clf_dict = {\n",
    "    'Logistic Regression': log_reg_clf, \n",
    "    'Naive Bayes': nb_clf,\n",
    "    'KNN': knn_clf,\n",
    "    'Perceptron': prcptrn_clf,\n",
    "    'Decision Tree': dt_clf\n",
    "}\n",
    "\n",
    "model_acc = []\n",
    "for model in clf_dict.keys():\n",
    "    cv_accuracy = cross_val_score(clf_dict[model], X_train_balanced, y_train_balanced).mean() * 100\n",
    "    cv_precision = cross_val_score(clf_dict[model], X_train_balanced, y_train_balanced, scoring='precision').mean()*100\n",
    "    cv_recall = cross_val_score(clf_dict[model], X_train_balanced, y_train_balanced, scoring='recall').mean()*100\n",
    "    \n",
    "    \n",
    "    y_pred = clf_dict[model].fit(X_train_balanced, y_train_balanced).predict(X_test)\n",
    "    test_accuracy = metrics.accuracy_score(y_test, y_pred) * 100\n",
    "    test_precision = metrics.precision_score(y_test, y_pred) * 100\n",
    "    test_recall = metrics.recall_score(y_test, y_pred) * 100\n",
    "    \n",
    "    model_acc.append({\n",
    "        'model': model, \n",
    "        'test_accuracy': test_accuracy, \n",
    "        'test_precision': test_precision,\n",
    "        'test_recall': test_recall,\n",
    "        'cv_accuracy': cv_accuracy, \n",
    "        'cv_precision': cv_precision, \n",
    "        'cv_recall': cv_recall\n",
    "    })\n",
    "model_acc_df_v2 = pd.DataFrame(model_acc).sort_values(by='test_accuracy', ascending=False)\n",
    "model_acc_df_v2"
   ]
  },
  {
   "cell_type": "markdown",
   "id": "b6edc9bb-b7fc-48b1-ba53-320e8fc7dcca",
   "metadata": {},
   "source": [
    "#### **Standardizing the Data**"
   ]
  },
  {
   "cell_type": "code",
   "execution_count": 23,
   "id": "1c946ad7-df0c-4d3e-85f4-3e4a452a130a",
   "metadata": {},
   "outputs": [],
   "source": [
    "scaler = StandardScaler()\n",
    "\n",
    "X_train_scaled = scaler.fit_transform(X_train_balanced)\n",
    "X_test_scaled = scaler.fit_transform(X_test)"
   ]
  },
  {
   "cell_type": "code",
   "execution_count": 24,
   "id": "3eb6c2a4-ccfa-4c63-a2dd-2966f365c724",
   "metadata": {},
   "outputs": [
    {
     "data": {
      "text/html": [
       "<div>\n",
       "<style scoped>\n",
       "    .dataframe tbody tr th:only-of-type {\n",
       "        vertical-align: middle;\n",
       "    }\n",
       "\n",
       "    .dataframe tbody tr th {\n",
       "        vertical-align: top;\n",
       "    }\n",
       "\n",
       "    .dataframe thead th {\n",
       "        text-align: right;\n",
       "    }\n",
       "</style>\n",
       "<table border=\"1\" class=\"dataframe\">\n",
       "  <thead>\n",
       "    <tr style=\"text-align: right;\">\n",
       "      <th></th>\n",
       "      <th>model</th>\n",
       "      <th>accuracy</th>\n",
       "      <th>precision</th>\n",
       "      <th>recall</th>\n",
       "    </tr>\n",
       "  </thead>\n",
       "  <tbody>\n",
       "    <tr>\n",
       "      <th>4</th>\n",
       "      <td>Decision Tree</td>\n",
       "      <td>99.948470</td>\n",
       "      <td>99.882782</td>\n",
       "      <td>100.000000</td>\n",
       "    </tr>\n",
       "    <tr>\n",
       "      <th>2</th>\n",
       "      <td>KNN</td>\n",
       "      <td>99.798173</td>\n",
       "      <td>99.597986</td>\n",
       "      <td>100.000000</td>\n",
       "    </tr>\n",
       "    <tr>\n",
       "      <th>0</th>\n",
       "      <td>Logistic Regression</td>\n",
       "      <td>85.061975</td>\n",
       "      <td>80.064214</td>\n",
       "      <td>93.389838</td>\n",
       "    </tr>\n",
       "    <tr>\n",
       "      <th>3</th>\n",
       "      <td>Perceptron</td>\n",
       "      <td>81.072852</td>\n",
       "      <td>87.503101</td>\n",
       "      <td>77.294677</td>\n",
       "    </tr>\n",
       "    <tr>\n",
       "      <th>1</th>\n",
       "      <td>Naive Bayes</td>\n",
       "      <td>60.474931</td>\n",
       "      <td>55.939803</td>\n",
       "      <td>98.660207</td>\n",
       "    </tr>\n",
       "  </tbody>\n",
       "</table>\n",
       "</div>"
      ],
      "text/plain": [
       "                 model   accuracy  precision      recall\n",
       "4        Decision Tree  99.948470  99.882782  100.000000\n",
       "2                  KNN  99.798173  99.597986  100.000000\n",
       "0  Logistic Regression  85.061975  80.064214   93.389838\n",
       "3           Perceptron  81.072852  87.503101   77.294677\n",
       "1          Naive Bayes  60.474931  55.939803   98.660207"
      ]
     },
     "execution_count": 24,
     "metadata": {},
     "output_type": "execute_result"
    }
   ],
   "source": [
    "from sklearn import preprocessing\n",
    "\n",
    "log_reg_clf = LogisticRegression(solver='liblinear', max_iter=1000)\n",
    "nb_clf = GaussianNB()\n",
    "knn_clf = KNeighborsClassifier()\n",
    "prcptrn_clf = Perceptron()\n",
    "dt_clf=DecisionTreeClassifier()\n",
    "\n",
    "clf_dict = {\n",
    "    'Logistic Regression': log_reg_clf, \n",
    "    'Naive Bayes': nb_clf,\n",
    "    'KNN': knn_clf,\n",
    "    'Perceptron': prcptrn_clf,\n",
    "    'Decision Tree': dt_clf\n",
    "}\n",
    "\n",
    "model_acc = []\n",
    "for model in clf_dict.keys():\n",
    "    accuracy = cross_val_score(clf_dict[model], X_train_scaled, y_train_balanced).mean() * 100\n",
    "    precision = cross_val_score(clf_dict[model], X_train_scaled, y_train_balanced, scoring='precision').mean()*100\n",
    "    recall = cross_val_score(clf_dict[model], X_train_scaled, y_train_balanced, scoring='recall').mean()*100\n",
    "    \n",
    "    model_acc.append({'model': model, 'accuracy': accuracy, 'precision': precision, 'recall': recall})\n",
    "model_acc_df = pd.DataFrame(model_acc).sort_values(by='accuracy', ascending=False)\n",
    "model_acc_df"
   ]
  },
  {
   "cell_type": "code",
   "execution_count": 25,
   "id": "962a7922-8a3f-4d35-a10e-ebf5034ca36f",
   "metadata": {},
   "outputs": [
    {
     "name": "stderr",
     "output_type": "stream",
     "text": [
      "/home/jv/anaconda3/lib/python3.9/site-packages/sklearn/base.py:443: UserWarning: X has feature names, but LogisticRegression was fitted without feature names\n",
      "  warnings.warn(\n",
      "/home/jv/anaconda3/lib/python3.9/site-packages/sklearn/base.py:443: UserWarning: X has feature names, but GaussianNB was fitted without feature names\n",
      "  warnings.warn(\n",
      "/home/jv/anaconda3/lib/python3.9/site-packages/sklearn/base.py:443: UserWarning: X has feature names, but KNeighborsClassifier was fitted without feature names\n",
      "  warnings.warn(\n",
      "/home/jv/anaconda3/lib/python3.9/site-packages/sklearn/base.py:443: UserWarning: X has feature names, but Perceptron was fitted without feature names\n",
      "  warnings.warn(\n",
      "/home/jv/anaconda3/lib/python3.9/site-packages/sklearn/base.py:443: UserWarning: X has feature names, but DecisionTreeClassifier was fitted without feature names\n",
      "  warnings.warn(\n"
     ]
    },
    {
     "data": {
      "text/html": [
       "<div>\n",
       "<style scoped>\n",
       "    .dataframe tbody tr th:only-of-type {\n",
       "        vertical-align: middle;\n",
       "    }\n",
       "\n",
       "    .dataframe tbody tr th {\n",
       "        vertical-align: top;\n",
       "    }\n",
       "\n",
       "    .dataframe thead th {\n",
       "        text-align: right;\n",
       "    }\n",
       "</style>\n",
       "<table border=\"1\" class=\"dataframe\">\n",
       "  <thead>\n",
       "    <tr style=\"text-align: right;\">\n",
       "      <th></th>\n",
       "      <th>model</th>\n",
       "      <th>test_accuracy</th>\n",
       "      <th>test_precision</th>\n",
       "      <th>test_recall</th>\n",
       "    </tr>\n",
       "  </thead>\n",
       "  <tbody>\n",
       "    <tr>\n",
       "      <th>3</th>\n",
       "      <td>Perceptron</td>\n",
       "      <td>91.420000</td>\n",
       "      <td>2.134146</td>\n",
       "      <td>90.322581</td>\n",
       "    </tr>\n",
       "    <tr>\n",
       "      <th>0</th>\n",
       "      <td>Logistic Regression</td>\n",
       "      <td>88.886667</td>\n",
       "      <td>1.654846</td>\n",
       "      <td>90.322581</td>\n",
       "    </tr>\n",
       "    <tr>\n",
       "      <th>2</th>\n",
       "      <td>KNN</td>\n",
       "      <td>80.433333</td>\n",
       "      <td>0.511247</td>\n",
       "      <td>48.387097</td>\n",
       "    </tr>\n",
       "    <tr>\n",
       "      <th>1</th>\n",
       "      <td>Naive Bayes</td>\n",
       "      <td>61.066667</td>\n",
       "      <td>0.460515</td>\n",
       "      <td>87.096774</td>\n",
       "    </tr>\n",
       "    <tr>\n",
       "      <th>4</th>\n",
       "      <td>Decision Tree</td>\n",
       "      <td>0.206667</td>\n",
       "      <td>0.206667</td>\n",
       "      <td>100.000000</td>\n",
       "    </tr>\n",
       "  </tbody>\n",
       "</table>\n",
       "</div>"
      ],
      "text/plain": [
       "                 model  test_accuracy  test_precision  test_recall\n",
       "3           Perceptron      91.420000        2.134146    90.322581\n",
       "0  Logistic Regression      88.886667        1.654846    90.322581\n",
       "2                  KNN      80.433333        0.511247    48.387097\n",
       "1          Naive Bayes      61.066667        0.460515    87.096774\n",
       "4        Decision Tree       0.206667        0.206667   100.000000"
      ]
     },
     "execution_count": 25,
     "metadata": {},
     "output_type": "execute_result"
    }
   ],
   "source": [
    "get_model_performances(X_train_scaled, y_train_balanced)"
   ]
  },
  {
   "cell_type": "code",
   "execution_count": null,
   "id": "fe68202d-7446-4b0f-9e78-05f4c77d7033",
   "metadata": {},
   "outputs": [],
   "source": []
  }
 ],
 "metadata": {
  "kernelspec": {
   "display_name": "Python 3 (ipykernel)",
   "language": "python",
   "name": "python3"
  },
  "language_info": {
   "codemirror_mode": {
    "name": "ipython",
    "version": 3
   },
   "file_extension": ".py",
   "mimetype": "text/x-python",
   "name": "python",
   "nbconvert_exporter": "python",
   "pygments_lexer": "ipython3",
   "version": "3.9.7"
  }
 },
 "nbformat": 4,
 "nbformat_minor": 5
}
