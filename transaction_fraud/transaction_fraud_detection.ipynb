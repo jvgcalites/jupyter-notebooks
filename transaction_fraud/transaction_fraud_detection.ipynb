{
 "cells": [
  {
   "cell_type": "markdown",
   "id": "c1d6a7a8-4b35-437e-ab8e-71aa858428c2",
   "metadata": {},
   "source": [
    "<img src=\"https://c9k9c9v3.stackpathcdn.com/wp-content/uploads/2018/04/PH-mobile-payment-providers-go-into-acceleration-mode-1440x564_c.jpg?x82653\">"
   ]
  },
  {
   "cell_type": "markdown",
   "id": "c6b1f920-718e-4990-bc2e-392763f37acc",
   "metadata": {
    "tags": []
   },
   "source": [
    "### Context\n",
    "\n",
    "There is a lack of public available datasets on financial services and specially in the emerging mobile money transactions domain. Financial datasets are important to many researchers and in particular to us performing research in the domain of fraud detection. Part of the problem is the intrinsically private nature of financial transactions, that leads to no publicly available datasets.\n",
    "\n",
    "We present a synthetic dataset generated using the simulator called PaySim as an approach to such a problem. PaySim uses aggregated data from the private dataset to generate a synthetic dataset that resembles the normal operation of transactions and injects malicious behaviour to later evaluate the performance of fraud detection methods."
   ]
  },
  {
   "cell_type": "markdown",
   "id": "2eae10e5-14ea-4322-9dd5-35717dc5adbd",
   "metadata": {},
   "source": [
    "### Objective\n",
    "\n",
    "1. To gain knowledge how fraud transactions are classified\n",
    "2. To try different techniques to improve model\n",
    "\n"
   ]
  },
  {
   "cell_type": "code",
   "execution_count": 1,
   "id": "d543f24b-6f9d-4646-8d6d-609483cc4ccb",
   "metadata": {},
   "outputs": [],
   "source": [
    "import pandas as pd\n",
    "import numpy as np\n",
    "import matplotlib.pylab as plt\n",
    "import seaborn as sns\n",
    "%matplotlib inline\n",
    "\n",
    "from sklearn.linear_model import LogisticRegression\n",
    "from sklearn.naive_bayes import GaussianNB\n",
    "from sklearn.svm import SVC\n",
    "from sklearn.svm import LinearSVC\n",
    "from sklearn.neighbors import KNeighborsClassifier\n",
    "from sklearn.linear_model import Perceptron\n",
    "from sklearn.tree import DecisionTreeClassifier\n",
    "\n",
    "from sklearn import metrics\n",
    "from sklearn.model_selection import train_test_split\n",
    "from sklearn.model_selection import cross_val_score\n",
    "from sklearn.metrics import classification_report, confusion_matrix\n",
    "from sklearn.preprocessing import MinMaxScaler, StandardScaler"
   ]
  },
  {
   "cell_type": "code",
   "execution_count": 2,
   "id": "dc606519-daad-40d7-b0ef-5df099ab6d48",
   "metadata": {},
   "outputs": [
    {
     "data": {
      "text/html": [
       "<div>\n",
       "<style scoped>\n",
       "    .dataframe tbody tr th:only-of-type {\n",
       "        vertical-align: middle;\n",
       "    }\n",
       "\n",
       "    .dataframe tbody tr th {\n",
       "        vertical-align: top;\n",
       "    }\n",
       "\n",
       "    .dataframe thead th {\n",
       "        text-align: right;\n",
       "    }\n",
       "</style>\n",
       "<table border=\"1\" class=\"dataframe\">\n",
       "  <thead>\n",
       "    <tr style=\"text-align: right;\">\n",
       "      <th></th>\n",
       "      <th>step</th>\n",
       "      <th>type</th>\n",
       "      <th>amount</th>\n",
       "      <th>nameOrig</th>\n",
       "      <th>oldbalanceOrg</th>\n",
       "      <th>newbalanceOrig</th>\n",
       "      <th>nameDest</th>\n",
       "      <th>oldbalanceDest</th>\n",
       "      <th>newbalanceDest</th>\n",
       "      <th>isFraud</th>\n",
       "      <th>isFlaggedFraud</th>\n",
       "    </tr>\n",
       "  </thead>\n",
       "  <tbody>\n",
       "    <tr>\n",
       "      <th>0</th>\n",
       "      <td>1</td>\n",
       "      <td>PAYMENT</td>\n",
       "      <td>9839.64</td>\n",
       "      <td>C1231006815</td>\n",
       "      <td>170136.00</td>\n",
       "      <td>160296.36</td>\n",
       "      <td>M1979787155</td>\n",
       "      <td>0.00</td>\n",
       "      <td>0.00</td>\n",
       "      <td>0</td>\n",
       "      <td>0</td>\n",
       "    </tr>\n",
       "    <tr>\n",
       "      <th>1</th>\n",
       "      <td>1</td>\n",
       "      <td>PAYMENT</td>\n",
       "      <td>1864.28</td>\n",
       "      <td>C1666544295</td>\n",
       "      <td>21249.00</td>\n",
       "      <td>19384.72</td>\n",
       "      <td>M2044282225</td>\n",
       "      <td>0.00</td>\n",
       "      <td>0.00</td>\n",
       "      <td>0</td>\n",
       "      <td>0</td>\n",
       "    </tr>\n",
       "    <tr>\n",
       "      <th>2</th>\n",
       "      <td>1</td>\n",
       "      <td>TRANSFER</td>\n",
       "      <td>181.00</td>\n",
       "      <td>C1305486145</td>\n",
       "      <td>181.00</td>\n",
       "      <td>0.00</td>\n",
       "      <td>C553264065</td>\n",
       "      <td>0.00</td>\n",
       "      <td>0.00</td>\n",
       "      <td>1</td>\n",
       "      <td>0</td>\n",
       "    </tr>\n",
       "    <tr>\n",
       "      <th>3</th>\n",
       "      <td>1</td>\n",
       "      <td>CASH_OUT</td>\n",
       "      <td>181.00</td>\n",
       "      <td>C840083671</td>\n",
       "      <td>181.00</td>\n",
       "      <td>0.00</td>\n",
       "      <td>C38997010</td>\n",
       "      <td>21182.00</td>\n",
       "      <td>0.00</td>\n",
       "      <td>1</td>\n",
       "      <td>0</td>\n",
       "    </tr>\n",
       "    <tr>\n",
       "      <th>4</th>\n",
       "      <td>1</td>\n",
       "      <td>PAYMENT</td>\n",
       "      <td>11668.14</td>\n",
       "      <td>C2048537720</td>\n",
       "      <td>41554.00</td>\n",
       "      <td>29885.86</td>\n",
       "      <td>M1230701703</td>\n",
       "      <td>0.00</td>\n",
       "      <td>0.00</td>\n",
       "      <td>0</td>\n",
       "      <td>0</td>\n",
       "    </tr>\n",
       "    <tr>\n",
       "      <th>...</th>\n",
       "      <td>...</td>\n",
       "      <td>...</td>\n",
       "      <td>...</td>\n",
       "      <td>...</td>\n",
       "      <td>...</td>\n",
       "      <td>...</td>\n",
       "      <td>...</td>\n",
       "      <td>...</td>\n",
       "      <td>...</td>\n",
       "      <td>...</td>\n",
       "      <td>...</td>\n",
       "    </tr>\n",
       "    <tr>\n",
       "      <th>89995</th>\n",
       "      <td>10</td>\n",
       "      <td>PAYMENT</td>\n",
       "      <td>15365.90</td>\n",
       "      <td>C2142225413</td>\n",
       "      <td>354430.00</td>\n",
       "      <td>339064.10</td>\n",
       "      <td>M2046928025</td>\n",
       "      <td>0.00</td>\n",
       "      <td>0.00</td>\n",
       "      <td>0</td>\n",
       "      <td>0</td>\n",
       "    </tr>\n",
       "    <tr>\n",
       "      <th>89996</th>\n",
       "      <td>10</td>\n",
       "      <td>PAYMENT</td>\n",
       "      <td>6593.32</td>\n",
       "      <td>C1100408158</td>\n",
       "      <td>147849.00</td>\n",
       "      <td>141255.68</td>\n",
       "      <td>M1301761451</td>\n",
       "      <td>0.00</td>\n",
       "      <td>0.00</td>\n",
       "      <td>0</td>\n",
       "      <td>0</td>\n",
       "    </tr>\n",
       "    <tr>\n",
       "      <th>89997</th>\n",
       "      <td>10</td>\n",
       "      <td>DEBIT</td>\n",
       "      <td>2690.61</td>\n",
       "      <td>C1285105648</td>\n",
       "      <td>80975.00</td>\n",
       "      <td>78284.39</td>\n",
       "      <td>C961113212</td>\n",
       "      <td>839678.62</td>\n",
       "      <td>842369.23</td>\n",
       "      <td>0</td>\n",
       "      <td>0</td>\n",
       "    </tr>\n",
       "    <tr>\n",
       "      <th>89998</th>\n",
       "      <td>10</td>\n",
       "      <td>PAYMENT</td>\n",
       "      <td>9532.06</td>\n",
       "      <td>C1003190166</td>\n",
       "      <td>11302.00</td>\n",
       "      <td>1769.94</td>\n",
       "      <td>M1300351396</td>\n",
       "      <td>0.00</td>\n",
       "      <td>0.00</td>\n",
       "      <td>0</td>\n",
       "      <td>0</td>\n",
       "    </tr>\n",
       "    <tr>\n",
       "      <th>89999</th>\n",
       "      <td>10</td>\n",
       "      <td>CASH_OUT</td>\n",
       "      <td>17139.99</td>\n",
       "      <td>C982265770</td>\n",
       "      <td>1769.94</td>\n",
       "      <td>0.00</td>\n",
       "      <td>C1933965693</td>\n",
       "      <td>4428218.48</td>\n",
       "      <td>4678941.51</td>\n",
       "      <td>0</td>\n",
       "      <td>0</td>\n",
       "    </tr>\n",
       "  </tbody>\n",
       "</table>\n",
       "<p>90000 rows × 11 columns</p>\n",
       "</div>"
      ],
      "text/plain": [
       "       step      type    amount     nameOrig  oldbalanceOrg  newbalanceOrig  \\\n",
       "0         1   PAYMENT   9839.64  C1231006815      170136.00       160296.36   \n",
       "1         1   PAYMENT   1864.28  C1666544295       21249.00        19384.72   \n",
       "2         1  TRANSFER    181.00  C1305486145         181.00            0.00   \n",
       "3         1  CASH_OUT    181.00   C840083671         181.00            0.00   \n",
       "4         1   PAYMENT  11668.14  C2048537720       41554.00        29885.86   \n",
       "...     ...       ...       ...          ...            ...             ...   \n",
       "89995    10   PAYMENT  15365.90  C2142225413      354430.00       339064.10   \n",
       "89996    10   PAYMENT   6593.32  C1100408158      147849.00       141255.68   \n",
       "89997    10     DEBIT   2690.61  C1285105648       80975.00        78284.39   \n",
       "89998    10   PAYMENT   9532.06  C1003190166       11302.00         1769.94   \n",
       "89999    10  CASH_OUT  17139.99   C982265770        1769.94            0.00   \n",
       "\n",
       "          nameDest  oldbalanceDest  newbalanceDest  isFraud  isFlaggedFraud  \n",
       "0      M1979787155            0.00            0.00        0               0  \n",
       "1      M2044282225            0.00            0.00        0               0  \n",
       "2       C553264065            0.00            0.00        1               0  \n",
       "3        C38997010        21182.00            0.00        1               0  \n",
       "4      M1230701703            0.00            0.00        0               0  \n",
       "...            ...             ...             ...      ...             ...  \n",
       "89995  M2046928025            0.00            0.00        0               0  \n",
       "89996  M1301761451            0.00            0.00        0               0  \n",
       "89997   C961113212       839678.62       842369.23        0               0  \n",
       "89998  M1300351396            0.00            0.00        0               0  \n",
       "89999  C1933965693      4428218.48      4678941.51        0               0  \n",
       "\n",
       "[90000 rows x 11 columns]"
      ]
     },
     "execution_count": 2,
     "metadata": {},
     "output_type": "execute_result"
    }
   ],
   "source": [
    "df = pd.read_csv('PS_20174392719_1491204439457_log.csv', nrows=90_000)\n",
    "df"
   ]
  },
  {
   "cell_type": "markdown",
   "id": "5899cdbc-72b1-4f67-a174-e3ea5e178675",
   "metadata": {},
   "source": [
    "**Sample Row**\n",
    "\n",
    "1 | PAYMENT | 1060.31 | C429214117 | 1089.0 | 28.69 | M1591654462 | 0.0 | 0.0 | 0 | 0\n",
    "\n",
    "\n",
    "**Brief Description of each column**\n",
    "\n",
    "1. **step** - maps a unit of time in the real world. In this case 1 step is 1 hour of time. Total steps 744 (30 days simulation).\n",
    "\n",
    "2. **type** - CASH-IN, CASH-OUT, DEBIT, PAYMENT and TRANSFER.\n",
    "\n",
    "3. **amount** - amount of the transaction in local currency.\n",
    "\n",
    "4. **nameOrig** - customer who started the transaction\n",
    "\n",
    "5. **oldbalanceOrg** - initial balance before the transaction\n",
    "\n",
    "6. **newbalanceOrig** - new balance after the transaction\n",
    "\n",
    "7. **nameDest** - customer who is the recipient of the transaction\n",
    "\n",
    "8. **oldbalanceDest** - initial balance recipient before the transaction. Note that there is not information for customers that start with M (Merchants).\n",
    "\n",
    "9. **newbalanceDest** - new balance recipient after the transaction. Note that there is not information for customers that start with M (Merchants).\n",
    "\n",
    "10. **isFraud** - This is the transactions made by the fraudulent agents inside the simulation. In this specific dataset the fraudulent behavior of the agents aims to profit by taking control or customers accounts and try to empty the funds by transferring to another account and then cashing out of the system.\n",
    "\n",
    "11. **isFlaggedFraud** - The business model aims to control massive transfers from one account to another and flags illegal attempts. An illegal attempt in this dataset is an attempt to transfer more than 200,000 in a single transaction."
   ]
  },
  {
   "cell_type": "markdown",
   "id": "40089ba4-e3ff-4ebc-9a55-5397173e7816",
   "metadata": {
    "tags": []
   },
   "source": [
    "### **I. Exploratory Data Analysis**"
   ]
  },
  {
   "cell_type": "markdown",
   "id": "32a91816-10bb-46f8-b667-997456c06154",
   "metadata": {},
   "source": [
    "#### **Column Information**"
   ]
  },
  {
   "cell_type": "code",
   "execution_count": 3,
   "id": "cc2514e6-069f-4c72-8c48-05ad2d286026",
   "metadata": {},
   "outputs": [
    {
     "name": "stdout",
     "output_type": "stream",
     "text": [
      "<class 'pandas.core.frame.DataFrame'>\n",
      "RangeIndex: 90000 entries, 0 to 89999\n",
      "Data columns (total 11 columns):\n",
      " #   Column          Non-Null Count  Dtype  \n",
      "---  ------          --------------  -----  \n",
      " 0   step            90000 non-null  int64  \n",
      " 1   type            90000 non-null  object \n",
      " 2   amount          90000 non-null  float64\n",
      " 3   nameOrig        90000 non-null  object \n",
      " 4   oldbalanceOrg   90000 non-null  float64\n",
      " 5   newbalanceOrig  90000 non-null  float64\n",
      " 6   nameDest        90000 non-null  object \n",
      " 7   oldbalanceDest  90000 non-null  float64\n",
      " 8   newbalanceDest  90000 non-null  float64\n",
      " 9   isFraud         90000 non-null  int64  \n",
      " 10  isFlaggedFraud  90000 non-null  int64  \n",
      "dtypes: float64(5), int64(3), object(3)\n",
      "memory usage: 7.6+ MB\n"
     ]
    }
   ],
   "source": [
    "df.info()"
   ]
  },
  {
   "cell_type": "markdown",
   "id": "bc0443d0-a03f-4d94-9969-a8d2d2fe2ae4",
   "metadata": {},
   "source": [
    "Based from this info, we could separate the column into:\n",
    "\n",
    "- **Numerical**: step, amount, oldlbalanceOrig, newbalanceOrig, oldbalanceDest, newbalanceDest\n",
    "\n",
    "- **Categorical**: type, nameOrig, nameDest, isFlaggedFraud"
   ]
  },
  {
   "cell_type": "markdown",
   "id": "2028853a-263a-4ca4-a98c-e253eb270e9a",
   "metadata": {},
   "source": [
    "#### **Checking for rows with missing values**"
   ]
  },
  {
   "cell_type": "code",
   "execution_count": 4,
   "id": "172ff162-515c-426d-bd03-db9b9dede93f",
   "metadata": {},
   "outputs": [
    {
     "data": {
      "text/plain": [
       "step              0\n",
       "type              0\n",
       "amount            0\n",
       "nameOrig          0\n",
       "oldbalanceOrg     0\n",
       "newbalanceOrig    0\n",
       "nameDest          0\n",
       "oldbalanceDest    0\n",
       "newbalanceDest    0\n",
       "isFraud           0\n",
       "isFlaggedFraud    0\n",
       "dtype: int64"
      ]
     },
     "execution_count": 4,
     "metadata": {},
     "output_type": "execute_result"
    }
   ],
   "source": [
    "df.isnull().sum()"
   ]
  },
  {
   "cell_type": "markdown",
   "id": "756d04c1-afef-40dd-9b83-ed5acb99e1fe",
   "metadata": {},
   "source": [
    "The data doesn't have missing values"
   ]
  },
  {
   "cell_type": "markdown",
   "id": "36e19fa5-dff0-433d-918d-55860dbdd206",
   "metadata": {
    "tags": []
   },
   "source": [
    "#### **Transaction Type**"
   ]
  },
  {
   "cell_type": "code",
   "execution_count": 5,
   "id": "ed1398e8-919c-4215-affa-f17b9528e521",
   "metadata": {
    "tags": []
   },
   "outputs": [
    {
     "data": {
      "text/plain": [
       "[Text(0.5, 1.0, 'Payment Type Distribution')]"
      ]
     },
     "execution_count": 5,
     "metadata": {},
     "output_type": "execute_result"
    },
    {
     "data": {
      "image/png": "[encoded data removed]",
      "text/plain": [
       "<Figure size 720x360 with 1 Axes>"
      ]
     },
     "metadata": {
      "needs_background": "light"
     },
     "output_type": "display_data"
    }
   ],
   "source": [
    "plt.figure(figsize=(10,5))\n",
    "sns.countplot(\n",
    "    x = 'type', \n",
    "    data = df, \n",
    "    palette = 'viridis',\n",
    "    order = df['type'].value_counts().index\n",
    ").set(title='Payment Type Distribution')"
   ]
  },
  {
   "cell_type": "code",
   "execution_count": 6,
   "id": "61b594a5-a45f-40cd-9b2e-9ccf82119482",
   "metadata": {
    "tags": []
   },
   "outputs": [
    {
     "data": {
      "text/plain": [
       "[Text(0.5, 1.0, 'Fraud Payments per Payment Type Distribution')]"
      ]
     },
     "execution_count": 6,
     "metadata": {},
     "output_type": "execute_result"
    },
    {
     "data": {
      "image/png": "[encoded data removed]",
      "text/plain": [
       "<Figure size 720x360 with 1 Axes>"
      ]
     },
     "metadata": {
      "needs_background": "light"
     },
     "output_type": "display_data"
    }
   ],
   "source": [
    "isFraud_df = df[df.isFraud == True]\n",
    "notFraud_df = df[df.isFraud == False]\n",
    "\n",
    "plt.figure(figsize=(10,5))\n",
    "sns.countplot(\n",
    "    x = 'type', \n",
    "    data = isFraud_df, \n",
    "    palette = 'viridis',\n",
    "    order = df['type'].value_counts().index\n",
    ").set(title='Fraud Payments per Payment Type Distribution')"
   ]
  },
  {
   "cell_type": "markdown",
   "id": "3ec1333f-44d2-4d9d-a051-60ad42e83c79",
   "metadata": {},
   "source": [
    "Insights\n",
    "- The most common transaction used is **Payment** (Customer to Merchants)\n",
    "- The plot shows that **fraud** transactions usually occurs on **cash out** and **transfer** transactions. \n",
    "- The act of removing the money from an account by transferring it to another account and then cashing out that money from the system is a potential fraud transaction."
   ]
  },
  {
   "cell_type": "markdown",
   "id": "a64aae4a-979b-4a83-b00c-20bd8df9f478",
   "metadata": {},
   "source": [
    "#### **Transaction Amount**"
   ]
  },
  {
   "cell_type": "code",
   "execution_count": 7,
   "id": "25ae7845-4b1e-4601-81d6-640326fe3dfc",
   "metadata": {},
   "outputs": [
    {
     "data": {
      "text/plain": [
       "Text(0.5, 1.0, 'Not Fraud Payments')"
      ]
     },
     "execution_count": 7,
     "metadata": {},
     "output_type": "execute_result"
    },
    {
     "data": {
      "image/png": "[encoded data removed]",
      "text/plain": [
       "<Figure size 1080x720 with 3 Axes>"
      ]
     },
     "metadata": {
      "needs_background": "light"
     },
     "output_type": "display_data"
    }
   ],
   "source": [
    "fig, axes = plt.subplots(3, 1, figsize=(15, 10))\n",
    "fig.tight_layout(pad=5)\n",
    "\n",
    "transform = np.sqrt(df['amount'] + 1)\n",
    "sns.histplot(ax=axes[0],data=df, x=transform, kde=True, bins=100).set_title('All Payments')\n",
    "\n",
    "transform = np.sqrt(isFraud_df['amount'] + 1)\n",
    "sns.histplot(ax=axes[1],data=isFraud_df, x=transform, kde=True, bins=100).set_title('Fraud Payments')\n",
    "\n",
    "transform = np.sqrt(notFraud_df['amount'] + 1)\n",
    "sns.histplot(ax=axes[2],data=notFraud_df, x=transform, kde=True, bins=100).set_title('Not Fraud Payments')"
   ]
  },
  {
   "cell_type": "code",
   "execution_count": 8,
   "id": "fa448171-124f-4bf4-99f9-2cf517189e11",
   "metadata": {},
   "outputs": [
    {
     "data": {
      "text/html": [
       "<div>\n",
       "<style scoped>\n",
       "    .dataframe tbody tr th:only-of-type {\n",
       "        vertical-align: middle;\n",
       "    }\n",
       "\n",
       "    .dataframe tbody tr th {\n",
       "        vertical-align: top;\n",
       "    }\n",
       "\n",
       "    .dataframe thead th {\n",
       "        text-align: right;\n",
       "    }\n",
       "</style>\n",
       "<table border=\"1\" class=\"dataframe\">\n",
       "  <thead>\n",
       "    <tr style=\"text-align: right;\">\n",
       "      <th></th>\n",
       "      <th>All</th>\n",
       "      <th>Fraud</th>\n",
       "      <th>Not Fraud</th>\n",
       "    </tr>\n",
       "  </thead>\n",
       "  <tbody>\n",
       "    <tr>\n",
       "      <th>count</th>\n",
       "      <td>90000.000000</td>\n",
       "      <td>112.000000</td>\n",
       "      <td>89888.000000</td>\n",
       "    </tr>\n",
       "    <tr>\n",
       "      <th>mean</th>\n",
       "      <td>170090.264532</td>\n",
       "      <td>550255.927857</td>\n",
       "      <td>169616.580010</td>\n",
       "    </tr>\n",
       "    <tr>\n",
       "      <th>std</th>\n",
       "      <td>338576.688242</td>\n",
       "      <td>1561291.464092</td>\n",
       "      <td>334045.674980</td>\n",
       "    </tr>\n",
       "    <tr>\n",
       "      <th>min</th>\n",
       "      <td>0.320000</td>\n",
       "      <td>164.000000</td>\n",
       "      <td>0.320000</td>\n",
       "    </tr>\n",
       "    <tr>\n",
       "      <th>25%</th>\n",
       "      <td>9723.960000</td>\n",
       "      <td>16671.960000</td>\n",
       "      <td>9714.122500</td>\n",
       "    </tr>\n",
       "    <tr>\n",
       "      <th>50%</th>\n",
       "      <td>50518.550000</td>\n",
       "      <td>34198.245000</td>\n",
       "      <td>50540.800000</td>\n",
       "    </tr>\n",
       "    <tr>\n",
       "      <th>75%</th>\n",
       "      <td>208076.402500</td>\n",
       "      <td>266318.625000</td>\n",
       "      <td>208007.807500</td>\n",
       "    </tr>\n",
       "    <tr>\n",
       "      <th>max</th>\n",
       "      <td>10000000.000000</td>\n",
       "      <td>10000000.000000</td>\n",
       "      <td>6419835.270000</td>\n",
       "    </tr>\n",
       "  </tbody>\n",
       "</table>\n",
       "</div>"
      ],
      "text/plain": [
       "                   All            Fraud       Not Fraud\n",
       "count     90000.000000       112.000000    89888.000000\n",
       "mean     170090.264532    550255.927857   169616.580010\n",
       "std      338576.688242   1561291.464092   334045.674980\n",
       "min           0.320000       164.000000        0.320000\n",
       "25%        9723.960000     16671.960000     9714.122500\n",
       "50%       50518.550000     34198.245000    50540.800000\n",
       "75%      208076.402500    266318.625000   208007.807500\n",
       "max    10000000.000000  10000000.000000  6419835.270000"
      ]
     },
     "execution_count": 8,
     "metadata": {},
     "output_type": "execute_result"
    }
   ],
   "source": [
    "pd.concat([\n",
    "    df.amount.describe().apply(lambda x: format(x, 'f')),\n",
    "    isFraud_df.amount.describe().apply(lambda x: format(x, 'f')),\n",
    "    notFraud_df.amount.describe().apply(lambda x: format(x, 'f'))\n",
    "], keys=['All', 'Fraud', 'Not Fraud'], axis = 1)"
   ]
  },
  {
   "cell_type": "markdown",
   "id": "212b2bb6-6fb8-451f-a359-9b04970e2d2f",
   "metadata": {},
   "source": [
    "Key Takeaways:\n",
    "- There is a huge margin on the amount being paid in every transaction. This can be transform and normalize later on. \n",
    "- The max transaction amount made reached 10,000,000, which is labeled as Fraud.\n",
    "- The minimum fraud transaction amount is 181. This invalidates the assumption that fraud transactions are usually high in amount."
   ]
  },
  {
   "cell_type": "markdown",
   "id": "7b238c20-ed00-4872-83db-f0893ed71257",
   "metadata": {
    "tags": []
   },
   "source": [
    "#### **Origin and Destination Balance**"
   ]
  },
  {
   "cell_type": "code",
   "execution_count": 9,
   "id": "e9c62ec1-d200-40df-ad17-93961a3ebb83",
   "metadata": {},
   "outputs": [
    {
     "data": {
      "text/plain": [
       "<AxesSubplot:xlabel='newbalanceDest', ylabel='Count'>"
      ]
     },
     "execution_count": 9,
     "metadata": {},
     "output_type": "execute_result"
    },
    {
     "data": {
      "image/png": "[encoded data removed]",
      "text/plain": [
       "<Figure size 1080x720 with 4 Axes>"
      ]
     },
     "metadata": {
      "needs_background": "light"
     },
     "output_type": "display_data"
    }
   ],
   "source": [
    "fig, axes = plt.subplots(4, 1, figsize=(15, 10))\n",
    "fig.tight_layout()\n",
    "\n",
    "transform = np.sqrt(isFraud_df['oldbalanceOrg'] + 1)\n",
    "sns.histplot(ax=axes[0],data=isFraud_df, x=transform, kde=True, bins=100)\n",
    "\n",
    "transform = np.sqrt(isFraud_df['newbalanceOrig'] + 1)\n",
    "sns.histplot(ax=axes[1],data=isFraud_df, x=transform, kde=True, bins=100)\n",
    "\n",
    "transform = np.sqrt(isFraud_df['oldbalanceDest'] + 1)\n",
    "sns.histplot(ax=axes[2],data=isFraud_df, x=transform, kde=True, bins=100)\n",
    "\n",
    "transform = np.sqrt(isFraud_df['newbalanceDest'] + 1)\n",
    "sns.histplot(ax=axes[3],data=isFraud_df, x=transform, kde=True, bins=100)"
   ]
  },
  {
   "cell_type": "code",
   "execution_count": 10,
   "id": "59cc9a87-1400-4f16-b0ca-89eeb828fdb8",
   "metadata": {},
   "outputs": [
    {
     "data": {
      "text/plain": [
       "<AxesSubplot:xlabel='newbalanceDest', ylabel='Count'>"
      ]
     },
     "execution_count": 10,
     "metadata": {},
     "output_type": "execute_result"
    },
    {
     "data": {
      "image/png": "[encoded data removed]",
      "text/plain": [
       "<Figure size 1080x1080 with 4 Axes>"
      ]
     },
     "metadata": {
      "needs_background": "light"
     },
     "output_type": "display_data"
    }
   ],
   "source": [
    "fig, axes = plt.subplots(4, 1, figsize=(15, 15))\n",
    "fig.tight_layout()\n",
    "\n",
    "transform = np.sqrt(notFraud_df['oldbalanceOrg'] + 1)\n",
    "sns.histplot(ax=axes[0],data=notFraud_df, x=transform, kde=True, bins=100)\n",
    "\n",
    "transform = np.sqrt(notFraud_df['newbalanceOrig'] + 1)\n",
    "sns.histplot(ax=axes[1],data=notFraud_df, x=transform, kde=True, bins=100)\n",
    "\n",
    "transform = np.sqrt(notFraud_df['oldbalanceDest'] + 1)\n",
    "sns.histplot(ax=axes[2],data=notFraud_df, x=transform, kde=True, bins=100)\n",
    "\n",
    "transform = np.sqrt(notFraud_df['newbalanceDest'] + 1)\n",
    "sns.histplot(ax=axes[3],data=notFraud_df, x=transform, kde=True, bins=100)"
   ]
  },
  {
   "cell_type": "markdown",
   "id": "0c0d5787-135f-4017-8edf-e25cccace5d2",
   "metadata": {},
   "source": [
    "#### **Sender and Receiver Account Names (nameOrig and nameDest)**"
   ]
  },
  {
   "cell_type": "markdown",
   "id": "52d3ba3d-db38-43f9-a8ea-6d8c6ff847f1",
   "metadata": {},
   "source": [
    "**Assumptions**\n",
    "1. Sender can't send money to itself!\n",
    "2. Since fraud payments occurs only on Cashout and Transfer transactions, most, if not all transaction should be from customer to customer.\n",
    "3. *\"In this specific dataset the fraudulent behavior of the agents aims to profit by taking control or customers accounts and try to empty the funds by transferring to another account and then cashing out of the system.\"* Based from this statement, recipients of fraud transfers must be on sender of fraud cashouts.\n"
   ]
  },
  {
   "cell_type": "code",
   "execution_count": 11,
   "id": "a626ef49-98c8-40d9-aed7-5b7fa58c3d61",
   "metadata": {},
   "outputs": [
    {
     "name": "stdout",
     "output_type": "stream",
     "text": [
      "Does same sender and receiver in a transaction possible?\n",
      "False\n"
     ]
    }
   ],
   "source": [
    "print(\"Does same sender and receiver in a transaction possible?\")\n",
    "print(df[df.nameOrig == df.nameDest].value_counts().any())"
   ]
  },
  {
   "cell_type": "code",
   "execution_count": 12,
   "id": "952adb49-a068-4576-8145-2dd37a6f06fa",
   "metadata": {},
   "outputs": [
    {
     "name": "stdout",
     "output_type": "stream",
     "text": [
      "Sender Types: ['C']\n",
      "Receiver Types: ['M' 'C']\n",
      "Senders of fraud transactions: ['C']\n",
      "Receivers of fraud transactions: ['C']\n"
     ]
    }
   ],
   "source": [
    "senders = df['nameOrig'].astype(str).str[0].unique()\n",
    "receivers = df['nameDest'].astype(str).str[0].unique()\n",
    "fraud_senders = isFraud_df['nameOrig'].astype(str).str[0].unique()\n",
    "fraud_receivers = isFraud_df['nameDest'].astype(str).str[0].unique()\n",
    "\n",
    "print(f'Sender Types: {senders}')\n",
    "print(f'Receiver Types: {receivers}')\n",
    "print(f'Senders of fraud transactions: {fraud_senders}')\n",
    "print(f'Receivers of fraud transactions: {fraud_receivers}')"
   ]
  },
  {
   "cell_type": "code",
   "execution_count": 13,
   "id": "167e9001-c9b2-4252-ab8a-60a73c7baeef",
   "metadata": {},
   "outputs": [
    {
     "name": "stdout",
     "output_type": "stream",
     "text": [
      "Does a receiver of fraud transfer showed up in sender of fraud cashout?\n",
      "False\n"
     ]
    }
   ],
   "source": [
    "pay_type = isFraud_df.type.unique() # ['TRANSFER', 'CASH_OUT']\n",
    "fraud_transfer = isFraud_df[isFraud_df.type == pay_type[0]]\n",
    "fraud_cashout = isFraud_df[isFraud_df.type == pay_type[1]]\n",
    "\n",
    "print('Does a receiver of fraud transfer showed up in sender of fraud cashout?')\n",
    "print(fraud_transfer.nameDest.isin(fraud_cashout.nameOrig).any())"
   ]
  },
  {
   "cell_type": "markdown",
   "id": "93794087-9f0e-447d-9fac-aff1167189e6",
   "metadata": {},
   "source": [
    "**Conclusion**\n",
    "- The dataset doesn't have a row with same nameDest and nameOrig, which can be an outlier.\n",
    "- Rows with receiver type 'M' can be ruled out as non fraudulent transactions. "
   ]
  },
  {
   "cell_type": "markdown",
   "id": "14e867eb-883c-41f5-b1b0-373fad0d3b43",
   "metadata": {},
   "source": [
    "#### **Flagged as Fraud Transactions**"
   ]
  },
  {
   "cell_type": "markdown",
   "id": "5e4c6a49-27f2-4844-aca9-1ca74655d5ee",
   "metadata": {},
   "source": [
    "Let's check the correlation between the isFlaggedFraud and isFraud column"
   ]
  },
  {
   "cell_type": "code",
   "execution_count": 14,
   "id": "9fc54490-e3ff-40eb-9e44-ee721d5544c6",
   "metadata": {},
   "outputs": [
    {
     "data": {
      "text/html": [
       "<div>\n",
       "<style scoped>\n",
       "    .dataframe tbody tr th:only-of-type {\n",
       "        vertical-align: middle;\n",
       "    }\n",
       "\n",
       "    .dataframe tbody tr th {\n",
       "        vertical-align: top;\n",
       "    }\n",
       "\n",
       "    .dataframe thead th {\n",
       "        text-align: right;\n",
       "    }\n",
       "</style>\n",
       "<table border=\"1\" class=\"dataframe\">\n",
       "  <thead>\n",
       "    <tr style=\"text-align: right;\">\n",
       "      <th></th>\n",
       "      <th>isFraud</th>\n",
       "      <th>isFlaggedFraud</th>\n",
       "    </tr>\n",
       "  </thead>\n",
       "  <tbody>\n",
       "    <tr>\n",
       "      <th>isFraud</th>\n",
       "      <td>1.0</td>\n",
       "      <td>NaN</td>\n",
       "    </tr>\n",
       "    <tr>\n",
       "      <th>isFlaggedFraud</th>\n",
       "      <td>NaN</td>\n",
       "      <td>NaN</td>\n",
       "    </tr>\n",
       "  </tbody>\n",
       "</table>\n",
       "</div>"
      ],
      "text/plain": [
       "                isFraud  isFlaggedFraud\n",
       "isFraud             1.0             NaN\n",
       "isFlaggedFraud      NaN             NaN"
      ]
     },
     "execution_count": 14,
     "metadata": {},
     "output_type": "execute_result"
    }
   ],
   "source": [
    "corr_mat = df[['isFraud', 'isFlaggedFraud']].corr()\n",
    "corr_mat"
   ]
  },
  {
   "cell_type": "code",
   "execution_count": 15,
   "id": "8e40ecd4-5415-49aa-921c-a668a145e335",
   "metadata": {},
   "outputs": [
    {
     "name": "stdout",
     "output_type": "stream",
     "text": [
      "Fraud transactions by type: \n",
      " 0    90000\n",
      "Name: isFlaggedFraud, dtype: int64\n"
     ]
    }
   ],
   "source": [
    "print(\"Fraud transactions by type: \\n\",df.isFlaggedFraud.value_counts())"
   ]
  },
  {
   "cell_type": "markdown",
   "id": "a0f24c2d-a5e9-4409-b4eb-f7e3170eeb2f",
   "metadata": {},
   "source": [
    "Since isFlaggedFraud column indicates that all transactions are not fraud, this will not be useful as a feature for the model."
   ]
  },
  {
   "cell_type": "markdown",
   "id": "43df4406-c21d-46d2-897f-cfe787a17269",
   "metadata": {
    "tags": []
   },
   "source": [
    "#### **Target: isFraud**"
   ]
  },
  {
   "cell_type": "code",
   "execution_count": 16,
   "id": "d637973d-d861-4d8a-94aa-6007f1d22e66",
   "metadata": {},
   "outputs": [
    {
     "data": {
      "text/html": [
       "<div>\n",
       "<style scoped>\n",
       "    .dataframe tbody tr th:only-of-type {\n",
       "        vertical-align: middle;\n",
       "    }\n",
       "\n",
       "    .dataframe tbody tr th {\n",
       "        vertical-align: top;\n",
       "    }\n",
       "\n",
       "    .dataframe thead th {\n",
       "        text-align: right;\n",
       "    }\n",
       "</style>\n",
       "<table border=\"1\" class=\"dataframe\">\n",
       "  <thead>\n",
       "    <tr style=\"text-align: right;\">\n",
       "      <th></th>\n",
       "      <th>counts</th>\n",
       "      <th>freq</th>\n",
       "      <th>percentage</th>\n",
       "    </tr>\n",
       "  </thead>\n",
       "  <tbody>\n",
       "    <tr>\n",
       "      <th>0</th>\n",
       "      <td>89888</td>\n",
       "      <td>0.998756</td>\n",
       "      <td>99.9%</td>\n",
       "    </tr>\n",
       "    <tr>\n",
       "      <th>1</th>\n",
       "      <td>112</td>\n",
       "      <td>0.001244</td>\n",
       "      <td>0.1%</td>\n",
       "    </tr>\n",
       "  </tbody>\n",
       "</table>\n",
       "</div>"
      ],
      "text/plain": [
       "   counts      freq percentage\n",
       "0   89888  0.998756      99.9%\n",
       "1     112  0.001244       0.1%"
      ]
     },
     "execution_count": 16,
     "metadata": {},
     "output_type": "execute_result"
    }
   ],
   "source": [
    "col = df['isFraud']\n",
    "unique_counts = col.value_counts()\n",
    "relative_freq = col.value_counts(normalize=True)\n",
    "percentage = relative_freq.mul(100).round(1).astype(str) + '%'\n",
    "pd.DataFrame({'counts': unique_counts, 'freq': relative_freq, 'percentage': percentage})"
   ]
  },
  {
   "cell_type": "markdown",
   "id": "51271ff4-892d-4282-8ddb-2360ed05b136",
   "metadata": {},
   "source": [
    "### **II. Feature Engineering and Selection**"
   ]
  },
  {
   "cell_type": "markdown",
   "id": "0ed6bf2e-16cb-4193-9337-6158f485d23f",
   "metadata": {},
   "source": [
    "#### **One Hot Encoding**"
   ]
  },
  {
   "cell_type": "code",
   "execution_count": 17,
   "id": "ad81852c-e06f-4876-a6f7-16d798d88231",
   "metadata": {},
   "outputs": [
    {
     "data": {
      "text/html": [
       "<div>\n",
       "<style scoped>\n",
       "    .dataframe tbody tr th:only-of-type {\n",
       "        vertical-align: middle;\n",
       "    }\n",
       "\n",
       "    .dataframe tbody tr th {\n",
       "        vertical-align: top;\n",
       "    }\n",
       "\n",
       "    .dataframe thead th {\n",
       "        text-align: right;\n",
       "    }\n",
       "</style>\n",
       "<table border=\"1\" class=\"dataframe\">\n",
       "  <thead>\n",
       "    <tr style=\"text-align: right;\">\n",
       "      <th></th>\n",
       "      <th>step</th>\n",
       "      <th>type</th>\n",
       "      <th>amount</th>\n",
       "      <th>nameOrig</th>\n",
       "      <th>oldbalanceOrg</th>\n",
       "      <th>newbalanceOrig</th>\n",
       "      <th>nameDest</th>\n",
       "      <th>oldbalanceDest</th>\n",
       "      <th>newbalanceDest</th>\n",
       "      <th>isFraud</th>\n",
       "      <th>isFlaggedFraud</th>\n",
       "      <th>type_CASH_IN</th>\n",
       "      <th>type_CASH_OUT</th>\n",
       "      <th>type_DEBIT</th>\n",
       "      <th>type_PAYMENT</th>\n",
       "      <th>type_TRANSFER</th>\n",
       "    </tr>\n",
       "  </thead>\n",
       "  <tbody>\n",
       "    <tr>\n",
       "      <th>0</th>\n",
       "      <td>1</td>\n",
       "      <td>PAYMENT</td>\n",
       "      <td>9839.64</td>\n",
       "      <td>C1231006815</td>\n",
       "      <td>170136.00</td>\n",
       "      <td>160296.36</td>\n",
       "      <td>M1979787155</td>\n",
       "      <td>0.00</td>\n",
       "      <td>0.00</td>\n",
       "      <td>0</td>\n",
       "      <td>0</td>\n",
       "      <td>0</td>\n",
       "      <td>0</td>\n",
       "      <td>0</td>\n",
       "      <td>1</td>\n",
       "      <td>0</td>\n",
       "    </tr>\n",
       "    <tr>\n",
       "      <th>1</th>\n",
       "      <td>1</td>\n",
       "      <td>PAYMENT</td>\n",
       "      <td>1864.28</td>\n",
       "      <td>C1666544295</td>\n",
       "      <td>21249.00</td>\n",
       "      <td>19384.72</td>\n",
       "      <td>M2044282225</td>\n",
       "      <td>0.00</td>\n",
       "      <td>0.00</td>\n",
       "      <td>0</td>\n",
       "      <td>0</td>\n",
       "      <td>0</td>\n",
       "      <td>0</td>\n",
       "      <td>0</td>\n",
       "      <td>1</td>\n",
       "      <td>0</td>\n",
       "    </tr>\n",
       "    <tr>\n",
       "      <th>2</th>\n",
       "      <td>1</td>\n",
       "      <td>TRANSFER</td>\n",
       "      <td>181.00</td>\n",
       "      <td>C1305486145</td>\n",
       "      <td>181.00</td>\n",
       "      <td>0.00</td>\n",
       "      <td>C553264065</td>\n",
       "      <td>0.00</td>\n",
       "      <td>0.00</td>\n",
       "      <td>1</td>\n",
       "      <td>0</td>\n",
       "      <td>0</td>\n",
       "      <td>0</td>\n",
       "      <td>0</td>\n",
       "      <td>0</td>\n",
       "      <td>1</td>\n",
       "    </tr>\n",
       "    <tr>\n",
       "      <th>3</th>\n",
       "      <td>1</td>\n",
       "      <td>CASH_OUT</td>\n",
       "      <td>181.00</td>\n",
       "      <td>C840083671</td>\n",
       "      <td>181.00</td>\n",
       "      <td>0.00</td>\n",
       "      <td>C38997010</td>\n",
       "      <td>21182.00</td>\n",
       "      <td>0.00</td>\n",
       "      <td>1</td>\n",
       "      <td>0</td>\n",
       "      <td>0</td>\n",
       "      <td>1</td>\n",
       "      <td>0</td>\n",
       "      <td>0</td>\n",
       "      <td>0</td>\n",
       "    </tr>\n",
       "    <tr>\n",
       "      <th>4</th>\n",
       "      <td>1</td>\n",
       "      <td>PAYMENT</td>\n",
       "      <td>11668.14</td>\n",
       "      <td>C2048537720</td>\n",
       "      <td>41554.00</td>\n",
       "      <td>29885.86</td>\n",
       "      <td>M1230701703</td>\n",
       "      <td>0.00</td>\n",
       "      <td>0.00</td>\n",
       "      <td>0</td>\n",
       "      <td>0</td>\n",
       "      <td>0</td>\n",
       "      <td>0</td>\n",
       "      <td>0</td>\n",
       "      <td>1</td>\n",
       "      <td>0</td>\n",
       "    </tr>\n",
       "    <tr>\n",
       "      <th>...</th>\n",
       "      <td>...</td>\n",
       "      <td>...</td>\n",
       "      <td>...</td>\n",
       "      <td>...</td>\n",
       "      <td>...</td>\n",
       "      <td>...</td>\n",
       "      <td>...</td>\n",
       "      <td>...</td>\n",
       "      <td>...</td>\n",
       "      <td>...</td>\n",
       "      <td>...</td>\n",
       "      <td>...</td>\n",
       "      <td>...</td>\n",
       "      <td>...</td>\n",
       "      <td>...</td>\n",
       "      <td>...</td>\n",
       "    </tr>\n",
       "    <tr>\n",
       "      <th>89995</th>\n",
       "      <td>10</td>\n",
       "      <td>PAYMENT</td>\n",
       "      <td>15365.90</td>\n",
       "      <td>C2142225413</td>\n",
       "      <td>354430.00</td>\n",
       "      <td>339064.10</td>\n",
       "      <td>M2046928025</td>\n",
       "      <td>0.00</td>\n",
       "      <td>0.00</td>\n",
       "      <td>0</td>\n",
       "      <td>0</td>\n",
       "      <td>0</td>\n",
       "      <td>0</td>\n",
       "      <td>0</td>\n",
       "      <td>1</td>\n",
       "      <td>0</td>\n",
       "    </tr>\n",
       "    <tr>\n",
       "      <th>89996</th>\n",
       "      <td>10</td>\n",
       "      <td>PAYMENT</td>\n",
       "      <td>6593.32</td>\n",
       "      <td>C1100408158</td>\n",
       "      <td>147849.00</td>\n",
       "      <td>141255.68</td>\n",
       "      <td>M1301761451</td>\n",
       "      <td>0.00</td>\n",
       "      <td>0.00</td>\n",
       "      <td>0</td>\n",
       "      <td>0</td>\n",
       "      <td>0</td>\n",
       "      <td>0</td>\n",
       "      <td>0</td>\n",
       "      <td>1</td>\n",
       "      <td>0</td>\n",
       "    </tr>\n",
       "    <tr>\n",
       "      <th>89997</th>\n",
       "      <td>10</td>\n",
       "      <td>DEBIT</td>\n",
       "      <td>2690.61</td>\n",
       "      <td>C1285105648</td>\n",
       "      <td>80975.00</td>\n",
       "      <td>78284.39</td>\n",
       "      <td>C961113212</td>\n",
       "      <td>839678.62</td>\n",
       "      <td>842369.23</td>\n",
       "      <td>0</td>\n",
       "      <td>0</td>\n",
       "      <td>0</td>\n",
       "      <td>0</td>\n",
       "      <td>1</td>\n",
       "      <td>0</td>\n",
       "      <td>0</td>\n",
       "    </tr>\n",
       "    <tr>\n",
       "      <th>89998</th>\n",
       "      <td>10</td>\n",
       "      <td>PAYMENT</td>\n",
       "      <td>9532.06</td>\n",
       "      <td>C1003190166</td>\n",
       "      <td>11302.00</td>\n",
       "      <td>1769.94</td>\n",
       "      <td>M1300351396</td>\n",
       "      <td>0.00</td>\n",
       "      <td>0.00</td>\n",
       "      <td>0</td>\n",
       "      <td>0</td>\n",
       "      <td>0</td>\n",
       "      <td>0</td>\n",
       "      <td>0</td>\n",
       "      <td>1</td>\n",
       "      <td>0</td>\n",
       "    </tr>\n",
       "    <tr>\n",
       "      <th>89999</th>\n",
       "      <td>10</td>\n",
       "      <td>CASH_OUT</td>\n",
       "      <td>17139.99</td>\n",
       "      <td>C982265770</td>\n",
       "      <td>1769.94</td>\n",
       "      <td>0.00</td>\n",
       "      <td>C1933965693</td>\n",
       "      <td>4428218.48</td>\n",
       "      <td>4678941.51</td>\n",
       "      <td>0</td>\n",
       "      <td>0</td>\n",
       "      <td>0</td>\n",
       "      <td>1</td>\n",
       "      <td>0</td>\n",
       "      <td>0</td>\n",
       "      <td>0</td>\n",
       "    </tr>\n",
       "  </tbody>\n",
       "</table>\n",
       "<p>90000 rows × 16 columns</p>\n",
       "</div>"
      ],
      "text/plain": [
       "       step      type    amount     nameOrig  oldbalanceOrg  newbalanceOrig  \\\n",
       "0         1   PAYMENT   9839.64  C1231006815      170136.00       160296.36   \n",
       "1         1   PAYMENT   1864.28  C1666544295       21249.00        19384.72   \n",
       "2         1  TRANSFER    181.00  C1305486145         181.00            0.00   \n",
       "3         1  CASH_OUT    181.00   C840083671         181.00            0.00   \n",
       "4         1   PAYMENT  11668.14  C2048537720       41554.00        29885.86   \n",
       "...     ...       ...       ...          ...            ...             ...   \n",
       "89995    10   PAYMENT  15365.90  C2142225413      354430.00       339064.10   \n",
       "89996    10   PAYMENT   6593.32  C1100408158      147849.00       141255.68   \n",
       "89997    10     DEBIT   2690.61  C1285105648       80975.00        78284.39   \n",
       "89998    10   PAYMENT   9532.06  C1003190166       11302.00         1769.94   \n",
       "89999    10  CASH_OUT  17139.99   C982265770        1769.94            0.00   \n",
       "\n",
       "          nameDest  oldbalanceDest  newbalanceDest  isFraud  isFlaggedFraud  \\\n",
       "0      M1979787155            0.00            0.00        0               0   \n",
       "1      M2044282225            0.00            0.00        0               0   \n",
       "2       C553264065            0.00            0.00        1               0   \n",
       "3        C38997010        21182.00            0.00        1               0   \n",
       "4      M1230701703            0.00            0.00        0               0   \n",
       "...            ...             ...             ...      ...             ...   \n",
       "89995  M2046928025            0.00            0.00        0               0   \n",
       "89996  M1301761451            0.00            0.00        0               0   \n",
       "89997   C961113212       839678.62       842369.23        0               0   \n",
       "89998  M1300351396            0.00            0.00        0               0   \n",
       "89999  C1933965693      4428218.48      4678941.51        0               0   \n",
       "\n",
       "       type_CASH_IN  type_CASH_OUT  type_DEBIT  type_PAYMENT  type_TRANSFER  \n",
       "0                 0              0           0             1              0  \n",
       "1                 0              0           0             1              0  \n",
       "2                 0              0           0             0              1  \n",
       "3                 0              1           0             0              0  \n",
       "4                 0              0           0             1              0  \n",
       "...             ...            ...         ...           ...            ...  \n",
       "89995             0              0           0             1              0  \n",
       "89996             0              0           0             1              0  \n",
       "89997             0              0           1             0              0  \n",
       "89998             0              0           0             1              0  \n",
       "89999             0              1           0             0              0  \n",
       "\n",
       "[90000 rows x 16 columns]"
      ]
     },
     "execution_count": 17,
     "metadata": {},
     "output_type": "execute_result"
    }
   ],
   "source": [
    "type_df = pd.get_dummies(df.type, prefix='type')\n",
    "\n",
    "if ~type_df.columns.isin(df.columns).any():\n",
    "    df = pd.concat([df, type_df], axis=1)\n",
    "    \n",
    "df"
   ]
  },
  {
   "cell_type": "markdown",
   "id": "a77a8165-97e4-454b-a778-e2d2a89d7729",
   "metadata": {},
   "source": [
    "#### **Cutting Out Unnecessary Columns**"
   ]
  },
  {
   "cell_type": "code",
   "execution_count": 18,
   "id": "451ae839-fb47-4631-b552-cb8ea056e464",
   "metadata": {},
   "outputs": [],
   "source": [
    "feat_drop = ['step', 'type', 'nameOrig', 'nameDest', 'isFlaggedFraud']\n",
    "df.drop(feat_drop, axis=1, inplace=True)"
   ]
  },
  {
   "cell_type": "markdown",
   "id": "3bd0dcd6-8edd-40db-bdc9-d05b122b38ec",
   "metadata": {},
   "source": [
    "#### **Correlation**"
   ]
  },
  {
   "cell_type": "code",
   "execution_count": 19,
   "id": "df1efa6f-386f-4f6a-ae5a-d0e07ebe3efb",
   "metadata": {},
   "outputs": [
    {
     "data": {
      "text/plain": [
       "<AxesSubplot:>"
      ]
     },
     "execution_count": 19,
     "metadata": {},
     "output_type": "execute_result"
    },
    {
     "data": {
      "image/png": "[encoded data removed]",
      "text/plain": [
       "<Figure size 792x792 with 2 Axes>"
      ]
     },
     "metadata": {
      "needs_background": "light"
     },
     "output_type": "display_data"
    }
   ],
   "source": [
    "corr_mat = df[df.columns[0:6]].corr('pearson')\n",
    "mask = np.triu(corr_mat, 1)\n",
    "plt.figure(figsize=(11,11))\n",
    "sns.heatmap(corr_mat, cmap='PiYG', annot=True, square=True, mask=mask)"
   ]
  },
  {
   "cell_type": "code",
   "execution_count": 20,
   "id": "c44515fd-9847-4973-a82e-5b0f07eb5ffb",
   "metadata": {},
   "outputs": [
    {
     "data": {
      "text/plain": [
       "<AxesSubplot:>"
      ]
     },
     "execution_count": 20,
     "metadata": {},
     "output_type": "execute_result"
    },
    {
     "data": {
      "image/png": "[encoded data removed]",
      "text/plain": [
       "<Figure size 792x792 with 2 Axes>"
      ]
     },
     "metadata": {
      "needs_background": "light"
     },
     "output_type": "display_data"
    }
   ],
   "source": [
    "corr_mat = df[df.columns[5:11]].corr('pearson')\n",
    "mask = np.triu(corr_mat, 1)\n",
    "plt.figure(figsize=(11,11))\n",
    "sns.heatmap(corr_mat, cmap='PiYG', annot=True, square=True, mask=mask)"
   ]
  },
  {
   "cell_type": "markdown",
   "id": "54ea9585-0e26-491b-9e65-bdf94629dec8",
   "metadata": {},
   "source": [
    "#### **Train Test Split**"
   ]
  },
  {
   "cell_type": "code",
   "execution_count": 21,
   "id": "1255df85-4429-4472-9d6e-55b465b06891",
   "metadata": {},
   "outputs": [],
   "source": [
    "X = df.drop(['isFraud'], axis=1)\n",
    "y = df.isFraud\n",
    "\n",
    "X_train, X_test, y_train, y_test = train_test_split(\n",
    "    X, y, test_size=0.30, random_state=42\n",
    ")"
   ]
  },
  {
   "cell_type": "markdown",
   "id": "970850ff-b54e-4665-9e5d-5d0117c843fc",
   "metadata": {},
   "source": [
    "### **III. Building ML Model**"
   ]
  },
  {
   "cell_type": "code",
   "execution_count": 22,
   "id": "53ac9ca6-4222-4163-b6f4-f25fbcbe0a3c",
   "metadata": {},
   "outputs": [],
   "source": [
    "from sklearn import preprocessing\n",
    "\n",
    "# ML Classifier Objects\n",
    "log_reg_clf = LogisticRegression(solver='liblinear', max_iter=1000)\n",
    "nb_clf = GaussianNB()\n",
    "knn_clf = KNeighborsClassifier()\n",
    "prcptrn_clf = Perceptron()\n",
    "dt_clf=DecisionTreeClassifier()\n",
    "\n",
    "# ML Classifier Dictionary\n",
    "clf_dict = {\n",
    "    'Logistic Regression': log_reg_clf, \n",
    "    'Naive Bayes': nb_clf,\n",
    "    'KNN': knn_clf,\n",
    "    'Perceptron': prcptrn_clf,\n",
    "    'Decision Tree': dt_clf\n",
    "}\n",
    "\n",
    "\n",
    "def get_model_performances(X_train, y_train):\n",
    "    log_reg_clf = LogisticRegression(solver='liblinear', max_iter=1000)\n",
    "    nb_clf = GaussianNB()\n",
    "    knn_clf = KNeighborsClassifier()\n",
    "    prcptrn_clf = Perceptron()\n",
    "    dt_clf=DecisionTreeClassifier()\n",
    "\n",
    "    clf_dict = {\n",
    "        'Logistic Regression': log_reg_clf, \n",
    "        'Naive Bayes': nb_clf,\n",
    "        'KNN': knn_clf,\n",
    "        'Perceptron': prcptrn_clf,\n",
    "        'Decision Tree': dt_clf\n",
    "    }\n",
    "\n",
    "    model_acc = []\n",
    "    for model in clf_dict.keys():\n",
    "        y_pred = clf_dict[model].fit(X_train, y_train).predict(X_test)\n",
    "        test_accuracy = metrics.accuracy_score(y_test, y_pred) * 100\n",
    "        test_precision = metrics.precision_score(y_test, y_pred, zero_division=1) * 100\n",
    "        test_recall = metrics.recall_score(y_test, y_pred, zero_division=1) * 100\n",
    "\n",
    "        model_acc.append({\n",
    "            'model': model, \n",
    "            'test_accuracy': test_accuracy, \n",
    "            'test_precision': test_precision,\n",
    "            'test_recall': test_recall,\n",
    "        })\n",
    "        print(model)\n",
    "        print(confusion_matrix(y_test, y_pred))\n",
    "\n",
    "    return pd.DataFrame(model_acc).sort_values(by='test_recall', ascending=False)"
   ]
  },
  {
   "cell_type": "code",
   "execution_count": 23,
   "id": "622dddde-9b13-4eb7-ad51-ff881747205a",
   "metadata": {},
   "outputs": [
    {
     "name": "stdout",
     "output_type": "stream",
     "text": [
      "Logistic Regression\n",
      "[[26944    19]\n",
      " [    3    34]]\n",
      "Naive Bayes\n",
      "[[26523   440]\n",
      " [   34     3]]\n",
      "KNN\n",
      "[[26962     1]\n",
      " [   34     3]]\n",
      "Perceptron\n",
      "[[26519   444]\n",
      " [   15    22]]\n",
      "Decision Tree\n",
      "[[26949    14]\n",
      " [   12    25]]\n"
     ]
    },
    {
     "data": {
      "text/html": [
       "<div>\n",
       "<style scoped>\n",
       "    .dataframe tbody tr th:only-of-type {\n",
       "        vertical-align: middle;\n",
       "    }\n",
       "\n",
       "    .dataframe tbody tr th {\n",
       "        vertical-align: top;\n",
       "    }\n",
       "\n",
       "    .dataframe thead th {\n",
       "        text-align: right;\n",
       "    }\n",
       "</style>\n",
       "<table border=\"1\" class=\"dataframe\">\n",
       "  <thead>\n",
       "    <tr style=\"text-align: right;\">\n",
       "      <th></th>\n",
       "      <th>model</th>\n",
       "      <th>test_accuracy</th>\n",
       "      <th>test_precision</th>\n",
       "      <th>test_recall</th>\n",
       "    </tr>\n",
       "  </thead>\n",
       "  <tbody>\n",
       "    <tr>\n",
       "      <th>0</th>\n",
       "      <td>Logistic Regression</td>\n",
       "      <td>99.918519</td>\n",
       "      <td>64.150943</td>\n",
       "      <td>91.891892</td>\n",
       "    </tr>\n",
       "    <tr>\n",
       "      <th>4</th>\n",
       "      <td>Decision Tree</td>\n",
       "      <td>99.903704</td>\n",
       "      <td>64.102564</td>\n",
       "      <td>67.567568</td>\n",
       "    </tr>\n",
       "    <tr>\n",
       "      <th>3</th>\n",
       "      <td>Perceptron</td>\n",
       "      <td>98.300000</td>\n",
       "      <td>4.721030</td>\n",
       "      <td>59.459459</td>\n",
       "    </tr>\n",
       "    <tr>\n",
       "      <th>1</th>\n",
       "      <td>Naive Bayes</td>\n",
       "      <td>98.244444</td>\n",
       "      <td>0.677201</td>\n",
       "      <td>8.108108</td>\n",
       "    </tr>\n",
       "    <tr>\n",
       "      <th>2</th>\n",
       "      <td>KNN</td>\n",
       "      <td>99.870370</td>\n",
       "      <td>75.000000</td>\n",
       "      <td>8.108108</td>\n",
       "    </tr>\n",
       "  </tbody>\n",
       "</table>\n",
       "</div>"
      ],
      "text/plain": [
       "                 model  test_accuracy  test_precision  test_recall\n",
       "0  Logistic Regression      99.918519       64.150943    91.891892\n",
       "4        Decision Tree      99.903704       64.102564    67.567568\n",
       "3           Perceptron      98.300000        4.721030    59.459459\n",
       "1          Naive Bayes      98.244444        0.677201     8.108108\n",
       "2                  KNN      99.870370       75.000000     8.108108"
      ]
     },
     "execution_count": 23,
     "metadata": {},
     "output_type": "execute_result"
    }
   ],
   "source": [
    "get_model_performances(X_train, y_train)"
   ]
  },
  {
   "cell_type": "markdown",
   "id": "3459e0ff-e6b3-411f-a46d-8e233dd31b65",
   "metadata": {},
   "source": [
    "The precision is the ratio tp / (tp + fp) where tp is the number of true positives and fp the number of false positives. The precision is intuitively the ability of the classifier not to label as positive a sample that is negative.\n",
    "\n",
    "The recall is the ratio tp / (tp + fn) where tp is the number of true positives and fn the number of false negatives. The recall is intuitively the ability of the classifier to find all the positive samples.\n"
   ]
  },
  {
   "cell_type": "markdown",
   "id": "d16fed93-7e8c-403d-b755-c370158f82cb",
   "metadata": {},
   "source": [
    "#### **Balancing Data**"
   ]
  },
  {
   "cell_type": "markdown",
   "id": "03005aba-50a5-43c3-bd63-7772d592666f",
   "metadata": {},
   "source": [
    "https://developers.google.com/machine-learning/data-prep/construct/sampling-splitting/imbalanced-data"
   ]
  },
  {
   "cell_type": "code",
   "execution_count": 24,
   "id": "0ce9bcc5-a727-4dcc-b439-8af58dbbb3cb",
   "metadata": {},
   "outputs": [
    {
     "data": {
      "text/plain": [
       "0    62925\n",
       "1       75\n",
       "Name: isFraud, dtype: int64"
      ]
     },
     "execution_count": 24,
     "metadata": {},
     "output_type": "execute_result"
    }
   ],
   "source": [
    "Xy_train = pd.concat([X_train, y_train], axis=1)\n",
    "Xy_train['isFraud'].value_counts()"
   ]
  },
  {
   "cell_type": "code",
   "execution_count": 25,
   "id": "e8d170ab-d232-46e2-93a4-9f7c23f5616f",
   "metadata": {},
   "outputs": [
    {
     "data": {
      "text/plain": [
       "0    62925\n",
       "1    62925\n",
       "Name: isFraud, dtype: int64"
      ]
     },
     "execution_count": 25,
     "metadata": {},
     "output_type": "execute_result"
    }
   ],
   "source": [
    "from sklearn.utils import resample\n",
    "\n",
    "majority = Xy_train[Xy_train['isFraud'] == 0]\n",
    "minority = Xy_train[Xy_train['isFraud'] == 1]\n",
    "\n",
    "minority_upsampled = resample(\n",
    "    minority,\n",
    "    replace = True,\n",
    "    n_samples = len(majority),\n",
    "    random_state = 42\n",
    ")\n",
    "Xy_train_balanced = pd.concat([majority, minority_upsampled], ignore_index=True)\n",
    "Xy_train_balanced['isFraud'].value_counts()"
   ]
  },
  {
   "cell_type": "code",
   "execution_count": 26,
   "id": "ca4cb4d1-078e-41be-af93-83110dc2cc71",
   "metadata": {},
   "outputs": [],
   "source": [
    "X_train_balanced = Xy_train_balanced.drop('isFraud', axis=1)\n",
    "y_train_balanced = Xy_train_balanced['isFraud']"
   ]
  },
  {
   "cell_type": "code",
   "execution_count": null,
   "id": "5270f75f-9be4-4424-b7c7-4c5f38c9d83a",
   "metadata": {},
   "outputs": [
    {
     "name": "stdout",
     "output_type": "stream",
     "text": [
      "Logistic Regression\n",
      "[[23922  3041]\n",
      " [    2    35]]\n",
      "Naive Bayes\n",
      "[[ 5873 21090]\n",
      " [    0    37]]\n",
      "KNN\n",
      "[[26903    60]\n",
      " [   25    12]]\n",
      "Perceptron\n",
      "[[16726 10237]\n",
      " [    2    35]]\n",
      "Decision Tree\n",
      "[[26952    11]\n",
      " [   13    24]]\n"
     ]
    },
    {
     "data": {
      "text/html": [
       "<div>\n",
       "<style scoped>\n",
       "    .dataframe tbody tr th:only-of-type {\n",
       "        vertical-align: middle;\n",
       "    }\n",
       "\n",
       "    .dataframe tbody tr th {\n",
       "        vertical-align: top;\n",
       "    }\n",
       "\n",
       "    .dataframe thead th {\n",
       "        text-align: right;\n",
       "    }\n",
       "</style>\n",
       "<table border=\"1\" class=\"dataframe\">\n",
       "  <thead>\n",
       "    <tr style=\"text-align: right;\">\n",
       "      <th></th>\n",
       "      <th>model</th>\n",
       "      <th>test_accuracy</th>\n",
       "      <th>test_precision</th>\n",
       "      <th>test_recall</th>\n",
       "    </tr>\n",
       "  </thead>\n",
       "  <tbody>\n",
       "    <tr>\n",
       "      <th>1</th>\n",
       "      <td>Naive Bayes</td>\n",
       "      <td>21.888889</td>\n",
       "      <td>0.175131</td>\n",
       "      <td>100.000000</td>\n",
       "    </tr>\n",
       "    <tr>\n",
       "      <th>0</th>\n",
       "      <td>Logistic Regression</td>\n",
       "      <td>88.729630</td>\n",
       "      <td>1.137841</td>\n",
       "      <td>94.594595</td>\n",
       "    </tr>\n",
       "    <tr>\n",
       "      <th>3</th>\n",
       "      <td>Perceptron</td>\n",
       "      <td>62.077778</td>\n",
       "      <td>0.340732</td>\n",
       "      <td>94.594595</td>\n",
       "    </tr>\n",
       "    <tr>\n",
       "      <th>4</th>\n",
       "      <td>Decision Tree</td>\n",
       "      <td>99.911111</td>\n",
       "      <td>68.571429</td>\n",
       "      <td>64.864865</td>\n",
       "    </tr>\n",
       "    <tr>\n",
       "      <th>2</th>\n",
       "      <td>KNN</td>\n",
       "      <td>99.685185</td>\n",
       "      <td>16.666667</td>\n",
       "      <td>32.432432</td>\n",
       "    </tr>\n",
       "  </tbody>\n",
       "</table>\n",
       "</div>"
      ],
      "text/plain": [
       "                 model  test_accuracy  test_precision  test_recall\n",
       "1          Naive Bayes      21.888889        0.175131   100.000000\n",
       "0  Logistic Regression      88.729630        1.137841    94.594595\n",
       "3           Perceptron      62.077778        0.340732    94.594595\n",
       "4        Decision Tree      99.911111       68.571429    64.864865\n",
       "2                  KNN      99.685185       16.666667    32.432432"
      ]
     },
     "execution_count": 27,
     "metadata": {},
     "output_type": "execute_result"
    }
   ],
   "source": [
    "get_model_performances(X_train_balanced, y_train_balanced)"
   ]
  },
  {
   "cell_type": "markdown",
   "id": "a1171d73-1983-4fc4-9162-ed7211d60c37",
   "metadata": {},
   "source": [
    "Based from the results, Naive Bayes indeed got the highest recall. However, it has low accuracy and if ever used in a real world environment, it will cause real headache for the personnels who handles false positive cases of fraud transactions. Thus, it would be better to used Logistic Regression, with the second highest recall of 94.6% and having fair accuracy of 88.7%."
   ]
  },
  {
   "cell_type": "code",
   "execution_count": null,
   "id": "d49ccf7e-9a53-421f-8f94-77e5cce5c3a0",
   "metadata": {},
   "outputs": [],
   "source": []
  }
 ],
 "metadata": {
  "kernelspec": {
   "display_name": "Python 3 (ipykernel)",
   "language": "python",
   "name": "python3"
  },
  "language_info": {
   "codemirror_mode": {
    "name": "ipython",
    "version": 3
   },
   "file_extension": ".py",
   "mimetype": "text/x-python",
   "name": "python",
   "nbconvert_exporter": "python",
   "pygments_lexer": "ipython3",
   "version": "3.9.7"
  }
 },
 "nbformat": 4,
 "nbformat_minor": 5
}
