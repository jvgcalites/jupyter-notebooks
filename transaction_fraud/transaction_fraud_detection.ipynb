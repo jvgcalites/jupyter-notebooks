{
 "cells": [
  {
   "cell_type": "markdown",
   "id": "c1d6a7a8-4b35-437e-ab8e-71aa858428c2",
   "metadata": {},
   "source": [
    "<img src=\"https://c9k9c9v3.stackpathcdn.com/wp-content/uploads/2018/04/PH-mobile-payment-providers-go-into-acceleration-mode-1440x564_c.jpg?x82653\">"
   ]
  },
  {
   "cell_type": "markdown",
   "id": "c6b1f920-718e-4990-bc2e-392763f37acc",
   "metadata": {
    "tags": []
   },
   "source": [
    "### **Context**\n",
    "\n",
    "There is a lack of public available datasets on financial services and specially in the emerging mobile money transactions domain. Financial datasets are important to many researchers and in particular to us performing research in the domain of fraud detection. Part of the problem is the intrinsically private nature of financial transactions, that leads to no publicly available datasets.\n",
    "\n",
    "We present a synthetic dataset generated using the simulator called PaySim as an approach to such a problem. PaySim uses aggregated data from the private dataset to generate a synthetic dataset that resembles the normal operation of transactions and injects malicious behaviour to later evaluate the performance of fraud detection methods."
   ]
  },
  {
   "cell_type": "markdown",
   "id": "7a47c400-fbe8-4532-a6c7-e7cbd0cc40ea",
   "metadata": {},
   "source": [
    "### **Content**\n",
    "\n",
    "PaySim simulates mobile money transactions based on a sample of real transactions extracted from one month of financial logs from a mobile money service implemented in an African country. The original logs were provided by a multinational company, who is the provider of the mobile financial service which is currently running in more than 14 countries all around the world.\n",
    "\n",
    "This synthetic dataset is scaled down 1/4 of the original dataset and it is created just for Kaggle."
   ]
  },
  {
   "cell_type": "markdown",
   "id": "5899cdbc-72b1-4f67-a174-e3ea5e178675",
   "metadata": {},
   "source": [
    "### **Headers**\n",
    "\n",
    "**Sample Row**\n",
    "\n",
    "1 | PAYMENT | 1060.31 | C429214117 | 1089.0 | 28.69 | M1591654462 | 0.0 | 0.0 | 0 | 0\n",
    "\n",
    "\n",
    "**Brief Description of each column**\n",
    "\n",
    "1. **step** - maps a unit of time in the real world. In this case 1 step is 1 hour of time. Total steps 744 (30 days simulation).\n",
    "\n",
    "2. **type** - CASH-IN, CASH-OUT, DEBIT, PAYMENT and TRANSFER.\n",
    "\n",
    "3. **amount** - amount of the transaction in local currency.\n",
    "\n",
    "4. **nameOrig** - customer who started the transaction\n",
    "\n",
    "5. **oldbalanceOrg** - initial balance before the transaction\n",
    "\n",
    "6. **newbalanceOrig** - new balance after the transaction\n",
    "\n",
    "7. **nameDest** - customer who is the recipient of the transaction\n",
    "\n",
    "8. **oldbalanceDest** - initial balance recipient before the transaction. Note that there is not information for customers that start with M (Merchants).\n",
    "\n",
    "9. **newbalanceDest** - new balance recipient after the transaction. Note that there is not information for customers that start with M (Merchants).\n",
    "\n",
    "10. **isFraud** - This is the transactions made by the fraudulent agents inside the simulation. In this specific dataset the fraudulent behavior of the agents aims to profit by taking control or customers accounts and try to empty the funds by transferring to another account and then cashing out of the system.\n",
    "\n",
    "11. **isFlaggedFraud** - The business model aims to control massive transfers from one account to another and flags illegal attempts. An illegal attempt in this dataset is an attempt to transfer more than 200,000 in a single transaction."
   ]
  },
  {
   "cell_type": "markdown",
   "id": "596390c5-b2b8-4a3d-b180-bab99d717477",
   "metadata": {},
   "source": [
    "### **Objective**\n",
    "\n",
    "1. To find patterns that indicates a transactions as fraud by exploring through Exploratory Data Analysis\n",
    "2. To build a model based on set of properly selected data and applied strategies for improvement of model performance.\n",
    "3. To evaluate the quality of the dataset "
   ]
  },
  {
   "cell_type": "markdown",
   "id": "286d0a28-37c9-4db2-8e2e-f67cb401adc4",
   "metadata": {},
   "source": [
    "#### **Importing Libraries and Data**"
   ]
  },
  {
   "cell_type": "code",
   "execution_count": 1,
   "id": "d543f24b-6f9d-4646-8d6d-609483cc4ccb",
   "metadata": {},
   "outputs": [],
   "source": [
    "import pandas as pd\n",
    "import numpy as np\n",
    "import matplotlib.pylab as plt\n",
    "import seaborn as sns\n",
    "%matplotlib inline\n",
    "\n",
    "from sklearn.linear_model import LogisticRegression\n",
    "from sklearn.naive_bayes import GaussianNB\n",
    "from sklearn.svm import SVC\n",
    "from sklearn.svm import LinearSVC\n",
    "from sklearn.neighbors import KNeighborsClassifier\n",
    "from sklearn.linear_model import Perceptron\n",
    "from sklearn.tree import DecisionTreeClassifier\n",
    "\n",
    "from sklearn import metrics\n",
    "from sklearn import preprocessing\n",
    "from sklearn.model_selection import train_test_split\n",
    "from sklearn.model_selection import cross_val_score\n",
    "from sklearn.metrics import classification_report, confusion_matrix, plot_confusion_matrix, ConfusionMatrixDisplay\n",
    "from sklearn.preprocessing import MinMaxScaler, StandardScaler"
   ]
  },
  {
   "cell_type": "markdown",
   "id": "4ac062be-cdca-4926-8def-c8a563e768e8",
   "metadata": {},
   "source": [
    "Download the dataset here: https://www.kaggle.com/datasets/ealaxi/paysim1"
   ]
  },
  {
   "cell_type": "code",
   "execution_count": 2,
   "id": "dc606519-daad-40d7-b0ef-5df099ab6d48",
   "metadata": {},
   "outputs": [
    {
     "data": {
      "text/html": [
       "<div>\n",
       "<style scoped>\n",
       "    .dataframe tbody tr th:only-of-type {\n",
       "        vertical-align: middle;\n",
       "    }\n",
       "\n",
       "    .dataframe tbody tr th {\n",
       "        vertical-align: top;\n",
       "    }\n",
       "\n",
       "    .dataframe thead th {\n",
       "        text-align: right;\n",
       "    }\n",
       "</style>\n",
       "<table border=\"1\" class=\"dataframe\">\n",
       "  <thead>\n",
       "    <tr style=\"text-align: right;\">\n",
       "      <th></th>\n",
       "      <th>step</th>\n",
       "      <th>type</th>\n",
       "      <th>amount</th>\n",
       "      <th>nameOrig</th>\n",
       "      <th>oldbalanceOrg</th>\n",
       "      <th>newbalanceOrig</th>\n",
       "      <th>nameDest</th>\n",
       "      <th>oldbalanceDest</th>\n",
       "      <th>newbalanceDest</th>\n",
       "      <th>isFraud</th>\n",
       "      <th>isFlaggedFraud</th>\n",
       "    </tr>\n",
       "  </thead>\n",
       "  <tbody>\n",
       "    <tr>\n",
       "      <th>0</th>\n",
       "      <td>1</td>\n",
       "      <td>PAYMENT</td>\n",
       "      <td>9839.64</td>\n",
       "      <td>C1231006815</td>\n",
       "      <td>170136.00</td>\n",
       "      <td>160296.36</td>\n",
       "      <td>M1979787155</td>\n",
       "      <td>0.0</td>\n",
       "      <td>0.0</td>\n",
       "      <td>0</td>\n",
       "      <td>0</td>\n",
       "    </tr>\n",
       "    <tr>\n",
       "      <th>1</th>\n",
       "      <td>1</td>\n",
       "      <td>PAYMENT</td>\n",
       "      <td>1864.28</td>\n",
       "      <td>C1666544295</td>\n",
       "      <td>21249.00</td>\n",
       "      <td>19384.72</td>\n",
       "      <td>M2044282225</td>\n",
       "      <td>0.0</td>\n",
       "      <td>0.0</td>\n",
       "      <td>0</td>\n",
       "      <td>0</td>\n",
       "    </tr>\n",
       "    <tr>\n",
       "      <th>4</th>\n",
       "      <td>1</td>\n",
       "      <td>PAYMENT</td>\n",
       "      <td>11668.14</td>\n",
       "      <td>C2048537720</td>\n",
       "      <td>41554.00</td>\n",
       "      <td>29885.86</td>\n",
       "      <td>M1230701703</td>\n",
       "      <td>0.0</td>\n",
       "      <td>0.0</td>\n",
       "      <td>0</td>\n",
       "      <td>0</td>\n",
       "    </tr>\n",
       "    <tr>\n",
       "      <th>5</th>\n",
       "      <td>1</td>\n",
       "      <td>PAYMENT</td>\n",
       "      <td>7817.71</td>\n",
       "      <td>C90045638</td>\n",
       "      <td>53860.00</td>\n",
       "      <td>46042.29</td>\n",
       "      <td>M573487274</td>\n",
       "      <td>0.0</td>\n",
       "      <td>0.0</td>\n",
       "      <td>0</td>\n",
       "      <td>0</td>\n",
       "    </tr>\n",
       "    <tr>\n",
       "      <th>6</th>\n",
       "      <td>1</td>\n",
       "      <td>PAYMENT</td>\n",
       "      <td>7107.77</td>\n",
       "      <td>C154988899</td>\n",
       "      <td>183195.00</td>\n",
       "      <td>176087.23</td>\n",
       "      <td>M408069119</td>\n",
       "      <td>0.0</td>\n",
       "      <td>0.0</td>\n",
       "      <td>0</td>\n",
       "      <td>0</td>\n",
       "    </tr>\n",
       "    <tr>\n",
       "      <th>...</th>\n",
       "      <td>...</td>\n",
       "      <td>...</td>\n",
       "      <td>...</td>\n",
       "      <td>...</td>\n",
       "      <td>...</td>\n",
       "      <td>...</td>\n",
       "      <td>...</td>\n",
       "      <td>...</td>\n",
       "      <td>...</td>\n",
       "      <td>...</td>\n",
       "      <td>...</td>\n",
       "    </tr>\n",
       "    <tr>\n",
       "      <th>108690</th>\n",
       "      <td>10</td>\n",
       "      <td>PAYMENT</td>\n",
       "      <td>3144.08</td>\n",
       "      <td>C170205672</td>\n",
       "      <td>0.00</td>\n",
       "      <td>0.00</td>\n",
       "      <td>M1864477457</td>\n",
       "      <td>0.0</td>\n",
       "      <td>0.0</td>\n",
       "      <td>0</td>\n",
       "      <td>0</td>\n",
       "    </tr>\n",
       "    <tr>\n",
       "      <th>108691</th>\n",
       "      <td>10</td>\n",
       "      <td>PAYMENT</td>\n",
       "      <td>2194.73</td>\n",
       "      <td>C1030484400</td>\n",
       "      <td>81470.32</td>\n",
       "      <td>79275.59</td>\n",
       "      <td>M682269001</td>\n",
       "      <td>0.0</td>\n",
       "      <td>0.0</td>\n",
       "      <td>0</td>\n",
       "      <td>0</td>\n",
       "    </tr>\n",
       "    <tr>\n",
       "      <th>108692</th>\n",
       "      <td>10</td>\n",
       "      <td>PAYMENT</td>\n",
       "      <td>8367.96</td>\n",
       "      <td>C186898389</td>\n",
       "      <td>79275.59</td>\n",
       "      <td>70907.63</td>\n",
       "      <td>M1773706371</td>\n",
       "      <td>0.0</td>\n",
       "      <td>0.0</td>\n",
       "      <td>0</td>\n",
       "      <td>0</td>\n",
       "    </tr>\n",
       "    <tr>\n",
       "      <th>108693</th>\n",
       "      <td>10</td>\n",
       "      <td>PAYMENT</td>\n",
       "      <td>27945.46</td>\n",
       "      <td>C196871797</td>\n",
       "      <td>70907.63</td>\n",
       "      <td>42962.17</td>\n",
       "      <td>M2007017114</td>\n",
       "      <td>0.0</td>\n",
       "      <td>0.0</td>\n",
       "      <td>0</td>\n",
       "      <td>0</td>\n",
       "    </tr>\n",
       "    <tr>\n",
       "      <th>108697</th>\n",
       "      <td>10</td>\n",
       "      <td>PAYMENT</td>\n",
       "      <td>5264.12</td>\n",
       "      <td>C1457209565</td>\n",
       "      <td>0.00</td>\n",
       "      <td>0.00</td>\n",
       "      <td>M1988447928</td>\n",
       "      <td>0.0</td>\n",
       "      <td>0.0</td>\n",
       "      <td>0</td>\n",
       "      <td>0</td>\n",
       "    </tr>\n",
       "  </tbody>\n",
       "</table>\n",
       "<p>42522 rows × 11 columns</p>\n",
       "</div>"
      ],
      "text/plain": [
       "        step     type    amount     nameOrig  oldbalanceOrg  newbalanceOrig  \\\n",
       "0          1  PAYMENT   9839.64  C1231006815      170136.00       160296.36   \n",
       "1          1  PAYMENT   1864.28  C1666544295       21249.00        19384.72   \n",
       "4          1  PAYMENT  11668.14  C2048537720       41554.00        29885.86   \n",
       "5          1  PAYMENT   7817.71    C90045638       53860.00        46042.29   \n",
       "6          1  PAYMENT   7107.77   C154988899      183195.00       176087.23   \n",
       "...      ...      ...       ...          ...            ...             ...   \n",
       "108690    10  PAYMENT   3144.08   C170205672           0.00            0.00   \n",
       "108691    10  PAYMENT   2194.73  C1030484400       81470.32        79275.59   \n",
       "108692    10  PAYMENT   8367.96   C186898389       79275.59        70907.63   \n",
       "108693    10  PAYMENT  27945.46   C196871797       70907.63        42962.17   \n",
       "108697    10  PAYMENT   5264.12  C1457209565           0.00            0.00   \n",
       "\n",
       "           nameDest  oldbalanceDest  newbalanceDest  isFraud  isFlaggedFraud  \n",
       "0       M1979787155             0.0             0.0        0               0  \n",
       "1       M2044282225             0.0             0.0        0               0  \n",
       "4       M1230701703             0.0             0.0        0               0  \n",
       "5        M573487274             0.0             0.0        0               0  \n",
       "6        M408069119             0.0             0.0        0               0  \n",
       "...             ...             ...             ...      ...             ...  \n",
       "108690  M1864477457             0.0             0.0        0               0  \n",
       "108691   M682269001             0.0             0.0        0               0  \n",
       "108692  M1773706371             0.0             0.0        0               0  \n",
       "108693  M2007017114             0.0             0.0        0               0  \n",
       "108697  M1988447928             0.0             0.0        0               0  \n",
       "\n",
       "[42522 rows x 11 columns]"
      ]
     },
     "execution_count": 2,
     "metadata": {},
     "output_type": "execute_result"
    }
   ],
   "source": [
    "df = pd.read_csv('PS_20174392719_1491204439457_log.csv', nrows=108_700)\n",
    "orig_df = df.copy()\n",
    "df[df.type ==\"PAYMENT\"]"
   ]
  },
  {
   "cell_type": "markdown",
   "id": "40089ba4-e3ff-4ebc-9a55-5397173e7816",
   "metadata": {
    "tags": []
   },
   "source": [
    "### **I. Exploratory Data Analysis**"
   ]
  },
  {
   "cell_type": "markdown",
   "id": "32a91816-10bb-46f8-b667-997456c06154",
   "metadata": {},
   "source": [
    "#### **Column Information**"
   ]
  },
  {
   "cell_type": "code",
   "execution_count": 3,
   "id": "cc2514e6-069f-4c72-8c48-05ad2d286026",
   "metadata": {},
   "outputs": [
    {
     "name": "stdout",
     "output_type": "stream",
     "text": [
      "<class 'pandas.core.frame.DataFrame'>\n",
      "RangeIndex: 108700 entries, 0 to 108699\n",
      "Data columns (total 11 columns):\n",
      " #   Column          Non-Null Count   Dtype  \n",
      "---  ------          --------------   -----  \n",
      " 0   step            108700 non-null  int64  \n",
      " 1   type            108700 non-null  object \n",
      " 2   amount          108700 non-null  float64\n",
      " 3   nameOrig        108700 non-null  object \n",
      " 4   oldbalanceOrg   108700 non-null  float64\n",
      " 5   newbalanceOrig  108700 non-null  float64\n",
      " 6   nameDest        108700 non-null  object \n",
      " 7   oldbalanceDest  108700 non-null  float64\n",
      " 8   newbalanceDest  108700 non-null  float64\n",
      " 9   isFraud         108700 non-null  int64  \n",
      " 10  isFlaggedFraud  108700 non-null  int64  \n",
      "dtypes: float64(5), int64(3), object(3)\n",
      "memory usage: 9.1+ MB\n"
     ]
    }
   ],
   "source": [
    "df.info()"
   ]
  },
  {
   "cell_type": "markdown",
   "id": "bc0443d0-a03f-4d94-9969-a8d2d2fe2ae4",
   "metadata": {},
   "source": [
    "**Based from this info, we could separate the columns into:**\n",
    "\n",
    "- **Numerical**: step, amount, oldlbalanceOrig, newbalanceOrig, oldbalanceDest, newbalanceDest, isFraud, isFlaggedFraud\n",
    "\n",
    "- **Non-numerical**: type, nameOrig, nameDest"
   ]
  },
  {
   "cell_type": "markdown",
   "id": "2028853a-263a-4ca4-a98c-e253eb270e9a",
   "metadata": {},
   "source": [
    "#### **Checking for rows with missing values**"
   ]
  },
  {
   "cell_type": "code",
   "execution_count": 4,
   "id": "172ff162-515c-426d-bd03-db9b9dede93f",
   "metadata": {
    "tags": []
   },
   "outputs": [
    {
     "data": {
      "text/plain": [
       "step              0\n",
       "type              0\n",
       "amount            0\n",
       "nameOrig          0\n",
       "oldbalanceOrg     0\n",
       "newbalanceOrig    0\n",
       "nameDest          0\n",
       "oldbalanceDest    0\n",
       "newbalanceDest    0\n",
       "isFraud           0\n",
       "isFlaggedFraud    0\n",
       "dtype: int64"
      ]
     },
     "execution_count": 4,
     "metadata": {},
     "output_type": "execute_result"
    }
   ],
   "source": [
    "df.isnull().sum()"
   ]
  },
  {
   "cell_type": "markdown",
   "id": "756d04c1-afef-40dd-9b83-ed5acb99e1fe",
   "metadata": {},
   "source": [
    "**The dataset doesn't have missing values.**"
   ]
  },
  {
   "cell_type": "markdown",
   "id": "1436b0a4-cfbf-48a9-9732-3f68db91fa7c",
   "metadata": {},
   "source": [
    "#### **Exploring each columns**"
   ]
  },
  {
   "cell_type": "markdown",
   "id": "335e4bce-6bce-4d9a-a59e-7f862d6c2725",
   "metadata": {
    "tags": []
   },
   "source": [
    "#### **1. Step**"
   ]
  },
  {
   "cell_type": "markdown",
   "id": "9f644b98-96f4-4951-974a-3e5ed9bbbcd4",
   "metadata": {},
   "source": [
    "> **step** - maps a unit of time in the real world. In this case 1 step is 1 hour of time. Total steps 744 (30 days simulation).\n"
   ]
  },
  {
   "cell_type": "markdown",
   "id": "00155e6f-3c9b-4c8c-a0b7-01fd1f56dc35",
   "metadata": {},
   "source": [
    "Due to memory constraints, only about 10 hours worth of transactional data was included (step 1 to 10). Nonetheless, let's do find some information based on what we have."
   ]
  },
  {
   "cell_type": "code",
   "execution_count": 5,
   "id": "aa0bf2a8-21b5-4e47-a29a-d5307f7a40c7",
   "metadata": {},
   "outputs": [
    {
     "data": {
      "text/plain": [
       "[Text(0.5, 1.0, 'Number of Transactions per Step')]"
      ]
     },
     "execution_count": 5,
     "metadata": {},
     "output_type": "execute_result"
    },
    {
     "data": {
      "image/png": "[encoded data removed]",
      "text/plain": [
       "<Figure size 720x360 with 1 Axes>"
      ]
     },
     "metadata": {
      "needs_background": "light"
     },
     "output_type": "display_data"
    }
   ],
   "source": [
    "plt.figure(figsize=(10,5))\n",
    "sns.countplot(\n",
    "    x = 'step', \n",
    "    data = df, \n",
    "    palette = 'viridis'\n",
    ").set(title='Number of Transactions per Step')"
   ]
  },
  {
   "cell_type": "code",
   "execution_count": 6,
   "id": "860fcd57-d047-47de-bccd-d5a75ec5605d",
   "metadata": {},
   "outputs": [
    {
     "data": {
      "text/plain": [
       "[Text(0.5, 1.0, 'Number of FRAUD Transactions per Step')]"
      ]
     },
     "execution_count": 6,
     "metadata": {},
     "output_type": "execute_result"
    },
    {
     "data": {
      "image/png": "[encoded data removed]",
      "text/plain": [
       "<Figure size 720x360 with 1 Axes>"
      ]
     },
     "metadata": {
      "needs_background": "light"
     },
     "output_type": "display_data"
    }
   ],
   "source": [
    "isFraud_df = df[df.isFraud == True]\n",
    "notFraud_df = df[df.isFraud == False]\n",
    "\n",
    "plt.figure(figsize=(10,5))\n",
    "sns.countplot(\n",
    "    x = 'step', \n",
    "    data = isFraud_df, \n",
    "    palette = 'viridis'\n",
    ").set(title='Number of FRAUD Transactions per Step')"
   ]
  },
  {
   "cell_type": "markdown",
   "id": "7b6e9c2f-590a-41f0-a172-b5871c8bff7e",
   "metadata": {},
   "source": [
    "**Analysis:**\n",
    "\n",
    "- There are small amount of transactions from step 1 to step 6. This would make sense if the dataset starts at 00:00 mn, since most people are asleep during 1 am to 6 am\n",
    "- An increasing trend of transactions is shown starting from step 5 onwards. As people starts to wake up, more people use the application and use it for transactions.\n",
    "- Most fraud transactions occur on step 6, 9 and 1. It's hard to make sense of why there are more number of fraud transactions during these steps, especially that we have only 10 hours worth of data.  "
   ]
  },
  {
   "cell_type": "markdown",
   "id": "1acff723-12fe-4a0c-89f7-4cdce47ee521",
   "metadata": {},
   "source": [
    "**Conclusion:**\n",
    "\n",
    "Due to memory constraints, we can only use a portion of the data. Thus, I decided to drop this for now, and get back to this in the future. For now, we'll try to create a model without this. \n",
    "\n",
    "But, I think that this column could be included as one of the features. Specifically, we may use this to get some pattern on when fraud transaction happens. One of the problems that this data may answer is that, *\"Is there a certain day or hour where fraud transaction takes place?\"*"
   ]
  },
  {
   "cell_type": "code",
   "execution_count": 7,
   "id": "599c4ce8-cd13-4de0-86c6-bcbaa0f7e562",
   "metadata": {},
   "outputs": [],
   "source": [
    "def drop_column(df, column_name):\n",
    "    if column_name in df.columns:\n",
    "        df.drop(column_name, axis=1, inplace=True)\n",
    "        print(f'{column_name} column is dropped from the given dataframe.')\n",
    "    else:\n",
    "        print(f'{column_name} column does not exist in the given dataframe.')"
   ]
  },
  {
   "cell_type": "code",
   "execution_count": 8,
   "id": "d5fcc1dc-d03b-48da-95d5-b48bd505253e",
   "metadata": {},
   "outputs": [
    {
     "name": "stdout",
     "output_type": "stream",
     "text": [
      "step column is dropped from the given dataframe.\n"
     ]
    }
   ],
   "source": [
    "drop_column(df, 'step')"
   ]
  },
  {
   "cell_type": "markdown",
   "id": "36e19fa5-dff0-433d-918d-55860dbdd206",
   "metadata": {
    "tags": []
   },
   "source": [
    "#### **2. Transaction Type**"
   ]
  },
  {
   "cell_type": "markdown",
   "id": "0c9546a9-4d41-4699-b872-e99e495e7340",
   "metadata": {},
   "source": [
    ">**type** - CASH-IN, CASH-OUT, DEBIT, PAYMENT and TRANSFER."
   ]
  },
  {
   "cell_type": "markdown",
   "id": "36cb84ce-62f9-449f-991e-80b6c5baef43",
   "metadata": {
    "tags": []
   },
   "source": [
    "**Let's view the distribution for each payment type category**"
   ]
  },
  {
   "cell_type": "code",
   "execution_count": 9,
   "id": "ed1398e8-919c-4215-affa-f17b9528e521",
   "metadata": {
    "tags": []
   },
   "outputs": [
    {
     "data": {
      "text/plain": [
       "[Text(0.5, 1.0, 'Payment Type Distribution')]"
      ]
     },
     "execution_count": 9,
     "metadata": {},
     "output_type": "execute_result"
    },
    {
     "data": {
      "image/png": "[encoded data removed]",
      "text/plain": [
       "<Figure size 720x360 with 1 Axes>"
      ]
     },
     "metadata": {
      "needs_background": "light"
     },
     "output_type": "display_data"
    }
   ],
   "source": [
    "plt.figure(figsize=(10,5))\n",
    "sns.countplot(\n",
    "    x = 'type', \n",
    "    data = df, \n",
    "    palette = 'viridis',\n",
    "    order = df['type'].value_counts().index\n",
    ").set(title='Payment Type Distribution')"
   ]
  },
  {
   "cell_type": "code",
   "execution_count": 10,
   "id": "61b594a5-a45f-40cd-9b2e-9ccf82119482",
   "metadata": {
    "tags": []
   },
   "outputs": [
    {
     "data": {
      "text/plain": [
       "[Text(0.5, 1.0, 'Fraud Payments per Payment Type Distribution')]"
      ]
     },
     "execution_count": 10,
     "metadata": {},
     "output_type": "execute_result"
    },
    {
     "data": {
      "image/png": "[encoded data removed]",
      "text/plain": [
       "<Figure size 720x360 with 1 Axes>"
      ]
     },
     "metadata": {
      "needs_background": "light"
     },
     "output_type": "display_data"
    }
   ],
   "source": [
    "plt.figure(figsize=(10,5))\n",
    "sns.countplot(\n",
    "    x = 'type', \n",
    "    data = isFraud_df, \n",
    "    palette = 'viridis',\n",
    "    order = df['type'].value_counts().index\n",
    ").set(title='Fraud Payments per Payment Type Distribution')"
   ]
  },
  {
   "cell_type": "markdown",
   "id": "3ec1333f-44d2-4d9d-a051-60ad42e83c79",
   "metadata": {},
   "source": [
    "**Analysis:**\n",
    "\n",
    "- The most common transaction used is **Payment** (Customer to Merchants)\n",
    "- The plot shows that **fraud** transactions only occurs on **cash out** and **transfer** transactions. \n",
    "- The act of removing the money from an account by transferring it to another account and then cashing out that money from the system is a potential fraud transaction."
   ]
  },
  {
   "cell_type": "markdown",
   "id": "b9452b85-d616-45a4-b6df-d07f8f1f5732",
   "metadata": {},
   "source": [
    "**Conclusion:**\n",
    "\n",
    "This column needs to undergo **one-hot-encoding** for us to be able to use it as a feature for building our model. Once each category got process, I think we don't need to use all categories, and instead **just use the cashout and transfer category** for our model."
   ]
  },
  {
   "cell_type": "code",
   "execution_count": 11,
   "id": "ad81852c-e06f-4876-a6f7-16d798d88231",
   "metadata": {},
   "outputs": [
    {
     "data": {
      "text/html": [
       "<div>\n",
       "<style scoped>\n",
       "    .dataframe tbody tr th:only-of-type {\n",
       "        vertical-align: middle;\n",
       "    }\n",
       "\n",
       "    .dataframe tbody tr th {\n",
       "        vertical-align: top;\n",
       "    }\n",
       "\n",
       "    .dataframe thead th {\n",
       "        text-align: right;\n",
       "    }\n",
       "</style>\n",
       "<table border=\"1\" class=\"dataframe\">\n",
       "  <thead>\n",
       "    <tr style=\"text-align: right;\">\n",
       "      <th></th>\n",
       "      <th>type</th>\n",
       "      <th>amount</th>\n",
       "      <th>nameOrig</th>\n",
       "      <th>oldbalanceOrg</th>\n",
       "      <th>newbalanceOrig</th>\n",
       "      <th>nameDest</th>\n",
       "      <th>oldbalanceDest</th>\n",
       "      <th>newbalanceDest</th>\n",
       "      <th>isFlaggedFraud</th>\n",
       "      <th>type_CASH_OUT</th>\n",
       "      <th>type_TRANSFER</th>\n",
       "      <th>isFraud</th>\n",
       "    </tr>\n",
       "  </thead>\n",
       "  <tbody>\n",
       "    <tr>\n",
       "      <th>0</th>\n",
       "      <td>PAYMENT</td>\n",
       "      <td>9839.64</td>\n",
       "      <td>C1231006815</td>\n",
       "      <td>170136.00</td>\n",
       "      <td>160296.36</td>\n",
       "      <td>M1979787155</td>\n",
       "      <td>0.00</td>\n",
       "      <td>0.00</td>\n",
       "      <td>0</td>\n",
       "      <td>0</td>\n",
       "      <td>0</td>\n",
       "      <td>0</td>\n",
       "    </tr>\n",
       "    <tr>\n",
       "      <th>1</th>\n",
       "      <td>PAYMENT</td>\n",
       "      <td>1864.28</td>\n",
       "      <td>C1666544295</td>\n",
       "      <td>21249.00</td>\n",
       "      <td>19384.72</td>\n",
       "      <td>M2044282225</td>\n",
       "      <td>0.00</td>\n",
       "      <td>0.00</td>\n",
       "      <td>0</td>\n",
       "      <td>0</td>\n",
       "      <td>0</td>\n",
       "      <td>0</td>\n",
       "    </tr>\n",
       "    <tr>\n",
       "      <th>2</th>\n",
       "      <td>TRANSFER</td>\n",
       "      <td>181.00</td>\n",
       "      <td>C1305486145</td>\n",
       "      <td>181.00</td>\n",
       "      <td>0.00</td>\n",
       "      <td>C553264065</td>\n",
       "      <td>0.00</td>\n",
       "      <td>0.00</td>\n",
       "      <td>0</td>\n",
       "      <td>0</td>\n",
       "      <td>1</td>\n",
       "      <td>1</td>\n",
       "    </tr>\n",
       "    <tr>\n",
       "      <th>3</th>\n",
       "      <td>CASH_OUT</td>\n",
       "      <td>181.00</td>\n",
       "      <td>C840083671</td>\n",
       "      <td>181.00</td>\n",
       "      <td>0.00</td>\n",
       "      <td>C38997010</td>\n",
       "      <td>21182.00</td>\n",
       "      <td>0.00</td>\n",
       "      <td>0</td>\n",
       "      <td>1</td>\n",
       "      <td>0</td>\n",
       "      <td>1</td>\n",
       "    </tr>\n",
       "    <tr>\n",
       "      <th>4</th>\n",
       "      <td>PAYMENT</td>\n",
       "      <td>11668.14</td>\n",
       "      <td>C2048537720</td>\n",
       "      <td>41554.00</td>\n",
       "      <td>29885.86</td>\n",
       "      <td>M1230701703</td>\n",
       "      <td>0.00</td>\n",
       "      <td>0.00</td>\n",
       "      <td>0</td>\n",
       "      <td>0</td>\n",
       "      <td>0</td>\n",
       "      <td>0</td>\n",
       "    </tr>\n",
       "    <tr>\n",
       "      <th>...</th>\n",
       "      <td>...</td>\n",
       "      <td>...</td>\n",
       "      <td>...</td>\n",
       "      <td>...</td>\n",
       "      <td>...</td>\n",
       "      <td>...</td>\n",
       "      <td>...</td>\n",
       "      <td>...</td>\n",
       "      <td>...</td>\n",
       "      <td>...</td>\n",
       "      <td>...</td>\n",
       "      <td>...</td>\n",
       "    </tr>\n",
       "    <tr>\n",
       "      <th>108695</th>\n",
       "      <td>CASH_OUT</td>\n",
       "      <td>398389.64</td>\n",
       "      <td>C1331269270</td>\n",
       "      <td>3296473.73</td>\n",
       "      <td>2898084.08</td>\n",
       "      <td>C1140712423</td>\n",
       "      <td>579238.38</td>\n",
       "      <td>753051.86</td>\n",
       "      <td>0</td>\n",
       "      <td>1</td>\n",
       "      <td>0</td>\n",
       "      <td>0</td>\n",
       "    </tr>\n",
       "    <tr>\n",
       "      <th>108696</th>\n",
       "      <td>CASH_OUT</td>\n",
       "      <td>452251.43</td>\n",
       "      <td>C616412838</td>\n",
       "      <td>447870.63</td>\n",
       "      <td>0.00</td>\n",
       "      <td>C1186254299</td>\n",
       "      <td>0.00</td>\n",
       "      <td>518654.03</td>\n",
       "      <td>0</td>\n",
       "      <td>1</td>\n",
       "      <td>0</td>\n",
       "      <td>0</td>\n",
       "    </tr>\n",
       "    <tr>\n",
       "      <th>108697</th>\n",
       "      <td>PAYMENT</td>\n",
       "      <td>5264.12</td>\n",
       "      <td>C1457209565</td>\n",
       "      <td>0.00</td>\n",
       "      <td>0.00</td>\n",
       "      <td>M1988447928</td>\n",
       "      <td>0.00</td>\n",
       "      <td>0.00</td>\n",
       "      <td>0</td>\n",
       "      <td>0</td>\n",
       "      <td>0</td>\n",
       "      <td>0</td>\n",
       "    </tr>\n",
       "    <tr>\n",
       "      <th>108698</th>\n",
       "      <td>CASH_OUT</td>\n",
       "      <td>239552.64</td>\n",
       "      <td>C1974162368</td>\n",
       "      <td>274.00</td>\n",
       "      <td>0.00</td>\n",
       "      <td>C1398917188</td>\n",
       "      <td>92780.56</td>\n",
       "      <td>0.00</td>\n",
       "      <td>0</td>\n",
       "      <td>1</td>\n",
       "      <td>0</td>\n",
       "      <td>0</td>\n",
       "    </tr>\n",
       "    <tr>\n",
       "      <th>108699</th>\n",
       "      <td>CASH_OUT</td>\n",
       "      <td>132928.56</td>\n",
       "      <td>C1022022485</td>\n",
       "      <td>1081715.10</td>\n",
       "      <td>948786.54</td>\n",
       "      <td>C1596306253</td>\n",
       "      <td>1499231.60</td>\n",
       "      <td>1348469.83</td>\n",
       "      <td>0</td>\n",
       "      <td>1</td>\n",
       "      <td>0</td>\n",
       "      <td>0</td>\n",
       "    </tr>\n",
       "  </tbody>\n",
       "</table>\n",
       "<p>108700 rows × 12 columns</p>\n",
       "</div>"
      ],
      "text/plain": [
       "            type     amount     nameOrig  oldbalanceOrg  newbalanceOrig  \\\n",
       "0        PAYMENT    9839.64  C1231006815      170136.00       160296.36   \n",
       "1        PAYMENT    1864.28  C1666544295       21249.00        19384.72   \n",
       "2       TRANSFER     181.00  C1305486145         181.00            0.00   \n",
       "3       CASH_OUT     181.00   C840083671         181.00            0.00   \n",
       "4        PAYMENT   11668.14  C2048537720       41554.00        29885.86   \n",
       "...          ...        ...          ...            ...             ...   \n",
       "108695  CASH_OUT  398389.64  C1331269270     3296473.73      2898084.08   \n",
       "108696  CASH_OUT  452251.43   C616412838      447870.63            0.00   \n",
       "108697   PAYMENT    5264.12  C1457209565           0.00            0.00   \n",
       "108698  CASH_OUT  239552.64  C1974162368         274.00            0.00   \n",
       "108699  CASH_OUT  132928.56  C1022022485     1081715.10       948786.54   \n",
       "\n",
       "           nameDest  oldbalanceDest  newbalanceDest  isFlaggedFraud  \\\n",
       "0       M1979787155            0.00            0.00               0   \n",
       "1       M2044282225            0.00            0.00               0   \n",
       "2        C553264065            0.00            0.00               0   \n",
       "3         C38997010        21182.00            0.00               0   \n",
       "4       M1230701703            0.00            0.00               0   \n",
       "...             ...             ...             ...             ...   \n",
       "108695  C1140712423       579238.38       753051.86               0   \n",
       "108696  C1186254299            0.00       518654.03               0   \n",
       "108697  M1988447928            0.00            0.00               0   \n",
       "108698  C1398917188        92780.56            0.00               0   \n",
       "108699  C1596306253      1499231.60      1348469.83               0   \n",
       "\n",
       "        type_CASH_OUT  type_TRANSFER  isFraud  \n",
       "0                   0              0        0  \n",
       "1                   0              0        0  \n",
       "2                   0              1        1  \n",
       "3                   1              0        1  \n",
       "4                   0              0        0  \n",
       "...               ...            ...      ...  \n",
       "108695              1              0        0  \n",
       "108696              1              0        0  \n",
       "108697              0              0        0  \n",
       "108698              1              0        0  \n",
       "108699              1              0        0  \n",
       "\n",
       "[108700 rows x 12 columns]"
      ]
     },
     "execution_count": 11,
     "metadata": {},
     "output_type": "execute_result"
    }
   ],
   "source": [
    "if 'type' in df.columns:\n",
    "    type_df = pd.get_dummies(df.type, prefix='type')\n",
    "\n",
    "    if ~type_df.columns.isin(df.columns).any():\n",
    "        features_df = df.drop('isFraud', axis=1)\n",
    "        df = pd.concat([features_df, type_df.type_CASH_OUT, type_df.type_TRANSFER, df.isFraud], axis=1)\n",
    "df"
   ]
  },
  {
   "cell_type": "code",
   "execution_count": 12,
   "id": "da4446cc-84c0-4430-8552-297e4b0d0488",
   "metadata": {},
   "outputs": [
    {
     "name": "stdout",
     "output_type": "stream",
     "text": [
      "type column is dropped from the given dataframe.\n"
     ]
    }
   ],
   "source": [
    "# Dropping type column after one hot encoding\n",
    "drop_column(df, 'type')"
   ]
  },
  {
   "cell_type": "markdown",
   "id": "a64aae4a-979b-4a83-b00c-20bd8df9f478",
   "metadata": {
    "tags": []
   },
   "source": [
    "#### **3. Transaction Amount**"
   ]
  },
  {
   "cell_type": "markdown",
   "id": "2012869f-e241-463f-9694-f43bcc19b159",
   "metadata": {},
   "source": [
    "> **amount** - amount of the transaction in local currency."
   ]
  },
  {
   "cell_type": "markdown",
   "id": "ddd6a28d-e226-4f47-85f7-427aba7d3447",
   "metadata": {},
   "source": [
    "**Assumptions:**\n",
    "\n",
    "- Usually, banks set a certain limit on the amount of transactions an account can have on a day to prevent cases of money laundering. If the account reach the threshold, it usually halts the transaction and the account holder needs to prove first if the money in the transaction is clean before it proceeds. Therefore, transactions with large amount must be flagged as fraud transactions.\n"
   ]
  },
  {
   "cell_type": "markdown",
   "id": "64d6d663-8dc9-4ee9-82f5-93798841c234",
   "metadata": {},
   "source": [
    "**Let's try to look at the distribution of amount transaction for fraud and non fraud transactions.**"
   ]
  },
  {
   "cell_type": "code",
   "execution_count": 13,
   "id": "25ae7845-4b1e-4601-81d6-640326fe3dfc",
   "metadata": {
    "jupyter": {
     "source_hidden": true
    },
    "tags": []
   },
   "outputs": [
    {
     "data": {
      "image/png": "[encoded data removed]",
      "text/plain": [
       "<Figure size 1080x720 with 3 Axes>"
      ]
     },
     "metadata": {
      "needs_background": "light"
     },
     "output_type": "display_data"
    }
   ],
   "source": [
    "fig, axes = plt.subplots(3, 1, figsize=(15, 10))\n",
    "fig.tight_layout(pad=5)\n",
    "\n",
    "transform = np.log(df['amount'] + 1)\n",
    "sns.histplot(ax=axes[0],data=df, x=transform, kde=True, bins=100).set_title('All Payments')\n",
    "\n",
    "transform = np.log(isFraud_df['amount'] + 1)\n",
    "sns.histplot(ax=axes[1],data=isFraud_df, x=transform, kde=True, bins=100).set_title('Fraud Transactions')\n",
    "\n",
    "transform = np.log(notFraud_df['amount'] + 1)\n",
    "sns.histplot(ax=axes[2],data=notFraud_df, x=transform, kde=True, bins=100).set_title('Not Fraud Transactions')\n",
    "\n",
    "# Set fixed x range\n",
    "for x in range(0,3):\n",
    "    axes[x].set_xlim(1,16)\n",
    "    axes[x].set_xticks(range(1,16))"
   ]
  },
  {
   "cell_type": "markdown",
   "id": "3ac7a5ce-e59f-493c-92c8-58ef1dea6ebb",
   "metadata": {},
   "source": [
    "**Findings:**\n",
    "\n",
    "- Due to the skewness of the distribution, we applied **log transformation** to have a better view of the distributions. \n",
    "- The distribution of fraud payments **doesn't show some patterns** that differentiate it from non fraud payments."
   ]
  },
  {
   "cell_type": "markdown",
   "id": "eed7af88-797f-4393-9771-73fad87a22b4",
   "metadata": {},
   "source": [
    "**Let's check a summary of descriptive statistics of each distributions.**"
   ]
  },
  {
   "cell_type": "code",
   "execution_count": 14,
   "id": "fa448171-124f-4bf4-99f9-2cf517189e11",
   "metadata": {},
   "outputs": [
    {
     "data": {
      "text/html": [
       "<div>\n",
       "<style scoped>\n",
       "    .dataframe tbody tr th:only-of-type {\n",
       "        vertical-align: middle;\n",
       "    }\n",
       "\n",
       "    .dataframe tbody tr th {\n",
       "        vertical-align: top;\n",
       "    }\n",
       "\n",
       "    .dataframe thead th {\n",
       "        text-align: right;\n",
       "    }\n",
       "</style>\n",
       "<table border=\"1\" class=\"dataframe\">\n",
       "  <thead>\n",
       "    <tr style=\"text-align: right;\">\n",
       "      <th></th>\n",
       "      <th>All</th>\n",
       "      <th>Fraud</th>\n",
       "      <th>Not Fraud</th>\n",
       "    </tr>\n",
       "  </thead>\n",
       "  <tbody>\n",
       "    <tr>\n",
       "      <th>count</th>\n",
       "      <td>108700.000000</td>\n",
       "      <td>120.000000</td>\n",
       "      <td>108580.000000</td>\n",
       "    </tr>\n",
       "    <tr>\n",
       "      <th>mean</th>\n",
       "      <td>175710.200714</td>\n",
       "      <td>568058.339667</td>\n",
       "      <td>175276.587004</td>\n",
       "    </tr>\n",
       "    <tr>\n",
       "      <th>std</th>\n",
       "      <td>347614.067514</td>\n",
       "      <td>1535218.666546</td>\n",
       "      <td>343825.051815</td>\n",
       "    </tr>\n",
       "    <tr>\n",
       "      <th>min</th>\n",
       "      <td>0.320000</td>\n",
       "      <td>164.000000</td>\n",
       "      <td>0.320000</td>\n",
       "    </tr>\n",
       "    <tr>\n",
       "      <th>25%</th>\n",
       "      <td>10181.742500</td>\n",
       "      <td>16671.960000</td>\n",
       "      <td>10176.047500</td>\n",
       "    </tr>\n",
       "    <tr>\n",
       "      <th>50%</th>\n",
       "      <td>55005.195000</td>\n",
       "      <td>39077.815000</td>\n",
       "      <td>55018.670000</td>\n",
       "    </tr>\n",
       "    <tr>\n",
       "      <th>75%</th>\n",
       "      <td>214011.132500</td>\n",
       "      <td>350705.740000</td>\n",
       "      <td>213914.720000</td>\n",
       "    </tr>\n",
       "    <tr>\n",
       "      <th>max</th>\n",
       "      <td>10000000.000000</td>\n",
       "      <td>10000000.000000</td>\n",
       "      <td>6419835.270000</td>\n",
       "    </tr>\n",
       "  </tbody>\n",
       "</table>\n",
       "</div>"
      ],
      "text/plain": [
       "                   All            Fraud       Not Fraud\n",
       "count    108700.000000       120.000000   108580.000000\n",
       "mean     175710.200714    568058.339667   175276.587004\n",
       "std      347614.067514   1535218.666546   343825.051815\n",
       "min           0.320000       164.000000        0.320000\n",
       "25%       10181.742500     16671.960000    10176.047500\n",
       "50%       55005.195000     39077.815000    55018.670000\n",
       "75%      214011.132500    350705.740000   213914.720000\n",
       "max    10000000.000000  10000000.000000  6419835.270000"
      ]
     },
     "execution_count": 14,
     "metadata": {},
     "output_type": "execute_result"
    }
   ],
   "source": [
    "pd.concat([\n",
    "    df.amount.describe().apply(lambda x: format(x, 'f')),\n",
    "    isFraud_df.amount.describe().apply(lambda x: format(x, 'f')),\n",
    "    notFraud_df.amount.describe().apply(lambda x: format(x, 'f'))\n",
    "], keys=['All', 'Fraud', 'Not Fraud'], axis = 1)"
   ]
  },
  {
   "cell_type": "markdown",
   "id": "212b2bb6-6fb8-451f-a359-9b04970e2d2f",
   "metadata": {},
   "source": [
    "**Findings:**\n",
    "- The max transaction amount made reached **10,000,000** and is labeled as **Fraud**.\n",
    "- The highest transaction that is labeled as **Not Fraud** amounts to **6,419,835**. If our assumption is valid, this must have been flagged as fraud\n",
    "- The **minimum fraud transaction amount** is **181**. This invalidates any assumptions that fraud transactions are usually high in amount."
   ]
  },
  {
   "cell_type": "markdown",
   "id": "80733999-8137-4089-a439-3548e6deedc1",
   "metadata": {},
   "source": [
    "**Conclusion:**\n",
    "\n",
    "I think that the amount is a weak indicator for predicting fraud transactions for this dataset. Nonetheless, I'll leave it as it might be useful for predicting the extremes from both sides of the distribution. \n",
    "\n",
    "Since the range of amount values, we may perform scaling or normalization and find out if there will be significant improvement to the model.  "
   ]
  },
  {
   "cell_type": "markdown",
   "id": "7b238c20-ed00-4872-83db-f0893ed71257",
   "metadata": {
    "tags": []
   },
   "source": [
    "#### **4. Old and New Balance of both Receiver and Sender**"
   ]
  },
  {
   "cell_type": "markdown",
   "id": "2a9929c8-bcad-49b4-8dac-7069314394e4",
   "metadata": {},
   "source": [
    ">**oldbalanceOrg** - initial balance before the transaction\n",
    ">\n",
    ">**newbalanceOrig** - new balance after the transaction\n",
    ">\n",
    ">**oldbalanceDest** - initial balance recipient before the transaction. Note that there is no information for customers that start with M (Merchants).\n",
    ">\n",
    ">**newbalanceDest** - new balance recipient after the transaction. Note that there is no information for customers that start with M (Merchants).\n",
    "\n"
   ]
  },
  {
   "cell_type": "markdown",
   "id": "17fa5602-3563-492b-9c50-13ea636bf7f4",
   "metadata": {},
   "source": [
    "**Initial Assumptions:**\n",
    "1. oldbalanceOrg - newbalanceOrig = amount\n",
    "2. newbalanceDest - oldbalanceDest = amount\n",
    "3. If there is a row that doesn't agree in assumption 1 or 2, is it right to assume that it must be fraud?\n"
   ]
  },
  {
   "cell_type": "code",
   "execution_count": 15,
   "id": "af152796-92ef-4292-b659-3ab180a9bbc5",
   "metadata": {},
   "outputs": [
    {
     "data": {
      "text/plain": [
       "False    100791\n",
       "True       7909\n",
       "Name: is_correct_orig_balance, dtype: int64"
      ]
     },
     "execution_count": 15,
     "metadata": {},
     "output_type": "execute_result"
    }
   ],
   "source": [
    "orig_balance_change = df.oldbalanceOrg - df.newbalanceOrig\n",
    "is_correct_orig_balance = (df.amount == orig_balance_change)\n",
    "is_correct_orig_balance.name = 'is_correct_orig_balance'\n",
    "is_correct_orig_balance.value_counts()"
   ]
  },
  {
   "cell_type": "code",
   "execution_count": 16,
   "id": "caea623d-40d3-4e72-84ba-f42415f93103",
   "metadata": {},
   "outputs": [
    {
     "data": {
      "text/plain": [
       "False    104369\n",
       "True       4331\n",
       "Name: is_correct_dest_balance, dtype: int64"
      ]
     },
     "execution_count": 16,
     "metadata": {},
     "output_type": "execute_result"
    }
   ],
   "source": [
    "dest_balance_change = df.newbalanceDest - df.oldbalanceDest\n",
    "is_correct_dest_balance = df.amount == dest_balance_change\n",
    "is_correct_dest_balance.name = 'is_correct_dest_balance'\n",
    "is_correct_dest_balance.value_counts()"
   ]
  },
  {
   "cell_type": "markdown",
   "id": "388265ea-ecd9-4b39-a357-c35a78c6ce5f",
   "metadata": {},
   "source": [
    "**Findings:**\n",
    "\n",
    "- Initial assumption 1 and 2 are invalid, the majority of the change in balance doesn't reflect on the amount of the transaction.\n",
    "- Initial assumption 3 must also be invalid. Since the majority doesn't apply initial assumption 1 and 2, the majority must be fraud for this to be valid. "
   ]
  },
  {
   "cell_type": "markdown",
   "id": "5ca66e0a-7619-4c15-91b5-7167006860aa",
   "metadata": {},
   "source": [
    "**Question:** If the orig_balance_change and dest_balance_change is equal to the amount, is it safe to assume that the transaction is not fraud?"
   ]
  },
  {
   "cell_type": "code",
   "execution_count": 17,
   "id": "c3c2fd2b-cd76-4ea1-b271-e5c80aacc6ee",
   "metadata": {},
   "outputs": [
    {
     "data": {
      "text/html": [
       "<div>\n",
       "<style scoped>\n",
       "    .dataframe tbody tr th:only-of-type {\n",
       "        vertical-align: middle;\n",
       "    }\n",
       "\n",
       "    .dataframe tbody tr th {\n",
       "        vertical-align: top;\n",
       "    }\n",
       "\n",
       "    .dataframe thead th {\n",
       "        text-align: right;\n",
       "    }\n",
       "</style>\n",
       "<table border=\"1\" class=\"dataframe\">\n",
       "  <thead>\n",
       "    <tr style=\"text-align: right;\">\n",
       "      <th></th>\n",
       "      <th>is_correct_orig_balance</th>\n",
       "      <th>is_correct_dest_balance</th>\n",
       "      <th>isFraud</th>\n",
       "    </tr>\n",
       "  </thead>\n",
       "  <tbody>\n",
       "    <tr>\n",
       "      <th>1870</th>\n",
       "      <td>True</td>\n",
       "      <td>True</td>\n",
       "      <td>1</td>\n",
       "    </tr>\n",
       "    <tr>\n",
       "      <th>2302</th>\n",
       "      <td>True</td>\n",
       "      <td>True</td>\n",
       "      <td>1</td>\n",
       "    </tr>\n",
       "    <tr>\n",
       "      <th>3060</th>\n",
       "      <td>True</td>\n",
       "      <td>True</td>\n",
       "      <td>1</td>\n",
       "    </tr>\n",
       "    <tr>\n",
       "      <th>4104</th>\n",
       "      <td>True</td>\n",
       "      <td>True</td>\n",
       "      <td>1</td>\n",
       "    </tr>\n",
       "    <tr>\n",
       "      <th>4261</th>\n",
       "      <td>True</td>\n",
       "      <td>True</td>\n",
       "      <td>1</td>\n",
       "    </tr>\n",
       "  </tbody>\n",
       "</table>\n",
       "</div>"
      ],
      "text/plain": [
       "      is_correct_orig_balance  is_correct_dest_balance  isFraud\n",
       "1870                     True                     True        1\n",
       "2302                     True                     True        1\n",
       "3060                     True                     True        1\n",
       "4104                     True                     True        1\n",
       "4261                     True                     True        1"
      ]
     },
     "execution_count": 17,
     "metadata": {},
     "output_type": "execute_result"
    }
   ],
   "source": [
    "df3 = pd.concat([\n",
    "        is_correct_orig_balance, \n",
    "        is_correct_dest_balance,\n",
    "        df.isFraud\n",
    "    ], \n",
    "    axis=1)\n",
    "df4 = df3[df3['is_correct_orig_balance'] & df3['is_correct_dest_balance']] \n",
    "correct_balance_fraud = df4[df4.isFraud == 1]\n",
    "correct_balance_fraud.head(5)"
   ]
  },
  {
   "cell_type": "markdown",
   "id": "e2d20555-d528-4edf-aac8-005d69861012",
   "metadata": {},
   "source": [
    "**Answer:** The transaction can be fraud, even if the amount reflects the change on the old balance and new balance. both on orig/sender and dest/receiver"
   ]
  },
  {
   "cell_type": "markdown",
   "id": "78b56d44-ee49-4835-9b5b-ff296e13634b",
   "metadata": {},
   "source": [
    "**Let's try observing the rows of fraud transactions with correct orig and dest balance.**"
   ]
  },
  {
   "cell_type": "code",
   "execution_count": 18,
   "id": "648d5186-8636-463a-934c-5d0f16cf12c4",
   "metadata": {},
   "outputs": [
    {
     "data": {
      "text/html": [
       "<div>\n",
       "<style scoped>\n",
       "    .dataframe tbody tr th:only-of-type {\n",
       "        vertical-align: middle;\n",
       "    }\n",
       "\n",
       "    .dataframe tbody tr th {\n",
       "        vertical-align: top;\n",
       "    }\n",
       "\n",
       "    .dataframe thead th {\n",
       "        text-align: right;\n",
       "    }\n",
       "</style>\n",
       "<table border=\"1\" class=\"dataframe\">\n",
       "  <thead>\n",
       "    <tr style=\"text-align: right;\">\n",
       "      <th></th>\n",
       "      <th>amount</th>\n",
       "      <th>nameOrig</th>\n",
       "      <th>oldbalanceOrg</th>\n",
       "      <th>newbalanceOrig</th>\n",
       "      <th>nameDest</th>\n",
       "      <th>oldbalanceDest</th>\n",
       "      <th>newbalanceDest</th>\n",
       "      <th>isFlaggedFraud</th>\n",
       "      <th>type_CASH_OUT</th>\n",
       "      <th>type_TRANSFER</th>\n",
       "      <th>isFraud</th>\n",
       "    </tr>\n",
       "  </thead>\n",
       "  <tbody>\n",
       "    <tr>\n",
       "      <th>1870</th>\n",
       "      <td>25071.46</td>\n",
       "      <td>C1275464847</td>\n",
       "      <td>25071.46</td>\n",
       "      <td>0.0</td>\n",
       "      <td>C1364913072</td>\n",
       "      <td>9083.76</td>\n",
       "      <td>34155.22</td>\n",
       "      <td>0</td>\n",
       "      <td>1</td>\n",
       "      <td>0</td>\n",
       "      <td>1</td>\n",
       "    </tr>\n",
       "    <tr>\n",
       "      <th>2302</th>\n",
       "      <td>235238.66</td>\n",
       "      <td>C1499825229</td>\n",
       "      <td>235238.66</td>\n",
       "      <td>0.0</td>\n",
       "      <td>C2100440237</td>\n",
       "      <td>0.00</td>\n",
       "      <td>235238.66</td>\n",
       "      <td>0</td>\n",
       "      <td>1</td>\n",
       "      <td>0</td>\n",
       "      <td>1</td>\n",
       "    </tr>\n",
       "    <tr>\n",
       "      <th>3060</th>\n",
       "      <td>1096187.24</td>\n",
       "      <td>C77163673</td>\n",
       "      <td>1096187.24</td>\n",
       "      <td>0.0</td>\n",
       "      <td>C644345897</td>\n",
       "      <td>0.00</td>\n",
       "      <td>1096187.24</td>\n",
       "      <td>0</td>\n",
       "      <td>1</td>\n",
       "      <td>0</td>\n",
       "      <td>1</td>\n",
       "    </tr>\n",
       "    <tr>\n",
       "      <th>4104</th>\n",
       "      <td>10539.37</td>\n",
       "      <td>C1984954272</td>\n",
       "      <td>10539.37</td>\n",
       "      <td>0.0</td>\n",
       "      <td>C124540047</td>\n",
       "      <td>0.00</td>\n",
       "      <td>10539.37</td>\n",
       "      <td>0</td>\n",
       "      <td>1</td>\n",
       "      <td>0</td>\n",
       "      <td>1</td>\n",
       "    </tr>\n",
       "    <tr>\n",
       "      <th>4261</th>\n",
       "      <td>22877.00</td>\n",
       "      <td>C2126545173</td>\n",
       "      <td>22877.00</td>\n",
       "      <td>0.0</td>\n",
       "      <td>C573200870</td>\n",
       "      <td>0.00</td>\n",
       "      <td>22877.00</td>\n",
       "      <td>0</td>\n",
       "      <td>1</td>\n",
       "      <td>0</td>\n",
       "      <td>1</td>\n",
       "    </tr>\n",
       "    <tr>\n",
       "      <th>4668</th>\n",
       "      <td>169941.73</td>\n",
       "      <td>C2026325575</td>\n",
       "      <td>169941.73</td>\n",
       "      <td>0.0</td>\n",
       "      <td>C1394526584</td>\n",
       "      <td>0.00</td>\n",
       "      <td>169941.73</td>\n",
       "      <td>0</td>\n",
       "      <td>1</td>\n",
       "      <td>0</td>\n",
       "      <td>1</td>\n",
       "    </tr>\n",
       "    <tr>\n",
       "      <th>4694</th>\n",
       "      <td>13707.11</td>\n",
       "      <td>C556223230</td>\n",
       "      <td>13707.11</td>\n",
       "      <td>0.0</td>\n",
       "      <td>C2094777811</td>\n",
       "      <td>0.00</td>\n",
       "      <td>13707.11</td>\n",
       "      <td>0</td>\n",
       "      <td>1</td>\n",
       "      <td>0</td>\n",
       "      <td>1</td>\n",
       "    </tr>\n",
       "    <tr>\n",
       "      <th>4776</th>\n",
       "      <td>86070.17</td>\n",
       "      <td>C1699873763</td>\n",
       "      <td>86070.17</td>\n",
       "      <td>0.0</td>\n",
       "      <td>C560041895</td>\n",
       "      <td>0.00</td>\n",
       "      <td>86070.17</td>\n",
       "      <td>0</td>\n",
       "      <td>1</td>\n",
       "      <td>0</td>\n",
       "      <td>1</td>\n",
       "    </tr>\n",
       "    <tr>\n",
       "      <th>4858</th>\n",
       "      <td>120074.73</td>\n",
       "      <td>C1174000532</td>\n",
       "      <td>120074.73</td>\n",
       "      <td>0.0</td>\n",
       "      <td>C410033330</td>\n",
       "      <td>0.00</td>\n",
       "      <td>120074.73</td>\n",
       "      <td>0</td>\n",
       "      <td>1</td>\n",
       "      <td>0</td>\n",
       "      <td>1</td>\n",
       "    </tr>\n",
       "    <tr>\n",
       "      <th>5467</th>\n",
       "      <td>10119.47</td>\n",
       "      <td>C213063852</td>\n",
       "      <td>10119.47</td>\n",
       "      <td>0.0</td>\n",
       "      <td>C922511709</td>\n",
       "      <td>0.00</td>\n",
       "      <td>10119.47</td>\n",
       "      <td>0</td>\n",
       "      <td>1</td>\n",
       "      <td>0</td>\n",
       "      <td>1</td>\n",
       "    </tr>\n",
       "    <tr>\n",
       "      <th>5853</th>\n",
       "      <td>26768.50</td>\n",
       "      <td>C682812632</td>\n",
       "      <td>26768.50</td>\n",
       "      <td>0.0</td>\n",
       "      <td>C256417920</td>\n",
       "      <td>101976.00</td>\n",
       "      <td>128744.50</td>\n",
       "      <td>0</td>\n",
       "      <td>1</td>\n",
       "      <td>0</td>\n",
       "      <td>1</td>\n",
       "    </tr>\n",
       "    <tr>\n",
       "      <th>5995</th>\n",
       "      <td>30521.02</td>\n",
       "      <td>C1813769162</td>\n",
       "      <td>30521.02</td>\n",
       "      <td>0.0</td>\n",
       "      <td>C1249547869</td>\n",
       "      <td>0.00</td>\n",
       "      <td>30521.02</td>\n",
       "      <td>0</td>\n",
       "      <td>1</td>\n",
       "      <td>0</td>\n",
       "      <td>1</td>\n",
       "    </tr>\n",
       "    <tr>\n",
       "      <th>6707</th>\n",
       "      <td>17246.00</td>\n",
       "      <td>C1484518113</td>\n",
       "      <td>17246.00</td>\n",
       "      <td>0.0</td>\n",
       "      <td>C978609035</td>\n",
       "      <td>0.00</td>\n",
       "      <td>17246.00</td>\n",
       "      <td>0</td>\n",
       "      <td>1</td>\n",
       "      <td>0</td>\n",
       "      <td>1</td>\n",
       "    </tr>\n",
       "    <tr>\n",
       "      <th>7003</th>\n",
       "      <td>10224.00</td>\n",
       "      <td>C1284098442</td>\n",
       "      <td>10224.00</td>\n",
       "      <td>0.0</td>\n",
       "      <td>C801412408</td>\n",
       "      <td>0.00</td>\n",
       "      <td>10224.00</td>\n",
       "      <td>0</td>\n",
       "      <td>1</td>\n",
       "      <td>0</td>\n",
       "      <td>1</td>\n",
       "    </tr>\n",
       "    <tr>\n",
       "      <th>72931</th>\n",
       "      <td>59835.00</td>\n",
       "      <td>C1020461364</td>\n",
       "      <td>59835.00</td>\n",
       "      <td>0.0</td>\n",
       "      <td>C2144015041</td>\n",
       "      <td>255480.76</td>\n",
       "      <td>315315.76</td>\n",
       "      <td>0</td>\n",
       "      <td>1</td>\n",
       "      <td>0</td>\n",
       "      <td>1</td>\n",
       "    </tr>\n",
       "    <tr>\n",
       "      <th>99372</th>\n",
       "      <td>503405.88</td>\n",
       "      <td>C140359285</td>\n",
       "      <td>503405.88</td>\n",
       "      <td>0.0</td>\n",
       "      <td>C2020337583</td>\n",
       "      <td>29669.00</td>\n",
       "      <td>533074.88</td>\n",
       "      <td>0</td>\n",
       "      <td>1</td>\n",
       "      <td>0</td>\n",
       "      <td>1</td>\n",
       "    </tr>\n",
       "    <tr>\n",
       "      <th>102608</th>\n",
       "      <td>9217.19</td>\n",
       "      <td>C1105700111</td>\n",
       "      <td>9217.19</td>\n",
       "      <td>0.0</td>\n",
       "      <td>C1767952032</td>\n",
       "      <td>0.00</td>\n",
       "      <td>9217.19</td>\n",
       "      <td>0</td>\n",
       "      <td>1</td>\n",
       "      <td>0</td>\n",
       "      <td>1</td>\n",
       "    </tr>\n",
       "  </tbody>\n",
       "</table>\n",
       "</div>"
      ],
      "text/plain": [
       "            amount     nameOrig  oldbalanceOrg  newbalanceOrig     nameDest  \\\n",
       "1870      25071.46  C1275464847       25071.46             0.0  C1364913072   \n",
       "2302     235238.66  C1499825229      235238.66             0.0  C2100440237   \n",
       "3060    1096187.24    C77163673     1096187.24             0.0   C644345897   \n",
       "4104      10539.37  C1984954272       10539.37             0.0   C124540047   \n",
       "4261      22877.00  C2126545173       22877.00             0.0   C573200870   \n",
       "4668     169941.73  C2026325575      169941.73             0.0  C1394526584   \n",
       "4694      13707.11   C556223230       13707.11             0.0  C2094777811   \n",
       "4776      86070.17  C1699873763       86070.17             0.0   C560041895   \n",
       "4858     120074.73  C1174000532      120074.73             0.0   C410033330   \n",
       "5467      10119.47   C213063852       10119.47             0.0   C922511709   \n",
       "5853      26768.50   C682812632       26768.50             0.0   C256417920   \n",
       "5995      30521.02  C1813769162       30521.02             0.0  C1249547869   \n",
       "6707      17246.00  C1484518113       17246.00             0.0   C978609035   \n",
       "7003      10224.00  C1284098442       10224.00             0.0   C801412408   \n",
       "72931     59835.00  C1020461364       59835.00             0.0  C2144015041   \n",
       "99372    503405.88   C140359285      503405.88             0.0  C2020337583   \n",
       "102608     9217.19  C1105700111        9217.19             0.0  C1767952032   \n",
       "\n",
       "        oldbalanceDest  newbalanceDest  isFlaggedFraud  type_CASH_OUT  \\\n",
       "1870           9083.76        34155.22               0              1   \n",
       "2302              0.00       235238.66               0              1   \n",
       "3060              0.00      1096187.24               0              1   \n",
       "4104              0.00        10539.37               0              1   \n",
       "4261              0.00        22877.00               0              1   \n",
       "4668              0.00       169941.73               0              1   \n",
       "4694              0.00        13707.11               0              1   \n",
       "4776              0.00        86070.17               0              1   \n",
       "4858              0.00       120074.73               0              1   \n",
       "5467              0.00        10119.47               0              1   \n",
       "5853         101976.00       128744.50               0              1   \n",
       "5995              0.00        30521.02               0              1   \n",
       "6707              0.00        17246.00               0              1   \n",
       "7003              0.00        10224.00               0              1   \n",
       "72931        255480.76       315315.76               0              1   \n",
       "99372         29669.00       533074.88               0              1   \n",
       "102608            0.00         9217.19               0              1   \n",
       "\n",
       "        type_TRANSFER  isFraud  \n",
       "1870                0        1  \n",
       "2302                0        1  \n",
       "3060                0        1  \n",
       "4104                0        1  \n",
       "4261                0        1  \n",
       "4668                0        1  \n",
       "4694                0        1  \n",
       "4776                0        1  \n",
       "4858                0        1  \n",
       "5467                0        1  \n",
       "5853                0        1  \n",
       "5995                0        1  \n",
       "6707                0        1  \n",
       "7003                0        1  \n",
       "72931               0        1  \n",
       "99372               0        1  \n",
       "102608              0        1  "
      ]
     },
     "execution_count": 18,
     "metadata": {},
     "output_type": "execute_result"
    }
   ],
   "source": [
    "index_list = correct_balance_fraud.index.tolist()\n",
    "correct_balance_fraud_df = df.iloc[index_list]\n",
    "correct_balance_fraud_df"
   ]
  },
  {
   "cell_type": "markdown",
   "id": "90f306b5-064a-4dd6-90cf-1016c72681d2",
   "metadata": {},
   "source": [
    "**Observations:**\n",
    "\n",
    "- The type of payment that was used on all rows is CASH_OUT.\n",
    "- The amount and oldbalanceOrg column values are the same, on all rows.\n",
    "- This clearly means that emptying the balance of the account and cashing it out is labeled as fraud transaction."
   ]
  },
  {
   "cell_type": "markdown",
   "id": "f171d7f5-5c0b-4653-883d-14cde234686b",
   "metadata": {},
   "source": [
    "**Let's observe the other fraud transactions that does not have correct orig and dest balance, we might get new patterns for fraud transactions.**"
   ]
  },
  {
   "cell_type": "code",
   "execution_count": 19,
   "id": "be12645a-c015-409a-9fba-65899a7c16d1",
   "metadata": {},
   "outputs": [
    {
     "data": {
      "text/html": [
       "<div>\n",
       "<style scoped>\n",
       "    .dataframe tbody tr th:only-of-type {\n",
       "        vertical-align: middle;\n",
       "    }\n",
       "\n",
       "    .dataframe tbody tr th {\n",
       "        vertical-align: top;\n",
       "    }\n",
       "\n",
       "    .dataframe thead th {\n",
       "        text-align: right;\n",
       "    }\n",
       "</style>\n",
       "<table border=\"1\" class=\"dataframe\">\n",
       "  <thead>\n",
       "    <tr style=\"text-align: right;\">\n",
       "      <th></th>\n",
       "      <th>step</th>\n",
       "      <th>type</th>\n",
       "      <th>amount</th>\n",
       "      <th>nameOrig</th>\n",
       "      <th>oldbalanceOrg</th>\n",
       "      <th>newbalanceOrig</th>\n",
       "      <th>nameDest</th>\n",
       "      <th>oldbalanceDest</th>\n",
       "      <th>newbalanceDest</th>\n",
       "      <th>isFraud</th>\n",
       "      <th>isFlaggedFraud</th>\n",
       "    </tr>\n",
       "  </thead>\n",
       "  <tbody>\n",
       "    <tr>\n",
       "      <th>12180</th>\n",
       "      <td>7</td>\n",
       "      <td>CASH_OUT</td>\n",
       "      <td>164.00</td>\n",
       "      <td>C1173659886</td>\n",
       "      <td>164.00</td>\n",
       "      <td>0.00</td>\n",
       "      <td>C1769947269</td>\n",
       "      <td>4068.0</td>\n",
       "      <td>0.00</td>\n",
       "      <td>1</td>\n",
       "      <td>0</td>\n",
       "    </tr>\n",
       "    <tr>\n",
       "      <th>12179</th>\n",
       "      <td>7</td>\n",
       "      <td>TRANSFER</td>\n",
       "      <td>164.00</td>\n",
       "      <td>C1455969984</td>\n",
       "      <td>164.00</td>\n",
       "      <td>0.00</td>\n",
       "      <td>C2119910556</td>\n",
       "      <td>0.0</td>\n",
       "      <td>0.00</td>\n",
       "      <td>1</td>\n",
       "      <td>0</td>\n",
       "    </tr>\n",
       "    <tr>\n",
       "      <th>2</th>\n",
       "      <td>1</td>\n",
       "      <td>TRANSFER</td>\n",
       "      <td>181.00</td>\n",
       "      <td>C1305486145</td>\n",
       "      <td>181.00</td>\n",
       "      <td>0.00</td>\n",
       "      <td>C553264065</td>\n",
       "      <td>0.0</td>\n",
       "      <td>0.00</td>\n",
       "      <td>1</td>\n",
       "      <td>0</td>\n",
       "    </tr>\n",
       "    <tr>\n",
       "      <th>3</th>\n",
       "      <td>1</td>\n",
       "      <td>CASH_OUT</td>\n",
       "      <td>181.00</td>\n",
       "      <td>C840083671</td>\n",
       "      <td>181.00</td>\n",
       "      <td>0.00</td>\n",
       "      <td>C38997010</td>\n",
       "      <td>21182.0</td>\n",
       "      <td>0.00</td>\n",
       "      <td>1</td>\n",
       "      <td>0</td>\n",
       "    </tr>\n",
       "    <tr>\n",
       "      <th>18772</th>\n",
       "      <td>8</td>\n",
       "      <td>CASH_OUT</td>\n",
       "      <td>222.00</td>\n",
       "      <td>C1737727444</td>\n",
       "      <td>222.00</td>\n",
       "      <td>0.00</td>\n",
       "      <td>C588779235</td>\n",
       "      <td>24708.0</td>\n",
       "      <td>171647.35</td>\n",
       "      <td>1</td>\n",
       "      <td>0</td>\n",
       "    </tr>\n",
       "    <tr>\n",
       "      <th>...</th>\n",
       "      <td>...</td>\n",
       "      <td>...</td>\n",
       "      <td>...</td>\n",
       "      <td>...</td>\n",
       "      <td>...</td>\n",
       "      <td>...</td>\n",
       "      <td>...</td>\n",
       "      <td>...</td>\n",
       "      <td>...</td>\n",
       "      <td>...</td>\n",
       "      <td>...</td>\n",
       "    </tr>\n",
       "    <tr>\n",
       "      <th>4442</th>\n",
       "      <td>4</td>\n",
       "      <td>TRANSFER</td>\n",
       "      <td>2930418.44</td>\n",
       "      <td>C2047521920</td>\n",
       "      <td>2930418.44</td>\n",
       "      <td>0.00</td>\n",
       "      <td>C449261773</td>\n",
       "      <td>0.0</td>\n",
       "      <td>0.00</td>\n",
       "      <td>1</td>\n",
       "      <td>0</td>\n",
       "    </tr>\n",
       "    <tr>\n",
       "      <th>10395</th>\n",
       "      <td>7</td>\n",
       "      <td>TRANSFER</td>\n",
       "      <td>5460002.91</td>\n",
       "      <td>C666654362</td>\n",
       "      <td>5460002.91</td>\n",
       "      <td>0.00</td>\n",
       "      <td>C1726301214</td>\n",
       "      <td>0.0</td>\n",
       "      <td>0.00</td>\n",
       "      <td>1</td>\n",
       "      <td>0</td>\n",
       "    </tr>\n",
       "    <tr>\n",
       "      <th>10396</th>\n",
       "      <td>7</td>\n",
       "      <td>CASH_OUT</td>\n",
       "      <td>5460002.91</td>\n",
       "      <td>C1588880909</td>\n",
       "      <td>5460002.91</td>\n",
       "      <td>0.00</td>\n",
       "      <td>C1570256460</td>\n",
       "      <td>0.0</td>\n",
       "      <td>9281535.44</td>\n",
       "      <td>1</td>\n",
       "      <td>0</td>\n",
       "    </tr>\n",
       "    <tr>\n",
       "      <th>4441</th>\n",
       "      <td>4</td>\n",
       "      <td>CASH_OUT</td>\n",
       "      <td>10000000.00</td>\n",
       "      <td>C351297720</td>\n",
       "      <td>10000000.00</td>\n",
       "      <td>0.00</td>\n",
       "      <td>C766681183</td>\n",
       "      <td>0.0</td>\n",
       "      <td>9941904.21</td>\n",
       "      <td>1</td>\n",
       "      <td>0</td>\n",
       "    </tr>\n",
       "    <tr>\n",
       "      <th>4440</th>\n",
       "      <td>4</td>\n",
       "      <td>TRANSFER</td>\n",
       "      <td>10000000.00</td>\n",
       "      <td>C7162498</td>\n",
       "      <td>12930418.44</td>\n",
       "      <td>2930418.44</td>\n",
       "      <td>C945327594</td>\n",
       "      <td>0.0</td>\n",
       "      <td>0.00</td>\n",
       "      <td>1</td>\n",
       "      <td>0</td>\n",
       "    </tr>\n",
       "  </tbody>\n",
       "</table>\n",
       "<p>103 rows × 11 columns</p>\n",
       "</div>"
      ],
      "text/plain": [
       "       step      type       amount     nameOrig  oldbalanceOrg  \\\n",
       "12180     7  CASH_OUT       164.00  C1173659886         164.00   \n",
       "12179     7  TRANSFER       164.00  C1455969984         164.00   \n",
       "2         1  TRANSFER       181.00  C1305486145         181.00   \n",
       "3         1  CASH_OUT       181.00   C840083671         181.00   \n",
       "18772     8  CASH_OUT       222.00  C1737727444         222.00   \n",
       "...     ...       ...          ...          ...            ...   \n",
       "4442      4  TRANSFER   2930418.44  C2047521920     2930418.44   \n",
       "10395     7  TRANSFER   5460002.91   C666654362     5460002.91   \n",
       "10396     7  CASH_OUT   5460002.91  C1588880909     5460002.91   \n",
       "4441      4  CASH_OUT  10000000.00   C351297720    10000000.00   \n",
       "4440      4  TRANSFER  10000000.00     C7162498    12930418.44   \n",
       "\n",
       "       newbalanceOrig     nameDest  oldbalanceDest  newbalanceDest  isFraud  \\\n",
       "12180            0.00  C1769947269          4068.0            0.00        1   \n",
       "12179            0.00  C2119910556             0.0            0.00        1   \n",
       "2                0.00   C553264065             0.0            0.00        1   \n",
       "3                0.00    C38997010         21182.0            0.00        1   \n",
       "18772            0.00   C588779235         24708.0       171647.35        1   \n",
       "...               ...          ...             ...             ...      ...   \n",
       "4442             0.00   C449261773             0.0            0.00        1   \n",
       "10395            0.00  C1726301214             0.0            0.00        1   \n",
       "10396            0.00  C1570256460             0.0      9281535.44        1   \n",
       "4441             0.00   C766681183             0.0      9941904.21        1   \n",
       "4440       2930418.44   C945327594             0.0            0.00        1   \n",
       "\n",
       "       isFlaggedFraud  \n",
       "12180               0  \n",
       "12179               0  \n",
       "2                   0  \n",
       "3                   0  \n",
       "18772               0  \n",
       "...               ...  \n",
       "4442                0  \n",
       "10395               0  \n",
       "10396               0  \n",
       "4441                0  \n",
       "4440                0  \n",
       "\n",
       "[103 rows x 11 columns]"
      ]
     },
     "execution_count": 19,
     "metadata": {},
     "output_type": "execute_result"
    }
   ],
   "source": [
    "incorrect_balance_fraud = isFraud_df.drop(index_list, axis=0).sort_values(by='amount', ascending=True)\n",
    "incorrect_balance_fraud"
   ]
  },
  {
   "cell_type": "markdown",
   "id": "5b5ade3d-23ac-4650-a5a1-6ef0c1c91d83",
   "metadata": {},
   "source": [
    "**We can still observe the equal values between the amount and oldbalanceOrg column, which denotes fraud transactions. Let's eliminate these rows and find out the remaining rows with fraud transactions.**"
   ]
  },
  {
   "cell_type": "code",
   "execution_count": 20,
   "id": "23c6ec5f-19b8-4b74-83c9-3ffa07e10d5e",
   "metadata": {},
   "outputs": [
    {
     "data": {
      "text/html": [
       "<div>\n",
       "<style scoped>\n",
       "    .dataframe tbody tr th:only-of-type {\n",
       "        vertical-align: middle;\n",
       "    }\n",
       "\n",
       "    .dataframe tbody tr th {\n",
       "        vertical-align: top;\n",
       "    }\n",
       "\n",
       "    .dataframe thead th {\n",
       "        text-align: right;\n",
       "    }\n",
       "</style>\n",
       "<table border=\"1\" class=\"dataframe\">\n",
       "  <thead>\n",
       "    <tr style=\"text-align: right;\">\n",
       "      <th></th>\n",
       "      <th>step</th>\n",
       "      <th>type</th>\n",
       "      <th>amount</th>\n",
       "      <th>nameOrig</th>\n",
       "      <th>oldbalanceOrg</th>\n",
       "      <th>newbalanceOrig</th>\n",
       "      <th>nameDest</th>\n",
       "      <th>oldbalanceDest</th>\n",
       "      <th>newbalanceDest</th>\n",
       "      <th>isFraud</th>\n",
       "      <th>isFlaggedFraud</th>\n",
       "    </tr>\n",
       "  </thead>\n",
       "  <tbody>\n",
       "    <tr>\n",
       "      <th>1911</th>\n",
       "      <td>1</td>\n",
       "      <td>CASH_OUT</td>\n",
       "      <td>132842.64</td>\n",
       "      <td>C13692003</td>\n",
       "      <td>4499.08</td>\n",
       "      <td>0.00</td>\n",
       "      <td>C297927961</td>\n",
       "      <td>0.00</td>\n",
       "      <td>132842.64</td>\n",
       "      <td>1</td>\n",
       "      <td>0</td>\n",
       "    </tr>\n",
       "    <tr>\n",
       "      <th>14861</th>\n",
       "      <td>8</td>\n",
       "      <td>CASH_OUT</td>\n",
       "      <td>181728.11</td>\n",
       "      <td>C2102265902</td>\n",
       "      <td>0.00</td>\n",
       "      <td>0.00</td>\n",
       "      <td>C789014007</td>\n",
       "      <td>11397.00</td>\n",
       "      <td>184477.77</td>\n",
       "      <td>1</td>\n",
       "      <td>0</td>\n",
       "    </tr>\n",
       "    <tr>\n",
       "      <th>77745</th>\n",
       "      <td>10</td>\n",
       "      <td>CASH_OUT</td>\n",
       "      <td>277970.88</td>\n",
       "      <td>C489647033</td>\n",
       "      <td>0.00</td>\n",
       "      <td>0.00</td>\n",
       "      <td>C571514738</td>\n",
       "      <td>0.00</td>\n",
       "      <td>277970.88</td>\n",
       "      <td>1</td>\n",
       "      <td>0</td>\n",
       "    </tr>\n",
       "    <tr>\n",
       "      <th>724</th>\n",
       "      <td>1</td>\n",
       "      <td>CASH_OUT</td>\n",
       "      <td>416001.33</td>\n",
       "      <td>C749981943</td>\n",
       "      <td>0.00</td>\n",
       "      <td>0.00</td>\n",
       "      <td>C667346055</td>\n",
       "      <td>102.00</td>\n",
       "      <td>9291619.62</td>\n",
       "      <td>1</td>\n",
       "      <td>0</td>\n",
       "    </tr>\n",
       "    <tr>\n",
       "      <th>60853</th>\n",
       "      <td>9</td>\n",
       "      <td>TRANSFER</td>\n",
       "      <td>994453.20</td>\n",
       "      <td>C1121789613</td>\n",
       "      <td>1437370.87</td>\n",
       "      <td>442917.67</td>\n",
       "      <td>C254839817</td>\n",
       "      <td>194812.76</td>\n",
       "      <td>665743.67</td>\n",
       "      <td>1</td>\n",
       "      <td>0</td>\n",
       "    </tr>\n",
       "    <tr>\n",
       "      <th>25875</th>\n",
       "      <td>8</td>\n",
       "      <td>TRANSFER</td>\n",
       "      <td>1078013.76</td>\n",
       "      <td>C1026280121</td>\n",
       "      <td>0.00</td>\n",
       "      <td>0.00</td>\n",
       "      <td>C277510102</td>\n",
       "      <td>0.00</td>\n",
       "      <td>970749.68</td>\n",
       "      <td>1</td>\n",
       "      <td>0</td>\n",
       "    </tr>\n",
       "    <tr>\n",
       "      <th>4440</th>\n",
       "      <td>4</td>\n",
       "      <td>TRANSFER</td>\n",
       "      <td>10000000.00</td>\n",
       "      <td>C7162498</td>\n",
       "      <td>12930418.44</td>\n",
       "      <td>2930418.44</td>\n",
       "      <td>C945327594</td>\n",
       "      <td>0.00</td>\n",
       "      <td>0.00</td>\n",
       "      <td>1</td>\n",
       "      <td>0</td>\n",
       "    </tr>\n",
       "  </tbody>\n",
       "</table>\n",
       "</div>"
      ],
      "text/plain": [
       "       step      type       amount     nameOrig  oldbalanceOrg  \\\n",
       "1911      1  CASH_OUT    132842.64    C13692003        4499.08   \n",
       "14861     8  CASH_OUT    181728.11  C2102265902           0.00   \n",
       "77745    10  CASH_OUT    277970.88   C489647033           0.00   \n",
       "724       1  CASH_OUT    416001.33   C749981943           0.00   \n",
       "60853     9  TRANSFER    994453.20  C1121789613     1437370.87   \n",
       "25875     8  TRANSFER   1078013.76  C1026280121           0.00   \n",
       "4440      4  TRANSFER  10000000.00     C7162498    12930418.44   \n",
       "\n",
       "       newbalanceOrig    nameDest  oldbalanceDest  newbalanceDest  isFraud  \\\n",
       "1911             0.00  C297927961            0.00       132842.64        1   \n",
       "14861            0.00  C789014007        11397.00       184477.77        1   \n",
       "77745            0.00  C571514738            0.00       277970.88        1   \n",
       "724              0.00  C667346055          102.00      9291619.62        1   \n",
       "60853       442917.67  C254839817       194812.76       665743.67        1   \n",
       "25875            0.00  C277510102            0.00       970749.68        1   \n",
       "4440       2930418.44  C945327594            0.00            0.00        1   \n",
       "\n",
       "       isFlaggedFraud  \n",
       "1911                0  \n",
       "14861               0  \n",
       "77745               0  \n",
       "724                 0  \n",
       "60853               0  \n",
       "25875               0  \n",
       "4440                0  "
      ]
     },
     "execution_count": 20,
     "metadata": {},
     "output_type": "execute_result"
    }
   ],
   "source": [
    "incorrect_balance_fraud_2 = incorrect_balance_fraud[\n",
    "    incorrect_balance_fraud['amount'] != incorrect_balance_fraud['oldbalanceOrg'] \n",
    "]\n",
    "incorrect_balance_fraud_2"
   ]
  },
  {
   "cell_type": "markdown",
   "id": "eed9d2f0-2899-4772-ac4c-0862dcde29da",
   "metadata": {},
   "source": [
    "**Observations:**\n",
    "    \n",
    "- In rows with cashout type, the amount to cash out is bigger than oldbalanceOrg, which should not be possible. Additionally, the amount is seems to get through to the receiver, since the newbalanceDest is equal to the amount. Seems to be an outlier.\n",
    "- There is one case (index 60853), where the amount received by the receiver, is smaller than the amount it supposedly have received.\n",
    "- On the last row (index 4440), the amount and the sender's change in balance is correct. The old and new balance of receiver is both 0, which can be seen on other transactions as well. Is it labeled as fraud because of its ridiculously high amount of transfer? \n"
   ]
  },
  {
   "cell_type": "markdown",
   "id": "fbd34f1d-4f2c-46ed-8599-ef4b1fe64144",
   "metadata": {},
   "source": [
    "**Question:** Are there non fraud transactions that have the same amount and oldbalanceOrg, which seems to be the main pattern for fraud transactions?"
   ]
  },
  {
   "cell_type": "code",
   "execution_count": 21,
   "id": "9fe314dd-ae58-48cd-89c7-00b3137f24db",
   "metadata": {},
   "outputs": [
    {
     "data": {
      "text/html": [
       "<div>\n",
       "<style scoped>\n",
       "    .dataframe tbody tr th:only-of-type {\n",
       "        vertical-align: middle;\n",
       "    }\n",
       "\n",
       "    .dataframe tbody tr th {\n",
       "        vertical-align: top;\n",
       "    }\n",
       "\n",
       "    .dataframe thead th {\n",
       "        text-align: right;\n",
       "    }\n",
       "</style>\n",
       "<table border=\"1\" class=\"dataframe\">\n",
       "  <thead>\n",
       "    <tr style=\"text-align: right;\">\n",
       "      <th></th>\n",
       "      <th>step</th>\n",
       "      <th>type</th>\n",
       "      <th>amount</th>\n",
       "      <th>nameOrig</th>\n",
       "      <th>oldbalanceOrg</th>\n",
       "      <th>newbalanceOrig</th>\n",
       "      <th>nameDest</th>\n",
       "      <th>oldbalanceDest</th>\n",
       "      <th>newbalanceDest</th>\n",
       "      <th>isFraud</th>\n",
       "      <th>isFlaggedFraud</th>\n",
       "    </tr>\n",
       "  </thead>\n",
       "  <tbody>\n",
       "  </tbody>\n",
       "</table>\n",
       "</div>"
      ],
      "text/plain": [
       "Empty DataFrame\n",
       "Columns: [step, type, amount, nameOrig, oldbalanceOrg, newbalanceOrig, nameDest, oldbalanceDest, newbalanceDest, isFraud, isFlaggedFraud]\n",
       "Index: []"
      ]
     },
     "execution_count": 21,
     "metadata": {},
     "output_type": "execute_result"
    }
   ],
   "source": [
    "notFraud_df[notFraud_df['amount'] == notFraud_df['oldbalanceOrg']]"
   ]
  },
  {
   "cell_type": "markdown",
   "id": "281f1ea7-1e2a-4747-bf0f-b995e01025f5",
   "metadata": {},
   "source": [
    "**Answer:** No, there are no non fraud transactions that have the same amount and oldbalanceOrg."
   ]
  },
  {
   "cell_type": "markdown",
   "id": "0fea9fcc-a3a2-4aa7-aad0-b85c9a3ceaac",
   "metadata": {},
   "source": [
    "**Conclusion:**\n",
    "\n",
    "The difference between amount and oldbalanceOrig seems to be a main predictor whether a transaction is fraud or not. Thus, let's create a column for the difference between amount and oldbalanceOrig. Furthermore, the irregularity with most of the data on oldbalanceDest and newbalanceDest column is unexplainable and doesn't make sense. Thus, I'm omitting these columns for the features that will be use for building the model."
   ]
  },
  {
   "cell_type": "code",
   "execution_count": 22,
   "id": "29d07685-6088-48ab-951c-e27e32167b24",
   "metadata": {},
   "outputs": [
    {
     "data": {
      "text/html": [
       "<div>\n",
       "<style scoped>\n",
       "    .dataframe tbody tr th:only-of-type {\n",
       "        vertical-align: middle;\n",
       "    }\n",
       "\n",
       "    .dataframe tbody tr th {\n",
       "        vertical-align: top;\n",
       "    }\n",
       "\n",
       "    .dataframe thead th {\n",
       "        text-align: right;\n",
       "    }\n",
       "</style>\n",
       "<table border=\"1\" class=\"dataframe\">\n",
       "  <thead>\n",
       "    <tr style=\"text-align: right;\">\n",
       "      <th></th>\n",
       "      <th>amount</th>\n",
       "      <th>nameOrig</th>\n",
       "      <th>oldbalanceOrg</th>\n",
       "      <th>newbalanceOrig</th>\n",
       "      <th>nameDest</th>\n",
       "      <th>oldbalanceDest</th>\n",
       "      <th>newbalanceDest</th>\n",
       "      <th>isFlaggedFraud</th>\n",
       "      <th>type_CASH_OUT</th>\n",
       "      <th>type_TRANSFER</th>\n",
       "      <th>isFraud</th>\n",
       "      <th>amount_oldbalanceOrg_diff</th>\n",
       "    </tr>\n",
       "  </thead>\n",
       "  <tbody>\n",
       "    <tr>\n",
       "      <th>0</th>\n",
       "      <td>9839.64</td>\n",
       "      <td>C1231006815</td>\n",
       "      <td>170136.00</td>\n",
       "      <td>160296.36</td>\n",
       "      <td>M1979787155</td>\n",
       "      <td>0.00</td>\n",
       "      <td>0.00</td>\n",
       "      <td>0</td>\n",
       "      <td>0</td>\n",
       "      <td>0</td>\n",
       "      <td>0</td>\n",
       "      <td>160296.36</td>\n",
       "    </tr>\n",
       "    <tr>\n",
       "      <th>1</th>\n",
       "      <td>1864.28</td>\n",
       "      <td>C1666544295</td>\n",
       "      <td>21249.00</td>\n",
       "      <td>19384.72</td>\n",
       "      <td>M2044282225</td>\n",
       "      <td>0.00</td>\n",
       "      <td>0.00</td>\n",
       "      <td>0</td>\n",
       "      <td>0</td>\n",
       "      <td>0</td>\n",
       "      <td>0</td>\n",
       "      <td>19384.72</td>\n",
       "    </tr>\n",
       "    <tr>\n",
       "      <th>2</th>\n",
       "      <td>181.00</td>\n",
       "      <td>C1305486145</td>\n",
       "      <td>181.00</td>\n",
       "      <td>0.00</td>\n",
       "      <td>C553264065</td>\n",
       "      <td>0.00</td>\n",
       "      <td>0.00</td>\n",
       "      <td>0</td>\n",
       "      <td>0</td>\n",
       "      <td>1</td>\n",
       "      <td>1</td>\n",
       "      <td>0.00</td>\n",
       "    </tr>\n",
       "    <tr>\n",
       "      <th>3</th>\n",
       "      <td>181.00</td>\n",
       "      <td>C840083671</td>\n",
       "      <td>181.00</td>\n",
       "      <td>0.00</td>\n",
       "      <td>C38997010</td>\n",
       "      <td>21182.00</td>\n",
       "      <td>0.00</td>\n",
       "      <td>0</td>\n",
       "      <td>1</td>\n",
       "      <td>0</td>\n",
       "      <td>1</td>\n",
       "      <td>0.00</td>\n",
       "    </tr>\n",
       "    <tr>\n",
       "      <th>4</th>\n",
       "      <td>11668.14</td>\n",
       "      <td>C2048537720</td>\n",
       "      <td>41554.00</td>\n",
       "      <td>29885.86</td>\n",
       "      <td>M1230701703</td>\n",
       "      <td>0.00</td>\n",
       "      <td>0.00</td>\n",
       "      <td>0</td>\n",
       "      <td>0</td>\n",
       "      <td>0</td>\n",
       "      <td>0</td>\n",
       "      <td>29885.86</td>\n",
       "    </tr>\n",
       "    <tr>\n",
       "      <th>...</th>\n",
       "      <td>...</td>\n",
       "      <td>...</td>\n",
       "      <td>...</td>\n",
       "      <td>...</td>\n",
       "      <td>...</td>\n",
       "      <td>...</td>\n",
       "      <td>...</td>\n",
       "      <td>...</td>\n",
       "      <td>...</td>\n",
       "      <td>...</td>\n",
       "      <td>...</td>\n",
       "      <td>...</td>\n",
       "    </tr>\n",
       "    <tr>\n",
       "      <th>108695</th>\n",
       "      <td>398389.64</td>\n",
       "      <td>C1331269270</td>\n",
       "      <td>3296473.73</td>\n",
       "      <td>2898084.08</td>\n",
       "      <td>C1140712423</td>\n",
       "      <td>579238.38</td>\n",
       "      <td>753051.86</td>\n",
       "      <td>0</td>\n",
       "      <td>1</td>\n",
       "      <td>0</td>\n",
       "      <td>0</td>\n",
       "      <td>2898084.09</td>\n",
       "    </tr>\n",
       "    <tr>\n",
       "      <th>108696</th>\n",
       "      <td>452251.43</td>\n",
       "      <td>C616412838</td>\n",
       "      <td>447870.63</td>\n",
       "      <td>0.00</td>\n",
       "      <td>C1186254299</td>\n",
       "      <td>0.00</td>\n",
       "      <td>518654.03</td>\n",
       "      <td>0</td>\n",
       "      <td>1</td>\n",
       "      <td>0</td>\n",
       "      <td>0</td>\n",
       "      <td>-4380.80</td>\n",
       "    </tr>\n",
       "    <tr>\n",
       "      <th>108697</th>\n",
       "      <td>5264.12</td>\n",
       "      <td>C1457209565</td>\n",
       "      <td>0.00</td>\n",
       "      <td>0.00</td>\n",
       "      <td>M1988447928</td>\n",
       "      <td>0.00</td>\n",
       "      <td>0.00</td>\n",
       "      <td>0</td>\n",
       "      <td>0</td>\n",
       "      <td>0</td>\n",
       "      <td>0</td>\n",
       "      <td>-5264.12</td>\n",
       "    </tr>\n",
       "    <tr>\n",
       "      <th>108698</th>\n",
       "      <td>239552.64</td>\n",
       "      <td>C1974162368</td>\n",
       "      <td>274.00</td>\n",
       "      <td>0.00</td>\n",
       "      <td>C1398917188</td>\n",
       "      <td>92780.56</td>\n",
       "      <td>0.00</td>\n",
       "      <td>0</td>\n",
       "      <td>1</td>\n",
       "      <td>0</td>\n",
       "      <td>0</td>\n",
       "      <td>-239278.64</td>\n",
       "    </tr>\n",
       "    <tr>\n",
       "      <th>108699</th>\n",
       "      <td>132928.56</td>\n",
       "      <td>C1022022485</td>\n",
       "      <td>1081715.10</td>\n",
       "      <td>948786.54</td>\n",
       "      <td>C1596306253</td>\n",
       "      <td>1499231.60</td>\n",
       "      <td>1348469.83</td>\n",
       "      <td>0</td>\n",
       "      <td>1</td>\n",
       "      <td>0</td>\n",
       "      <td>0</td>\n",
       "      <td>948786.54</td>\n",
       "    </tr>\n",
       "  </tbody>\n",
       "</table>\n",
       "<p>108700 rows × 12 columns</p>\n",
       "</div>"
      ],
      "text/plain": [
       "           amount     nameOrig  oldbalanceOrg  newbalanceOrig     nameDest  \\\n",
       "0         9839.64  C1231006815      170136.00       160296.36  M1979787155   \n",
       "1         1864.28  C1666544295       21249.00        19384.72  M2044282225   \n",
       "2          181.00  C1305486145         181.00            0.00   C553264065   \n",
       "3          181.00   C840083671         181.00            0.00    C38997010   \n",
       "4        11668.14  C2048537720       41554.00        29885.86  M1230701703   \n",
       "...           ...          ...            ...             ...          ...   \n",
       "108695  398389.64  C1331269270     3296473.73      2898084.08  C1140712423   \n",
       "108696  452251.43   C616412838      447870.63            0.00  C1186254299   \n",
       "108697    5264.12  C1457209565           0.00            0.00  M1988447928   \n",
       "108698  239552.64  C1974162368         274.00            0.00  C1398917188   \n",
       "108699  132928.56  C1022022485     1081715.10       948786.54  C1596306253   \n",
       "\n",
       "        oldbalanceDest  newbalanceDest  isFlaggedFraud  type_CASH_OUT  \\\n",
       "0                 0.00            0.00               0              0   \n",
       "1                 0.00            0.00               0              0   \n",
       "2                 0.00            0.00               0              0   \n",
       "3             21182.00            0.00               0              1   \n",
       "4                 0.00            0.00               0              0   \n",
       "...                ...             ...             ...            ...   \n",
       "108695       579238.38       753051.86               0              1   \n",
       "108696            0.00       518654.03               0              1   \n",
       "108697            0.00            0.00               0              0   \n",
       "108698        92780.56            0.00               0              1   \n",
       "108699      1499231.60      1348469.83               0              1   \n",
       "\n",
       "        type_TRANSFER  isFraud  amount_oldbalanceOrg_diff  \n",
       "0                   0        0                  160296.36  \n",
       "1                   0        0                   19384.72  \n",
       "2                   1        1                       0.00  \n",
       "3                   0        1                       0.00  \n",
       "4                   0        0                   29885.86  \n",
       "...               ...      ...                        ...  \n",
       "108695              0        0                 2898084.09  \n",
       "108696              0        0                   -4380.80  \n",
       "108697              0        0                   -5264.12  \n",
       "108698              0        0                 -239278.64  \n",
       "108699              0        0                  948786.54  \n",
       "\n",
       "[108700 rows x 12 columns]"
      ]
     },
     "execution_count": 22,
     "metadata": {},
     "output_type": "execute_result"
    }
   ],
   "source": [
    "# add new column if not exists\n",
    "if 'amount_oldbalanceOrg_diff' not in df.columns:\n",
    "    df['amount_oldbalanceOrg_diff'] = df['oldbalanceOrg'] - df['amount']\n",
    "df"
   ]
  },
  {
   "cell_type": "code",
   "execution_count": 23,
   "id": "d47940a5-cc2d-495f-b8ee-a90f5c804f93",
   "metadata": {},
   "outputs": [
    {
     "name": "stdout",
     "output_type": "stream",
     "text": [
      "oldbalanceDest column is dropped from the given dataframe.\n",
      "newbalanceDest column is dropped from the given dataframe.\n"
     ]
    }
   ],
   "source": [
    "drop_column(df, 'oldbalanceDest')\n",
    "drop_column(df, 'newbalanceDest')"
   ]
  },
  {
   "cell_type": "markdown",
   "id": "0c0d5787-135f-4017-8edf-e25cccace5d2",
   "metadata": {
    "tags": []
   },
   "source": [
    "#### **5. Sender and Receiver Account Names**"
   ]
  },
  {
   "cell_type": "markdown",
   "id": "49c8f75a-8868-4a23-8d2a-01f40b3c5c2f",
   "metadata": {},
   "source": [
    ">**nameOrig** - customer who started the transaction\n",
    ">\n",
    ">**nameDest** - customer who is the recipient of the transaction"
   ]
  },
  {
   "cell_type": "markdown",
   "id": "52d3ba3d-db38-43f9-a8ea-6d8c6ff847f1",
   "metadata": {},
   "source": [
    "**Assumptions**\n",
    "1. Sender can't send money to itself!\n",
    "2. Since fraud payments occurs only on Cashout and Transfer transactions, most, if not all transaction should be from customer to customer.\n",
    "3. *\"In this specific dataset the fraudulent behavior of the agents aims to profit by taking control or customers accounts and try to empty the funds by transferring to another account and then cashing out of the system.\"* Based from this statement, recipients of fraud transfers must be on sender of fraud cashouts.\n"
   ]
  },
  {
   "cell_type": "code",
   "execution_count": 24,
   "id": "a626ef49-98c8-40d9-aed7-5b7fa58c3d61",
   "metadata": {},
   "outputs": [
    {
     "name": "stdout",
     "output_type": "stream",
     "text": [
      "Does same sender and receiver in a transaction possible?\n",
      "False\n"
     ]
    }
   ],
   "source": [
    "print(\"Does same sender and receiver in a transaction possible?\")\n",
    "print(df[df.nameOrig == df.nameDest].value_counts().any())"
   ]
  },
  {
   "cell_type": "code",
   "execution_count": 25,
   "id": "952adb49-a068-4576-8145-2dd37a6f06fa",
   "metadata": {},
   "outputs": [
    {
     "name": "stdout",
     "output_type": "stream",
     "text": [
      "Sender Types: ['C']\n",
      "Receiver Types: ['M' 'C']\n",
      "Senders of fraud transactions: ['C']\n",
      "Receivers of fraud transactions: ['C']\n"
     ]
    }
   ],
   "source": [
    "senders = df['nameOrig'].astype(str).str[0].unique()\n",
    "receivers = df['nameDest'].astype(str).str[0].unique()\n",
    "fraud_senders = isFraud_df['nameOrig'].astype(str).str[0].unique()\n",
    "fraud_receivers = isFraud_df['nameDest'].astype(str).str[0].unique()\n",
    "\n",
    "print(f'Sender Types: {senders}')\n",
    "print(f'Receiver Types: {receivers}')\n",
    "print(f'Senders of fraud transactions: {fraud_senders}')\n",
    "print(f'Receivers of fraud transactions: {fraud_receivers}')"
   ]
  },
  {
   "cell_type": "code",
   "execution_count": 26,
   "id": "167e9001-c9b2-4252-ab8a-60a73c7baeef",
   "metadata": {},
   "outputs": [
    {
     "name": "stdout",
     "output_type": "stream",
     "text": [
      "Does a receiver of fraud transfer showed up in sender of fraud cashout?\n",
      "False\n"
     ]
    }
   ],
   "source": [
    "pay_type = isFraud_df.type.unique() # ['TRANSFER', 'CASH_OUT']\n",
    "fraud_transfer = isFraud_df[isFraud_df.type == pay_type[0]]\n",
    "fraud_cashout = isFraud_df[isFraud_df.type == pay_type[1]]\n",
    "\n",
    "print('Does a receiver of fraud transfer showed up in sender of fraud cashout?')\n",
    "print(fraud_transfer.nameDest.isin(fraud_cashout.nameOrig).any())"
   ]
  },
  {
   "cell_type": "markdown",
   "id": "93794087-9f0e-447d-9fac-aff1167189e6",
   "metadata": {},
   "source": [
    "**Conclusion**\n",
    "- The dataset doesn't have a row with same nameDest and nameOrig, which can be an outlier.\n",
    "- Rows with receiver type 'M' can be ruled out as non fraudulent transactions. \n",
    "- We'll replace the nameOrig and nameDest column with a column for transactions that have Merchants as its receiver. "
   ]
  },
  {
   "cell_type": "code",
   "execution_count": 27,
   "id": "ff879357-2dd1-48e7-90ad-4e59c827ce15",
   "metadata": {},
   "outputs": [
    {
     "data": {
      "text/html": [
       "<div>\n",
       "<style scoped>\n",
       "    .dataframe tbody tr th:only-of-type {\n",
       "        vertical-align: middle;\n",
       "    }\n",
       "\n",
       "    .dataframe tbody tr th {\n",
       "        vertical-align: top;\n",
       "    }\n",
       "\n",
       "    .dataframe thead th {\n",
       "        text-align: right;\n",
       "    }\n",
       "</style>\n",
       "<table border=\"1\" class=\"dataframe\">\n",
       "  <thead>\n",
       "    <tr style=\"text-align: right;\">\n",
       "      <th></th>\n",
       "      <th>amount</th>\n",
       "      <th>nameOrig</th>\n",
       "      <th>oldbalanceOrg</th>\n",
       "      <th>newbalanceOrig</th>\n",
       "      <th>nameDest</th>\n",
       "      <th>isFlaggedFraud</th>\n",
       "      <th>type_CASH_OUT</th>\n",
       "      <th>type_TRANSFER</th>\n",
       "      <th>isFraud</th>\n",
       "      <th>amount_oldbalanceOrg_diff</th>\n",
       "      <th>is_receiver_merchant</th>\n",
       "    </tr>\n",
       "  </thead>\n",
       "  <tbody>\n",
       "    <tr>\n",
       "      <th>0</th>\n",
       "      <td>9839.64</td>\n",
       "      <td>C1231006815</td>\n",
       "      <td>170136.00</td>\n",
       "      <td>160296.36</td>\n",
       "      <td>M1979787155</td>\n",
       "      <td>0</td>\n",
       "      <td>0</td>\n",
       "      <td>0</td>\n",
       "      <td>0</td>\n",
       "      <td>160296.36</td>\n",
       "      <td>1</td>\n",
       "    </tr>\n",
       "    <tr>\n",
       "      <th>1</th>\n",
       "      <td>1864.28</td>\n",
       "      <td>C1666544295</td>\n",
       "      <td>21249.00</td>\n",
       "      <td>19384.72</td>\n",
       "      <td>M2044282225</td>\n",
       "      <td>0</td>\n",
       "      <td>0</td>\n",
       "      <td>0</td>\n",
       "      <td>0</td>\n",
       "      <td>19384.72</td>\n",
       "      <td>1</td>\n",
       "    </tr>\n",
       "    <tr>\n",
       "      <th>2</th>\n",
       "      <td>181.00</td>\n",
       "      <td>C1305486145</td>\n",
       "      <td>181.00</td>\n",
       "      <td>0.00</td>\n",
       "      <td>C553264065</td>\n",
       "      <td>0</td>\n",
       "      <td>0</td>\n",
       "      <td>1</td>\n",
       "      <td>1</td>\n",
       "      <td>0.00</td>\n",
       "      <td>0</td>\n",
       "    </tr>\n",
       "    <tr>\n",
       "      <th>3</th>\n",
       "      <td>181.00</td>\n",
       "      <td>C840083671</td>\n",
       "      <td>181.00</td>\n",
       "      <td>0.00</td>\n",
       "      <td>C38997010</td>\n",
       "      <td>0</td>\n",
       "      <td>1</td>\n",
       "      <td>0</td>\n",
       "      <td>1</td>\n",
       "      <td>0.00</td>\n",
       "      <td>0</td>\n",
       "    </tr>\n",
       "    <tr>\n",
       "      <th>4</th>\n",
       "      <td>11668.14</td>\n",
       "      <td>C2048537720</td>\n",
       "      <td>41554.00</td>\n",
       "      <td>29885.86</td>\n",
       "      <td>M1230701703</td>\n",
       "      <td>0</td>\n",
       "      <td>0</td>\n",
       "      <td>0</td>\n",
       "      <td>0</td>\n",
       "      <td>29885.86</td>\n",
       "      <td>1</td>\n",
       "    </tr>\n",
       "    <tr>\n",
       "      <th>...</th>\n",
       "      <td>...</td>\n",
       "      <td>...</td>\n",
       "      <td>...</td>\n",
       "      <td>...</td>\n",
       "      <td>...</td>\n",
       "      <td>...</td>\n",
       "      <td>...</td>\n",
       "      <td>...</td>\n",
       "      <td>...</td>\n",
       "      <td>...</td>\n",
       "      <td>...</td>\n",
       "    </tr>\n",
       "    <tr>\n",
       "      <th>108695</th>\n",
       "      <td>398389.64</td>\n",
       "      <td>C1331269270</td>\n",
       "      <td>3296473.73</td>\n",
       "      <td>2898084.08</td>\n",
       "      <td>C1140712423</td>\n",
       "      <td>0</td>\n",
       "      <td>1</td>\n",
       "      <td>0</td>\n",
       "      <td>0</td>\n",
       "      <td>2898084.09</td>\n",
       "      <td>0</td>\n",
       "    </tr>\n",
       "    <tr>\n",
       "      <th>108696</th>\n",
       "      <td>452251.43</td>\n",
       "      <td>C616412838</td>\n",
       "      <td>447870.63</td>\n",
       "      <td>0.00</td>\n",
       "      <td>C1186254299</td>\n",
       "      <td>0</td>\n",
       "      <td>1</td>\n",
       "      <td>0</td>\n",
       "      <td>0</td>\n",
       "      <td>-4380.80</td>\n",
       "      <td>0</td>\n",
       "    </tr>\n",
       "    <tr>\n",
       "      <th>108697</th>\n",
       "      <td>5264.12</td>\n",
       "      <td>C1457209565</td>\n",
       "      <td>0.00</td>\n",
       "      <td>0.00</td>\n",
       "      <td>M1988447928</td>\n",
       "      <td>0</td>\n",
       "      <td>0</td>\n",
       "      <td>0</td>\n",
       "      <td>0</td>\n",
       "      <td>-5264.12</td>\n",
       "      <td>1</td>\n",
       "    </tr>\n",
       "    <tr>\n",
       "      <th>108698</th>\n",
       "      <td>239552.64</td>\n",
       "      <td>C1974162368</td>\n",
       "      <td>274.00</td>\n",
       "      <td>0.00</td>\n",
       "      <td>C1398917188</td>\n",
       "      <td>0</td>\n",
       "      <td>1</td>\n",
       "      <td>0</td>\n",
       "      <td>0</td>\n",
       "      <td>-239278.64</td>\n",
       "      <td>0</td>\n",
       "    </tr>\n",
       "    <tr>\n",
       "      <th>108699</th>\n",
       "      <td>132928.56</td>\n",
       "      <td>C1022022485</td>\n",
       "      <td>1081715.10</td>\n",
       "      <td>948786.54</td>\n",
       "      <td>C1596306253</td>\n",
       "      <td>0</td>\n",
       "      <td>1</td>\n",
       "      <td>0</td>\n",
       "      <td>0</td>\n",
       "      <td>948786.54</td>\n",
       "      <td>0</td>\n",
       "    </tr>\n",
       "  </tbody>\n",
       "</table>\n",
       "<p>108700 rows × 11 columns</p>\n",
       "</div>"
      ],
      "text/plain": [
       "           amount     nameOrig  oldbalanceOrg  newbalanceOrig     nameDest  \\\n",
       "0         9839.64  C1231006815      170136.00       160296.36  M1979787155   \n",
       "1         1864.28  C1666544295       21249.00        19384.72  M2044282225   \n",
       "2          181.00  C1305486145         181.00            0.00   C553264065   \n",
       "3          181.00   C840083671         181.00            0.00    C38997010   \n",
       "4        11668.14  C2048537720       41554.00        29885.86  M1230701703   \n",
       "...           ...          ...            ...             ...          ...   \n",
       "108695  398389.64  C1331269270     3296473.73      2898084.08  C1140712423   \n",
       "108696  452251.43   C616412838      447870.63            0.00  C1186254299   \n",
       "108697    5264.12  C1457209565           0.00            0.00  M1988447928   \n",
       "108698  239552.64  C1974162368         274.00            0.00  C1398917188   \n",
       "108699  132928.56  C1022022485     1081715.10       948786.54  C1596306253   \n",
       "\n",
       "        isFlaggedFraud  type_CASH_OUT  type_TRANSFER  isFraud  \\\n",
       "0                    0              0              0        0   \n",
       "1                    0              0              0        0   \n",
       "2                    0              0              1        1   \n",
       "3                    0              1              0        1   \n",
       "4                    0              0              0        0   \n",
       "...                ...            ...            ...      ...   \n",
       "108695               0              1              0        0   \n",
       "108696               0              1              0        0   \n",
       "108697               0              0              0        0   \n",
       "108698               0              1              0        0   \n",
       "108699               0              1              0        0   \n",
       "\n",
       "        amount_oldbalanceOrg_diff  is_receiver_merchant  \n",
       "0                       160296.36                     1  \n",
       "1                        19384.72                     1  \n",
       "2                            0.00                     0  \n",
       "3                            0.00                     0  \n",
       "4                        29885.86                     1  \n",
       "...                           ...                   ...  \n",
       "108695                 2898084.09                     0  \n",
       "108696                   -4380.80                     0  \n",
       "108697                   -5264.12                     1  \n",
       "108698                 -239278.64                     0  \n",
       "108699                  948786.54                     0  \n",
       "\n",
       "[108700 rows x 11 columns]"
      ]
     },
     "execution_count": 27,
     "metadata": {},
     "output_type": "execute_result"
    }
   ],
   "source": [
    "name_dest_category = df['nameDest'].astype(str).str[0]\n",
    "df['is_receiver_merchant'] = (name_dest_category == 'M').astype(int)\n",
    "df"
   ]
  },
  {
   "cell_type": "code",
   "execution_count": 28,
   "id": "3549a322-80e4-4ba1-bd79-aa8673971f5d",
   "metadata": {},
   "outputs": [
    {
     "name": "stdout",
     "output_type": "stream",
     "text": [
      "nameOrig column is dropped from the given dataframe.\n",
      "nameDest column is dropped from the given dataframe.\n"
     ]
    }
   ],
   "source": [
    "drop_column(df, 'nameOrig')\n",
    "drop_column(df, 'nameDest')"
   ]
  },
  {
   "cell_type": "markdown",
   "id": "14e867eb-883c-41f5-b1b0-373fad0d3b43",
   "metadata": {
    "tags": []
   },
   "source": [
    "#### **6. Flagged as Fraud Transactions**"
   ]
  },
  {
   "cell_type": "markdown",
   "id": "b4fcb605-d0ed-4099-9883-cf47f883462b",
   "metadata": {},
   "source": [
    ">**isFlaggedFraud** - The business model aims to control massive transfers from one account to another and flags illegal attempts. An illegal attempt in this dataset is an attempt to transfer more than 200,000 in a single transaction."
   ]
  },
  {
   "cell_type": "markdown",
   "id": "5e4c6a49-27f2-4844-aca9-1ca74655d5ee",
   "metadata": {},
   "source": [
    "**Let's check the correlation between the isFlaggedFraud and isFraud column**"
   ]
  },
  {
   "cell_type": "code",
   "execution_count": 29,
   "id": "9fc54490-e3ff-40eb-9e44-ee721d5544c6",
   "metadata": {},
   "outputs": [
    {
     "data": {
      "text/html": [
       "<div>\n",
       "<style scoped>\n",
       "    .dataframe tbody tr th:only-of-type {\n",
       "        vertical-align: middle;\n",
       "    }\n",
       "\n",
       "    .dataframe tbody tr th {\n",
       "        vertical-align: top;\n",
       "    }\n",
       "\n",
       "    .dataframe thead th {\n",
       "        text-align: right;\n",
       "    }\n",
       "</style>\n",
       "<table border=\"1\" class=\"dataframe\">\n",
       "  <thead>\n",
       "    <tr style=\"text-align: right;\">\n",
       "      <th></th>\n",
       "      <th>isFraud</th>\n",
       "      <th>isFlaggedFraud</th>\n",
       "    </tr>\n",
       "  </thead>\n",
       "  <tbody>\n",
       "    <tr>\n",
       "      <th>isFraud</th>\n",
       "      <td>1.0</td>\n",
       "      <td>NaN</td>\n",
       "    </tr>\n",
       "    <tr>\n",
       "      <th>isFlaggedFraud</th>\n",
       "      <td>NaN</td>\n",
       "      <td>NaN</td>\n",
       "    </tr>\n",
       "  </tbody>\n",
       "</table>\n",
       "</div>"
      ],
      "text/plain": [
       "                isFraud  isFlaggedFraud\n",
       "isFraud             1.0             NaN\n",
       "isFlaggedFraud      NaN             NaN"
      ]
     },
     "execution_count": 29,
     "metadata": {},
     "output_type": "execute_result"
    }
   ],
   "source": [
    "corr_mat = df[['isFraud', 'isFlaggedFraud']].corr()\n",
    "corr_mat"
   ]
  },
  {
   "cell_type": "code",
   "execution_count": 30,
   "id": "8e40ecd4-5415-49aa-921c-a668a145e335",
   "metadata": {},
   "outputs": [
    {
     "name": "stdout",
     "output_type": "stream",
     "text": [
      "Fraud transactions by type: \n",
      " 0    108700\n",
      "Name: isFlaggedFraud, dtype: int64\n"
     ]
    }
   ],
   "source": [
    "print(\"Fraud transactions by type: \\n\",df.isFlaggedFraud.value_counts())"
   ]
  },
  {
   "cell_type": "markdown",
   "id": "a0f24c2d-a5e9-4409-b4eb-f7e3170eeb2f",
   "metadata": {},
   "source": [
    "**Conclusion**\n",
    "\n",
    "I thought that there would be a correlation between the two columns. From my understanding, this column is an attempt for flagging massive transactions as fraud.\n",
    "\n",
    "Since isFlaggedFraud column indicates that all transactions are not fraud, this will not be useful as a feature for the model."
   ]
  },
  {
   "cell_type": "code",
   "execution_count": 31,
   "id": "503b14c6-7264-4d22-9502-fb50c9f60706",
   "metadata": {},
   "outputs": [
    {
     "name": "stdout",
     "output_type": "stream",
     "text": [
      "isFlaggedFraud column is dropped from the given dataframe.\n"
     ]
    }
   ],
   "source": [
    "drop_column(df, 'isFlaggedFraud')"
   ]
  },
  {
   "cell_type": "markdown",
   "id": "43df4406-c21d-46d2-897f-cfe787a17269",
   "metadata": {
    "tags": []
   },
   "source": [
    "#### **7. Fraud or Not Fraud?**"
   ]
  },
  {
   "cell_type": "markdown",
   "id": "5ab0b81b-37ff-4494-92e9-f82e8baedc98",
   "metadata": {},
   "source": [
    ">**isFraud** - This is the transactions made by the fraudulent agents inside the simulation. In this specific dataset the fraudulent behavior of the agents aims to profit by taking control or customers accounts and try to empty the funds by transferring to another account and then cashing out of the system."
   ]
  },
  {
   "cell_type": "markdown",
   "id": "0f965045-68f3-4c7f-867e-d0d6bf9ad05f",
   "metadata": {},
   "source": [
    "**Let's check the distribution of targets within our dataset**"
   ]
  },
  {
   "cell_type": "code",
   "execution_count": 32,
   "id": "d637973d-d861-4d8a-94aa-6007f1d22e66",
   "metadata": {},
   "outputs": [
    {
     "data": {
      "text/html": [
       "<div>\n",
       "<style scoped>\n",
       "    .dataframe tbody tr th:only-of-type {\n",
       "        vertical-align: middle;\n",
       "    }\n",
       "\n",
       "    .dataframe tbody tr th {\n",
       "        vertical-align: top;\n",
       "    }\n",
       "\n",
       "    .dataframe thead th {\n",
       "        text-align: right;\n",
       "    }\n",
       "</style>\n",
       "<table border=\"1\" class=\"dataframe\">\n",
       "  <thead>\n",
       "    <tr style=\"text-align: right;\">\n",
       "      <th></th>\n",
       "      <th>counts</th>\n",
       "      <th>freq</th>\n",
       "      <th>percentage</th>\n",
       "    </tr>\n",
       "  </thead>\n",
       "  <tbody>\n",
       "    <tr>\n",
       "      <th>0</th>\n",
       "      <td>108580</td>\n",
       "      <td>0.998896</td>\n",
       "      <td>99.9%</td>\n",
       "    </tr>\n",
       "    <tr>\n",
       "      <th>1</th>\n",
       "      <td>120</td>\n",
       "      <td>0.001104</td>\n",
       "      <td>0.1%</td>\n",
       "    </tr>\n",
       "  </tbody>\n",
       "</table>\n",
       "</div>"
      ],
      "text/plain": [
       "   counts      freq percentage\n",
       "0  108580  0.998896      99.9%\n",
       "1     120  0.001104       0.1%"
      ]
     },
     "execution_count": 32,
     "metadata": {},
     "output_type": "execute_result"
    }
   ],
   "source": [
    "col = df['isFraud']\n",
    "unique_counts = col.value_counts()\n",
    "relative_freq = col.value_counts(normalize=True)\n",
    "percentage = relative_freq.mul(100).round(1).astype(str) + '%'\n",
    "pd.DataFrame({'counts': unique_counts, 'freq': relative_freq, 'percentage': percentage})"
   ]
  },
  {
   "cell_type": "markdown",
   "id": "b273bcbe-430d-4028-8bab-a576ecce80a7",
   "metadata": {},
   "source": [
    "**Observations**\n",
    "\n",
    "There is a clear imbalance between the two labels. This needs to be balanced to prevent the model to be over-bias towards the majority label. We'll work on balancing out the data once we performed the train-test split on the dataset."
   ]
  },
  {
   "cell_type": "markdown",
   "id": "c31c3b40-54af-4ad4-a614-30f142cf0f62",
   "metadata": {},
   "source": [
    "#### **Final Dataset**"
   ]
  },
  {
   "cell_type": "markdown",
   "id": "b68c95cc-b85c-4eb6-8c7a-d4c666a74e75",
   "metadata": {},
   "source": [
    "After performing EDA, Feature Engineering, and Feature Selection, here is the final dataset that we will use for building our model."
   ]
  },
  {
   "cell_type": "code",
   "execution_count": 33,
   "id": "4ee70a13-4a36-4f4b-b6eb-f0cea2bb366d",
   "metadata": {},
   "outputs": [
    {
     "data": {
      "text/html": [
       "<div>\n",
       "<style scoped>\n",
       "    .dataframe tbody tr th:only-of-type {\n",
       "        vertical-align: middle;\n",
       "    }\n",
       "\n",
       "    .dataframe tbody tr th {\n",
       "        vertical-align: top;\n",
       "    }\n",
       "\n",
       "    .dataframe thead th {\n",
       "        text-align: right;\n",
       "    }\n",
       "</style>\n",
       "<table border=\"1\" class=\"dataframe\">\n",
       "  <thead>\n",
       "    <tr style=\"text-align: right;\">\n",
       "      <th></th>\n",
       "      <th>amount</th>\n",
       "      <th>oldbalanceOrg</th>\n",
       "      <th>newbalanceOrig</th>\n",
       "      <th>type_CASH_OUT</th>\n",
       "      <th>type_TRANSFER</th>\n",
       "      <th>isFraud</th>\n",
       "      <th>amount_oldbalanceOrg_diff</th>\n",
       "      <th>is_receiver_merchant</th>\n",
       "    </tr>\n",
       "  </thead>\n",
       "  <tbody>\n",
       "    <tr>\n",
       "      <th>0</th>\n",
       "      <td>9839.64</td>\n",
       "      <td>170136.00</td>\n",
       "      <td>160296.36</td>\n",
       "      <td>0</td>\n",
       "      <td>0</td>\n",
       "      <td>0</td>\n",
       "      <td>160296.36</td>\n",
       "      <td>1</td>\n",
       "    </tr>\n",
       "    <tr>\n",
       "      <th>1</th>\n",
       "      <td>1864.28</td>\n",
       "      <td>21249.00</td>\n",
       "      <td>19384.72</td>\n",
       "      <td>0</td>\n",
       "      <td>0</td>\n",
       "      <td>0</td>\n",
       "      <td>19384.72</td>\n",
       "      <td>1</td>\n",
       "    </tr>\n",
       "    <tr>\n",
       "      <th>2</th>\n",
       "      <td>181.00</td>\n",
       "      <td>181.00</td>\n",
       "      <td>0.00</td>\n",
       "      <td>0</td>\n",
       "      <td>1</td>\n",
       "      <td>1</td>\n",
       "      <td>0.00</td>\n",
       "      <td>0</td>\n",
       "    </tr>\n",
       "    <tr>\n",
       "      <th>3</th>\n",
       "      <td>181.00</td>\n",
       "      <td>181.00</td>\n",
       "      <td>0.00</td>\n",
       "      <td>1</td>\n",
       "      <td>0</td>\n",
       "      <td>1</td>\n",
       "      <td>0.00</td>\n",
       "      <td>0</td>\n",
       "    </tr>\n",
       "    <tr>\n",
       "      <th>4</th>\n",
       "      <td>11668.14</td>\n",
       "      <td>41554.00</td>\n",
       "      <td>29885.86</td>\n",
       "      <td>0</td>\n",
       "      <td>0</td>\n",
       "      <td>0</td>\n",
       "      <td>29885.86</td>\n",
       "      <td>1</td>\n",
       "    </tr>\n",
       "    <tr>\n",
       "      <th>...</th>\n",
       "      <td>...</td>\n",
       "      <td>...</td>\n",
       "      <td>...</td>\n",
       "      <td>...</td>\n",
       "      <td>...</td>\n",
       "      <td>...</td>\n",
       "      <td>...</td>\n",
       "      <td>...</td>\n",
       "    </tr>\n",
       "    <tr>\n",
       "      <th>108695</th>\n",
       "      <td>398389.64</td>\n",
       "      <td>3296473.73</td>\n",
       "      <td>2898084.08</td>\n",
       "      <td>1</td>\n",
       "      <td>0</td>\n",
       "      <td>0</td>\n",
       "      <td>2898084.09</td>\n",
       "      <td>0</td>\n",
       "    </tr>\n",
       "    <tr>\n",
       "      <th>108696</th>\n",
       "      <td>452251.43</td>\n",
       "      <td>447870.63</td>\n",
       "      <td>0.00</td>\n",
       "      <td>1</td>\n",
       "      <td>0</td>\n",
       "      <td>0</td>\n",
       "      <td>-4380.80</td>\n",
       "      <td>0</td>\n",
       "    </tr>\n",
       "    <tr>\n",
       "      <th>108697</th>\n",
       "      <td>5264.12</td>\n",
       "      <td>0.00</td>\n",
       "      <td>0.00</td>\n",
       "      <td>0</td>\n",
       "      <td>0</td>\n",
       "      <td>0</td>\n",
       "      <td>-5264.12</td>\n",
       "      <td>1</td>\n",
       "    </tr>\n",
       "    <tr>\n",
       "      <th>108698</th>\n",
       "      <td>239552.64</td>\n",
       "      <td>274.00</td>\n",
       "      <td>0.00</td>\n",
       "      <td>1</td>\n",
       "      <td>0</td>\n",
       "      <td>0</td>\n",
       "      <td>-239278.64</td>\n",
       "      <td>0</td>\n",
       "    </tr>\n",
       "    <tr>\n",
       "      <th>108699</th>\n",
       "      <td>132928.56</td>\n",
       "      <td>1081715.10</td>\n",
       "      <td>948786.54</td>\n",
       "      <td>1</td>\n",
       "      <td>0</td>\n",
       "      <td>0</td>\n",
       "      <td>948786.54</td>\n",
       "      <td>0</td>\n",
       "    </tr>\n",
       "  </tbody>\n",
       "</table>\n",
       "<p>108700 rows × 8 columns</p>\n",
       "</div>"
      ],
      "text/plain": [
       "           amount  oldbalanceOrg  newbalanceOrig  type_CASH_OUT  \\\n",
       "0         9839.64      170136.00       160296.36              0   \n",
       "1         1864.28       21249.00        19384.72              0   \n",
       "2          181.00         181.00            0.00              0   \n",
       "3          181.00         181.00            0.00              1   \n",
       "4        11668.14       41554.00        29885.86              0   \n",
       "...           ...            ...             ...            ...   \n",
       "108695  398389.64     3296473.73      2898084.08              1   \n",
       "108696  452251.43      447870.63            0.00              1   \n",
       "108697    5264.12           0.00            0.00              0   \n",
       "108698  239552.64         274.00            0.00              1   \n",
       "108699  132928.56     1081715.10       948786.54              1   \n",
       "\n",
       "        type_TRANSFER  isFraud  amount_oldbalanceOrg_diff  \\\n",
       "0                   0        0                  160296.36   \n",
       "1                   0        0                   19384.72   \n",
       "2                   1        1                       0.00   \n",
       "3                   0        1                       0.00   \n",
       "4                   0        0                   29885.86   \n",
       "...               ...      ...                        ...   \n",
       "108695              0        0                 2898084.09   \n",
       "108696              0        0                   -4380.80   \n",
       "108697              0        0                   -5264.12   \n",
       "108698              0        0                 -239278.64   \n",
       "108699              0        0                  948786.54   \n",
       "\n",
       "        is_receiver_merchant  \n",
       "0                          1  \n",
       "1                          1  \n",
       "2                          0  \n",
       "3                          0  \n",
       "4                          1  \n",
       "...                      ...  \n",
       "108695                     0  \n",
       "108696                     0  \n",
       "108697                     1  \n",
       "108698                     0  \n",
       "108699                     0  \n",
       "\n",
       "[108700 rows x 8 columns]"
      ]
     },
     "execution_count": 33,
     "metadata": {},
     "output_type": "execute_result"
    }
   ],
   "source": [
    "df"
   ]
  },
  {
   "cell_type": "markdown",
   "id": "970850ff-b54e-4665-9e5d-5d0117c843fc",
   "metadata": {},
   "source": [
    "### **III. Building ML Model**"
   ]
  },
  {
   "cell_type": "markdown",
   "id": "f4049c14-c446-4ca4-9f38-7e112cd42ac7",
   "metadata": {},
   "source": [
    "The model that will be built is for detecting fraud payment transactions. The following are the metrics that are usually used to measure the performance of a classification model:\n",
    "\n",
    "- **Accuracy** - the number of correct predictions divided by the total number of predictions.\n",
    "- **Precision** - out of all the positive predicted examples, how many detections were correct?\n",
    "- **Recall** - out of all actual positive examples, how many were we able to identify?\n",
    "- **F1 Score** - evaluates the performance using harmonic mean of precision and recall\n",
    "\n",
    "In building the model, we will mostly be concerned with the performance of recall and precision. Simply, we want to catch all fraud transactions, and at the same time, we want to avoid flagging non-fraud transactions as fraud to avoid disturbances and delay to the customers. Thus, it would be wise to **use F1 score as our metric** in measuring the performance of our model.\n",
    "\n",
    "To determine what classifier that will be used in building our model, we will try the following classification algorithm and compare each performance:\n",
    "\n",
    "1. **Logistic Regression**\n",
    "2. **Naive Bayes**\n",
    "3. **K Nearest Neighbor**\n",
    "4. **Perceptron**\n",
    "5. **Decision Tree**"
   ]
  },
  {
   "cell_type": "code",
   "execution_count": 34,
   "id": "2ec5477b-07d5-4d9c-af82-fe4bb298a2e0",
   "metadata": {
    "tags": []
   },
   "outputs": [],
   "source": [
    "class model_benchtest:\n",
    "    \n",
    "    # ML Classifier Objects\n",
    "    log_reg_clf = LogisticRegression(solver='liblinear', max_iter=1000)\n",
    "    nb_clf = GaussianNB()\n",
    "    knn_clf = KNeighborsClassifier()\n",
    "    prcptrn_clf = Perceptron()\n",
    "    dt_clf=DecisionTreeClassifier()\n",
    "\n",
    "    # ML Classifier Dictionary\n",
    "    clf_dict = {\n",
    "        'Logistic Regression': log_reg_clf, \n",
    "        'Naive Bayes': nb_clf,\n",
    "        'KNN': knn_clf,\n",
    "        'Perceptron': prcptrn_clf,\n",
    "        'Decision Tree': dt_clf\n",
    "    }\n",
    "    \n",
    "    def __init__(self, X_train, y_train, X_test, y_test):\n",
    "        self.X_train = X_train\n",
    "        self.y_train = y_train\n",
    "        self.X_test = X_test\n",
    "        self.y_test = y_test\n",
    "        self.clf_models = self.get_clf_models()\n",
    "        self.predictions = self.get_predictions()\n",
    "        \n",
    "    def get_clf_models(self):\n",
    "        models = []\n",
    "        for clf in self.clf_dict.keys():\n",
    "            model = self.clf_dict[clf].fit(self.X_train, self.y_train)\n",
    "            models.append({\n",
    "                'classifier': clf,\n",
    "                'model': model\n",
    "            })\n",
    "            \n",
    "        return models\n",
    "        \n",
    "    def get_predictions(self):\n",
    "        model_predictions = []\n",
    "        for clf_model in self.clf_models:\n",
    "            y_pred = clf_model['model'].predict(self.X_test)\n",
    "            model_predictions.append({\n",
    "                'classifier': clf_model['classifier'],\n",
    "                'values': y_pred\n",
    "            })\n",
    "            \n",
    "        return model_predictions\n",
    "    \n",
    "    def get_performance_metrics(self):\n",
    "        model_metrics = []\n",
    "        for prediction in self.predictions:\n",
    "            accuracy = metrics.accuracy_score(self.y_test, prediction['values']) * 100\n",
    "            precision = metrics.precision_score(self.y_test, prediction['values'], zero_division=1) * 100\n",
    "            recall = metrics.recall_score(self.y_test, prediction['values'], zero_division=1) * 100\n",
    "            f1_score = metrics.f1_score(self.y_test, prediction['values']) * 100\n",
    "            \n",
    "            model_metrics.append({\n",
    "                'model': prediction['classifier'], \n",
    "                'accuracy': accuracy, \n",
    "                'precision': precision,\n",
    "                'recall': recall,\n",
    "                'f1_score': f1_score\n",
    "            })\n",
    "            \n",
    "        return model_metrics\n",
    "    \n",
    "    def get_performance_metrics_df(self, col_name='f1_score'):\n",
    "        performance_metrics = self.get_performance_metrics()\n",
    "        \n",
    "        return pd.DataFrame(performance_metrics).sort_values(by=col_name, ascending=False)\n",
    "    \n",
    "    def plot_confusion_matrix(self, labels=[0,1]):\n",
    "        fig, axes = plt.subplots(3, 2, figsize=(15,15))\n",
    "        fig.delaxes(axes[2,1]) # remove last subplot\n",
    "        fig.tight_layout(pad=5)\n",
    "        \n",
    "        for prediction, ax in zip(self.predictions, axes.flatten()):\n",
    "            ConfusionMatrixDisplay.from_predictions(\n",
    "                self.y_test, prediction['values'], ax=ax, cmap='Greens', display_labels=labels\n",
    "            )\n",
    "            ax.title.set_text(prediction['classifier'])\n",
    "            \n",
    "        plt.show()"
   ]
  },
  {
   "cell_type": "markdown",
   "id": "54ea9585-0e26-491b-9e65-bdf94629dec8",
   "metadata": {},
   "source": [
    "#### **Train Test Split**"
   ]
  },
  {
   "cell_type": "code",
   "execution_count": 35,
   "id": "1255df85-4429-4472-9d6e-55b465b06891",
   "metadata": {},
   "outputs": [],
   "source": [
    "X = df.drop('isFraud', axis=1)\n",
    "y = df.isFraud\n",
    "\n",
    "X_train, X_test, y_train, y_test = train_test_split(\n",
    "    X, y, test_size=0.30, random_state=42\n",
    ")"
   ]
  },
  {
   "cell_type": "markdown",
   "id": "88cadb52-7793-4384-b4d4-279f76a79aa3",
   "metadata": {},
   "source": [
    "#### **Bench Test # 1: Imbalanced Data**"
   ]
  },
  {
   "cell_type": "markdown",
   "id": "b1b0656e-115f-4557-9247-6b30ef58451a",
   "metadata": {},
   "source": [
    "First, let's get an initial bench test of the performance of each model using our current data. We'll try some adjustments along the way to see if we can further improve the performance."
   ]
  },
  {
   "cell_type": "code",
   "execution_count": 36,
   "id": "1fd3f361-acf6-4397-a7ff-5daee7e378ee",
   "metadata": {
    "tags": []
   },
   "outputs": [
    {
     "data": {
      "text/html": [
       "<div>\n",
       "<style scoped>\n",
       "    .dataframe tbody tr th:only-of-type {\n",
       "        vertical-align: middle;\n",
       "    }\n",
       "\n",
       "    .dataframe tbody tr th {\n",
       "        vertical-align: top;\n",
       "    }\n",
       "\n",
       "    .dataframe thead th {\n",
       "        text-align: right;\n",
       "    }\n",
       "</style>\n",
       "<table border=\"1\" class=\"dataframe\">\n",
       "  <thead>\n",
       "    <tr style=\"text-align: right;\">\n",
       "      <th></th>\n",
       "      <th>model</th>\n",
       "      <th>accuracy</th>\n",
       "      <th>precision</th>\n",
       "      <th>recall</th>\n",
       "      <th>f1_score</th>\n",
       "    </tr>\n",
       "  </thead>\n",
       "  <tbody>\n",
       "    <tr>\n",
       "      <th>4</th>\n",
       "      <td>Decision Tree</td>\n",
       "      <td>99.978534</td>\n",
       "      <td>85.294118</td>\n",
       "      <td>93.548387</td>\n",
       "      <td>89.230769</td>\n",
       "    </tr>\n",
       "    <tr>\n",
       "      <th>0</th>\n",
       "      <td>Logistic Regression</td>\n",
       "      <td>99.954002</td>\n",
       "      <td>70.000000</td>\n",
       "      <td>90.322581</td>\n",
       "      <td>78.873239</td>\n",
       "    </tr>\n",
       "    <tr>\n",
       "      <th>2</th>\n",
       "      <td>KNN</td>\n",
       "      <td>99.908004</td>\n",
       "      <td>52.173913</td>\n",
       "      <td>38.709677</td>\n",
       "      <td>44.444444</td>\n",
       "    </tr>\n",
       "    <tr>\n",
       "      <th>1</th>\n",
       "      <td>Naive Bayes</td>\n",
       "      <td>99.785342</td>\n",
       "      <td>10.204082</td>\n",
       "      <td>16.129032</td>\n",
       "      <td>12.500000</td>\n",
       "    </tr>\n",
       "    <tr>\n",
       "      <th>3</th>\n",
       "      <td>Perceptron</td>\n",
       "      <td>99.904937</td>\n",
       "      <td>100.000000</td>\n",
       "      <td>0.000000</td>\n",
       "      <td>0.000000</td>\n",
       "    </tr>\n",
       "  </tbody>\n",
       "</table>\n",
       "</div>"
      ],
      "text/plain": [
       "                 model   accuracy   precision     recall   f1_score\n",
       "4        Decision Tree  99.978534   85.294118  93.548387  89.230769\n",
       "0  Logistic Regression  99.954002   70.000000  90.322581  78.873239\n",
       "2                  KNN  99.908004   52.173913  38.709677  44.444444\n",
       "1          Naive Bayes  99.785342   10.204082  16.129032  12.500000\n",
       "3           Perceptron  99.904937  100.000000   0.000000   0.000000"
      ]
     },
     "execution_count": 36,
     "metadata": {},
     "output_type": "execute_result"
    }
   ],
   "source": [
    "benchtest_1 = model_benchtest(X_train, y_train, X_test, y_test)\n",
    "benchtest_1.get_performance_metrics_df()"
   ]
  },
  {
   "cell_type": "code",
   "execution_count": 37,
   "id": "5ab93331-d2cc-4e95-a438-103ea9bc2a3d",
   "metadata": {
    "tags": []
   },
   "outputs": [
    {
     "data": {
      "image/png": "[encoded data removed]",
      "text/plain": [
       "<Figure size 1080x1080 with 10 Axes>"
      ]
     },
     "metadata": {
      "needs_background": "light"
     },
     "output_type": "display_data"
    }
   ],
   "source": [
    "benchtest_1.plot_confusion_matrix(['Non-Fraud', 'Fraud'])"
   ]
  },
  {
   "cell_type": "markdown",
   "id": "ecda4f48-86f0-4255-b92f-f87d3d3359a8",
   "metadata": {
    "tags": []
   },
   "source": [
    "**Observations:**\n",
    "\n",
    "- All classification models got high accuracy rate (>99%)\n",
    "- Decision Tree and Logistic Regression resulted with a good precision and recall, despite the imbalanced training data. \n",
    "- KNN, Naive Bayes, and Perceptron resulted with low recall. These models have been greatly affected by the imbalanced data, resulting it to have high bias on predicting the majority of the class. "
   ]
  },
  {
   "cell_type": "markdown",
   "id": "3bd0dcd6-8edd-40db-bdc9-d05b122b38ec",
   "metadata": {},
   "source": [
    "**Correlation Matrix (Unbalanced Data)**"
   ]
  },
  {
   "cell_type": "code",
   "execution_count": 38,
   "id": "df1efa6f-386f-4f6a-ae5a-d0e07ebe3efb",
   "metadata": {
    "jupyter": {
     "source_hidden": true
    },
    "tags": []
   },
   "outputs": [
    {
     "data": {
      "text/plain": [
       "<AxesSubplot:>"
      ]
     },
     "execution_count": 38,
     "metadata": {},
     "output_type": "execute_result"
    },
    {
     "data": {
      "image/png": "[encoded data removed]",
      "text/plain": [
       "<Figure size 792x792 with 2 Axes>"
      ]
     },
     "metadata": {
      "needs_background": "light"
     },
     "output_type": "display_data"
    }
   ],
   "source": [
    "train_set = pd.concat([X_train, y_train], axis=1)\n",
    "corr_mat = train_set.corr('pearson')\n",
    "mask = np.triu(corr_mat, 1)\n",
    "plt.figure(figsize=(11,11))\n",
    "sns.heatmap(corr_mat, cmap='PiYG', annot=True, square=True, mask=mask)"
   ]
  },
  {
   "cell_type": "markdown",
   "id": "5b462a08-be4a-454f-811b-399648311e5f",
   "metadata": {},
   "source": [
    "**Observations:**\n",
    "\n",
    "- The correlation between each feature and the target is quite low. It seems that the correlation between the feature and target columns are affected by the unbalanced data."
   ]
  },
  {
   "cell_type": "markdown",
   "id": "d16fed93-7e8c-403d-b755-c370158f82cb",
   "metadata": {},
   "source": [
    "#### **Bench Test # 2: Balanced Data through Upsampling**"
   ]
  },
  {
   "cell_type": "markdown",
   "id": "040e508e-02b3-4b70-9c4a-37c09a97f87f",
   "metadata": {},
   "source": [
    "Due to data imbalance in our data, the models had difficulty in classifying the minority class. We could use upsampling method to add more samples in the minority class, therefore giving them equal weight and removing bias."
   ]
  },
  {
   "cell_type": "code",
   "execution_count": 39,
   "id": "0ce9bcc5-a727-4dcc-b439-8af58dbbb3cb",
   "metadata": {
    "tags": []
   },
   "outputs": [
    {
     "name": "stdout",
     "output_type": "stream",
     "text": [
      "Training Data Distribution Before Upsampling\n",
      "0    76001\n",
      "1       89\n",
      "Name: isFraud, dtype: int64\n"
     ]
    }
   ],
   "source": [
    "Xy_train = pd.concat([X_train, y_train], axis=1)\n",
    "\n",
    "print('Training Data Distribution Before Upsampling')\n",
    "print(Xy_train['isFraud'].value_counts())"
   ]
  },
  {
   "cell_type": "code",
   "execution_count": 40,
   "id": "e8d170ab-d232-46e2-93a4-9f7c23f5616f",
   "metadata": {
    "tags": []
   },
   "outputs": [
    {
     "name": "stdout",
     "output_type": "stream",
     "text": [
      "Training Data Distribution After Upsampling\n",
      "0    76001\n",
      "1    76001\n",
      "Name: isFraud, dtype: int64\n"
     ]
    }
   ],
   "source": [
    "from sklearn.utils import resample\n",
    "\n",
    "majority = Xy_train[Xy_train['isFraud'] == 0]\n",
    "minority = Xy_train[Xy_train['isFraud'] == 1]\n",
    "\n",
    "minority_upsampled = resample(\n",
    "    minority,\n",
    "    replace = True,\n",
    "    n_samples = len(majority),\n",
    "    random_state = 42\n",
    ")\n",
    "Xy_train_balanced = pd.concat([majority, minority_upsampled], ignore_index=True)\n",
    "\n",
    "print('Training Data Distribution After Upsampling')\n",
    "print(Xy_train_balanced['isFraud'].value_counts())"
   ]
  },
  {
   "cell_type": "code",
   "execution_count": 41,
   "id": "ca4cb4d1-078e-41be-af93-83110dc2cc71",
   "metadata": {
    "tags": []
   },
   "outputs": [],
   "source": [
    "X_train_balanced = Xy_train_balanced.drop('isFraud', axis=1)\n",
    "y_train_balanced = Xy_train_balanced['isFraud']"
   ]
  },
  {
   "cell_type": "markdown",
   "id": "abda3f3c-4e50-428c-93ee-7f2ad308f6ac",
   "metadata": {},
   "source": [
    "**Running Testbench # 2**"
   ]
  },
  {
   "cell_type": "code",
   "execution_count": 42,
   "id": "b6c64eee-ab4f-4ce1-a166-9800fa29a009",
   "metadata": {
    "tags": []
   },
   "outputs": [
    {
     "data": {
      "text/html": [
       "<div>\n",
       "<style scoped>\n",
       "    .dataframe tbody tr th:only-of-type {\n",
       "        vertical-align: middle;\n",
       "    }\n",
       "\n",
       "    .dataframe tbody tr th {\n",
       "        vertical-align: top;\n",
       "    }\n",
       "\n",
       "    .dataframe thead th {\n",
       "        text-align: right;\n",
       "    }\n",
       "</style>\n",
       "<table border=\"1\" class=\"dataframe\">\n",
       "  <thead>\n",
       "    <tr style=\"text-align: right;\">\n",
       "      <th></th>\n",
       "      <th>model</th>\n",
       "      <th>accuracy</th>\n",
       "      <th>precision</th>\n",
       "      <th>recall</th>\n",
       "      <th>f1_score</th>\n",
       "    </tr>\n",
       "  </thead>\n",
       "  <tbody>\n",
       "    <tr>\n",
       "      <th>4</th>\n",
       "      <td>Decision Tree</td>\n",
       "      <td>99.984667</td>\n",
       "      <td>88.235294</td>\n",
       "      <td>96.774194</td>\n",
       "      <td>92.307692</td>\n",
       "    </tr>\n",
       "    <tr>\n",
       "      <th>2</th>\n",
       "      <td>KNN</td>\n",
       "      <td>99.782275</td>\n",
       "      <td>26.190476</td>\n",
       "      <td>70.967742</td>\n",
       "      <td>38.260870</td>\n",
       "    </tr>\n",
       "    <tr>\n",
       "      <th>3</th>\n",
       "      <td>Perceptron</td>\n",
       "      <td>92.146581</td>\n",
       "      <td>1.158301</td>\n",
       "      <td>96.774194</td>\n",
       "      <td>2.289203</td>\n",
       "    </tr>\n",
       "    <tr>\n",
       "      <th>0</th>\n",
       "      <td>Logistic Regression</td>\n",
       "      <td>90.696105</td>\n",
       "      <td>0.979432</td>\n",
       "      <td>96.774194</td>\n",
       "      <td>1.939237</td>\n",
       "    </tr>\n",
       "    <tr>\n",
       "      <th>1</th>\n",
       "      <td>Naive Bayes</td>\n",
       "      <td>17.764489</td>\n",
       "      <td>0.115465</td>\n",
       "      <td>100.000000</td>\n",
       "      <td>0.230663</td>\n",
       "    </tr>\n",
       "  </tbody>\n",
       "</table>\n",
       "</div>"
      ],
      "text/plain": [
       "                 model   accuracy  precision      recall   f1_score\n",
       "4        Decision Tree  99.984667  88.235294   96.774194  92.307692\n",
       "2                  KNN  99.782275  26.190476   70.967742  38.260870\n",
       "3           Perceptron  92.146581   1.158301   96.774194   2.289203\n",
       "0  Logistic Regression  90.696105   0.979432   96.774194   1.939237\n",
       "1          Naive Bayes  17.764489   0.115465  100.000000   0.230663"
      ]
     },
     "execution_count": 42,
     "metadata": {},
     "output_type": "execute_result"
    }
   ],
   "source": [
    "bench_test_2 = model_benchtest(X_train_balanced, y_train_balanced, X_test, y_test)\n",
    "bench_test_2.get_performance_metrics_df()"
   ]
  },
  {
   "cell_type": "code",
   "execution_count": 43,
   "id": "4881259b-bf3b-408e-ad5c-c7cd16f469a4",
   "metadata": {
    "tags": []
   },
   "outputs": [
    {
     "data": {
      "image/png": "[encoded data removed]",
      "text/plain": [
       "<Figure size 1080x1080 with 10 Axes>"
      ]
     },
     "metadata": {
      "needs_background": "light"
     },
     "output_type": "display_data"
    }
   ],
   "source": [
    "bench_test_2.plot_confusion_matrix()"
   ]
  },
  {
   "cell_type": "markdown",
   "id": "17e8e871-2ef2-4f6c-89c0-6b4236c0693c",
   "metadata": {},
   "source": [
    "**Observations:**\n",
    "    \n",
    "- After applying upsampling to the training dataset, the **recall of each model increased**.\n",
    "- **Naive Bayes** may have the **highest recall**, but its **accuracy and precision** is **very low**.\n",
    "- Both **Logistic Regression** and **Perceptron** improved its **recall**, however its **precision sharply dropped**.\n",
    "- **Decision Tree** further **improved** its **accuracy and precision**, its **recall** stayed the **same**.\n",
    "- **KNN** improved its **recall**, but its **precision** got **lower**."
   ]
  },
  {
   "cell_type": "markdown",
   "id": "322415e7-50a8-43b9-96f2-991a0af777bc",
   "metadata": {},
   "source": [
    "**Correlation Matrix (Balanced Data)**"
   ]
  },
  {
   "cell_type": "code",
   "execution_count": 44,
   "id": "3f5ec4dd-a7dc-4505-a4c9-484c0e4bd633",
   "metadata": {
    "tags": []
   },
   "outputs": [
    {
     "data": {
      "text/plain": [
       "<AxesSubplot:>"
      ]
     },
     "execution_count": 44,
     "metadata": {},
     "output_type": "execute_result"
    },
    {
     "data": {
      "image/png": "[encoded data removed]",
      "text/plain": [
       "<Figure size 792x792 with 2 Axes>"
      ]
     },
     "metadata": {
      "needs_background": "light"
     },
     "output_type": "display_data"
    }
   ],
   "source": [
    "corr_mat = Xy_train_balanced.corr('pearson')\n",
    "mask = np.triu(corr_mat, 1)\n",
    "plt.figure(figsize=(11,11))\n",
    "sns.heatmap(corr_mat, cmap='PiYG', annot=True, square=True, mask=mask)"
   ]
  },
  {
   "cell_type": "markdown",
   "id": "5e07f517-20c3-4aae-84f9-a29aa88ff562",
   "metadata": {},
   "source": [
    "**Observations:**\n",
    "\n",
    "- After upsampling the training data, the correlation between each feature and the target **increased significantly**."
   ]
  },
  {
   "cell_type": "markdown",
   "id": "03dd7d9e-a6f1-4592-983b-e43162956385",
   "metadata": {},
   "source": [
    "#### **Bench Test # 3: Applying Normalization**"
   ]
  },
  {
   "cell_type": "markdown",
   "id": "758095f9-9434-4022-8287-a905bd42f17e",
   "metadata": {},
   "source": [
    "Since some columns have very large values relative to other columns, it can affect the model's predictive performance. (e.g. 10,000,000 - max value of amount column). Let's try performing normalization on our data and see whether it can improve the performance of our model."
   ]
  },
  {
   "cell_type": "code",
   "execution_count": 45,
   "id": "fdc3dcb3-451d-4492-a1fb-4f4eb03b4566",
   "metadata": {},
   "outputs": [
    {
     "data": {
      "text/html": [
       "<div>\n",
       "<style scoped>\n",
       "    .dataframe tbody tr th:only-of-type {\n",
       "        vertical-align: middle;\n",
       "    }\n",
       "\n",
       "    .dataframe tbody tr th {\n",
       "        vertical-align: top;\n",
       "    }\n",
       "\n",
       "    .dataframe thead th {\n",
       "        text-align: right;\n",
       "    }\n",
       "</style>\n",
       "<table border=\"1\" class=\"dataframe\">\n",
       "  <thead>\n",
       "    <tr style=\"text-align: right;\">\n",
       "      <th></th>\n",
       "      <th>amount</th>\n",
       "      <th>oldbalanceOrg</th>\n",
       "      <th>newbalanceOrig</th>\n",
       "      <th>type_CASH_OUT</th>\n",
       "      <th>type_TRANSFER</th>\n",
       "      <th>amount_oldbalanceOrg_diff</th>\n",
       "      <th>is_receiver_merchant</th>\n",
       "    </tr>\n",
       "  </thead>\n",
       "  <tbody>\n",
       "    <tr>\n",
       "      <th>count</th>\n",
       "      <td>7.609000e+04</td>\n",
       "      <td>7.609000e+04</td>\n",
       "      <td>7.609000e+04</td>\n",
       "      <td>76090.000000</td>\n",
       "      <td>76090.000000</td>\n",
       "      <td>7.609000e+04</td>\n",
       "      <td>76090.000000</td>\n",
       "    </tr>\n",
       "    <tr>\n",
       "      <th>mean</th>\n",
       "      <td>1.752841e+05</td>\n",
       "      <td>9.021273e+05</td>\n",
       "      <td>9.178819e+05</td>\n",
       "      <td>0.312367</td>\n",
       "      <td>0.084755</td>\n",
       "      <td>7.268432e+05</td>\n",
       "      <td>0.391379</td>\n",
       "    </tr>\n",
       "    <tr>\n",
       "      <th>std</th>\n",
       "      <td>3.478951e+05</td>\n",
       "      <td>2.788050e+06</td>\n",
       "      <td>2.825728e+06</td>\n",
       "      <td>0.463462</td>\n",
       "      <td>0.278518</td>\n",
       "      <td>2.813046e+06</td>\n",
       "      <td>0.488062</td>\n",
       "    </tr>\n",
       "    <tr>\n",
       "      <th>min</th>\n",
       "      <td>3.200000e-01</td>\n",
       "      <td>0.000000e+00</td>\n",
       "      <td>0.000000e+00</td>\n",
       "      <td>0.000000</td>\n",
       "      <td>0.000000</td>\n",
       "      <td>-6.388051e+06</td>\n",
       "      <td>0.000000</td>\n",
       "    </tr>\n",
       "    <tr>\n",
       "      <th>25%</th>\n",
       "      <td>1.025681e+04</td>\n",
       "      <td>0.000000e+00</td>\n",
       "      <td>0.000000e+00</td>\n",
       "      <td>0.000000</td>\n",
       "      <td>0.000000</td>\n",
       "      <td>-1.336599e+05</td>\n",
       "      <td>0.000000</td>\n",
       "    </tr>\n",
       "    <tr>\n",
       "      <th>50%</th>\n",
       "      <td>5.495368e+04</td>\n",
       "      <td>2.020450e+04</td>\n",
       "      <td>0.000000e+00</td>\n",
       "      <td>0.000000</td>\n",
       "      <td>0.000000</td>\n",
       "      <td>-6.378295e+03</td>\n",
       "      <td>0.000000</td>\n",
       "    </tr>\n",
       "    <tr>\n",
       "      <th>75%</th>\n",
       "      <td>2.143965e+05</td>\n",
       "      <td>1.998415e+05</td>\n",
       "      <td>2.246992e+05</td>\n",
       "      <td>1.000000</td>\n",
       "      <td>0.000000</td>\n",
       "      <td>1.208447e+05</td>\n",
       "      <td>1.000000</td>\n",
       "    </tr>\n",
       "    <tr>\n",
       "      <th>max</th>\n",
       "      <td>1.000000e+07</td>\n",
       "      <td>3.856340e+07</td>\n",
       "      <td>3.893942e+07</td>\n",
       "      <td>1.000000</td>\n",
       "      <td>1.000000</td>\n",
       "      <td>3.828766e+07</td>\n",
       "      <td>1.000000</td>\n",
       "    </tr>\n",
       "  </tbody>\n",
       "</table>\n",
       "</div>"
      ],
      "text/plain": [
       "             amount  oldbalanceOrg  newbalanceOrig  type_CASH_OUT  \\\n",
       "count  7.609000e+04   7.609000e+04    7.609000e+04   76090.000000   \n",
       "mean   1.752841e+05   9.021273e+05    9.178819e+05       0.312367   \n",
       "std    3.478951e+05   2.788050e+06    2.825728e+06       0.463462   \n",
       "min    3.200000e-01   0.000000e+00    0.000000e+00       0.000000   \n",
       "25%    1.025681e+04   0.000000e+00    0.000000e+00       0.000000   \n",
       "50%    5.495368e+04   2.020450e+04    0.000000e+00       0.000000   \n",
       "75%    2.143965e+05   1.998415e+05    2.246992e+05       1.000000   \n",
       "max    1.000000e+07   3.856340e+07    3.893942e+07       1.000000   \n",
       "\n",
       "       type_TRANSFER  amount_oldbalanceOrg_diff  is_receiver_merchant  \n",
       "count   76090.000000               7.609000e+04          76090.000000  \n",
       "mean        0.084755               7.268432e+05              0.391379  \n",
       "std         0.278518               2.813046e+06              0.488062  \n",
       "min         0.000000              -6.388051e+06              0.000000  \n",
       "25%         0.000000              -1.336599e+05              0.000000  \n",
       "50%         0.000000              -6.378295e+03              0.000000  \n",
       "75%         0.000000               1.208447e+05              1.000000  \n",
       "max         1.000000               3.828766e+07              1.000000  "
      ]
     },
     "execution_count": 45,
     "metadata": {},
     "output_type": "execute_result"
    }
   ],
   "source": [
    "X_train.describe()"
   ]
  },
  {
   "cell_type": "markdown",
   "id": "e87d9a83-7c09-44a9-8de1-b6f8dbda311d",
   "metadata": {},
   "source": [
    "**We'll use Robust Scaler Transform to scale our data. This is commonly use for scaling data with the presence of outliers.**"
   ]
  },
  {
   "cell_type": "code",
   "execution_count": 46,
   "id": "162c94b4-1d6d-4eca-9a1e-c6768182c540",
   "metadata": {},
   "outputs": [
    {
     "data": {
      "text/html": [
       "<div>\n",
       "<style scoped>\n",
       "    .dataframe tbody tr th:only-of-type {\n",
       "        vertical-align: middle;\n",
       "    }\n",
       "\n",
       "    .dataframe tbody tr th {\n",
       "        vertical-align: top;\n",
       "    }\n",
       "\n",
       "    .dataframe thead th {\n",
       "        text-align: right;\n",
       "    }\n",
       "</style>\n",
       "<table border=\"1\" class=\"dataframe\">\n",
       "  <thead>\n",
       "    <tr style=\"text-align: right;\">\n",
       "      <th></th>\n",
       "      <th>amount</th>\n",
       "      <th>oldbalanceOrg</th>\n",
       "      <th>newbalanceOrig</th>\n",
       "      <th>type_CASH_OUT</th>\n",
       "      <th>type_TRANSFER</th>\n",
       "      <th>amount_oldbalanceOrg_diff</th>\n",
       "      <th>is_receiver_merchant</th>\n",
       "    </tr>\n",
       "  </thead>\n",
       "  <tbody>\n",
       "    <tr>\n",
       "      <th>count</th>\n",
       "      <td>7.609000e+04</td>\n",
       "      <td>76090.000000</td>\n",
       "      <td>76090.000000</td>\n",
       "      <td>76090.000000</td>\n",
       "      <td>76090.000000</td>\n",
       "      <td>76090.000000</td>\n",
       "      <td>76090.000000</td>\n",
       "    </tr>\n",
       "    <tr>\n",
       "      <th>mean</th>\n",
       "      <td>5.894513e-01</td>\n",
       "      <td>4.413111</td>\n",
       "      <td>4.084937</td>\n",
       "      <td>0.312367</td>\n",
       "      <td>0.084755</td>\n",
       "      <td>2.880976</td>\n",
       "      <td>0.391379</td>\n",
       "    </tr>\n",
       "    <tr>\n",
       "      <th>std</th>\n",
       "      <td>1.704201e+00</td>\n",
       "      <td>13.951307</td>\n",
       "      <td>12.575605</td>\n",
       "      <td>0.463462</td>\n",
       "      <td>0.278518</td>\n",
       "      <td>11.053028</td>\n",
       "      <td>0.488062</td>\n",
       "    </tr>\n",
       "    <tr>\n",
       "      <th>min</th>\n",
       "      <td>-2.691949e-01</td>\n",
       "      <td>-0.101103</td>\n",
       "      <td>0.000000</td>\n",
       "      <td>0.000000</td>\n",
       "      <td>0.000000</td>\n",
       "      <td>-25.074885</td>\n",
       "      <td>0.000000</td>\n",
       "    </tr>\n",
       "    <tr>\n",
       "      <th>25%</th>\n",
       "      <td>-2.189524e-01</td>\n",
       "      <td>-0.101103</td>\n",
       "      <td>0.000000</td>\n",
       "      <td>0.000000</td>\n",
       "      <td>0.000000</td>\n",
       "      <td>-0.500115</td>\n",
       "      <td>0.000000</td>\n",
       "    </tr>\n",
       "    <tr>\n",
       "      <th>50%</th>\n",
       "      <td>1.782157e-17</td>\n",
       "      <td>0.000000</td>\n",
       "      <td>0.000000</td>\n",
       "      <td>0.000000</td>\n",
       "      <td>0.000000</td>\n",
       "      <td>0.000000</td>\n",
       "      <td>0.000000</td>\n",
       "    </tr>\n",
       "    <tr>\n",
       "      <th>75%</th>\n",
       "      <td>7.810476e-01</td>\n",
       "      <td>0.898897</td>\n",
       "      <td>1.000000</td>\n",
       "      <td>1.000000</td>\n",
       "      <td>0.000000</td>\n",
       "      <td>0.499885</td>\n",
       "      <td>1.000000</td>\n",
       "    </tr>\n",
       "    <tr>\n",
       "      <th>max</th>\n",
       "      <td>4.871687e+01</td>\n",
       "      <td>192.868833</td>\n",
       "      <td>173.295813</td>\n",
       "      <td>1.000000</td>\n",
       "      <td>1.000000</td>\n",
       "      <td>150.465045</td>\n",
       "      <td>1.000000</td>\n",
       "    </tr>\n",
       "  </tbody>\n",
       "</table>\n",
       "</div>"
      ],
      "text/plain": [
       "             amount  oldbalanceOrg  newbalanceOrig  type_CASH_OUT  \\\n",
       "count  7.609000e+04   76090.000000    76090.000000   76090.000000   \n",
       "mean   5.894513e-01       4.413111        4.084937       0.312367   \n",
       "std    1.704201e+00      13.951307       12.575605       0.463462   \n",
       "min   -2.691949e-01      -0.101103        0.000000       0.000000   \n",
       "25%   -2.189524e-01      -0.101103        0.000000       0.000000   \n",
       "50%    1.782157e-17       0.000000        0.000000       0.000000   \n",
       "75%    7.810476e-01       0.898897        1.000000       1.000000   \n",
       "max    4.871687e+01     192.868833      173.295813       1.000000   \n",
       "\n",
       "       type_TRANSFER  amount_oldbalanceOrg_diff  is_receiver_merchant  \n",
       "count   76090.000000               76090.000000          76090.000000  \n",
       "mean        0.084755                   2.880976              0.391379  \n",
       "std         0.278518                  11.053028              0.488062  \n",
       "min         0.000000                 -25.074885              0.000000  \n",
       "25%         0.000000                  -0.500115              0.000000  \n",
       "50%         0.000000                   0.000000              0.000000  \n",
       "75%         0.000000                   0.499885              1.000000  \n",
       "max         1.000000                 150.465045              1.000000  "
      ]
     },
     "execution_count": 46,
     "metadata": {},
     "output_type": "execute_result"
    }
   ],
   "source": [
    "from sklearn.preprocessing import MinMaxScaler, StandardScaler, RobustScaler\n",
    "scaler = RobustScaler()\n",
    "\n",
    "X_train_balanced_normalized = scaler.fit_transform(X_train)\n",
    "X_train_balanced_normalized = pd.DataFrame(X_train_balanced_normalized, columns=X_train_balanced.columns)\n",
    "X_train_balanced_normalized.describe()"
   ]
  },
  {
   "cell_type": "markdown",
   "id": "e2bd53dc-72a0-4027-a361-74a62c820244",
   "metadata": {},
   "source": [
    "**Running Testbench # 3**"
   ]
  },
  {
   "cell_type": "code",
   "execution_count": 47,
   "id": "19e92d45-f130-4da6-84e1-e6c099f97d57",
   "metadata": {},
   "outputs": [
    {
     "data": {
      "text/html": [
       "<div>\n",
       "<style scoped>\n",
       "    .dataframe tbody tr th:only-of-type {\n",
       "        vertical-align: middle;\n",
       "    }\n",
       "\n",
       "    .dataframe tbody tr th {\n",
       "        vertical-align: top;\n",
       "    }\n",
       "\n",
       "    .dataframe thead th {\n",
       "        text-align: right;\n",
       "    }\n",
       "</style>\n",
       "<table border=\"1\" class=\"dataframe\">\n",
       "  <thead>\n",
       "    <tr style=\"text-align: right;\">\n",
       "      <th></th>\n",
       "      <th>model</th>\n",
       "      <th>accuracy</th>\n",
       "      <th>precision</th>\n",
       "      <th>recall</th>\n",
       "      <th>f1_score</th>\n",
       "    </tr>\n",
       "  </thead>\n",
       "  <tbody>\n",
       "    <tr>\n",
       "      <th>0</th>\n",
       "      <td>Logistic Regression</td>\n",
       "      <td>97.730757</td>\n",
       "      <td>3.901170</td>\n",
       "      <td>96.774194</td>\n",
       "      <td>7.500000</td>\n",
       "    </tr>\n",
       "    <tr>\n",
       "      <th>1</th>\n",
       "      <td>Naive Bayes</td>\n",
       "      <td>90.824900</td>\n",
       "      <td>1.025471</td>\n",
       "      <td>100.000000</td>\n",
       "      <td>2.030124</td>\n",
       "    </tr>\n",
       "    <tr>\n",
       "      <th>2</th>\n",
       "      <td>KNN</td>\n",
       "      <td>99.055504</td>\n",
       "      <td>1.060071</td>\n",
       "      <td>9.677419</td>\n",
       "      <td>1.910828</td>\n",
       "    </tr>\n",
       "    <tr>\n",
       "      <th>4</th>\n",
       "      <td>Decision Tree</td>\n",
       "      <td>57.279975</td>\n",
       "      <td>0.222031</td>\n",
       "      <td>100.000000</td>\n",
       "      <td>0.443079</td>\n",
       "    </tr>\n",
       "    <tr>\n",
       "      <th>3</th>\n",
       "      <td>Perceptron</td>\n",
       "      <td>99.904937</td>\n",
       "      <td>100.000000</td>\n",
       "      <td>0.000000</td>\n",
       "      <td>0.000000</td>\n",
       "    </tr>\n",
       "  </tbody>\n",
       "</table>\n",
       "</div>"
      ],
      "text/plain": [
       "                 model   accuracy   precision      recall  f1_score\n",
       "0  Logistic Regression  97.730757    3.901170   96.774194  7.500000\n",
       "1          Naive Bayes  90.824900    1.025471  100.000000  2.030124\n",
       "2                  KNN  99.055504    1.060071    9.677419  1.910828\n",
       "4        Decision Tree  57.279975    0.222031  100.000000  0.443079\n",
       "3           Perceptron  99.904937  100.000000    0.000000  0.000000"
      ]
     },
     "execution_count": 47,
     "metadata": {},
     "output_type": "execute_result"
    }
   ],
   "source": [
    "bench_test_3 = model_benchtest(X_train_balanced_normalized, y_train, X_test, y_test)\n",
    "bench_test_3.get_performance_metrics_df()"
   ]
  },
  {
   "cell_type": "code",
   "execution_count": 48,
   "id": "38136b65-292e-4f79-92af-f34eac8bfce7",
   "metadata": {},
   "outputs": [
    {
     "data": {
      "image/png": "[encoded data removed]",
      "text/plain": [
       "<Figure size 1080x1080 with 10 Axes>"
      ]
     },
     "metadata": {
      "needs_background": "light"
     },
     "output_type": "display_data"
    }
   ],
   "source": [
    "bench_test_3.plot_confusion_matrix()"
   ]
  },
  {
   "cell_type": "markdown",
   "id": "3f8ff821-e06d-44f4-88a4-d95622fde71b",
   "metadata": {},
   "source": [
    "**Findings**\n",
    "\n",
    "- After applying normalization to each feature of the training data, **the precision of each model dropped**.\n",
    "- Since the precision dropped, the **f1 score also decreased**.\n",
    "- Meanwhile, the **recall of each model increased**."
   ]
  },
  {
   "cell_type": "markdown",
   "id": "c1686386-e2f2-4278-8d6b-eb268a076c9e",
   "metadata": {},
   "source": [
    "**Conclusion:**\n",
    "\n",
    "After trying out different classification algorithm and different strategies such as upsampling and normalization, it shows that the use of **Decision Tree** classification algorithm **with upsampled balanced data** from bench test # 2 yields the **best f1_score performance**."
   ]
  },
  {
   "cell_type": "markdown",
   "id": "2d30863c-04d7-423f-a8f9-d78b0ad75813",
   "metadata": {},
   "source": [
    "#### **Feature Importance**"
   ]
  },
  {
   "cell_type": "code",
   "execution_count": 49,
   "id": "6f855fb3-6441-4d0f-b76b-5724e539cf67",
   "metadata": {},
   "outputs": [
    {
     "data": {
      "image/png": "[encoded data removed]",
      "text/plain": [
       "<Figure size 1080x576 with 1 Axes>"
      ]
     },
     "metadata": {
      "needs_background": "light"
     },
     "output_type": "display_data"
    }
   ],
   "source": [
    "dt_clfr = DecisionTreeClassifier()\n",
    "dt_clfr.fit(X_train_balanced, y_train_balanced)\n",
    "importances = dt_clfr.feature_importances_\n",
    "sort_ind = np.argsort(importances)[::-1]\n",
    "\n",
    "x = np.arange(len(X_train_balanced.columns))\n",
    "plt.figure(figsize=(15,8))\n",
    "plt.bar(x, importances[sort_ind])\n",
    "plt.xticks(x,tuple(X_train_balanced.columns.values[sort_ind]))\n",
    "plt.title(\"Feature Importance\")\n",
    "plt.show()"
   ]
  },
  {
   "cell_type": "markdown",
   "id": "5e6260ab-0056-4cb6-a9ff-43fcc3454614",
   "metadata": {},
   "source": [
    "**Analysis**\n",
    "\n",
    "- As expected from our the result of our analysis from Exploratory Data Analysis part, it shows that the main predictor of fraud transactions on the dataset seems to be the difference of amount and oldbalanceOrg column values.\n",
    "- This result doesn't show a quality of a good dataset, since it seems that fraud transaction are just based off on one certain element, which doesn't normally apply in real world scenarios. "
   ]
  },
  {
   "cell_type": "markdown",
   "id": "adf820f8-7259-4be2-b7b8-5e5473e31d47",
   "metadata": {},
   "source": [
    "### **Final Thoughts:**"
   ]
  },
  {
   "cell_type": "markdown",
   "id": "a1171d73-1983-4fc4-9162-ed7211d60c37",
   "metadata": {},
   "source": [
    "In performing Exploratory Data Analysis, we were able to deep dive through each column of data and find some information out of it. Furthermore, we were also able to create new features that are helpful in identifying fraud transactions and remove some features that seem to be not. \n",
    "\n",
    "In building the model, we applied some familiar machine learning algorithms and get to compare their performances after applying some strategies for improving performances. Some strategies works well, while others may not. In the end, we end up with Decision Trees as the best performing algorithm. Decision Trees is fairly new to me, and I'm amazed on its performance despite using it with an unbalanced dataset. I'm looking forward to learn more about this.\n",
    "\n",
    "Working on the dataset, I realized that there are a lot of different factors for a transaction to be called as fraud, and it can't just be limited based on transactional data. For example, if we could know more information about the customer like financial status, previous transactions, or length period of time usage, we could further determine whether a transaction is truly fraud or not.\n",
    "\n",
    "From what I found while working on this dataset, I think that the factors of labelling a transaction as fraud is over simplified and doesn't reflect on real world application. Despite that, I believe that this is a good way to start as foundation for further exploring this type of problem in the future."
   ]
  },
  {
   "cell_type": "markdown",
   "id": "fb837616-a614-4a20-855b-4fe0fe89fcb5",
   "metadata": {},
   "source": [
    "**References**\n",
    "- E. A. Lopez-Rojas , A. Elmir, and S. Axelsson. \"PaySim: A financial mobile money simulator for fraud detection\". In: The 28th European Modeling and Simulation Symposium-EMSS, Larnaca, Cyprus. 2016\n",
    "- https://medium.com/analytics-vidhya/precision-recall-tradeoff-for-real-world-use-cases-c6de4fabbcd0\n",
    "- https://blog.exsilio.com/all/accuracy-precision-recall-f1-score-interpretation-of-performance-measures/\n",
    "- https://machinelearningmastery.com/imbalanced-classification-is-hard/\n",
    "- https://towardsdatascience.com/all-about-feature-scaling-bcc0ad75cb35\n",
    "- https://machinelearningmastery.com/robust-scaler-transforms-for-machine-learning/"
   ]
  }
 ],
 "metadata": {
  "kernelspec": {
   "display_name": "Python 3 (ipykernel)",
   "language": "python",
   "name": "python3"
  },
  "language_info": {
   "codemirror_mode": {
    "name": "ipython",
    "version": 3
   },
   "file_extension": ".py",
   "mimetype": "text/x-python",
   "name": "python",
   "nbconvert_exporter": "python",
   "pygments_lexer": "ipython3",
   "version": "3.9.7"
  }
 },
 "nbformat": 4,
 "nbformat_minor": 5
}
