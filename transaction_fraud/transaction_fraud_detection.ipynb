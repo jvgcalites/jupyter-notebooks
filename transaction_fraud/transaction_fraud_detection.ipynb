{
 "cells": [
  {
   "cell_type": "markdown",
   "id": "c1d6a7a8-4b35-437e-ab8e-71aa858428c2",
   "metadata": {},
   "source": [
    "<img src=\"https://c9k9c9v3.stackpathcdn.com/wp-content/uploads/2018/04/PH-mobile-payment-providers-go-into-acceleration-mode-1440x564_c.jpg?x82653\">"
   ]
  },
  {
   "cell_type": "markdown",
   "id": "c6b1f920-718e-4990-bc2e-392763f37acc",
   "metadata": {
    "tags": []
   },
   "source": [
    "### Context\n",
    "\n",
    "There is a lack of public available datasets on financial services and specially in the emerging mobile money transactions domain. Financial datasets are important to many researchers and in particular to us performing research in the domain of fraud detection. Part of the problem is the intrinsically private nature of financial transactions, that leads to no publicly available datasets.\n",
    "\n",
    "We present a synthetic dataset generated using the simulator called PaySim as an approach to such a problem. PaySim uses aggregated data from the private dataset to generate a synthetic dataset that resembles the normal operation of transactions and injects malicious behaviour to later evaluate the performance of fraud detection methods."
   ]
  },
  {
   "cell_type": "markdown",
   "id": "7a47c400-fbe8-4532-a6c7-e7cbd0cc40ea",
   "metadata": {},
   "source": [
    "### Content\n",
    "\n",
    "PaySim simulates mobile money transactions based on a sample of real transactions extracted from one month of financial logs from a mobile money service implemented in an African country. The original logs were provided by a multinational company, who is the provider of the mobile financial service which is currently running in more than 14 countries all around the world.\n",
    "\n",
    "This synthetic dataset is scaled down 1/4 of the original dataset and it is created just for Kaggle."
   ]
  },
  {
   "cell_type": "markdown",
   "id": "5899cdbc-72b1-4f67-a174-e3ea5e178675",
   "metadata": {},
   "source": [
    "### Headers\n",
    "\n",
    "**Sample Row**\n",
    "\n",
    "1 | PAYMENT | 1060.31 | C429214117 | 1089.0 | 28.69 | M1591654462 | 0.0 | 0.0 | 0 | 0\n",
    "\n",
    "\n",
    "**Brief Description of each column**\n",
    "\n",
    "1. **step** - maps a unit of time in the real world. In this case 1 step is 1 hour of time. Total steps 744 (30 days simulation).\n",
    "\n",
    "2. **type** - CASH-IN, CASH-OUT, DEBIT, PAYMENT and TRANSFER.\n",
    "\n",
    "3. **amount** - amount of the transaction in local currency.\n",
    "\n",
    "4. **nameOrig** - customer who started the transaction\n",
    "\n",
    "5. **oldbalanceOrg** - initial balance before the transaction\n",
    "\n",
    "6. **newbalanceOrig** - new balance after the transaction\n",
    "\n",
    "7. **nameDest** - customer who is the recipient of the transaction\n",
    "\n",
    "8. **oldbalanceDest** - initial balance recipient before the transaction. Note that there is not information for customers that start with M (Merchants).\n",
    "\n",
    "9. **newbalanceDest** - new balance recipient after the transaction. Note that there is not information for customers that start with M (Merchants).\n",
    "\n",
    "10. **isFraud** - This is the transactions made by the fraudulent agents inside the simulation. In this specific dataset the fraudulent behavior of the agents aims to profit by taking control or customers accounts and try to empty the funds by transferring to another account and then cashing out of the system.\n",
    "\n",
    "11. **isFlaggedFraud** - The business model aims to control massive transfers from one account to another and flags illegal attempts. An illegal attempt in this dataset is an attempt to transfer more than 200,000 in a single transaction."
   ]
  },
  {
   "cell_type": "markdown",
   "id": "2eae10e5-14ea-4322-9dd5-35717dc5adbd",
   "metadata": {
    "tags": []
   },
   "source": [
    "### Objective\n",
    "\n",
    "1. To gain knowledge how fraud transactions are classified\n",
    "2. To try different techniques to improve model\n",
    "\n"
   ]
  },
  {
   "cell_type": "code",
   "execution_count": 1,
   "id": "d543f24b-6f9d-4646-8d6d-609483cc4ccb",
   "metadata": {},
   "outputs": [],
   "source": [
    "import pandas as pd\n",
    "import numpy as np\n",
    "import matplotlib.pylab as plt\n",
    "import seaborn as sns\n",
    "%matplotlib inline\n",
    "\n",
    "from sklearn.linear_model import LogisticRegression\n",
    "from sklearn.naive_bayes import GaussianNB\n",
    "from sklearn.svm import SVC\n",
    "from sklearn.svm import LinearSVC\n",
    "from sklearn.neighbors import KNeighborsClassifier\n",
    "from sklearn.linear_model import Perceptron\n",
    "from sklearn.tree import DecisionTreeClassifier\n",
    "\n",
    "from sklearn import metrics\n",
    "from sklearn.model_selection import train_test_split\n",
    "from sklearn.model_selection import cross_val_score\n",
    "from sklearn.metrics import classification_report, confusion_matrix\n",
    "from sklearn.preprocessing import MinMaxScaler, StandardScaler"
   ]
  },
  {
   "cell_type": "code",
   "execution_count": 2,
   "id": "dc606519-daad-40d7-b0ef-5df099ab6d48",
   "metadata": {},
   "outputs": [
    {
     "data": {
      "text/html": [
       "<div>\n",
       "<style scoped>\n",
       "    .dataframe tbody tr th:only-of-type {\n",
       "        vertical-align: middle;\n",
       "    }\n",
       "\n",
       "    .dataframe tbody tr th {\n",
       "        vertical-align: top;\n",
       "    }\n",
       "\n",
       "    .dataframe thead th {\n",
       "        text-align: right;\n",
       "    }\n",
       "</style>\n",
       "<table border=\"1\" class=\"dataframe\">\n",
       "  <thead>\n",
       "    <tr style=\"text-align: right;\">\n",
       "      <th></th>\n",
       "      <th>step</th>\n",
       "      <th>type</th>\n",
       "      <th>amount</th>\n",
       "      <th>nameOrig</th>\n",
       "      <th>oldbalanceOrg</th>\n",
       "      <th>newbalanceOrig</th>\n",
       "      <th>nameDest</th>\n",
       "      <th>oldbalanceDest</th>\n",
       "      <th>newbalanceDest</th>\n",
       "      <th>isFraud</th>\n",
       "      <th>isFlaggedFraud</th>\n",
       "    </tr>\n",
       "  </thead>\n",
       "  <tbody>\n",
       "    <tr>\n",
       "      <th>0</th>\n",
       "      <td>1</td>\n",
       "      <td>PAYMENT</td>\n",
       "      <td>9839.64</td>\n",
       "      <td>C1231006815</td>\n",
       "      <td>170136.00</td>\n",
       "      <td>160296.36</td>\n",
       "      <td>M1979787155</td>\n",
       "      <td>0.00</td>\n",
       "      <td>0.00</td>\n",
       "      <td>0</td>\n",
       "      <td>0</td>\n",
       "    </tr>\n",
       "    <tr>\n",
       "      <th>1</th>\n",
       "      <td>1</td>\n",
       "      <td>PAYMENT</td>\n",
       "      <td>1864.28</td>\n",
       "      <td>C1666544295</td>\n",
       "      <td>21249.00</td>\n",
       "      <td>19384.72</td>\n",
       "      <td>M2044282225</td>\n",
       "      <td>0.00</td>\n",
       "      <td>0.00</td>\n",
       "      <td>0</td>\n",
       "      <td>0</td>\n",
       "    </tr>\n",
       "    <tr>\n",
       "      <th>2</th>\n",
       "      <td>1</td>\n",
       "      <td>TRANSFER</td>\n",
       "      <td>181.00</td>\n",
       "      <td>C1305486145</td>\n",
       "      <td>181.00</td>\n",
       "      <td>0.00</td>\n",
       "      <td>C553264065</td>\n",
       "      <td>0.00</td>\n",
       "      <td>0.00</td>\n",
       "      <td>1</td>\n",
       "      <td>0</td>\n",
       "    </tr>\n",
       "    <tr>\n",
       "      <th>3</th>\n",
       "      <td>1</td>\n",
       "      <td>CASH_OUT</td>\n",
       "      <td>181.00</td>\n",
       "      <td>C840083671</td>\n",
       "      <td>181.00</td>\n",
       "      <td>0.00</td>\n",
       "      <td>C38997010</td>\n",
       "      <td>21182.00</td>\n",
       "      <td>0.00</td>\n",
       "      <td>1</td>\n",
       "      <td>0</td>\n",
       "    </tr>\n",
       "    <tr>\n",
       "      <th>4</th>\n",
       "      <td>1</td>\n",
       "      <td>PAYMENT</td>\n",
       "      <td>11668.14</td>\n",
       "      <td>C2048537720</td>\n",
       "      <td>41554.00</td>\n",
       "      <td>29885.86</td>\n",
       "      <td>M1230701703</td>\n",
       "      <td>0.00</td>\n",
       "      <td>0.00</td>\n",
       "      <td>0</td>\n",
       "      <td>0</td>\n",
       "    </tr>\n",
       "    <tr>\n",
       "      <th>...</th>\n",
       "      <td>...</td>\n",
       "      <td>...</td>\n",
       "      <td>...</td>\n",
       "      <td>...</td>\n",
       "      <td>...</td>\n",
       "      <td>...</td>\n",
       "      <td>...</td>\n",
       "      <td>...</td>\n",
       "      <td>...</td>\n",
       "      <td>...</td>\n",
       "      <td>...</td>\n",
       "    </tr>\n",
       "    <tr>\n",
       "      <th>89995</th>\n",
       "      <td>10</td>\n",
       "      <td>PAYMENT</td>\n",
       "      <td>15365.90</td>\n",
       "      <td>C2142225413</td>\n",
       "      <td>354430.00</td>\n",
       "      <td>339064.10</td>\n",
       "      <td>M2046928025</td>\n",
       "      <td>0.00</td>\n",
       "      <td>0.00</td>\n",
       "      <td>0</td>\n",
       "      <td>0</td>\n",
       "    </tr>\n",
       "    <tr>\n",
       "      <th>89996</th>\n",
       "      <td>10</td>\n",
       "      <td>PAYMENT</td>\n",
       "      <td>6593.32</td>\n",
       "      <td>C1100408158</td>\n",
       "      <td>147849.00</td>\n",
       "      <td>141255.68</td>\n",
       "      <td>M1301761451</td>\n",
       "      <td>0.00</td>\n",
       "      <td>0.00</td>\n",
       "      <td>0</td>\n",
       "      <td>0</td>\n",
       "    </tr>\n",
       "    <tr>\n",
       "      <th>89997</th>\n",
       "      <td>10</td>\n",
       "      <td>DEBIT</td>\n",
       "      <td>2690.61</td>\n",
       "      <td>C1285105648</td>\n",
       "      <td>80975.00</td>\n",
       "      <td>78284.39</td>\n",
       "      <td>C961113212</td>\n",
       "      <td>839678.62</td>\n",
       "      <td>842369.23</td>\n",
       "      <td>0</td>\n",
       "      <td>0</td>\n",
       "    </tr>\n",
       "    <tr>\n",
       "      <th>89998</th>\n",
       "      <td>10</td>\n",
       "      <td>PAYMENT</td>\n",
       "      <td>9532.06</td>\n",
       "      <td>C1003190166</td>\n",
       "      <td>11302.00</td>\n",
       "      <td>1769.94</td>\n",
       "      <td>M1300351396</td>\n",
       "      <td>0.00</td>\n",
       "      <td>0.00</td>\n",
       "      <td>0</td>\n",
       "      <td>0</td>\n",
       "    </tr>\n",
       "    <tr>\n",
       "      <th>89999</th>\n",
       "      <td>10</td>\n",
       "      <td>CASH_OUT</td>\n",
       "      <td>17139.99</td>\n",
       "      <td>C982265770</td>\n",
       "      <td>1769.94</td>\n",
       "      <td>0.00</td>\n",
       "      <td>C1933965693</td>\n",
       "      <td>4428218.48</td>\n",
       "      <td>4678941.51</td>\n",
       "      <td>0</td>\n",
       "      <td>0</td>\n",
       "    </tr>\n",
       "  </tbody>\n",
       "</table>\n",
       "<p>90000 rows × 11 columns</p>\n",
       "</div>"
      ],
      "text/plain": [
       "       step      type    amount     nameOrig  oldbalanceOrg  newbalanceOrig  \\\n",
       "0         1   PAYMENT   9839.64  C1231006815      170136.00       160296.36   \n",
       "1         1   PAYMENT   1864.28  C1666544295       21249.00        19384.72   \n",
       "2         1  TRANSFER    181.00  C1305486145         181.00            0.00   \n",
       "3         1  CASH_OUT    181.00   C840083671         181.00            0.00   \n",
       "4         1   PAYMENT  11668.14  C2048537720       41554.00        29885.86   \n",
       "...     ...       ...       ...          ...            ...             ...   \n",
       "89995    10   PAYMENT  15365.90  C2142225413      354430.00       339064.10   \n",
       "89996    10   PAYMENT   6593.32  C1100408158      147849.00       141255.68   \n",
       "89997    10     DEBIT   2690.61  C1285105648       80975.00        78284.39   \n",
       "89998    10   PAYMENT   9532.06  C1003190166       11302.00         1769.94   \n",
       "89999    10  CASH_OUT  17139.99   C982265770        1769.94            0.00   \n",
       "\n",
       "          nameDest  oldbalanceDest  newbalanceDest  isFraud  isFlaggedFraud  \n",
       "0      M1979787155            0.00            0.00        0               0  \n",
       "1      M2044282225            0.00            0.00        0               0  \n",
       "2       C553264065            0.00            0.00        1               0  \n",
       "3        C38997010        21182.00            0.00        1               0  \n",
       "4      M1230701703            0.00            0.00        0               0  \n",
       "...            ...             ...             ...      ...             ...  \n",
       "89995  M2046928025            0.00            0.00        0               0  \n",
       "89996  M1301761451            0.00            0.00        0               0  \n",
       "89997   C961113212       839678.62       842369.23        0               0  \n",
       "89998  M1300351396            0.00            0.00        0               0  \n",
       "89999  C1933965693      4428218.48      4678941.51        0               0  \n",
       "\n",
       "[90000 rows x 11 columns]"
      ]
     },
     "execution_count": 2,
     "metadata": {},
     "output_type": "execute_result"
    }
   ],
   "source": [
    "df = pd.read_csv('PS_20174392719_1491204439457_log.csv', nrows=90_000)\n",
    "df"
   ]
  },
  {
   "cell_type": "markdown",
   "id": "40089ba4-e3ff-4ebc-9a55-5397173e7816",
   "metadata": {
    "tags": []
   },
   "source": [
    "### **I. Exploratory Data Analysis**"
   ]
  },
  {
   "cell_type": "markdown",
   "id": "32a91816-10bb-46f8-b667-997456c06154",
   "metadata": {},
   "source": [
    "#### **Column Information**"
   ]
  },
  {
   "cell_type": "code",
   "execution_count": 3,
   "id": "cc2514e6-069f-4c72-8c48-05ad2d286026",
   "metadata": {},
   "outputs": [
    {
     "name": "stdout",
     "output_type": "stream",
     "text": [
      "<class 'pandas.core.frame.DataFrame'>\n",
      "RangeIndex: 90000 entries, 0 to 89999\n",
      "Data columns (total 11 columns):\n",
      " #   Column          Non-Null Count  Dtype  \n",
      "---  ------          --------------  -----  \n",
      " 0   step            90000 non-null  int64  \n",
      " 1   type            90000 non-null  object \n",
      " 2   amount          90000 non-null  float64\n",
      " 3   nameOrig        90000 non-null  object \n",
      " 4   oldbalanceOrg   90000 non-null  float64\n",
      " 5   newbalanceOrig  90000 non-null  float64\n",
      " 6   nameDest        90000 non-null  object \n",
      " 7   oldbalanceDest  90000 non-null  float64\n",
      " 8   newbalanceDest  90000 non-null  float64\n",
      " 9   isFraud         90000 non-null  int64  \n",
      " 10  isFlaggedFraud  90000 non-null  int64  \n",
      "dtypes: float64(5), int64(3), object(3)\n",
      "memory usage: 7.6+ MB\n"
     ]
    }
   ],
   "source": [
    "df.info()"
   ]
  },
  {
   "cell_type": "markdown",
   "id": "bc0443d0-a03f-4d94-9969-a8d2d2fe2ae4",
   "metadata": {},
   "source": [
    "Based from this info, we could separate the column into:\n",
    "\n",
    "- **Numerical**: step, amount, oldlbalanceOrig, newbalanceOrig, oldbalanceDest, newbalanceDest\n",
    "\n",
    "- **Categorical**: type, nameOrig, nameDest, isFlaggedFraud"
   ]
  },
  {
   "cell_type": "markdown",
   "id": "2028853a-263a-4ca4-a98c-e253eb270e9a",
   "metadata": {},
   "source": [
    "#### **Checking for rows with missing values**"
   ]
  },
  {
   "cell_type": "code",
   "execution_count": 4,
   "id": "172ff162-515c-426d-bd03-db9b9dede93f",
   "metadata": {},
   "outputs": [
    {
     "data": {
      "text/plain": [
       "step              0\n",
       "type              0\n",
       "amount            0\n",
       "nameOrig          0\n",
       "oldbalanceOrg     0\n",
       "newbalanceOrig    0\n",
       "nameDest          0\n",
       "oldbalanceDest    0\n",
       "newbalanceDest    0\n",
       "isFraud           0\n",
       "isFlaggedFraud    0\n",
       "dtype: int64"
      ]
     },
     "execution_count": 4,
     "metadata": {},
     "output_type": "execute_result"
    }
   ],
   "source": [
    "df.isnull().sum()"
   ]
  },
  {
   "cell_type": "markdown",
   "id": "756d04c1-afef-40dd-9b83-ed5acb99e1fe",
   "metadata": {},
   "source": [
    "The dataset doesn't have missing values."
   ]
  },
  {
   "cell_type": "markdown",
   "id": "335e4bce-6bce-4d9a-a59e-7f862d6c2725",
   "metadata": {
    "jp-MarkdownHeadingCollapsed": true,
    "tags": []
   },
   "source": [
    "#### **Step**"
   ]
  },
  {
   "cell_type": "markdown",
   "id": "9f644b98-96f4-4951-974a-3e5ed9bbbcd4",
   "metadata": {},
   "source": [
    "> **step** - maps a unit of time in the real world. In this case 1 step is 1 hour of time. Total steps 744 (30 days simulation).\n"
   ]
  },
  {
   "cell_type": "markdown",
   "id": "1acff723-12fe-4a0c-89f7-4cdce47ee521",
   "metadata": {},
   "source": [
    "Due to memory constraints, we can only use a portion of the data. Thus, I decided to drop this for now, and get back to this in the future. For now, we'll try to create a model without this. \n",
    "\n",
    "But, I think that this column could be included as one of the features. Specifically, we may use this to get some pattern on when fraud transaction happens. One of the problems that this data may answer is that, *\"Is there a certain day or hour where fraud transaction takes place?\"*"
   ]
  },
  {
   "cell_type": "code",
   "execution_count": 5,
   "id": "599c4ce8-cd13-4de0-86c6-bcbaa0f7e562",
   "metadata": {},
   "outputs": [],
   "source": [
    "def drop_column(df, column_name):\n",
    "    if column_name in df.columns:\n",
    "        df.drop(column_name, axis=1, inplace=True)\n",
    "        print(f'{column_name} column is dropped from the given dataframe.')\n",
    "    else:\n",
    "        print(f'{column_name} column does not exist in the given dataframe.')"
   ]
  },
  {
   "cell_type": "code",
   "execution_count": 6,
   "id": "d5fcc1dc-d03b-48da-95d5-b48bd505253e",
   "metadata": {},
   "outputs": [
    {
     "name": "stdout",
     "output_type": "stream",
     "text": [
      "step column is dropped from the given dataframe.\n"
     ]
    }
   ],
   "source": [
    "drop_column(df, 'step')"
   ]
  },
  {
   "cell_type": "markdown",
   "id": "36e19fa5-dff0-433d-918d-55860dbdd206",
   "metadata": {
    "jp-MarkdownHeadingCollapsed": true,
    "tags": []
   },
   "source": [
    "#### **Transaction Type**"
   ]
  },
  {
   "cell_type": "markdown",
   "id": "0c9546a9-4d41-4699-b872-e99e495e7340",
   "metadata": {},
   "source": [
    ">**type** - CASH-IN, CASH-OUT, DEBIT, PAYMENT and TRANSFER."
   ]
  },
  {
   "cell_type": "markdown",
   "id": "36cb84ce-62f9-449f-991e-80b6c5baef43",
   "metadata": {},
   "source": [
    "Let's view the distribution for each payment type category"
   ]
  },
  {
   "cell_type": "code",
   "execution_count": 7,
   "id": "ed1398e8-919c-4215-affa-f17b9528e521",
   "metadata": {
    "tags": []
   },
   "outputs": [
    {
     "data": {
      "text/plain": [
       "[Text(0.5, 1.0, 'Payment Type Distribution')]"
      ]
     },
     "execution_count": 7,
     "metadata": {},
     "output_type": "execute_result"
    },
    {
     "data": {
      "image/png": "[encoded data removed]",
      "text/plain": [
       "<Figure size 720x360 with 1 Axes>"
      ]
     },
     "metadata": {
      "needs_background": "light"
     },
     "output_type": "display_data"
    }
   ],
   "source": [
    "plt.figure(figsize=(10,5))\n",
    "sns.countplot(\n",
    "    x = 'type', \n",
    "    data = df, \n",
    "    palette = 'viridis',\n",
    "    order = df['type'].value_counts().index\n",
    ").set(title='Payment Type Distribution')"
   ]
  },
  {
   "cell_type": "code",
   "execution_count": 8,
   "id": "61b594a5-a45f-40cd-9b2e-9ccf82119482",
   "metadata": {
    "tags": []
   },
   "outputs": [
    {
     "data": {
      "text/plain": [
       "[Text(0.5, 1.0, 'Fraud Payments per Payment Type Distribution')]"
      ]
     },
     "execution_count": 8,
     "metadata": {},
     "output_type": "execute_result"
    },
    {
     "data": {
      "image/png": "[encoded data removed]",
      "text/plain": [
       "<Figure size 720x360 with 1 Axes>"
      ]
     },
     "metadata": {
      "needs_background": "light"
     },
     "output_type": "display_data"
    }
   ],
   "source": [
    "isFraud_df = df[df.isFraud == True]\n",
    "notFraud_df = df[df.isFraud == False]\n",
    "\n",
    "plt.figure(figsize=(10,5))\n",
    "sns.countplot(\n",
    "    x = 'type', \n",
    "    data = isFraud_df, \n",
    "    palette = 'viridis',\n",
    "    order = df['type'].value_counts().index\n",
    ").set(title='Fraud Payments per Payment Type Distribution')"
   ]
  },
  {
   "cell_type": "markdown",
   "id": "3ec1333f-44d2-4d9d-a051-60ad42e83c79",
   "metadata": {},
   "source": [
    "Findings:\n",
    "\n",
    "- The most common transaction used is **Payment** (Customer to Merchants)\n",
    "- The plot shows that **fraud** transactions usually occurs on **cash out** and **transfer** transactions. \n",
    "- The act of removing the money from an account by transferring it to another account and then cashing out that money from the system is a potential fraud transaction."
   ]
  },
  {
   "cell_type": "markdown",
   "id": "b9452b85-d616-45a4-b6df-d07f8f1f5732",
   "metadata": {},
   "source": [
    "Conclusion:\n",
    "\n",
    "This column needs to undergo one-hot-encoding for us to be able to use it as a feature for building our model. Once each category got process, I think we don't need to use all categories, and instead just use the cashout and transfer category for our model."
   ]
  },
  {
   "cell_type": "markdown",
   "id": "a64aae4a-979b-4a83-b00c-20bd8df9f478",
   "metadata": {},
   "source": [
    "#### **Transaction Amount**"
   ]
  },
  {
   "cell_type": "markdown",
   "id": "2012869f-e241-463f-9694-f43bcc19b159",
   "metadata": {},
   "source": [
    "> **amount** - amount of the transaction in local currency."
   ]
  },
  {
   "cell_type": "markdown",
   "id": "ddd6a28d-e226-4f47-85f7-427aba7d3447",
   "metadata": {},
   "source": [
    "Assumptions:\n",
    "\n",
    "- Usually, banks set a certain limit on the amount of transactions an account can have on a day to prevent cases of money laundering. If the account reach the threshold, it usually halts the transaction and the account holder needs to prove first if the money in the transaction is clean before it proceeds. Therefore, transactions with large amount must be flagged as fraud transactions.\n"
   ]
  },
  {
   "cell_type": "markdown",
   "id": "64d6d663-8dc9-4ee9-82f5-93798841c234",
   "metadata": {},
   "source": [
    "Let's try to look at the distribution of amount transaction for fraud and non fraud transactions."
   ]
  },
  {
   "cell_type": "code",
   "execution_count": 9,
   "id": "25ae7845-4b1e-4601-81d6-640326fe3dfc",
   "metadata": {},
   "outputs": [
    {
     "data": {
      "text/plain": [
       "Text(0.5, 1.0, 'Not Fraud Transactions')"
      ]
     },
     "execution_count": 9,
     "metadata": {},
     "output_type": "execute_result"
    },
    {
     "data": {
      "image/png": "[encoded data removed]",
      "text/plain": [
       "<Figure size 1080x720 with 3 Axes>"
      ]
     },
     "metadata": {
      "needs_background": "light"
     },
     "output_type": "display_data"
    }
   ],
   "source": [
    "fig, axes = plt.subplots(3, 1, figsize=(15, 10))\n",
    "fig.tight_layout(pad=5)\n",
    "\n",
    "transform = np.log(df['amount'] + 1)\n",
    "sns.histplot(ax=axes[0],data=df, x=transform, kde=True, bins=100).set_title('All Payments')\n",
    "\n",
    "transform = np.log(isFraud_df['amount'] + 1)\n",
    "sns.histplot(ax=axes[1],data=isFraud_df, x=transform, kde=True, bins=100).set_title('Fraud Transactions')\n",
    "\n",
    "transform = np.log(notFraud_df['amount'] + 1)\n",
    "sns.histplot(ax=axes[2],data=notFraud_df, x=transform, kde=True, bins=100).set_title('Not Fraud Transactions')"
   ]
  },
  {
   "cell_type": "markdown",
   "id": "3ac7a5ce-e59f-493c-92c8-58ef1dea6ebb",
   "metadata": {},
   "source": [
    "Findings:\n",
    "\n",
    "- Due to the skewness of the distribution, we applied transfromation methods to view the distribution better. \n",
    "- The distribution of fraud payments doesn't show some pattern that differentiate it from non fraud payments. \n",
    "- It seems that the amount of transaction doesn't matter at all."
   ]
  },
  {
   "cell_type": "markdown",
   "id": "eed7af88-797f-4393-9771-73fad87a22b4",
   "metadata": {},
   "source": [
    "Let's check a summary of descriptive statistics of each distributions."
   ]
  },
  {
   "cell_type": "code",
   "execution_count": 10,
   "id": "fa448171-124f-4bf4-99f9-2cf517189e11",
   "metadata": {},
   "outputs": [
    {
     "data": {
      "text/html": [
       "<div>\n",
       "<style scoped>\n",
       "    .dataframe tbody tr th:only-of-type {\n",
       "        vertical-align: middle;\n",
       "    }\n",
       "\n",
       "    .dataframe tbody tr th {\n",
       "        vertical-align: top;\n",
       "    }\n",
       "\n",
       "    .dataframe thead th {\n",
       "        text-align: right;\n",
       "    }\n",
       "</style>\n",
       "<table border=\"1\" class=\"dataframe\">\n",
       "  <thead>\n",
       "    <tr style=\"text-align: right;\">\n",
       "      <th></th>\n",
       "      <th>All</th>\n",
       "      <th>Fraud</th>\n",
       "      <th>Not Fraud</th>\n",
       "    </tr>\n",
       "  </thead>\n",
       "  <tbody>\n",
       "    <tr>\n",
       "      <th>count</th>\n",
       "      <td>90000.000000</td>\n",
       "      <td>112.000000</td>\n",
       "      <td>89888.000000</td>\n",
       "    </tr>\n",
       "    <tr>\n",
       "      <th>mean</th>\n",
       "      <td>170090.264532</td>\n",
       "      <td>550255.927857</td>\n",
       "      <td>169616.580010</td>\n",
       "    </tr>\n",
       "    <tr>\n",
       "      <th>std</th>\n",
       "      <td>338576.688242</td>\n",
       "      <td>1561291.464092</td>\n",
       "      <td>334045.674980</td>\n",
       "    </tr>\n",
       "    <tr>\n",
       "      <th>min</th>\n",
       "      <td>0.320000</td>\n",
       "      <td>164.000000</td>\n",
       "      <td>0.320000</td>\n",
       "    </tr>\n",
       "    <tr>\n",
       "      <th>25%</th>\n",
       "      <td>9723.960000</td>\n",
       "      <td>16671.960000</td>\n",
       "      <td>9714.122500</td>\n",
       "    </tr>\n",
       "    <tr>\n",
       "      <th>50%</th>\n",
       "      <td>50518.550000</td>\n",
       "      <td>34198.245000</td>\n",
       "      <td>50540.800000</td>\n",
       "    </tr>\n",
       "    <tr>\n",
       "      <th>75%</th>\n",
       "      <td>208076.402500</td>\n",
       "      <td>266318.625000</td>\n",
       "      <td>208007.807500</td>\n",
       "    </tr>\n",
       "    <tr>\n",
       "      <th>max</th>\n",
       "      <td>10000000.000000</td>\n",
       "      <td>10000000.000000</td>\n",
       "      <td>6419835.270000</td>\n",
       "    </tr>\n",
       "  </tbody>\n",
       "</table>\n",
       "</div>"
      ],
      "text/plain": [
       "                   All            Fraud       Not Fraud\n",
       "count     90000.000000       112.000000    89888.000000\n",
       "mean     170090.264532    550255.927857   169616.580010\n",
       "std      338576.688242   1561291.464092   334045.674980\n",
       "min           0.320000       164.000000        0.320000\n",
       "25%        9723.960000     16671.960000     9714.122500\n",
       "50%       50518.550000     34198.245000    50540.800000\n",
       "75%      208076.402500    266318.625000   208007.807500\n",
       "max    10000000.000000  10000000.000000  6419835.270000"
      ]
     },
     "execution_count": 10,
     "metadata": {},
     "output_type": "execute_result"
    }
   ],
   "source": [
    "pd.concat([\n",
    "    df.amount.describe().apply(lambda x: format(x, 'f')),\n",
    "    isFraud_df.amount.describe().apply(lambda x: format(x, 'f')),\n",
    "    notFraud_df.amount.describe().apply(lambda x: format(x, 'f'))\n",
    "], keys=['All', 'Fraud', 'Not Fraud'], axis = 1)"
   ]
  },
  {
   "cell_type": "markdown",
   "id": "212b2bb6-6fb8-451f-a359-9b04970e2d2f",
   "metadata": {},
   "source": [
    "Findings:\n",
    "- The max transaction amount made reached 10,000,000, which is labeled as Fraud.\n",
    "- The highest transaction that is labeled as Not Fraud amounts to 6,419,835. If our assumption is valid, this must have been flagged as fraud\n",
    "- The minimum fraud transaction amount is 181. This invalidates any assumptions that fraud transactions are usually high in amount."
   ]
  },
  {
   "cell_type": "markdown",
   "id": "80733999-8137-4089-a439-3548e6deedc1",
   "metadata": {},
   "source": [
    "Conclusion:\n",
    "\n",
    "I think that the amount is a weak indicator for predicting fraud transactions for this dataset. Nonetheless, I'll leave it as it might be useful for predicting the extremes from both sides of the distribution."
   ]
  },
  {
   "cell_type": "markdown",
   "id": "7b238c20-ed00-4872-83db-f0893ed71257",
   "metadata": {
    "tags": []
   },
   "source": [
    "#### **Old and New Balance of both Receiver and Sender**"
   ]
  },
  {
   "cell_type": "markdown",
   "id": "2a9929c8-bcad-49b4-8dac-7069314394e4",
   "metadata": {},
   "source": [
    ">**oldbalanceOrg** - initial balance before the transaction\n",
    ">\n",
    ">**newbalanceOrig** - new balance after the transaction\n",
    ">\n",
    ">**oldbalanceDest** - initial balance recipient before the transaction. Note that there is not information for customers that start with M (Merchants).\n",
    ">\n",
    ">**newbalanceDest** - new balance recipient after the transaction. Note that there is not information for customers that start with M (Merchants).\n",
    "\n"
   ]
  },
  {
   "cell_type": "markdown",
   "id": "17fa5602-3563-492b-9c50-13ea636bf7f4",
   "metadata": {},
   "source": [
    "Initial Assumptions:\n",
    "1. oldbalanceOrg - newbalanceOrig = amount\n",
    "2. newbalanceDest - oldbalanceDest = amount\n",
    "3. If there is a row that doesn't agree in assumption 1 or 2, is it right to assume that it must be fraud?\n"
   ]
  },
  {
   "cell_type": "code",
   "execution_count": 11,
   "id": "af152796-92ef-4292-b659-3ab180a9bbc5",
   "metadata": {},
   "outputs": [
    {
     "data": {
      "text/plain": [
       "False    83283\n",
       "True      6717\n",
       "Name: is_correct_orig_balance, dtype: int64"
      ]
     },
     "execution_count": 11,
     "metadata": {},
     "output_type": "execute_result"
    }
   ],
   "source": [
    "orig_balance_change = df.oldbalanceOrg - df.newbalanceOrig\n",
    "is_correct_orig_balance = (df.amount == orig_balance_change)\n",
    "is_correct_orig_balance.name = 'is_correct_orig_balance'\n",
    "is_correct_orig_balance.value_counts()"
   ]
  },
  {
   "cell_type": "code",
   "execution_count": 12,
   "id": "caea623d-40d3-4e72-84ba-f42415f93103",
   "metadata": {},
   "outputs": [
    {
     "data": {
      "text/plain": [
       "False    86446\n",
       "True      3554\n",
       "Name: is_correct_dest_balance, dtype: int64"
      ]
     },
     "execution_count": 12,
     "metadata": {},
     "output_type": "execute_result"
    }
   ],
   "source": [
    "dest_balance_change = df.newbalanceDest - df.oldbalanceDest\n",
    "is_correct_dest_balance = df.amount == dest_balance_change\n",
    "is_correct_dest_balance.name = 'is_correct_dest_balance'\n",
    "is_correct_dest_balance.value_counts()"
   ]
  },
  {
   "cell_type": "markdown",
   "id": "388265ea-ecd9-4b39-a357-c35a78c6ce5f",
   "metadata": {},
   "source": [
    "Result:\n",
    "\n",
    "- Initial assumption 1 and 2 are invalid, the majority of the change in balance doesn't reflect on the amount of the transaction.\n",
    "- Initial assumption 3 must also be invalid. Since the majority doesn't apply initial assumption 1 and 2, the majority must be fraud for this to be valid. "
   ]
  },
  {
   "cell_type": "markdown",
   "id": "5ca66e0a-7619-4c15-91b5-7167006860aa",
   "metadata": {},
   "source": [
    "Question: If the orig_balance_change and dest_balance_change is equal to the amount, is it safe to assume that the transaction is not fraud?"
   ]
  },
  {
   "cell_type": "code",
   "execution_count": 13,
   "id": "c3c2fd2b-cd76-4ea1-b271-e5c80aacc6ee",
   "metadata": {},
   "outputs": [
    {
     "data": {
      "text/html": [
       "<div>\n",
       "<style scoped>\n",
       "    .dataframe tbody tr th:only-of-type {\n",
       "        vertical-align: middle;\n",
       "    }\n",
       "\n",
       "    .dataframe tbody tr th {\n",
       "        vertical-align: top;\n",
       "    }\n",
       "\n",
       "    .dataframe thead th {\n",
       "        text-align: right;\n",
       "    }\n",
       "</style>\n",
       "<table border=\"1\" class=\"dataframe\">\n",
       "  <thead>\n",
       "    <tr style=\"text-align: right;\">\n",
       "      <th></th>\n",
       "      <th>is_correct_orig_balance</th>\n",
       "      <th>is_correct_dest_balance</th>\n",
       "      <th>isFraud</th>\n",
       "    </tr>\n",
       "  </thead>\n",
       "  <tbody>\n",
       "    <tr>\n",
       "      <th>1870</th>\n",
       "      <td>True</td>\n",
       "      <td>True</td>\n",
       "      <td>1</td>\n",
       "    </tr>\n",
       "    <tr>\n",
       "      <th>2302</th>\n",
       "      <td>True</td>\n",
       "      <td>True</td>\n",
       "      <td>1</td>\n",
       "    </tr>\n",
       "    <tr>\n",
       "      <th>3060</th>\n",
       "      <td>True</td>\n",
       "      <td>True</td>\n",
       "      <td>1</td>\n",
       "    </tr>\n",
       "    <tr>\n",
       "      <th>4104</th>\n",
       "      <td>True</td>\n",
       "      <td>True</td>\n",
       "      <td>1</td>\n",
       "    </tr>\n",
       "    <tr>\n",
       "      <th>4261</th>\n",
       "      <td>True</td>\n",
       "      <td>True</td>\n",
       "      <td>1</td>\n",
       "    </tr>\n",
       "  </tbody>\n",
       "</table>\n",
       "</div>"
      ],
      "text/plain": [
       "      is_correct_orig_balance  is_correct_dest_balance  isFraud\n",
       "1870                     True                     True        1\n",
       "2302                     True                     True        1\n",
       "3060                     True                     True        1\n",
       "4104                     True                     True        1\n",
       "4261                     True                     True        1"
      ]
     },
     "execution_count": 13,
     "metadata": {},
     "output_type": "execute_result"
    }
   ],
   "source": [
    "df3 = pd.concat([\n",
    "        is_correct_orig_balance, \n",
    "        is_correct_dest_balance,\n",
    "        df.isFraud\n",
    "    ], \n",
    "    axis=1)\n",
    "df4 = df3[df3['is_correct_orig_balance'] & df3['is_correct_dest_balance']] \n",
    "correct_balance_fraud = df4[df4.isFraud == 1]\n",
    "correct_balance_fraud.head(5)"
   ]
  },
  {
   "cell_type": "markdown",
   "id": "e2d20555-d528-4edf-aac8-005d69861012",
   "metadata": {},
   "source": [
    "Answer: The transaction can be fraud, even if the amount reflects the change on the old balance and new balance. both on orig/sender and dest/receiver"
   ]
  },
  {
   "cell_type": "markdown",
   "id": "78b56d44-ee49-4835-9b5b-ff296e13634b",
   "metadata": {},
   "source": [
    "Let's try observing the rows of fraud transactions with correct orig and dest balance."
   ]
  },
  {
   "cell_type": "code",
   "execution_count": 14,
   "id": "648d5186-8636-463a-934c-5d0f16cf12c4",
   "metadata": {},
   "outputs": [
    {
     "data": {
      "text/html": [
       "<div>\n",
       "<style scoped>\n",
       "    .dataframe tbody tr th:only-of-type {\n",
       "        vertical-align: middle;\n",
       "    }\n",
       "\n",
       "    .dataframe tbody tr th {\n",
       "        vertical-align: top;\n",
       "    }\n",
       "\n",
       "    .dataframe thead th {\n",
       "        text-align: right;\n",
       "    }\n",
       "</style>\n",
       "<table border=\"1\" class=\"dataframe\">\n",
       "  <thead>\n",
       "    <tr style=\"text-align: right;\">\n",
       "      <th></th>\n",
       "      <th>type</th>\n",
       "      <th>amount</th>\n",
       "      <th>nameOrig</th>\n",
       "      <th>oldbalanceOrg</th>\n",
       "      <th>newbalanceOrig</th>\n",
       "      <th>nameDest</th>\n",
       "      <th>oldbalanceDest</th>\n",
       "      <th>newbalanceDest</th>\n",
       "      <th>isFraud</th>\n",
       "      <th>isFlaggedFraud</th>\n",
       "    </tr>\n",
       "  </thead>\n",
       "  <tbody>\n",
       "    <tr>\n",
       "      <th>1870</th>\n",
       "      <td>CASH_OUT</td>\n",
       "      <td>25071.46</td>\n",
       "      <td>C1275464847</td>\n",
       "      <td>25071.46</td>\n",
       "      <td>0.0</td>\n",
       "      <td>C1364913072</td>\n",
       "      <td>9083.76</td>\n",
       "      <td>34155.22</td>\n",
       "      <td>1</td>\n",
       "      <td>0</td>\n",
       "    </tr>\n",
       "    <tr>\n",
       "      <th>2302</th>\n",
       "      <td>CASH_OUT</td>\n",
       "      <td>235238.66</td>\n",
       "      <td>C1499825229</td>\n",
       "      <td>235238.66</td>\n",
       "      <td>0.0</td>\n",
       "      <td>C2100440237</td>\n",
       "      <td>0.00</td>\n",
       "      <td>235238.66</td>\n",
       "      <td>1</td>\n",
       "      <td>0</td>\n",
       "    </tr>\n",
       "    <tr>\n",
       "      <th>3060</th>\n",
       "      <td>CASH_OUT</td>\n",
       "      <td>1096187.24</td>\n",
       "      <td>C77163673</td>\n",
       "      <td>1096187.24</td>\n",
       "      <td>0.0</td>\n",
       "      <td>C644345897</td>\n",
       "      <td>0.00</td>\n",
       "      <td>1096187.24</td>\n",
       "      <td>1</td>\n",
       "      <td>0</td>\n",
       "    </tr>\n",
       "    <tr>\n",
       "      <th>4104</th>\n",
       "      <td>CASH_OUT</td>\n",
       "      <td>10539.37</td>\n",
       "      <td>C1984954272</td>\n",
       "      <td>10539.37</td>\n",
       "      <td>0.0</td>\n",
       "      <td>C124540047</td>\n",
       "      <td>0.00</td>\n",
       "      <td>10539.37</td>\n",
       "      <td>1</td>\n",
       "      <td>0</td>\n",
       "    </tr>\n",
       "    <tr>\n",
       "      <th>4261</th>\n",
       "      <td>CASH_OUT</td>\n",
       "      <td>22877.00</td>\n",
       "      <td>C2126545173</td>\n",
       "      <td>22877.00</td>\n",
       "      <td>0.0</td>\n",
       "      <td>C573200870</td>\n",
       "      <td>0.00</td>\n",
       "      <td>22877.00</td>\n",
       "      <td>1</td>\n",
       "      <td>0</td>\n",
       "    </tr>\n",
       "    <tr>\n",
       "      <th>4668</th>\n",
       "      <td>CASH_OUT</td>\n",
       "      <td>169941.73</td>\n",
       "      <td>C2026325575</td>\n",
       "      <td>169941.73</td>\n",
       "      <td>0.0</td>\n",
       "      <td>C1394526584</td>\n",
       "      <td>0.00</td>\n",
       "      <td>169941.73</td>\n",
       "      <td>1</td>\n",
       "      <td>0</td>\n",
       "    </tr>\n",
       "    <tr>\n",
       "      <th>4694</th>\n",
       "      <td>CASH_OUT</td>\n",
       "      <td>13707.11</td>\n",
       "      <td>C556223230</td>\n",
       "      <td>13707.11</td>\n",
       "      <td>0.0</td>\n",
       "      <td>C2094777811</td>\n",
       "      <td>0.00</td>\n",
       "      <td>13707.11</td>\n",
       "      <td>1</td>\n",
       "      <td>0</td>\n",
       "    </tr>\n",
       "    <tr>\n",
       "      <th>4776</th>\n",
       "      <td>CASH_OUT</td>\n",
       "      <td>86070.17</td>\n",
       "      <td>C1699873763</td>\n",
       "      <td>86070.17</td>\n",
       "      <td>0.0</td>\n",
       "      <td>C560041895</td>\n",
       "      <td>0.00</td>\n",
       "      <td>86070.17</td>\n",
       "      <td>1</td>\n",
       "      <td>0</td>\n",
       "    </tr>\n",
       "    <tr>\n",
       "      <th>4858</th>\n",
       "      <td>CASH_OUT</td>\n",
       "      <td>120074.73</td>\n",
       "      <td>C1174000532</td>\n",
       "      <td>120074.73</td>\n",
       "      <td>0.0</td>\n",
       "      <td>C410033330</td>\n",
       "      <td>0.00</td>\n",
       "      <td>120074.73</td>\n",
       "      <td>1</td>\n",
       "      <td>0</td>\n",
       "    </tr>\n",
       "    <tr>\n",
       "      <th>5467</th>\n",
       "      <td>CASH_OUT</td>\n",
       "      <td>10119.47</td>\n",
       "      <td>C213063852</td>\n",
       "      <td>10119.47</td>\n",
       "      <td>0.0</td>\n",
       "      <td>C922511709</td>\n",
       "      <td>0.00</td>\n",
       "      <td>10119.47</td>\n",
       "      <td>1</td>\n",
       "      <td>0</td>\n",
       "    </tr>\n",
       "    <tr>\n",
       "      <th>5853</th>\n",
       "      <td>CASH_OUT</td>\n",
       "      <td>26768.50</td>\n",
       "      <td>C682812632</td>\n",
       "      <td>26768.50</td>\n",
       "      <td>0.0</td>\n",
       "      <td>C256417920</td>\n",
       "      <td>101976.00</td>\n",
       "      <td>128744.50</td>\n",
       "      <td>1</td>\n",
       "      <td>0</td>\n",
       "    </tr>\n",
       "    <tr>\n",
       "      <th>5995</th>\n",
       "      <td>CASH_OUT</td>\n",
       "      <td>30521.02</td>\n",
       "      <td>C1813769162</td>\n",
       "      <td>30521.02</td>\n",
       "      <td>0.0</td>\n",
       "      <td>C1249547869</td>\n",
       "      <td>0.00</td>\n",
       "      <td>30521.02</td>\n",
       "      <td>1</td>\n",
       "      <td>0</td>\n",
       "    </tr>\n",
       "    <tr>\n",
       "      <th>6707</th>\n",
       "      <td>CASH_OUT</td>\n",
       "      <td>17246.00</td>\n",
       "      <td>C1484518113</td>\n",
       "      <td>17246.00</td>\n",
       "      <td>0.0</td>\n",
       "      <td>C978609035</td>\n",
       "      <td>0.00</td>\n",
       "      <td>17246.00</td>\n",
       "      <td>1</td>\n",
       "      <td>0</td>\n",
       "    </tr>\n",
       "    <tr>\n",
       "      <th>7003</th>\n",
       "      <td>CASH_OUT</td>\n",
       "      <td>10224.00</td>\n",
       "      <td>C1284098442</td>\n",
       "      <td>10224.00</td>\n",
       "      <td>0.0</td>\n",
       "      <td>C801412408</td>\n",
       "      <td>0.00</td>\n",
       "      <td>10224.00</td>\n",
       "      <td>1</td>\n",
       "      <td>0</td>\n",
       "    </tr>\n",
       "    <tr>\n",
       "      <th>72931</th>\n",
       "      <td>CASH_OUT</td>\n",
       "      <td>59835.00</td>\n",
       "      <td>C1020461364</td>\n",
       "      <td>59835.00</td>\n",
       "      <td>0.0</td>\n",
       "      <td>C2144015041</td>\n",
       "      <td>255480.76</td>\n",
       "      <td>315315.76</td>\n",
       "      <td>1</td>\n",
       "      <td>0</td>\n",
       "    </tr>\n",
       "  </tbody>\n",
       "</table>\n",
       "</div>"
      ],
      "text/plain": [
       "           type      amount     nameOrig  oldbalanceOrg  newbalanceOrig  \\\n",
       "1870   CASH_OUT    25071.46  C1275464847       25071.46             0.0   \n",
       "2302   CASH_OUT   235238.66  C1499825229      235238.66             0.0   \n",
       "3060   CASH_OUT  1096187.24    C77163673     1096187.24             0.0   \n",
       "4104   CASH_OUT    10539.37  C1984954272       10539.37             0.0   \n",
       "4261   CASH_OUT    22877.00  C2126545173       22877.00             0.0   \n",
       "4668   CASH_OUT   169941.73  C2026325575      169941.73             0.0   \n",
       "4694   CASH_OUT    13707.11   C556223230       13707.11             0.0   \n",
       "4776   CASH_OUT    86070.17  C1699873763       86070.17             0.0   \n",
       "4858   CASH_OUT   120074.73  C1174000532      120074.73             0.0   \n",
       "5467   CASH_OUT    10119.47   C213063852       10119.47             0.0   \n",
       "5853   CASH_OUT    26768.50   C682812632       26768.50             0.0   \n",
       "5995   CASH_OUT    30521.02  C1813769162       30521.02             0.0   \n",
       "6707   CASH_OUT    17246.00  C1484518113       17246.00             0.0   \n",
       "7003   CASH_OUT    10224.00  C1284098442       10224.00             0.0   \n",
       "72931  CASH_OUT    59835.00  C1020461364       59835.00             0.0   \n",
       "\n",
       "          nameDest  oldbalanceDest  newbalanceDest  isFraud  isFlaggedFraud  \n",
       "1870   C1364913072         9083.76        34155.22        1               0  \n",
       "2302   C2100440237            0.00       235238.66        1               0  \n",
       "3060    C644345897            0.00      1096187.24        1               0  \n",
       "4104    C124540047            0.00        10539.37        1               0  \n",
       "4261    C573200870            0.00        22877.00        1               0  \n",
       "4668   C1394526584            0.00       169941.73        1               0  \n",
       "4694   C2094777811            0.00        13707.11        1               0  \n",
       "4776    C560041895            0.00        86070.17        1               0  \n",
       "4858    C410033330            0.00       120074.73        1               0  \n",
       "5467    C922511709            0.00        10119.47        1               0  \n",
       "5853    C256417920       101976.00       128744.50        1               0  \n",
       "5995   C1249547869            0.00        30521.02        1               0  \n",
       "6707    C978609035            0.00        17246.00        1               0  \n",
       "7003    C801412408            0.00        10224.00        1               0  \n",
       "72931  C2144015041       255480.76       315315.76        1               0  "
      ]
     },
     "execution_count": 14,
     "metadata": {},
     "output_type": "execute_result"
    }
   ],
   "source": [
    "index_list = correct_balance_fraud.index.tolist()\n",
    "df.iloc[index_list]"
   ]
  },
  {
   "cell_type": "markdown",
   "id": "90f306b5-064a-4dd6-90cf-1016c72681d2",
   "metadata": {},
   "source": [
    "Observations:\n",
    "\n",
    "- The type of payment that was used on all rows is CASH_OUT.\n",
    "- The amount and oldbalanceOrg column values are the same, on all rows.\n",
    "- This clearly means that emptying the balance of the account and cashing it out is labeled as fraud transaction."
   ]
  },
  {
   "cell_type": "markdown",
   "id": "f171d7f5-5c0b-4653-883d-14cde234686b",
   "metadata": {},
   "source": [
    "Let's observe the other fraud transactions that does not have correct orig and dest balance, we might get new patterns for fraud transactions."
   ]
  },
  {
   "cell_type": "code",
   "execution_count": 15,
   "id": "be12645a-c015-409a-9fba-65899a7c16d1",
   "metadata": {},
   "outputs": [
    {
     "data": {
      "text/html": [
       "<div>\n",
       "<style scoped>\n",
       "    .dataframe tbody tr th:only-of-type {\n",
       "        vertical-align: middle;\n",
       "    }\n",
       "\n",
       "    .dataframe tbody tr th {\n",
       "        vertical-align: top;\n",
       "    }\n",
       "\n",
       "    .dataframe thead th {\n",
       "        text-align: right;\n",
       "    }\n",
       "</style>\n",
       "<table border=\"1\" class=\"dataframe\">\n",
       "  <thead>\n",
       "    <tr style=\"text-align: right;\">\n",
       "      <th></th>\n",
       "      <th>type</th>\n",
       "      <th>amount</th>\n",
       "      <th>nameOrig</th>\n",
       "      <th>oldbalanceOrg</th>\n",
       "      <th>newbalanceOrig</th>\n",
       "      <th>nameDest</th>\n",
       "      <th>oldbalanceDest</th>\n",
       "      <th>newbalanceDest</th>\n",
       "      <th>isFraud</th>\n",
       "      <th>isFlaggedFraud</th>\n",
       "    </tr>\n",
       "  </thead>\n",
       "  <tbody>\n",
       "    <tr>\n",
       "      <th>12179</th>\n",
       "      <td>TRANSFER</td>\n",
       "      <td>164.00</td>\n",
       "      <td>C1455969984</td>\n",
       "      <td>164.00</td>\n",
       "      <td>0.0</td>\n",
       "      <td>C2119910556</td>\n",
       "      <td>0.00</td>\n",
       "      <td>0.00</td>\n",
       "      <td>1</td>\n",
       "      <td>0</td>\n",
       "    </tr>\n",
       "    <tr>\n",
       "      <th>12180</th>\n",
       "      <td>CASH_OUT</td>\n",
       "      <td>164.00</td>\n",
       "      <td>C1173659886</td>\n",
       "      <td>164.00</td>\n",
       "      <td>0.0</td>\n",
       "      <td>C1769947269</td>\n",
       "      <td>4068.00</td>\n",
       "      <td>0.00</td>\n",
       "      <td>1</td>\n",
       "      <td>0</td>\n",
       "    </tr>\n",
       "    <tr>\n",
       "      <th>2</th>\n",
       "      <td>TRANSFER</td>\n",
       "      <td>181.00</td>\n",
       "      <td>C1305486145</td>\n",
       "      <td>181.00</td>\n",
       "      <td>0.0</td>\n",
       "      <td>C553264065</td>\n",
       "      <td>0.00</td>\n",
       "      <td>0.00</td>\n",
       "      <td>1</td>\n",
       "      <td>0</td>\n",
       "    </tr>\n",
       "    <tr>\n",
       "      <th>3</th>\n",
       "      <td>CASH_OUT</td>\n",
       "      <td>181.00</td>\n",
       "      <td>C840083671</td>\n",
       "      <td>181.00</td>\n",
       "      <td>0.0</td>\n",
       "      <td>C38997010</td>\n",
       "      <td>21182.00</td>\n",
       "      <td>0.00</td>\n",
       "      <td>1</td>\n",
       "      <td>0</td>\n",
       "    </tr>\n",
       "    <tr>\n",
       "      <th>18771</th>\n",
       "      <td>TRANSFER</td>\n",
       "      <td>222.00</td>\n",
       "      <td>C1961506277</td>\n",
       "      <td>222.00</td>\n",
       "      <td>0.0</td>\n",
       "      <td>C378841819</td>\n",
       "      <td>0.00</td>\n",
       "      <td>267095.19</td>\n",
       "      <td>1</td>\n",
       "      <td>0</td>\n",
       "    </tr>\n",
       "    <tr>\n",
       "      <th>18772</th>\n",
       "      <td>CASH_OUT</td>\n",
       "      <td>222.00</td>\n",
       "      <td>C1737727444</td>\n",
       "      <td>222.00</td>\n",
       "      <td>0.0</td>\n",
       "      <td>C588779235</td>\n",
       "      <td>24708.00</td>\n",
       "      <td>171647.35</td>\n",
       "      <td>1</td>\n",
       "      <td>0</td>\n",
       "    </tr>\n",
       "    <tr>\n",
       "      <th>69202</th>\n",
       "      <td>CASH_OUT</td>\n",
       "      <td>1055.00</td>\n",
       "      <td>C1764109750</td>\n",
       "      <td>1055.00</td>\n",
       "      <td>0.0</td>\n",
       "      <td>C1522743169</td>\n",
       "      <td>75179.00</td>\n",
       "      <td>0.00</td>\n",
       "      <td>1</td>\n",
       "      <td>0</td>\n",
       "    </tr>\n",
       "    <tr>\n",
       "      <th>69201</th>\n",
       "      <td>TRANSFER</td>\n",
       "      <td>1055.00</td>\n",
       "      <td>C666486325</td>\n",
       "      <td>1055.00</td>\n",
       "      <td>0.0</td>\n",
       "      <td>C279565067</td>\n",
       "      <td>0.00</td>\n",
       "      <td>0.00</td>\n",
       "      <td>1</td>\n",
       "      <td>0</td>\n",
       "    </tr>\n",
       "    <tr>\n",
       "      <th>24967</th>\n",
       "      <td>CASH_OUT</td>\n",
       "      <td>1996.17</td>\n",
       "      <td>C858959216</td>\n",
       "      <td>1996.17</td>\n",
       "      <td>0.0</td>\n",
       "      <td>C864078397</td>\n",
       "      <td>2559.74</td>\n",
       "      <td>4555.92</td>\n",
       "      <td>1</td>\n",
       "      <td>0</td>\n",
       "    </tr>\n",
       "    <tr>\n",
       "      <th>24966</th>\n",
       "      <td>TRANSFER</td>\n",
       "      <td>1996.17</td>\n",
       "      <td>C1198040187</td>\n",
       "      <td>1996.17</td>\n",
       "      <td>0.0</td>\n",
       "      <td>C1828047633</td>\n",
       "      <td>0.00</td>\n",
       "      <td>0.00</td>\n",
       "      <td>1</td>\n",
       "      <td>0</td>\n",
       "    </tr>\n",
       "    <tr>\n",
       "      <th>252</th>\n",
       "      <td>CASH_OUT</td>\n",
       "      <td>2806.00</td>\n",
       "      <td>C2101527076</td>\n",
       "      <td>2806.00</td>\n",
       "      <td>0.0</td>\n",
       "      <td>C1007251739</td>\n",
       "      <td>26202.00</td>\n",
       "      <td>0.00</td>\n",
       "      <td>1</td>\n",
       "      <td>0</td>\n",
       "    </tr>\n",
       "    <tr>\n",
       "      <th>251</th>\n",
       "      <td>TRANSFER</td>\n",
       "      <td>2806.00</td>\n",
       "      <td>C1420196421</td>\n",
       "      <td>2806.00</td>\n",
       "      <td>0.0</td>\n",
       "      <td>C972765878</td>\n",
       "      <td>0.00</td>\n",
       "      <td>0.00</td>\n",
       "      <td>1</td>\n",
       "      <td>0</td>\n",
       "    </tr>\n",
       "    <tr>\n",
       "      <th>5466</th>\n",
       "      <td>TRANSFER</td>\n",
       "      <td>10119.47</td>\n",
       "      <td>C1775746074</td>\n",
       "      <td>10119.47</td>\n",
       "      <td>0.0</td>\n",
       "      <td>C746009679</td>\n",
       "      <td>0.00</td>\n",
       "      <td>0.00</td>\n",
       "      <td>1</td>\n",
       "      <td>0</td>\n",
       "    </tr>\n",
       "    <tr>\n",
       "      <th>7002</th>\n",
       "      <td>TRANSFER</td>\n",
       "      <td>10224.00</td>\n",
       "      <td>C365589282</td>\n",
       "      <td>10224.00</td>\n",
       "      <td>0.0</td>\n",
       "      <td>C908043384</td>\n",
       "      <td>0.00</td>\n",
       "      <td>0.00</td>\n",
       "      <td>1</td>\n",
       "      <td>0</td>\n",
       "    </tr>\n",
       "    <tr>\n",
       "      <th>4103</th>\n",
       "      <td>TRANSFER</td>\n",
       "      <td>10539.37</td>\n",
       "      <td>C1134864869</td>\n",
       "      <td>10539.37</td>\n",
       "      <td>0.0</td>\n",
       "      <td>C118648358</td>\n",
       "      <td>0.00</td>\n",
       "      <td>0.00</td>\n",
       "      <td>1</td>\n",
       "      <td>0</td>\n",
       "    </tr>\n",
       "    <tr>\n",
       "      <th>6898</th>\n",
       "      <td>CASH_OUT</td>\n",
       "      <td>10565.00</td>\n",
       "      <td>C1191732945</td>\n",
       "      <td>10565.00</td>\n",
       "      <td>0.0</td>\n",
       "      <td>C418964192</td>\n",
       "      <td>36275.00</td>\n",
       "      <td>24380.72</td>\n",
       "      <td>1</td>\n",
       "      <td>0</td>\n",
       "    </tr>\n",
       "    <tr>\n",
       "      <th>6897</th>\n",
       "      <td>TRANSFER</td>\n",
       "      <td>10565.00</td>\n",
       "      <td>C777407608</td>\n",
       "      <td>10565.00</td>\n",
       "      <td>0.0</td>\n",
       "      <td>C1790657739</td>\n",
       "      <td>0.00</td>\n",
       "      <td>0.00</td>\n",
       "      <td>1</td>\n",
       "      <td>0</td>\n",
       "    </tr>\n",
       "    <tr>\n",
       "      <th>36692</th>\n",
       "      <td>CASH_OUT</td>\n",
       "      <td>11308.00</td>\n",
       "      <td>C921533797</td>\n",
       "      <td>11308.00</td>\n",
       "      <td>0.0</td>\n",
       "      <td>C424669538</td>\n",
       "      <td>0.00</td>\n",
       "      <td>302550.56</td>\n",
       "      <td>1</td>\n",
       "      <td>0</td>\n",
       "    </tr>\n",
       "    <tr>\n",
       "      <th>36691</th>\n",
       "      <td>TRANSFER</td>\n",
       "      <td>11308.00</td>\n",
       "      <td>C299933576</td>\n",
       "      <td>11308.00</td>\n",
       "      <td>0.0</td>\n",
       "      <td>C1060999444</td>\n",
       "      <td>0.00</td>\n",
       "      <td>0.00</td>\n",
       "      <td>1</td>\n",
       "      <td>0</td>\n",
       "    </tr>\n",
       "    <tr>\n",
       "      <th>7155</th>\n",
       "      <td>CASH_OUT</td>\n",
       "      <td>13704.00</td>\n",
       "      <td>C1421965867</td>\n",
       "      <td>13704.00</td>\n",
       "      <td>0.0</td>\n",
       "      <td>C1438594533</td>\n",
       "      <td>3382.84</td>\n",
       "      <td>143675.35</td>\n",
       "      <td>1</td>\n",
       "      <td>0</td>\n",
       "    </tr>\n",
       "  </tbody>\n",
       "</table>\n",
       "</div>"
      ],
      "text/plain": [
       "           type    amount     nameOrig  oldbalanceOrg  newbalanceOrig  \\\n",
       "12179  TRANSFER    164.00  C1455969984         164.00             0.0   \n",
       "12180  CASH_OUT    164.00  C1173659886         164.00             0.0   \n",
       "2      TRANSFER    181.00  C1305486145         181.00             0.0   \n",
       "3      CASH_OUT    181.00   C840083671         181.00             0.0   \n",
       "18771  TRANSFER    222.00  C1961506277         222.00             0.0   \n",
       "18772  CASH_OUT    222.00  C1737727444         222.00             0.0   \n",
       "69202  CASH_OUT   1055.00  C1764109750        1055.00             0.0   \n",
       "69201  TRANSFER   1055.00   C666486325        1055.00             0.0   \n",
       "24967  CASH_OUT   1996.17   C858959216        1996.17             0.0   \n",
       "24966  TRANSFER   1996.17  C1198040187        1996.17             0.0   \n",
       "252    CASH_OUT   2806.00  C2101527076        2806.00             0.0   \n",
       "251    TRANSFER   2806.00  C1420196421        2806.00             0.0   \n",
       "5466   TRANSFER  10119.47  C1775746074       10119.47             0.0   \n",
       "7002   TRANSFER  10224.00   C365589282       10224.00             0.0   \n",
       "4103   TRANSFER  10539.37  C1134864869       10539.37             0.0   \n",
       "6898   CASH_OUT  10565.00  C1191732945       10565.00             0.0   \n",
       "6897   TRANSFER  10565.00   C777407608       10565.00             0.0   \n",
       "36692  CASH_OUT  11308.00   C921533797       11308.00             0.0   \n",
       "36691  TRANSFER  11308.00   C299933576       11308.00             0.0   \n",
       "7155   CASH_OUT  13704.00  C1421965867       13704.00             0.0   \n",
       "\n",
       "          nameDest  oldbalanceDest  newbalanceDest  isFraud  isFlaggedFraud  \n",
       "12179  C2119910556            0.00            0.00        1               0  \n",
       "12180  C1769947269         4068.00            0.00        1               0  \n",
       "2       C553264065            0.00            0.00        1               0  \n",
       "3        C38997010        21182.00            0.00        1               0  \n",
       "18771   C378841819            0.00       267095.19        1               0  \n",
       "18772   C588779235        24708.00       171647.35        1               0  \n",
       "69202  C1522743169        75179.00            0.00        1               0  \n",
       "69201   C279565067            0.00            0.00        1               0  \n",
       "24967   C864078397         2559.74         4555.92        1               0  \n",
       "24966  C1828047633            0.00            0.00        1               0  \n",
       "252    C1007251739        26202.00            0.00        1               0  \n",
       "251     C972765878            0.00            0.00        1               0  \n",
       "5466    C746009679            0.00            0.00        1               0  \n",
       "7002    C908043384            0.00            0.00        1               0  \n",
       "4103    C118648358            0.00            0.00        1               0  \n",
       "6898    C418964192        36275.00        24380.72        1               0  \n",
       "6897   C1790657739            0.00            0.00        1               0  \n",
       "36692   C424669538            0.00       302550.56        1               0  \n",
       "36691  C1060999444            0.00            0.00        1               0  \n",
       "7155   C1438594533         3382.84       143675.35        1               0  "
      ]
     },
     "execution_count": 15,
     "metadata": {},
     "output_type": "execute_result"
    }
   ],
   "source": [
    "incorrect_balance_fraud = isFraud_df.drop(index_list, axis=0).sort_values(by='amount', ascending=True)\n",
    "incorrect_balance_fraud.head(20)"
   ]
  },
  {
   "cell_type": "markdown",
   "id": "5b5ade3d-23ac-4650-a5a1-6ef0c1c91d83",
   "metadata": {},
   "source": [
    "We can still observe the equal values between the amount and oldbalanceOrg column, which denotes fraud transactions. Let's eliminate these rows and find out the remaining rows with fraud transactions."
   ]
  },
  {
   "cell_type": "code",
   "execution_count": 16,
   "id": "23c6ec5f-19b8-4b74-83c9-3ffa07e10d5e",
   "metadata": {},
   "outputs": [
    {
     "data": {
      "text/html": [
       "<div>\n",
       "<style scoped>\n",
       "    .dataframe tbody tr th:only-of-type {\n",
       "        vertical-align: middle;\n",
       "    }\n",
       "\n",
       "    .dataframe tbody tr th {\n",
       "        vertical-align: top;\n",
       "    }\n",
       "\n",
       "    .dataframe thead th {\n",
       "        text-align: right;\n",
       "    }\n",
       "</style>\n",
       "<table border=\"1\" class=\"dataframe\">\n",
       "  <thead>\n",
       "    <tr style=\"text-align: right;\">\n",
       "      <th></th>\n",
       "      <th>type</th>\n",
       "      <th>amount</th>\n",
       "      <th>nameOrig</th>\n",
       "      <th>oldbalanceOrg</th>\n",
       "      <th>newbalanceOrig</th>\n",
       "      <th>nameDest</th>\n",
       "      <th>oldbalanceDest</th>\n",
       "      <th>newbalanceDest</th>\n",
       "      <th>isFraud</th>\n",
       "      <th>isFlaggedFraud</th>\n",
       "    </tr>\n",
       "  </thead>\n",
       "  <tbody>\n",
       "    <tr>\n",
       "      <th>1911</th>\n",
       "      <td>CASH_OUT</td>\n",
       "      <td>132842.64</td>\n",
       "      <td>C13692003</td>\n",
       "      <td>4499.08</td>\n",
       "      <td>0.00</td>\n",
       "      <td>C297927961</td>\n",
       "      <td>0.00</td>\n",
       "      <td>132842.64</td>\n",
       "      <td>1</td>\n",
       "      <td>0</td>\n",
       "    </tr>\n",
       "    <tr>\n",
       "      <th>14861</th>\n",
       "      <td>CASH_OUT</td>\n",
       "      <td>181728.11</td>\n",
       "      <td>C2102265902</td>\n",
       "      <td>0.00</td>\n",
       "      <td>0.00</td>\n",
       "      <td>C789014007</td>\n",
       "      <td>11397.00</td>\n",
       "      <td>184477.77</td>\n",
       "      <td>1</td>\n",
       "      <td>0</td>\n",
       "    </tr>\n",
       "    <tr>\n",
       "      <th>77745</th>\n",
       "      <td>CASH_OUT</td>\n",
       "      <td>277970.88</td>\n",
       "      <td>C489647033</td>\n",
       "      <td>0.00</td>\n",
       "      <td>0.00</td>\n",
       "      <td>C571514738</td>\n",
       "      <td>0.00</td>\n",
       "      <td>277970.88</td>\n",
       "      <td>1</td>\n",
       "      <td>0</td>\n",
       "    </tr>\n",
       "    <tr>\n",
       "      <th>724</th>\n",
       "      <td>CASH_OUT</td>\n",
       "      <td>416001.33</td>\n",
       "      <td>C749981943</td>\n",
       "      <td>0.00</td>\n",
       "      <td>0.00</td>\n",
       "      <td>C667346055</td>\n",
       "      <td>102.00</td>\n",
       "      <td>9291619.62</td>\n",
       "      <td>1</td>\n",
       "      <td>0</td>\n",
       "    </tr>\n",
       "    <tr>\n",
       "      <th>60853</th>\n",
       "      <td>TRANSFER</td>\n",
       "      <td>994453.20</td>\n",
       "      <td>C1121789613</td>\n",
       "      <td>1437370.87</td>\n",
       "      <td>442917.67</td>\n",
       "      <td>C254839817</td>\n",
       "      <td>194812.76</td>\n",
       "      <td>665743.67</td>\n",
       "      <td>1</td>\n",
       "      <td>0</td>\n",
       "    </tr>\n",
       "    <tr>\n",
       "      <th>25875</th>\n",
       "      <td>TRANSFER</td>\n",
       "      <td>1078013.76</td>\n",
       "      <td>C1026280121</td>\n",
       "      <td>0.00</td>\n",
       "      <td>0.00</td>\n",
       "      <td>C277510102</td>\n",
       "      <td>0.00</td>\n",
       "      <td>970749.68</td>\n",
       "      <td>1</td>\n",
       "      <td>0</td>\n",
       "    </tr>\n",
       "    <tr>\n",
       "      <th>4440</th>\n",
       "      <td>TRANSFER</td>\n",
       "      <td>10000000.00</td>\n",
       "      <td>C7162498</td>\n",
       "      <td>12930418.44</td>\n",
       "      <td>2930418.44</td>\n",
       "      <td>C945327594</td>\n",
       "      <td>0.00</td>\n",
       "      <td>0.00</td>\n",
       "      <td>1</td>\n",
       "      <td>0</td>\n",
       "    </tr>\n",
       "  </tbody>\n",
       "</table>\n",
       "</div>"
      ],
      "text/plain": [
       "           type       amount     nameOrig  oldbalanceOrg  newbalanceOrig  \\\n",
       "1911   CASH_OUT    132842.64    C13692003        4499.08            0.00   \n",
       "14861  CASH_OUT    181728.11  C2102265902           0.00            0.00   \n",
       "77745  CASH_OUT    277970.88   C489647033           0.00            0.00   \n",
       "724    CASH_OUT    416001.33   C749981943           0.00            0.00   \n",
       "60853  TRANSFER    994453.20  C1121789613     1437370.87       442917.67   \n",
       "25875  TRANSFER   1078013.76  C1026280121           0.00            0.00   \n",
       "4440   TRANSFER  10000000.00     C7162498    12930418.44      2930418.44   \n",
       "\n",
       "         nameDest  oldbalanceDest  newbalanceDest  isFraud  isFlaggedFraud  \n",
       "1911   C297927961            0.00       132842.64        1               0  \n",
       "14861  C789014007        11397.00       184477.77        1               0  \n",
       "77745  C571514738            0.00       277970.88        1               0  \n",
       "724    C667346055          102.00      9291619.62        1               0  \n",
       "60853  C254839817       194812.76       665743.67        1               0  \n",
       "25875  C277510102            0.00       970749.68        1               0  \n",
       "4440   C945327594            0.00            0.00        1               0  "
      ]
     },
     "execution_count": 16,
     "metadata": {},
     "output_type": "execute_result"
    }
   ],
   "source": [
    "incorrect_balance_fraud_2 = incorrect_balance_fraud[\n",
    "    incorrect_balance_fraud['amount'] != incorrect_balance_fraud['oldbalanceOrg'] \n",
    "]\n",
    "incorrect_balance_fraud_2"
   ]
  },
  {
   "cell_type": "markdown",
   "id": "eed9d2f0-2899-4772-ac4c-0862dcde29da",
   "metadata": {},
   "source": [
    "Observations:\n",
    "    \n",
    "- In rows with cashout type, the amount to cash out is bigger than oldbalanceOrg, which should not be possible. Additionally, the amount is seems to get through to the receiver, since the newbalanceDest is equal to the amount. Seems to be an outlier.\n",
    "- There is one case (index 60853), where the amount received by the receiver, is smaller than the amount it supposedly have received.\n",
    "- On the last row (index 4440), the amount and the sender's change in balance is correct. The old and new balance of receiver is both 0, which can be seen on other transactions as well. Is it labeled as fraud because of its ridiculously high amount of transfer? \n"
   ]
  },
  {
   "cell_type": "markdown",
   "id": "fbd34f1d-4f2c-46ed-8599-ef4b1fe64144",
   "metadata": {},
   "source": [
    "Question: Are there non fraud transactions that have the same amount and oldbalanceOrg, which seems to be the main pattern for fraud transactions?"
   ]
  },
  {
   "cell_type": "code",
   "execution_count": 17,
   "id": "9fe314dd-ae58-48cd-89c7-00b3137f24db",
   "metadata": {},
   "outputs": [
    {
     "data": {
      "text/html": [
       "<div>\n",
       "<style scoped>\n",
       "    .dataframe tbody tr th:only-of-type {\n",
       "        vertical-align: middle;\n",
       "    }\n",
       "\n",
       "    .dataframe tbody tr th {\n",
       "        vertical-align: top;\n",
       "    }\n",
       "\n",
       "    .dataframe thead th {\n",
       "        text-align: right;\n",
       "    }\n",
       "</style>\n",
       "<table border=\"1\" class=\"dataframe\">\n",
       "  <thead>\n",
       "    <tr style=\"text-align: right;\">\n",
       "      <th></th>\n",
       "      <th>type</th>\n",
       "      <th>amount</th>\n",
       "      <th>nameOrig</th>\n",
       "      <th>oldbalanceOrg</th>\n",
       "      <th>newbalanceOrig</th>\n",
       "      <th>nameDest</th>\n",
       "      <th>oldbalanceDest</th>\n",
       "      <th>newbalanceDest</th>\n",
       "      <th>isFraud</th>\n",
       "      <th>isFlaggedFraud</th>\n",
       "    </tr>\n",
       "  </thead>\n",
       "  <tbody>\n",
       "  </tbody>\n",
       "</table>\n",
       "</div>"
      ],
      "text/plain": [
       "Empty DataFrame\n",
       "Columns: [type, amount, nameOrig, oldbalanceOrg, newbalanceOrig, nameDest, oldbalanceDest, newbalanceDest, isFraud, isFlaggedFraud]\n",
       "Index: []"
      ]
     },
     "execution_count": 17,
     "metadata": {},
     "output_type": "execute_result"
    }
   ],
   "source": [
    "notFraud_df[notFraud_df['amount'] == notFraud_df['oldbalanceOrg']]"
   ]
  },
  {
   "cell_type": "markdown",
   "id": "281f1ea7-1e2a-4747-bf0f-b995e01025f5",
   "metadata": {},
   "source": [
    "Answer: No, there are no non fraud transactions that have the same amount and oldbalanceOrg."
   ]
  },
  {
   "cell_type": "markdown",
   "id": "0fea9fcc-a3a2-4aa7-aad0-b85c9a3ceaac",
   "metadata": {},
   "source": [
    "Conclusion:\n",
    "\n",
    "The difference between amount and oldbalanceOrig seems to be a main predictor whether a transaction is fraud or not. Thus, let's create a column for the difference between amount and oldbalanceOrig. Furthermore, the irregularity with most of the data on oldbalanceDest and newbalanceDest column is unexplainable and doesn't make sense. Thus, I'm omitting these columns for the features that will be use for building the model."
   ]
  },
  {
   "cell_type": "code",
   "execution_count": 18,
   "id": "29d07685-6088-48ab-951c-e27e32167b24",
   "metadata": {},
   "outputs": [
    {
     "data": {
      "text/html": [
       "<div>\n",
       "<style scoped>\n",
       "    .dataframe tbody tr th:only-of-type {\n",
       "        vertical-align: middle;\n",
       "    }\n",
       "\n",
       "    .dataframe tbody tr th {\n",
       "        vertical-align: top;\n",
       "    }\n",
       "\n",
       "    .dataframe thead th {\n",
       "        text-align: right;\n",
       "    }\n",
       "</style>\n",
       "<table border=\"1\" class=\"dataframe\">\n",
       "  <thead>\n",
       "    <tr style=\"text-align: right;\">\n",
       "      <th></th>\n",
       "      <th>type</th>\n",
       "      <th>amount</th>\n",
       "      <th>nameOrig</th>\n",
       "      <th>oldbalanceOrg</th>\n",
       "      <th>newbalanceOrig</th>\n",
       "      <th>nameDest</th>\n",
       "      <th>oldbalanceDest</th>\n",
       "      <th>newbalanceDest</th>\n",
       "      <th>isFraud</th>\n",
       "      <th>isFlaggedFraud</th>\n",
       "      <th>amount_oldbalanceOrg_diff</th>\n",
       "    </tr>\n",
       "  </thead>\n",
       "  <tbody>\n",
       "    <tr>\n",
       "      <th>0</th>\n",
       "      <td>PAYMENT</td>\n",
       "      <td>9839.64</td>\n",
       "      <td>C1231006815</td>\n",
       "      <td>170136.00</td>\n",
       "      <td>160296.36</td>\n",
       "      <td>M1979787155</td>\n",
       "      <td>0.00</td>\n",
       "      <td>0.00</td>\n",
       "      <td>0</td>\n",
       "      <td>0</td>\n",
       "      <td>160296.36</td>\n",
       "    </tr>\n",
       "    <tr>\n",
       "      <th>1</th>\n",
       "      <td>PAYMENT</td>\n",
       "      <td>1864.28</td>\n",
       "      <td>C1666544295</td>\n",
       "      <td>21249.00</td>\n",
       "      <td>19384.72</td>\n",
       "      <td>M2044282225</td>\n",
       "      <td>0.00</td>\n",
       "      <td>0.00</td>\n",
       "      <td>0</td>\n",
       "      <td>0</td>\n",
       "      <td>19384.72</td>\n",
       "    </tr>\n",
       "    <tr>\n",
       "      <th>2</th>\n",
       "      <td>TRANSFER</td>\n",
       "      <td>181.00</td>\n",
       "      <td>C1305486145</td>\n",
       "      <td>181.00</td>\n",
       "      <td>0.00</td>\n",
       "      <td>C553264065</td>\n",
       "      <td>0.00</td>\n",
       "      <td>0.00</td>\n",
       "      <td>1</td>\n",
       "      <td>0</td>\n",
       "      <td>0.00</td>\n",
       "    </tr>\n",
       "    <tr>\n",
       "      <th>3</th>\n",
       "      <td>CASH_OUT</td>\n",
       "      <td>181.00</td>\n",
       "      <td>C840083671</td>\n",
       "      <td>181.00</td>\n",
       "      <td>0.00</td>\n",
       "      <td>C38997010</td>\n",
       "      <td>21182.00</td>\n",
       "      <td>0.00</td>\n",
       "      <td>1</td>\n",
       "      <td>0</td>\n",
       "      <td>0.00</td>\n",
       "    </tr>\n",
       "    <tr>\n",
       "      <th>4</th>\n",
       "      <td>PAYMENT</td>\n",
       "      <td>11668.14</td>\n",
       "      <td>C2048537720</td>\n",
       "      <td>41554.00</td>\n",
       "      <td>29885.86</td>\n",
       "      <td>M1230701703</td>\n",
       "      <td>0.00</td>\n",
       "      <td>0.00</td>\n",
       "      <td>0</td>\n",
       "      <td>0</td>\n",
       "      <td>29885.86</td>\n",
       "    </tr>\n",
       "    <tr>\n",
       "      <th>...</th>\n",
       "      <td>...</td>\n",
       "      <td>...</td>\n",
       "      <td>...</td>\n",
       "      <td>...</td>\n",
       "      <td>...</td>\n",
       "      <td>...</td>\n",
       "      <td>...</td>\n",
       "      <td>...</td>\n",
       "      <td>...</td>\n",
       "      <td>...</td>\n",
       "      <td>...</td>\n",
       "    </tr>\n",
       "    <tr>\n",
       "      <th>89995</th>\n",
       "      <td>PAYMENT</td>\n",
       "      <td>15365.90</td>\n",
       "      <td>C2142225413</td>\n",
       "      <td>354430.00</td>\n",
       "      <td>339064.10</td>\n",
       "      <td>M2046928025</td>\n",
       "      <td>0.00</td>\n",
       "      <td>0.00</td>\n",
       "      <td>0</td>\n",
       "      <td>0</td>\n",
       "      <td>339064.10</td>\n",
       "    </tr>\n",
       "    <tr>\n",
       "      <th>89996</th>\n",
       "      <td>PAYMENT</td>\n",
       "      <td>6593.32</td>\n",
       "      <td>C1100408158</td>\n",
       "      <td>147849.00</td>\n",
       "      <td>141255.68</td>\n",
       "      <td>M1301761451</td>\n",
       "      <td>0.00</td>\n",
       "      <td>0.00</td>\n",
       "      <td>0</td>\n",
       "      <td>0</td>\n",
       "      <td>141255.68</td>\n",
       "    </tr>\n",
       "    <tr>\n",
       "      <th>89997</th>\n",
       "      <td>DEBIT</td>\n",
       "      <td>2690.61</td>\n",
       "      <td>C1285105648</td>\n",
       "      <td>80975.00</td>\n",
       "      <td>78284.39</td>\n",
       "      <td>C961113212</td>\n",
       "      <td>839678.62</td>\n",
       "      <td>842369.23</td>\n",
       "      <td>0</td>\n",
       "      <td>0</td>\n",
       "      <td>78284.39</td>\n",
       "    </tr>\n",
       "    <tr>\n",
       "      <th>89998</th>\n",
       "      <td>PAYMENT</td>\n",
       "      <td>9532.06</td>\n",
       "      <td>C1003190166</td>\n",
       "      <td>11302.00</td>\n",
       "      <td>1769.94</td>\n",
       "      <td>M1300351396</td>\n",
       "      <td>0.00</td>\n",
       "      <td>0.00</td>\n",
       "      <td>0</td>\n",
       "      <td>0</td>\n",
       "      <td>1769.94</td>\n",
       "    </tr>\n",
       "    <tr>\n",
       "      <th>89999</th>\n",
       "      <td>CASH_OUT</td>\n",
       "      <td>17139.99</td>\n",
       "      <td>C982265770</td>\n",
       "      <td>1769.94</td>\n",
       "      <td>0.00</td>\n",
       "      <td>C1933965693</td>\n",
       "      <td>4428218.48</td>\n",
       "      <td>4678941.51</td>\n",
       "      <td>0</td>\n",
       "      <td>0</td>\n",
       "      <td>-15370.05</td>\n",
       "    </tr>\n",
       "  </tbody>\n",
       "</table>\n",
       "<p>90000 rows × 11 columns</p>\n",
       "</div>"
      ],
      "text/plain": [
       "           type    amount     nameOrig  oldbalanceOrg  newbalanceOrig  \\\n",
       "0       PAYMENT   9839.64  C1231006815      170136.00       160296.36   \n",
       "1       PAYMENT   1864.28  C1666544295       21249.00        19384.72   \n",
       "2      TRANSFER    181.00  C1305486145         181.00            0.00   \n",
       "3      CASH_OUT    181.00   C840083671         181.00            0.00   \n",
       "4       PAYMENT  11668.14  C2048537720       41554.00        29885.86   \n",
       "...         ...       ...          ...            ...             ...   \n",
       "89995   PAYMENT  15365.90  C2142225413      354430.00       339064.10   \n",
       "89996   PAYMENT   6593.32  C1100408158      147849.00       141255.68   \n",
       "89997     DEBIT   2690.61  C1285105648       80975.00        78284.39   \n",
       "89998   PAYMENT   9532.06  C1003190166       11302.00         1769.94   \n",
       "89999  CASH_OUT  17139.99   C982265770        1769.94            0.00   \n",
       "\n",
       "          nameDest  oldbalanceDest  newbalanceDest  isFraud  isFlaggedFraud  \\\n",
       "0      M1979787155            0.00            0.00        0               0   \n",
       "1      M2044282225            0.00            0.00        0               0   \n",
       "2       C553264065            0.00            0.00        1               0   \n",
       "3        C38997010        21182.00            0.00        1               0   \n",
       "4      M1230701703            0.00            0.00        0               0   \n",
       "...            ...             ...             ...      ...             ...   \n",
       "89995  M2046928025            0.00            0.00        0               0   \n",
       "89996  M1301761451            0.00            0.00        0               0   \n",
       "89997   C961113212       839678.62       842369.23        0               0   \n",
       "89998  M1300351396            0.00            0.00        0               0   \n",
       "89999  C1933965693      4428218.48      4678941.51        0               0   \n",
       "\n",
       "       amount_oldbalanceOrg_diff  \n",
       "0                      160296.36  \n",
       "1                       19384.72  \n",
       "2                           0.00  \n",
       "3                           0.00  \n",
       "4                       29885.86  \n",
       "...                          ...  \n",
       "89995                  339064.10  \n",
       "89996                  141255.68  \n",
       "89997                   78284.39  \n",
       "89998                    1769.94  \n",
       "89999                  -15370.05  \n",
       "\n",
       "[90000 rows x 11 columns]"
      ]
     },
     "execution_count": 18,
     "metadata": {},
     "output_type": "execute_result"
    }
   ],
   "source": [
    "# add new column if not exists\n",
    "if 'amount_oldbalanceOrg_diff' not in df.columns:\n",
    "    df['amount_oldbalanceOrg_diff'] = df['oldbalanceOrg'] - df['amount']\n",
    "df"
   ]
  },
  {
   "cell_type": "code",
   "execution_count": 19,
   "id": "d47940a5-cc2d-495f-b8ee-a90f5c804f93",
   "metadata": {},
   "outputs": [
    {
     "name": "stdout",
     "output_type": "stream",
     "text": [
      "oldbalanceDest column is dropped from the given dataframe.\n",
      "newbalanceDest column is dropped from the given dataframe.\n"
     ]
    }
   ],
   "source": [
    "drop_column(df, 'oldbalanceDest')\n",
    "drop_column(df, 'newbalanceDest')"
   ]
  },
  {
   "cell_type": "markdown",
   "id": "0c0d5787-135f-4017-8edf-e25cccace5d2",
   "metadata": {
    "tags": []
   },
   "source": [
    "#### **Sender and Receiver Account Names**"
   ]
  },
  {
   "cell_type": "markdown",
   "id": "49c8f75a-8868-4a23-8d2a-01f40b3c5c2f",
   "metadata": {},
   "source": [
    ">**nameOrig** - customer who started the transaction\n",
    ">\n",
    ">**nameDest** - customer who is the recipient of the transaction"
   ]
  },
  {
   "cell_type": "markdown",
   "id": "52d3ba3d-db38-43f9-a8ea-6d8c6ff847f1",
   "metadata": {},
   "source": [
    "**Assumptions**\n",
    "1. Sender can't send money to itself!\n",
    "2. Since fraud payments occurs only on Cashout and Transfer transactions, most, if not all transaction should be from customer to customer.\n",
    "3. *\"In this specific dataset the fraudulent behavior of the agents aims to profit by taking control or customers accounts and try to empty the funds by transferring to another account and then cashing out of the system.\"* Based from this statement, recipients of fraud transfers must be on sender of fraud cashouts.\n"
   ]
  },
  {
   "cell_type": "code",
   "execution_count": 20,
   "id": "a626ef49-98c8-40d9-aed7-5b7fa58c3d61",
   "metadata": {},
   "outputs": [
    {
     "name": "stdout",
     "output_type": "stream",
     "text": [
      "Does same sender and receiver in a transaction possible?\n",
      "False\n"
     ]
    }
   ],
   "source": [
    "print(\"Does same sender and receiver in a transaction possible?\")\n",
    "print(df[df.nameOrig == df.nameDest].value_counts().any())"
   ]
  },
  {
   "cell_type": "code",
   "execution_count": 21,
   "id": "952adb49-a068-4576-8145-2dd37a6f06fa",
   "metadata": {},
   "outputs": [
    {
     "name": "stdout",
     "output_type": "stream",
     "text": [
      "Sender Types: ['C']\n",
      "Receiver Types: ['M' 'C']\n",
      "Senders of fraud transactions: ['C']\n",
      "Receivers of fraud transactions: ['C']\n"
     ]
    }
   ],
   "source": [
    "senders = df['nameOrig'].astype(str).str[0].unique()\n",
    "receivers = df['nameDest'].astype(str).str[0].unique()\n",
    "fraud_senders = isFraud_df['nameOrig'].astype(str).str[0].unique()\n",
    "fraud_receivers = isFraud_df['nameDest'].astype(str).str[0].unique()\n",
    "\n",
    "print(f'Sender Types: {senders}')\n",
    "print(f'Receiver Types: {receivers}')\n",
    "print(f'Senders of fraud transactions: {fraud_senders}')\n",
    "print(f'Receivers of fraud transactions: {fraud_receivers}')"
   ]
  },
  {
   "cell_type": "code",
   "execution_count": 22,
   "id": "167e9001-c9b2-4252-ab8a-60a73c7baeef",
   "metadata": {},
   "outputs": [
    {
     "name": "stdout",
     "output_type": "stream",
     "text": [
      "Does a receiver of fraud transfer showed up in sender of fraud cashout?\n",
      "False\n"
     ]
    }
   ],
   "source": [
    "pay_type = isFraud_df.type.unique() # ['TRANSFER', 'CASH_OUT']\n",
    "fraud_transfer = isFraud_df[isFraud_df.type == pay_type[0]]\n",
    "fraud_cashout = isFraud_df[isFraud_df.type == pay_type[1]]\n",
    "\n",
    "print('Does a receiver of fraud transfer showed up in sender of fraud cashout?')\n",
    "print(fraud_transfer.nameDest.isin(fraud_cashout.nameOrig).any())"
   ]
  },
  {
   "cell_type": "markdown",
   "id": "93794087-9f0e-447d-9fac-aff1167189e6",
   "metadata": {},
   "source": [
    "**Conclusion**\n",
    "- The dataset doesn't have a row with same nameDest and nameOrig, which can be an outlier.\n",
    "- Rows with receiver type 'M' can be ruled out as non fraudulent transactions. \n",
    "- We'll replace the nameOrig and nameDest column with a column for transactions that have Merchants as its receiver. "
   ]
  },
  {
   "cell_type": "code",
   "execution_count": 23,
   "id": "ff879357-2dd1-48e7-90ad-4e59c827ce15",
   "metadata": {},
   "outputs": [
    {
     "data": {
      "text/html": [
       "<div>\n",
       "<style scoped>\n",
       "    .dataframe tbody tr th:only-of-type {\n",
       "        vertical-align: middle;\n",
       "    }\n",
       "\n",
       "    .dataframe tbody tr th {\n",
       "        vertical-align: top;\n",
       "    }\n",
       "\n",
       "    .dataframe thead th {\n",
       "        text-align: right;\n",
       "    }\n",
       "</style>\n",
       "<table border=\"1\" class=\"dataframe\">\n",
       "  <thead>\n",
       "    <tr style=\"text-align: right;\">\n",
       "      <th></th>\n",
       "      <th>type</th>\n",
       "      <th>amount</th>\n",
       "      <th>nameOrig</th>\n",
       "      <th>oldbalanceOrg</th>\n",
       "      <th>newbalanceOrig</th>\n",
       "      <th>nameDest</th>\n",
       "      <th>isFraud</th>\n",
       "      <th>isFlaggedFraud</th>\n",
       "      <th>amount_oldbalanceOrg_diff</th>\n",
       "      <th>is_receiver_merchant</th>\n",
       "    </tr>\n",
       "  </thead>\n",
       "  <tbody>\n",
       "    <tr>\n",
       "      <th>0</th>\n",
       "      <td>PAYMENT</td>\n",
       "      <td>9839.64</td>\n",
       "      <td>C1231006815</td>\n",
       "      <td>170136.00</td>\n",
       "      <td>160296.36</td>\n",
       "      <td>M1979787155</td>\n",
       "      <td>0</td>\n",
       "      <td>0</td>\n",
       "      <td>160296.36</td>\n",
       "      <td>True</td>\n",
       "    </tr>\n",
       "    <tr>\n",
       "      <th>1</th>\n",
       "      <td>PAYMENT</td>\n",
       "      <td>1864.28</td>\n",
       "      <td>C1666544295</td>\n",
       "      <td>21249.00</td>\n",
       "      <td>19384.72</td>\n",
       "      <td>M2044282225</td>\n",
       "      <td>0</td>\n",
       "      <td>0</td>\n",
       "      <td>19384.72</td>\n",
       "      <td>True</td>\n",
       "    </tr>\n",
       "    <tr>\n",
       "      <th>2</th>\n",
       "      <td>TRANSFER</td>\n",
       "      <td>181.00</td>\n",
       "      <td>C1305486145</td>\n",
       "      <td>181.00</td>\n",
       "      <td>0.00</td>\n",
       "      <td>C553264065</td>\n",
       "      <td>1</td>\n",
       "      <td>0</td>\n",
       "      <td>0.00</td>\n",
       "      <td>False</td>\n",
       "    </tr>\n",
       "    <tr>\n",
       "      <th>3</th>\n",
       "      <td>CASH_OUT</td>\n",
       "      <td>181.00</td>\n",
       "      <td>C840083671</td>\n",
       "      <td>181.00</td>\n",
       "      <td>0.00</td>\n",
       "      <td>C38997010</td>\n",
       "      <td>1</td>\n",
       "      <td>0</td>\n",
       "      <td>0.00</td>\n",
       "      <td>False</td>\n",
       "    </tr>\n",
       "    <tr>\n",
       "      <th>4</th>\n",
       "      <td>PAYMENT</td>\n",
       "      <td>11668.14</td>\n",
       "      <td>C2048537720</td>\n",
       "      <td>41554.00</td>\n",
       "      <td>29885.86</td>\n",
       "      <td>M1230701703</td>\n",
       "      <td>0</td>\n",
       "      <td>0</td>\n",
       "      <td>29885.86</td>\n",
       "      <td>True</td>\n",
       "    </tr>\n",
       "    <tr>\n",
       "      <th>...</th>\n",
       "      <td>...</td>\n",
       "      <td>...</td>\n",
       "      <td>...</td>\n",
       "      <td>...</td>\n",
       "      <td>...</td>\n",
       "      <td>...</td>\n",
       "      <td>...</td>\n",
       "      <td>...</td>\n",
       "      <td>...</td>\n",
       "      <td>...</td>\n",
       "    </tr>\n",
       "    <tr>\n",
       "      <th>89995</th>\n",
       "      <td>PAYMENT</td>\n",
       "      <td>15365.90</td>\n",
       "      <td>C2142225413</td>\n",
       "      <td>354430.00</td>\n",
       "      <td>339064.10</td>\n",
       "      <td>M2046928025</td>\n",
       "      <td>0</td>\n",
       "      <td>0</td>\n",
       "      <td>339064.10</td>\n",
       "      <td>True</td>\n",
       "    </tr>\n",
       "    <tr>\n",
       "      <th>89996</th>\n",
       "      <td>PAYMENT</td>\n",
       "      <td>6593.32</td>\n",
       "      <td>C1100408158</td>\n",
       "      <td>147849.00</td>\n",
       "      <td>141255.68</td>\n",
       "      <td>M1301761451</td>\n",
       "      <td>0</td>\n",
       "      <td>0</td>\n",
       "      <td>141255.68</td>\n",
       "      <td>True</td>\n",
       "    </tr>\n",
       "    <tr>\n",
       "      <th>89997</th>\n",
       "      <td>DEBIT</td>\n",
       "      <td>2690.61</td>\n",
       "      <td>C1285105648</td>\n",
       "      <td>80975.00</td>\n",
       "      <td>78284.39</td>\n",
       "      <td>C961113212</td>\n",
       "      <td>0</td>\n",
       "      <td>0</td>\n",
       "      <td>78284.39</td>\n",
       "      <td>False</td>\n",
       "    </tr>\n",
       "    <tr>\n",
       "      <th>89998</th>\n",
       "      <td>PAYMENT</td>\n",
       "      <td>9532.06</td>\n",
       "      <td>C1003190166</td>\n",
       "      <td>11302.00</td>\n",
       "      <td>1769.94</td>\n",
       "      <td>M1300351396</td>\n",
       "      <td>0</td>\n",
       "      <td>0</td>\n",
       "      <td>1769.94</td>\n",
       "      <td>True</td>\n",
       "    </tr>\n",
       "    <tr>\n",
       "      <th>89999</th>\n",
       "      <td>CASH_OUT</td>\n",
       "      <td>17139.99</td>\n",
       "      <td>C982265770</td>\n",
       "      <td>1769.94</td>\n",
       "      <td>0.00</td>\n",
       "      <td>C1933965693</td>\n",
       "      <td>0</td>\n",
       "      <td>0</td>\n",
       "      <td>-15370.05</td>\n",
       "      <td>False</td>\n",
       "    </tr>\n",
       "  </tbody>\n",
       "</table>\n",
       "<p>90000 rows × 10 columns</p>\n",
       "</div>"
      ],
      "text/plain": [
       "           type    amount     nameOrig  oldbalanceOrg  newbalanceOrig  \\\n",
       "0       PAYMENT   9839.64  C1231006815      170136.00       160296.36   \n",
       "1       PAYMENT   1864.28  C1666544295       21249.00        19384.72   \n",
       "2      TRANSFER    181.00  C1305486145         181.00            0.00   \n",
       "3      CASH_OUT    181.00   C840083671         181.00            0.00   \n",
       "4       PAYMENT  11668.14  C2048537720       41554.00        29885.86   \n",
       "...         ...       ...          ...            ...             ...   \n",
       "89995   PAYMENT  15365.90  C2142225413      354430.00       339064.10   \n",
       "89996   PAYMENT   6593.32  C1100408158      147849.00       141255.68   \n",
       "89997     DEBIT   2690.61  C1285105648       80975.00        78284.39   \n",
       "89998   PAYMENT   9532.06  C1003190166       11302.00         1769.94   \n",
       "89999  CASH_OUT  17139.99   C982265770        1769.94            0.00   \n",
       "\n",
       "          nameDest  isFraud  isFlaggedFraud  amount_oldbalanceOrg_diff  \\\n",
       "0      M1979787155        0               0                  160296.36   \n",
       "1      M2044282225        0               0                   19384.72   \n",
       "2       C553264065        1               0                       0.00   \n",
       "3        C38997010        1               0                       0.00   \n",
       "4      M1230701703        0               0                   29885.86   \n",
       "...            ...      ...             ...                        ...   \n",
       "89995  M2046928025        0               0                  339064.10   \n",
       "89996  M1301761451        0               0                  141255.68   \n",
       "89997   C961113212        0               0                   78284.39   \n",
       "89998  M1300351396        0               0                    1769.94   \n",
       "89999  C1933965693        0               0                  -15370.05   \n",
       "\n",
       "       is_receiver_merchant  \n",
       "0                      True  \n",
       "1                      True  \n",
       "2                     False  \n",
       "3                     False  \n",
       "4                      True  \n",
       "...                     ...  \n",
       "89995                  True  \n",
       "89996                  True  \n",
       "89997                 False  \n",
       "89998                  True  \n",
       "89999                 False  \n",
       "\n",
       "[90000 rows x 10 columns]"
      ]
     },
     "execution_count": 23,
     "metadata": {},
     "output_type": "execute_result"
    }
   ],
   "source": [
    "name_dest_category = df['nameDest'].astype(str).str[0]\n",
    "df['is_receiver_merchant'] = name_dest_category == 'M'\n",
    "df"
   ]
  },
  {
   "cell_type": "code",
   "execution_count": 24,
   "id": "3549a322-80e4-4ba1-bd79-aa8673971f5d",
   "metadata": {},
   "outputs": [
    {
     "name": "stdout",
     "output_type": "stream",
     "text": [
      "nameOrig column is dropped from the given dataframe.\n",
      "nameDest column is dropped from the given dataframe.\n"
     ]
    }
   ],
   "source": [
    "drop_column(df, 'nameOrig')\n",
    "drop_column(df, 'nameDest')"
   ]
  },
  {
   "cell_type": "markdown",
   "id": "14e867eb-883c-41f5-b1b0-373fad0d3b43",
   "metadata": {},
   "source": [
    "#### **Flagged as Fraud Transactions**"
   ]
  },
  {
   "cell_type": "markdown",
   "id": "b4fcb605-d0ed-4099-9883-cf47f883462b",
   "metadata": {},
   "source": [
    ">**isFlaggedFraud** - The business model aims to control massive transfers from one account to another and flags illegal attempts. An illegal attempt in this dataset is an attempt to transfer more than 200,000 in a single transaction."
   ]
  },
  {
   "cell_type": "markdown",
   "id": "5e4c6a49-27f2-4844-aca9-1ca74655d5ee",
   "metadata": {},
   "source": [
    "Let's check the correlation between the isFlaggedFraud and isFraud column"
   ]
  },
  {
   "cell_type": "code",
   "execution_count": 25,
   "id": "9fc54490-e3ff-40eb-9e44-ee721d5544c6",
   "metadata": {},
   "outputs": [
    {
     "data": {
      "text/html": [
       "<div>\n",
       "<style scoped>\n",
       "    .dataframe tbody tr th:only-of-type {\n",
       "        vertical-align: middle;\n",
       "    }\n",
       "\n",
       "    .dataframe tbody tr th {\n",
       "        vertical-align: top;\n",
       "    }\n",
       "\n",
       "    .dataframe thead th {\n",
       "        text-align: right;\n",
       "    }\n",
       "</style>\n",
       "<table border=\"1\" class=\"dataframe\">\n",
       "  <thead>\n",
       "    <tr style=\"text-align: right;\">\n",
       "      <th></th>\n",
       "      <th>isFraud</th>\n",
       "      <th>isFlaggedFraud</th>\n",
       "    </tr>\n",
       "  </thead>\n",
       "  <tbody>\n",
       "    <tr>\n",
       "      <th>isFraud</th>\n",
       "      <td>1.0</td>\n",
       "      <td>NaN</td>\n",
       "    </tr>\n",
       "    <tr>\n",
       "      <th>isFlaggedFraud</th>\n",
       "      <td>NaN</td>\n",
       "      <td>NaN</td>\n",
       "    </tr>\n",
       "  </tbody>\n",
       "</table>\n",
       "</div>"
      ],
      "text/plain": [
       "                isFraud  isFlaggedFraud\n",
       "isFraud             1.0             NaN\n",
       "isFlaggedFraud      NaN             NaN"
      ]
     },
     "execution_count": 25,
     "metadata": {},
     "output_type": "execute_result"
    }
   ],
   "source": [
    "corr_mat = df[['isFraud', 'isFlaggedFraud']].corr()\n",
    "corr_mat"
   ]
  },
  {
   "cell_type": "markdown",
   "id": "4c924e75-0ff7-4ec1-adf5-278428cd653c",
   "metadata": {},
   "source": [
    "I thought that there would be a correlation between the two columns. From my understanding, this column is an attempt for flagging massive transactions as fraud."
   ]
  },
  {
   "cell_type": "code",
   "execution_count": 26,
   "id": "8e40ecd4-5415-49aa-921c-a668a145e335",
   "metadata": {},
   "outputs": [
    {
     "name": "stdout",
     "output_type": "stream",
     "text": [
      "Fraud transactions by type: \n",
      " 0    90000\n",
      "Name: isFlaggedFraud, dtype: int64\n"
     ]
    }
   ],
   "source": [
    "print(\"Fraud transactions by type: \\n\",df.isFlaggedFraud.value_counts())"
   ]
  },
  {
   "cell_type": "markdown",
   "id": "a0f24c2d-a5e9-4409-b4eb-f7e3170eeb2f",
   "metadata": {},
   "source": [
    "Since isFlaggedFraud column indicates that all transactions are not fraud, this will not be useful as a feature for the model."
   ]
  },
  {
   "cell_type": "code",
   "execution_count": 27,
   "id": "503b14c6-7264-4d22-9502-fb50c9f60706",
   "metadata": {},
   "outputs": [
    {
     "name": "stdout",
     "output_type": "stream",
     "text": [
      "isFlaggedFraud column is dropped from the given dataframe.\n"
     ]
    }
   ],
   "source": [
    "drop_column(df, 'isFlaggedFraud')"
   ]
  },
  {
   "cell_type": "markdown",
   "id": "43df4406-c21d-46d2-897f-cfe787a17269",
   "metadata": {
    "tags": []
   },
   "source": [
    "#### **Fraud or Not Fraud?**"
   ]
  },
  {
   "cell_type": "markdown",
   "id": "5ab0b81b-37ff-4494-92e9-f82e8baedc98",
   "metadata": {},
   "source": [
    ">**isFraud** - This is the transactions made by the fraudulent agents inside the simulation. In this specific dataset the fraudulent behavior of the agents aims to profit by taking control or customers accounts and try to empty the funds by transferring to another account and then cashing out of the system."
   ]
  },
  {
   "cell_type": "code",
   "execution_count": 28,
   "id": "d637973d-d861-4d8a-94aa-6007f1d22e66",
   "metadata": {},
   "outputs": [
    {
     "data": {
      "text/html": [
       "<div>\n",
       "<style scoped>\n",
       "    .dataframe tbody tr th:only-of-type {\n",
       "        vertical-align: middle;\n",
       "    }\n",
       "\n",
       "    .dataframe tbody tr th {\n",
       "        vertical-align: top;\n",
       "    }\n",
       "\n",
       "    .dataframe thead th {\n",
       "        text-align: right;\n",
       "    }\n",
       "</style>\n",
       "<table border=\"1\" class=\"dataframe\">\n",
       "  <thead>\n",
       "    <tr style=\"text-align: right;\">\n",
       "      <th></th>\n",
       "      <th>counts</th>\n",
       "      <th>freq</th>\n",
       "      <th>percentage</th>\n",
       "    </tr>\n",
       "  </thead>\n",
       "  <tbody>\n",
       "    <tr>\n",
       "      <th>0</th>\n",
       "      <td>89888</td>\n",
       "      <td>0.998756</td>\n",
       "      <td>99.9%</td>\n",
       "    </tr>\n",
       "    <tr>\n",
       "      <th>1</th>\n",
       "      <td>112</td>\n",
       "      <td>0.001244</td>\n",
       "      <td>0.1%</td>\n",
       "    </tr>\n",
       "  </tbody>\n",
       "</table>\n",
       "</div>"
      ],
      "text/plain": [
       "   counts      freq percentage\n",
       "0   89888  0.998756      99.9%\n",
       "1     112  0.001244       0.1%"
      ]
     },
     "execution_count": 28,
     "metadata": {},
     "output_type": "execute_result"
    }
   ],
   "source": [
    "col = df['isFraud']\n",
    "unique_counts = col.value_counts()\n",
    "relative_freq = col.value_counts(normalize=True)\n",
    "percentage = relative_freq.mul(100).round(1).astype(str) + '%'\n",
    "pd.DataFrame({'counts': unique_counts, 'freq': relative_freq, 'percentage': percentage})"
   ]
  },
  {
   "cell_type": "markdown",
   "id": "b273bcbe-430d-4028-8bab-a576ecce80a7",
   "metadata": {},
   "source": [
    "There is a clear imbalance between the two labels. This needs to be balanced to prevent the model to be over-bias towards the majority label. We'll work on balancing out the data once we performed the train-test split on the dataset."
   ]
  },
  {
   "cell_type": "markdown",
   "id": "51271ff4-892d-4282-8ddb-2360ed05b136",
   "metadata": {},
   "source": [
    "### **II. Feature Engineering and Train-Test Split**"
   ]
  },
  {
   "cell_type": "markdown",
   "id": "0ed6bf2e-16cb-4193-9337-6158f485d23f",
   "metadata": {},
   "source": [
    "#### **One Hot Encoding**"
   ]
  },
  {
   "cell_type": "markdown",
   "id": "4004a32c-d491-4d34-a04e-4ded78baaea1",
   "metadata": {},
   "source": [
    "The categorical column \"type\" will be one hot encoded, in order to be properly used for our model.  "
   ]
  },
  {
   "cell_type": "code",
   "execution_count": 29,
   "id": "ad81852c-e06f-4876-a6f7-16d798d88231",
   "metadata": {},
   "outputs": [
    {
     "data": {
      "text/html": [
       "<div>\n",
       "<style scoped>\n",
       "    .dataframe tbody tr th:only-of-type {\n",
       "        vertical-align: middle;\n",
       "    }\n",
       "\n",
       "    .dataframe tbody tr th {\n",
       "        vertical-align: top;\n",
       "    }\n",
       "\n",
       "    .dataframe thead th {\n",
       "        text-align: right;\n",
       "    }\n",
       "</style>\n",
       "<table border=\"1\" class=\"dataframe\">\n",
       "  <thead>\n",
       "    <tr style=\"text-align: right;\">\n",
       "      <th></th>\n",
       "      <th>type</th>\n",
       "      <th>amount</th>\n",
       "      <th>oldbalanceOrg</th>\n",
       "      <th>newbalanceOrig</th>\n",
       "      <th>isFraud</th>\n",
       "      <th>amount_oldbalanceOrg_diff</th>\n",
       "      <th>is_receiver_merchant</th>\n",
       "      <th>type_CASH_OUT</th>\n",
       "      <th>type_TRANSFER</th>\n",
       "    </tr>\n",
       "  </thead>\n",
       "  <tbody>\n",
       "    <tr>\n",
       "      <th>0</th>\n",
       "      <td>PAYMENT</td>\n",
       "      <td>9839.64</td>\n",
       "      <td>170136.00</td>\n",
       "      <td>160296.36</td>\n",
       "      <td>0</td>\n",
       "      <td>160296.36</td>\n",
       "      <td>True</td>\n",
       "      <td>0</td>\n",
       "      <td>0</td>\n",
       "    </tr>\n",
       "    <tr>\n",
       "      <th>1</th>\n",
       "      <td>PAYMENT</td>\n",
       "      <td>1864.28</td>\n",
       "      <td>21249.00</td>\n",
       "      <td>19384.72</td>\n",
       "      <td>0</td>\n",
       "      <td>19384.72</td>\n",
       "      <td>True</td>\n",
       "      <td>0</td>\n",
       "      <td>0</td>\n",
       "    </tr>\n",
       "    <tr>\n",
       "      <th>2</th>\n",
       "      <td>TRANSFER</td>\n",
       "      <td>181.00</td>\n",
       "      <td>181.00</td>\n",
       "      <td>0.00</td>\n",
       "      <td>1</td>\n",
       "      <td>0.00</td>\n",
       "      <td>False</td>\n",
       "      <td>0</td>\n",
       "      <td>1</td>\n",
       "    </tr>\n",
       "    <tr>\n",
       "      <th>3</th>\n",
       "      <td>CASH_OUT</td>\n",
       "      <td>181.00</td>\n",
       "      <td>181.00</td>\n",
       "      <td>0.00</td>\n",
       "      <td>1</td>\n",
       "      <td>0.00</td>\n",
       "      <td>False</td>\n",
       "      <td>1</td>\n",
       "      <td>0</td>\n",
       "    </tr>\n",
       "    <tr>\n",
       "      <th>4</th>\n",
       "      <td>PAYMENT</td>\n",
       "      <td>11668.14</td>\n",
       "      <td>41554.00</td>\n",
       "      <td>29885.86</td>\n",
       "      <td>0</td>\n",
       "      <td>29885.86</td>\n",
       "      <td>True</td>\n",
       "      <td>0</td>\n",
       "      <td>0</td>\n",
       "    </tr>\n",
       "    <tr>\n",
       "      <th>...</th>\n",
       "      <td>...</td>\n",
       "      <td>...</td>\n",
       "      <td>...</td>\n",
       "      <td>...</td>\n",
       "      <td>...</td>\n",
       "      <td>...</td>\n",
       "      <td>...</td>\n",
       "      <td>...</td>\n",
       "      <td>...</td>\n",
       "    </tr>\n",
       "    <tr>\n",
       "      <th>89995</th>\n",
       "      <td>PAYMENT</td>\n",
       "      <td>15365.90</td>\n",
       "      <td>354430.00</td>\n",
       "      <td>339064.10</td>\n",
       "      <td>0</td>\n",
       "      <td>339064.10</td>\n",
       "      <td>True</td>\n",
       "      <td>0</td>\n",
       "      <td>0</td>\n",
       "    </tr>\n",
       "    <tr>\n",
       "      <th>89996</th>\n",
       "      <td>PAYMENT</td>\n",
       "      <td>6593.32</td>\n",
       "      <td>147849.00</td>\n",
       "      <td>141255.68</td>\n",
       "      <td>0</td>\n",
       "      <td>141255.68</td>\n",
       "      <td>True</td>\n",
       "      <td>0</td>\n",
       "      <td>0</td>\n",
       "    </tr>\n",
       "    <tr>\n",
       "      <th>89997</th>\n",
       "      <td>DEBIT</td>\n",
       "      <td>2690.61</td>\n",
       "      <td>80975.00</td>\n",
       "      <td>78284.39</td>\n",
       "      <td>0</td>\n",
       "      <td>78284.39</td>\n",
       "      <td>False</td>\n",
       "      <td>0</td>\n",
       "      <td>0</td>\n",
       "    </tr>\n",
       "    <tr>\n",
       "      <th>89998</th>\n",
       "      <td>PAYMENT</td>\n",
       "      <td>9532.06</td>\n",
       "      <td>11302.00</td>\n",
       "      <td>1769.94</td>\n",
       "      <td>0</td>\n",
       "      <td>1769.94</td>\n",
       "      <td>True</td>\n",
       "      <td>0</td>\n",
       "      <td>0</td>\n",
       "    </tr>\n",
       "    <tr>\n",
       "      <th>89999</th>\n",
       "      <td>CASH_OUT</td>\n",
       "      <td>17139.99</td>\n",
       "      <td>1769.94</td>\n",
       "      <td>0.00</td>\n",
       "      <td>0</td>\n",
       "      <td>-15370.05</td>\n",
       "      <td>False</td>\n",
       "      <td>1</td>\n",
       "      <td>0</td>\n",
       "    </tr>\n",
       "  </tbody>\n",
       "</table>\n",
       "<p>90000 rows × 9 columns</p>\n",
       "</div>"
      ],
      "text/plain": [
       "           type    amount  oldbalanceOrg  newbalanceOrig  isFraud  \\\n",
       "0       PAYMENT   9839.64      170136.00       160296.36        0   \n",
       "1       PAYMENT   1864.28       21249.00        19384.72        0   \n",
       "2      TRANSFER    181.00         181.00            0.00        1   \n",
       "3      CASH_OUT    181.00         181.00            0.00        1   \n",
       "4       PAYMENT  11668.14       41554.00        29885.86        0   \n",
       "...         ...       ...            ...             ...      ...   \n",
       "89995   PAYMENT  15365.90      354430.00       339064.10        0   \n",
       "89996   PAYMENT   6593.32      147849.00       141255.68        0   \n",
       "89997     DEBIT   2690.61       80975.00        78284.39        0   \n",
       "89998   PAYMENT   9532.06       11302.00         1769.94        0   \n",
       "89999  CASH_OUT  17139.99        1769.94            0.00        0   \n",
       "\n",
       "       amount_oldbalanceOrg_diff  is_receiver_merchant  type_CASH_OUT  \\\n",
       "0                      160296.36                  True              0   \n",
       "1                       19384.72                  True              0   \n",
       "2                           0.00                 False              0   \n",
       "3                           0.00                 False              1   \n",
       "4                       29885.86                  True              0   \n",
       "...                          ...                   ...            ...   \n",
       "89995                  339064.10                  True              0   \n",
       "89996                  141255.68                  True              0   \n",
       "89997                   78284.39                 False              0   \n",
       "89998                    1769.94                  True              0   \n",
       "89999                  -15370.05                 False              1   \n",
       "\n",
       "       type_TRANSFER  \n",
       "0                  0  \n",
       "1                  0  \n",
       "2                  1  \n",
       "3                  0  \n",
       "4                  0  \n",
       "...              ...  \n",
       "89995              0  \n",
       "89996              0  \n",
       "89997              0  \n",
       "89998              0  \n",
       "89999              0  \n",
       "\n",
       "[90000 rows x 9 columns]"
      ]
     },
     "execution_count": 29,
     "metadata": {},
     "output_type": "execute_result"
    }
   ],
   "source": [
    "type_df = pd.get_dummies(df.type, prefix='type')\n",
    "\n",
    "if ~type_df.columns.isin(df.columns).any():\n",
    "    df = pd.concat([df, type_df.type_CASH_OUT, type_df.type_TRANSFER], axis=1)\n",
    "df"
   ]
  },
  {
   "cell_type": "code",
   "execution_count": 30,
   "id": "da4446cc-84c0-4430-8552-297e4b0d0488",
   "metadata": {},
   "outputs": [
    {
     "name": "stdout",
     "output_type": "stream",
     "text": [
      "type column is dropped from the given dataframe.\n"
     ]
    }
   ],
   "source": [
    "# Dropping type column after one hot encoding\n",
    "drop_column(df, 'type')"
   ]
  },
  {
   "cell_type": "markdown",
   "id": "3bd0dcd6-8edd-40db-bdc9-d05b122b38ec",
   "metadata": {},
   "source": [
    "#### **Finding Correlation**"
   ]
  },
  {
   "cell_type": "code",
   "execution_count": 31,
   "id": "df1efa6f-386f-4f6a-ae5a-d0e07ebe3efb",
   "metadata": {},
   "outputs": [
    {
     "data": {
      "text/plain": [
       "<AxesSubplot:>"
      ]
     },
     "execution_count": 31,
     "metadata": {},
     "output_type": "execute_result"
    },
    {
     "data": {
      "image/png": "[encoded data removed]",
      "text/plain": [
       "<Figure size 792x792 with 2 Axes>"
      ]
     },
     "metadata": {
      "needs_background": "light"
     },
     "output_type": "display_data"
    }
   ],
   "source": [
    "corr_mat = df.corr('pearson')\n",
    "mask = np.triu(corr_mat, 1)\n",
    "plt.figure(figsize=(11,11))\n",
    "sns.heatmap(corr_mat, cmap='PiYG', annot=True, square=True, mask=mask)"
   ]
  },
  {
   "cell_type": "markdown",
   "id": "54ea9585-0e26-491b-9e65-bdf94629dec8",
   "metadata": {},
   "source": [
    "#### **Train Test Split**"
   ]
  },
  {
   "cell_type": "code",
   "execution_count": 32,
   "id": "1255df85-4429-4472-9d6e-55b465b06891",
   "metadata": {},
   "outputs": [],
   "source": [
    "X = df.drop(['isFraud'], axis=1)\n",
    "# X = df[['amount_oldbalanceOrg_diff', 'newbalanceOrig']]\n",
    "y = df.isFraud\n",
    "\n",
    "X_train, X_test, y_train, y_test = train_test_split(\n",
    "    X, y, test_size=0.30, random_state=42\n",
    ")"
   ]
  },
  {
   "cell_type": "markdown",
   "id": "970850ff-b54e-4665-9e5d-5d0117c843fc",
   "metadata": {},
   "source": [
    "### **III. Building ML Model**"
   ]
  },
  {
   "cell_type": "code",
   "execution_count": 33,
   "id": "53ac9ca6-4222-4163-b6f4-f25fbcbe0a3c",
   "metadata": {},
   "outputs": [],
   "source": [
    "from sklearn import preprocessing\n",
    "\n",
    "# ML Classifier Objects\n",
    "log_reg_clf = LogisticRegression(solver='liblinear', max_iter=1000)\n",
    "nb_clf = GaussianNB()\n",
    "knn_clf = KNeighborsClassifier()\n",
    "prcptrn_clf = Perceptron()\n",
    "dt_clf=DecisionTreeClassifier()\n",
    "\n",
    "# ML Classifier Dictionary\n",
    "clf_dict = {\n",
    "    'Logistic Regression': log_reg_clf, \n",
    "    'Naive Bayes': nb_clf,\n",
    "    'KNN': knn_clf,\n",
    "    'Perceptron': prcptrn_clf,\n",
    "    'Decision Tree': dt_clf\n",
    "}\n",
    "\n",
    "\n",
    "def get_model_performances(X_train, y_train):\n",
    "    log_reg_clf = LogisticRegression(solver='liblinear', max_iter=1000)\n",
    "    nb_clf = GaussianNB()\n",
    "    knn_clf = KNeighborsClassifier()\n",
    "    prcptrn_clf = Perceptron()\n",
    "    dt_clf=DecisionTreeClassifier()\n",
    "\n",
    "    clf_dict = {\n",
    "        'Logistic Regression': log_reg_clf, \n",
    "        'Naive Bayes': nb_clf,\n",
    "        'KNN': knn_clf,\n",
    "        'Perceptron': prcptrn_clf,\n",
    "        'Decision Tree': dt_clf\n",
    "    }\n",
    "\n",
    "    model_acc = []\n",
    "    for model in clf_dict.keys():\n",
    "        y_pred = clf_dict[model].fit(X_train, y_train).predict(X_test)\n",
    "        test_accuracy = metrics.accuracy_score(y_test, y_pred) * 100\n",
    "        test_precision = metrics.precision_score(y_test, y_pred, zero_division=1) * 100\n",
    "        test_recall = metrics.recall_score(y_test, y_pred, zero_division=1) * 100\n",
    "\n",
    "        model_acc.append({\n",
    "            'model': model, \n",
    "            'test_accuracy': test_accuracy, \n",
    "            'test_precision': test_precision,\n",
    "            'test_recall': test_recall,\n",
    "        })\n",
    "        print(model)\n",
    "        print(confusion_matrix(y_test, y_pred))\n",
    "\n",
    "    return pd.DataFrame(model_acc).sort_values(by='test_recall', ascending=False)"
   ]
  },
  {
   "cell_type": "code",
   "execution_count": 34,
   "id": "622dddde-9b13-4eb7-ad51-ff881747205a",
   "metadata": {},
   "outputs": [
    {
     "name": "stdout",
     "output_type": "stream",
     "text": [
      "Logistic Regression\n",
      "[[26956     7]\n",
      " [    4    33]]\n",
      "Naive Bayes\n",
      "[[26894    69]\n",
      " [   33     4]]\n",
      "KNN\n",
      "[[26958     5]\n",
      " [   29     8]]\n",
      "Perceptron\n",
      "[[26963     0]\n",
      " [   37     0]]\n",
      "Decision Tree\n",
      "[[26960     3]\n",
      " [    2    35]]\n"
     ]
    },
    {
     "data": {
      "text/html": [
       "<div>\n",
       "<style scoped>\n",
       "    .dataframe tbody tr th:only-of-type {\n",
       "        vertical-align: middle;\n",
       "    }\n",
       "\n",
       "    .dataframe tbody tr th {\n",
       "        vertical-align: top;\n",
       "    }\n",
       "\n",
       "    .dataframe thead th {\n",
       "        text-align: right;\n",
       "    }\n",
       "</style>\n",
       "<table border=\"1\" class=\"dataframe\">\n",
       "  <thead>\n",
       "    <tr style=\"text-align: right;\">\n",
       "      <th></th>\n",
       "      <th>model</th>\n",
       "      <th>test_accuracy</th>\n",
       "      <th>test_precision</th>\n",
       "      <th>test_recall</th>\n",
       "    </tr>\n",
       "  </thead>\n",
       "  <tbody>\n",
       "    <tr>\n",
       "      <th>4</th>\n",
       "      <td>Decision Tree</td>\n",
       "      <td>99.981481</td>\n",
       "      <td>92.105263</td>\n",
       "      <td>94.594595</td>\n",
       "    </tr>\n",
       "    <tr>\n",
       "      <th>0</th>\n",
       "      <td>Logistic Regression</td>\n",
       "      <td>99.959259</td>\n",
       "      <td>82.500000</td>\n",
       "      <td>89.189189</td>\n",
       "    </tr>\n",
       "    <tr>\n",
       "      <th>2</th>\n",
       "      <td>KNN</td>\n",
       "      <td>99.874074</td>\n",
       "      <td>61.538462</td>\n",
       "      <td>21.621622</td>\n",
       "    </tr>\n",
       "    <tr>\n",
       "      <th>1</th>\n",
       "      <td>Naive Bayes</td>\n",
       "      <td>99.622222</td>\n",
       "      <td>5.479452</td>\n",
       "      <td>10.810811</td>\n",
       "    </tr>\n",
       "    <tr>\n",
       "      <th>3</th>\n",
       "      <td>Perceptron</td>\n",
       "      <td>99.862963</td>\n",
       "      <td>100.000000</td>\n",
       "      <td>0.000000</td>\n",
       "    </tr>\n",
       "  </tbody>\n",
       "</table>\n",
       "</div>"
      ],
      "text/plain": [
       "                 model  test_accuracy  test_precision  test_recall\n",
       "4        Decision Tree      99.981481       92.105263    94.594595\n",
       "0  Logistic Regression      99.959259       82.500000    89.189189\n",
       "2                  KNN      99.874074       61.538462    21.621622\n",
       "1          Naive Bayes      99.622222        5.479452    10.810811\n",
       "3           Perceptron      99.862963      100.000000     0.000000"
      ]
     },
     "execution_count": 34,
     "metadata": {},
     "output_type": "execute_result"
    }
   ],
   "source": [
    "get_model_performances(X_train, y_train)"
   ]
  },
  {
   "cell_type": "markdown",
   "id": "3459e0ff-e6b3-411f-a46d-8e233dd31b65",
   "metadata": {},
   "source": [
    "The precision is the ratio tp / (tp + fp) where tp is the number of true positives and fp the number of false positives. The precision is intuitively the ability of the classifier not to label as positive a sample that is negative.\n",
    "\n",
    "The recall is the ratio tp / (tp + fn) where tp is the number of true positives and fn the number of false negatives. The recall is intuitively the ability of the classifier to find all the positive samples.\n"
   ]
  },
  {
   "cell_type": "markdown",
   "id": "d16fed93-7e8c-403d-b755-c370158f82cb",
   "metadata": {},
   "source": [
    "#### **Balancing Data**"
   ]
  },
  {
   "cell_type": "markdown",
   "id": "03005aba-50a5-43c3-bd63-7772d592666f",
   "metadata": {},
   "source": [
    "https://developers.google.com/machine-learning/data-prep/construct/sampling-splitting/imbalanced-data"
   ]
  },
  {
   "cell_type": "code",
   "execution_count": 35,
   "id": "0ce9bcc5-a727-4dcc-b439-8af58dbbb3cb",
   "metadata": {},
   "outputs": [
    {
     "data": {
      "text/plain": [
       "0    62925\n",
       "1       75\n",
       "Name: isFraud, dtype: int64"
      ]
     },
     "execution_count": 35,
     "metadata": {},
     "output_type": "execute_result"
    }
   ],
   "source": [
    "Xy_train = pd.concat([X_train, y_train], axis=1)\n",
    "Xy_train['isFraud'].value_counts()"
   ]
  },
  {
   "cell_type": "code",
   "execution_count": 36,
   "id": "e8d170ab-d232-46e2-93a4-9f7c23f5616f",
   "metadata": {},
   "outputs": [
    {
     "data": {
      "text/plain": [
       "0    62925\n",
       "1    62925\n",
       "Name: isFraud, dtype: int64"
      ]
     },
     "execution_count": 36,
     "metadata": {},
     "output_type": "execute_result"
    }
   ],
   "source": [
    "from sklearn.utils import resample\n",
    "\n",
    "majority = Xy_train[Xy_train['isFraud'] == 0]\n",
    "minority = Xy_train[Xy_train['isFraud'] == 1]\n",
    "\n",
    "minority_upsampled = resample(\n",
    "    minority,\n",
    "    replace = True,\n",
    "    n_samples = len(majority),\n",
    "    random_state = 42\n",
    ")\n",
    "Xy_train_balanced = pd.concat([majority, minority_upsampled], ignore_index=True)\n",
    "Xy_train_balanced['isFraud'].value_counts()"
   ]
  },
  {
   "cell_type": "code",
   "execution_count": 37,
   "id": "ca4cb4d1-078e-41be-af93-83110dc2cc71",
   "metadata": {},
   "outputs": [],
   "source": [
    "X_train_balanced = Xy_train_balanced.drop('isFraud', axis=1)\n",
    "y_train_balanced = Xy_train_balanced['isFraud']"
   ]
  },
  {
   "cell_type": "code",
   "execution_count": null,
   "id": "5270f75f-9be4-4424-b7c7-4c5f38c9d83a",
   "metadata": {},
   "outputs": [
    {
     "name": "stdout",
     "output_type": "stream",
     "text": [
      "Logistic Regression\n",
      "[[24038  2925]\n",
      " [    2    35]]\n",
      "Naive Bayes\n",
      "[[ 4461 22502]\n",
      " [    0    37]]\n",
      "KNN\n",
      "[[26922    41]\n",
      " [    6    31]]\n",
      "Perceptron\n",
      "[[23936  3027]\n",
      " [    2    35]]\n"
     ]
    }
   ],
   "source": [
    "get_model_performances(X_train_balanced, y_train_balanced)"
   ]
  },
  {
   "cell_type": "markdown",
   "id": "a1171d73-1983-4fc4-9162-ed7211d60c37",
   "metadata": {},
   "source": [
    "Based from the results, Naive Bayes indeed got the highest recall. However, it has low accuracy and if ever used in a real world environment, it will cause real headache for the personnels who handles false positive cases of fraud transactions. Thus, it would be better to used Logistic Regression, with the second highest recall of 94.6% and having fair accuracy of 88.7%."
   ]
  },
  {
   "cell_type": "code",
   "execution_count": null,
   "id": "1239d19c-3b23-4d57-babc-f23235b2a3c0",
   "metadata": {},
   "outputs": [],
   "source": []
  }
 ],
 "metadata": {
  "kernelspec": {
   "display_name": "Python 3 (ipykernel)",
   "language": "python",
   "name": "python3"
  },
  "language_info": {
   "codemirror_mode": {
    "name": "ipython",
    "version": 3
   },
   "file_extension": ".py",
   "mimetype": "text/x-python",
   "name": "python",
   "nbconvert_exporter": "python",
   "pygments_lexer": "ipython3",
   "version": "3.9.7"
  }
 },
 "nbformat": 4,
 "nbformat_minor": 5
}
