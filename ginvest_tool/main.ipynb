{
 "cells": [
  {
   "cell_type": "code",
   "execution_count": 11,
   "id": "7b9c07e4",
   "metadata": {},
   "outputs": [],
   "source": [
    "import pandas as pd"
   ]
  },
  {
   "cell_type": "code",
   "execution_count": 5,
   "id": "53e1a7a2",
   "metadata": {},
   "outputs": [
    {
     "data": {
      "text/html": [
       "<div>\n",
       "<style scoped>\n",
       "    .dataframe tbody tr th:only-of-type {\n",
       "        vertical-align: middle;\n",
       "    }\n",
       "\n",
       "    .dataframe tbody tr th {\n",
       "        vertical-align: top;\n",
       "    }\n",
       "\n",
       "    .dataframe thead th {\n",
       "        text-align: right;\n",
       "    }\n",
       "</style>\n",
       "<table border=\"1\" class=\"dataframe\">\n",
       "  <thead>\n",
       "    <tr style=\"text-align: right;\">\n",
       "      <th></th>\n",
       "      <th>Date</th>\n",
       "      <th>Amount</th>\n",
       "      <th>Units</th>\n",
       "      <th>NAVPU</th>\n",
       "    </tr>\n",
       "  </thead>\n",
       "  <tbody>\n",
       "    <tr>\n",
       "      <th>0</th>\n",
       "      <td>01-31-2022</td>\n",
       "      <td>2000.00</td>\n",
       "      <td>8.98</td>\n",
       "      <td>222.83</td>\n",
       "    </tr>\n",
       "    <tr>\n",
       "      <th>1</th>\n",
       "      <td>01-31-2022</td>\n",
       "      <td>2153.64</td>\n",
       "      <td>9.66</td>\n",
       "      <td>222.83</td>\n",
       "    </tr>\n",
       "    <tr>\n",
       "      <th>2</th>\n",
       "      <td>01-31-2022</td>\n",
       "      <td>4000.00</td>\n",
       "      <td>17.95</td>\n",
       "      <td>222.83</td>\n",
       "    </tr>\n",
       "    <tr>\n",
       "      <th>3</th>\n",
       "      <td>02-22-2022</td>\n",
       "      <td>1000.00</td>\n",
       "      <td>4.64</td>\n",
       "      <td>215.29</td>\n",
       "    </tr>\n",
       "    <tr>\n",
       "      <th>4</th>\n",
       "      <td>02-23-2022</td>\n",
       "      <td>2000.00</td>\n",
       "      <td>9.40</td>\n",
       "      <td>212.72</td>\n",
       "    </tr>\n",
       "  </tbody>\n",
       "</table>\n",
       "</div>"
      ],
      "text/plain": [
       "         Date   Amount  Units   NAVPU\n",
       "0  01-31-2022  2000.00   8.98  222.83\n",
       "1  01-31-2022  2153.64   9.66  222.83\n",
       "2  01-31-2022  4000.00  17.95  222.83\n",
       "3  02-22-2022  1000.00   4.64  215.29\n",
       "4  02-23-2022  2000.00   9.40  212.72"
      ]
     },
     "execution_count": 5,
     "metadata": {},
     "output_type": "execute_result"
    }
   ],
   "source": [
    "df = pd.read_csv(\"atram-global-tech-fund.csv\")\n",
    "df"
   ]
  },
  {
   "cell_type": "code",
   "execution_count": 7,
   "id": "7b311949",
   "metadata": {},
   "outputs": [
    {
     "data": {
      "text/plain": [
       "50.63"
      ]
     },
     "execution_count": 7,
     "metadata": {},
     "output_type": "execute_result"
    }
   ],
   "source": [
    "total_units = df['Units'].sum()\n",
    "total_units"
   ]
  },
  {
   "cell_type": "code",
   "execution_count": 10,
   "id": "08c8aa41",
   "metadata": {},
   "outputs": [
    {
     "data": {
      "text/plain": [
       "11153.64"
      ]
     },
     "execution_count": 10,
     "metadata": {},
     "output_type": "execute_result"
    }
   ],
   "source": [
    "total_amount = df['Amount'].sum()\n",
    "total_amount"
   ]
  },
  {
   "cell_type": "code",
   "execution_count": 15,
   "id": "582c45a2-c285-4960-98d5-a6538e8d906c",
   "metadata": {},
   "outputs": [
    {
     "data": {
      "text/plain": [
       "220.2970570807821"
      ]
     },
     "execution_count": 15,
     "metadata": {},
     "output_type": "execute_result"
    }
   ],
   "source": [
    "navpu_average = total_amount / total_units\n",
    "navpu_average # buy below this amount"
   ]
  },
  {
   "cell_type": "code",
   "execution_count": null,
   "id": "0b012c89-8032-4386-aa2e-c15884bb89e7",
   "metadata": {},
   "outputs": [],
   "source": []
  }
 ],
 "metadata": {
  "kernelspec": {
   "display_name": "Python 3 (ipykernel)",
   "language": "python",
   "name": "python3"
  },
  "language_info": {
   "codemirror_mode": {
    "name": "ipython",
    "version": 3
   },
   "file_extension": ".py",
   "mimetype": "text/x-python",
   "name": "python",
   "nbconvert_exporter": "python",
   "pygments_lexer": "ipython3",
   "version": "3.9.7"
  }
 },
 "nbformat": 4,
 "nbformat_minor": 5
}
