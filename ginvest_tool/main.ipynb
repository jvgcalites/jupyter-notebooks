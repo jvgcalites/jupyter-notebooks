{
 "cells": [
  {
   "cell_type": "code",
   "execution_count": 1,
   "id": "7b9c07e4",
   "metadata": {},
   "outputs": [],
   "source": [
    "import pandas as pd"
   ]
  },
  {
   "cell_type": "code",
   "execution_count": 2,
   "id": "5fb930ae-9ef3-4bda-adad-ef56995fd3ec",
   "metadata": {},
   "outputs": [],
   "source": [
    "class mutual_fund:\n",
    "    def __init__(self, df):\n",
    "        self.df = df\n",
    "        \n",
    "    def get_total_units(self):\n",
    "        return self.df['Units'].sum()\n",
    "    \n",
    "    def get_total_amount(self):\n",
    "        return self.df['Amount'].sum()\n",
    "    \n",
    "    def get_navpu_average(self):\n",
    "        return (self.get_total_amount() / self.get_total_units())\n",
    "    \n",
    "    def print_info(self):\n",
    "        print(f\"Total Units : {self.get_total_units()}\")\n",
    "        print(f\"Total Amount : {self.get_total_amount()}\")\n",
    "        print(f\"NAVPU Average : {self.get_navpu_average()}\")"
   ]
  },
  {
   "cell_type": "code",
   "execution_count": 3,
   "id": "53e1a7a2",
   "metadata": {},
   "outputs": [],
   "source": [
    "consumer_df = pd.read_csv(\"portfolio/atram-global-consumer-fund.csv\")\n",
    "tech_df = pd.read_csv(\"portfolio/atram-global-tech-fund.csv\")"
   ]
  },
  {
   "cell_type": "code",
   "execution_count": 4,
   "id": "c45782b9-2fa7-4031-9d32-a285752394ff",
   "metadata": {},
   "outputs": [
    {
     "data": {
      "text/html": [
       "<div>\n",
       "<style scoped>\n",
       "    .dataframe tbody tr th:only-of-type {\n",
       "        vertical-align: middle;\n",
       "    }\n",
       "\n",
       "    .dataframe tbody tr th {\n",
       "        vertical-align: top;\n",
       "    }\n",
       "\n",
       "    .dataframe thead th {\n",
       "        text-align: right;\n",
       "    }\n",
       "</style>\n",
       "<table border=\"1\" class=\"dataframe\">\n",
       "  <thead>\n",
       "    <tr style=\"text-align: right;\">\n",
       "      <th></th>\n",
       "      <th>Date</th>\n",
       "      <th>Amount</th>\n",
       "      <th>Units</th>\n",
       "      <th>NAVPU</th>\n",
       "    </tr>\n",
       "  </thead>\n",
       "  <tbody>\n",
       "    <tr>\n",
       "      <th>0</th>\n",
       "      <td>01-31-2022</td>\n",
       "      <td>2000</td>\n",
       "      <td>13.84</td>\n",
       "      <td>144.49</td>\n",
       "    </tr>\n",
       "    <tr>\n",
       "      <th>1</th>\n",
       "      <td>02-24-2022</td>\n",
       "      <td>2000</td>\n",
       "      <td>14.45</td>\n",
       "      <td>138.43</td>\n",
       "    </tr>\n",
       "    <tr>\n",
       "      <th>2</th>\n",
       "      <td>02-28-2022</td>\n",
       "      <td>2000</td>\n",
       "      <td>13.57</td>\n",
       "      <td>147.41</td>\n",
       "    </tr>\n",
       "    <tr>\n",
       "      <th>3</th>\n",
       "      <td>02-28-2022</td>\n",
       "      <td>1000</td>\n",
       "      <td>6.78</td>\n",
       "      <td>147.41</td>\n",
       "    </tr>\n",
       "    <tr>\n",
       "      <th>4</th>\n",
       "      <td>03-15-2022</td>\n",
       "      <td>2000</td>\n",
       "      <td>15.41</td>\n",
       "      <td>129.75</td>\n",
       "    </tr>\n",
       "    <tr>\n",
       "      <th>5</th>\n",
       "      <td>04-12-2022</td>\n",
       "      <td>2000</td>\n",
       "      <td>15.08</td>\n",
       "      <td>132.61</td>\n",
       "    </tr>\n",
       "    <tr>\n",
       "      <th>6</th>\n",
       "      <td>05-02-2022</td>\n",
       "      <td>2000</td>\n",
       "      <td>15.91</td>\n",
       "      <td>125.69</td>\n",
       "    </tr>\n",
       "    <tr>\n",
       "      <th>7</th>\n",
       "      <td>05-04-2022</td>\n",
       "      <td>2000</td>\n",
       "      <td>15.88</td>\n",
       "      <td>125.94</td>\n",
       "    </tr>\n",
       "    <tr>\n",
       "      <th>8</th>\n",
       "      <td>05-11-2022</td>\n",
       "      <td>2000</td>\n",
       "      <td>17.25</td>\n",
       "      <td>115.95</td>\n",
       "    </tr>\n",
       "    <tr>\n",
       "      <th>9</th>\n",
       "      <td>05-16-2022</td>\n",
       "      <td>2000</td>\n",
       "      <td>16.95</td>\n",
       "      <td>118.00</td>\n",
       "    </tr>\n",
       "  </tbody>\n",
       "</table>\n",
       "</div>"
      ],
      "text/plain": [
       "         Date  Amount  Units   NAVPU\n",
       "0  01-31-2022    2000  13.84  144.49\n",
       "1  02-24-2022    2000  14.45  138.43\n",
       "2  02-28-2022    2000  13.57  147.41\n",
       "3  02-28-2022    1000   6.78  147.41\n",
       "4  03-15-2022    2000  15.41  129.75\n",
       "5  04-12-2022    2000  15.08  132.61\n",
       "6  05-02-2022    2000  15.91  125.69\n",
       "7  05-04-2022    2000  15.88  125.94\n",
       "8  05-11-2022    2000  17.25  115.95\n",
       "9  05-16-2022    2000  16.95  118.00"
      ]
     },
     "execution_count": 4,
     "metadata": {},
     "output_type": "execute_result"
    }
   ],
   "source": [
    "consumer_df"
   ]
  },
  {
   "cell_type": "code",
   "execution_count": 5,
   "id": "d4a8d973-e709-4dbf-a2da-e915d4b2fb32",
   "metadata": {},
   "outputs": [
    {
     "name": "stdout",
     "output_type": "stream",
     "text": [
      "Total Units : 145.12\n",
      "Total Amount : 19000\n",
      "NAVPU Average : 130.92613009922823\n"
     ]
    }
   ],
   "source": [
    "consumer = mutual_fund(consumer_df)\n",
    "consumer.print_info()"
   ]
  },
  {
   "cell_type": "code",
   "execution_count": 6,
   "id": "17118d70-9b85-43e7-b40a-587864882028",
   "metadata": {},
   "outputs": [
    {
     "data": {
      "text/html": [
       "<div>\n",
       "<style scoped>\n",
       "    .dataframe tbody tr th:only-of-type {\n",
       "        vertical-align: middle;\n",
       "    }\n",
       "\n",
       "    .dataframe tbody tr th {\n",
       "        vertical-align: top;\n",
       "    }\n",
       "\n",
       "    .dataframe thead th {\n",
       "        text-align: right;\n",
       "    }\n",
       "</style>\n",
       "<table border=\"1\" class=\"dataframe\">\n",
       "  <thead>\n",
       "    <tr style=\"text-align: right;\">\n",
       "      <th></th>\n",
       "      <th>Date</th>\n",
       "      <th>Amount</th>\n",
       "      <th>Units</th>\n",
       "      <th>NAVPU</th>\n",
       "    </tr>\n",
       "  </thead>\n",
       "  <tbody>\n",
       "    <tr>\n",
       "      <th>0</th>\n",
       "      <td>01-31-2022</td>\n",
       "      <td>2000.00</td>\n",
       "      <td>8.98</td>\n",
       "      <td>222.83</td>\n",
       "    </tr>\n",
       "    <tr>\n",
       "      <th>1</th>\n",
       "      <td>01-31-2022</td>\n",
       "      <td>2153.64</td>\n",
       "      <td>9.66</td>\n",
       "      <td>222.83</td>\n",
       "    </tr>\n",
       "    <tr>\n",
       "      <th>2</th>\n",
       "      <td>01-31-2022</td>\n",
       "      <td>4000.00</td>\n",
       "      <td>17.95</td>\n",
       "      <td>222.83</td>\n",
       "    </tr>\n",
       "    <tr>\n",
       "      <th>3</th>\n",
       "      <td>02-22-2022</td>\n",
       "      <td>1000.00</td>\n",
       "      <td>4.64</td>\n",
       "      <td>215.29</td>\n",
       "    </tr>\n",
       "    <tr>\n",
       "      <th>4</th>\n",
       "      <td>02-23-2022</td>\n",
       "      <td>2000.00</td>\n",
       "      <td>9.40</td>\n",
       "      <td>212.72</td>\n",
       "    </tr>\n",
       "    <tr>\n",
       "      <th>5</th>\n",
       "      <td>04-12-2022</td>\n",
       "      <td>2000.00</td>\n",
       "      <td>9.33</td>\n",
       "      <td>214.39</td>\n",
       "    </tr>\n",
       "    <tr>\n",
       "      <th>6</th>\n",
       "      <td>05-04-2022</td>\n",
       "      <td>2000.00</td>\n",
       "      <td>9.83</td>\n",
       "      <td>203.37</td>\n",
       "    </tr>\n",
       "    <tr>\n",
       "      <th>7</th>\n",
       "      <td>05-11-2022</td>\n",
       "      <td>2000.00</td>\n",
       "      <td>10.38</td>\n",
       "      <td>192.76</td>\n",
       "    </tr>\n",
       "    <tr>\n",
       "      <th>8</th>\n",
       "      <td>05-16-2022</td>\n",
       "      <td>2000.00</td>\n",
       "      <td>10.21</td>\n",
       "      <td>195.86</td>\n",
       "    </tr>\n",
       "  </tbody>\n",
       "</table>\n",
       "</div>"
      ],
      "text/plain": [
       "         Date   Amount  Units   NAVPU\n",
       "0  01-31-2022  2000.00   8.98  222.83\n",
       "1  01-31-2022  2153.64   9.66  222.83\n",
       "2  01-31-2022  4000.00  17.95  222.83\n",
       "3  02-22-2022  1000.00   4.64  215.29\n",
       "4  02-23-2022  2000.00   9.40  212.72\n",
       "5  04-12-2022  2000.00   9.33  214.39\n",
       "6  05-04-2022  2000.00   9.83  203.37\n",
       "7  05-11-2022  2000.00  10.38  192.76\n",
       "8  05-16-2022  2000.00  10.21  195.86"
      ]
     },
     "execution_count": 6,
     "metadata": {},
     "output_type": "execute_result"
    }
   ],
   "source": [
    "tech_df"
   ]
  },
  {
   "cell_type": "code",
   "execution_count": 7,
   "id": "0b012c89-8032-4386-aa2e-c15884bb89e7",
   "metadata": {},
   "outputs": [
    {
     "name": "stdout",
     "output_type": "stream",
     "text": [
      "Total Units : 90.38\n",
      "Total Amount : 19153.64\n",
      "NAVPU Average : 211.923434388139\n"
     ]
    }
   ],
   "source": [
    "tech = mutual_fund(tech_df)\n",
    "tech.print_info()"
   ]
  },
  {
   "cell_type": "code",
   "execution_count": null,
   "id": "91ee26b7",
   "metadata": {},
   "outputs": [],
   "source": []
  },
  {
   "cell_type": "code",
   "execution_count": null,
   "id": "8ac25838",
   "metadata": {},
   "outputs": [],
   "source": []
  }
 ],
 "metadata": {
  "interpreter": {
   "hash": "0ac2b20043a22132a5c43bfefa0f2c8df8529f5a75488e79f287986dc894614e"
  },
  "kernelspec": {
   "display_name": "Python 3 (ipykernel)",
   "language": "python",
   "name": "python3"
  },
  "language_info": {
   "codemirror_mode": {
    "name": "ipython",
    "version": 3
   },
   "file_extension": ".py",
   "mimetype": "text/x-python",
   "name": "python",
   "nbconvert_exporter": "python",
   "pygments_lexer": "ipython3",
   "version": "3.9.7"
  }
 },
 "nbformat": 4,
 "nbformat_minor": 5
}
